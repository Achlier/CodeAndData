{
 "cells": [
  {
   "cell_type": "code",
   "execution_count": 1,
   "metadata": {},
   "outputs": [],
   "source": [
    "import os\n",
    "import sys\n",
    "import json\n",
    "import base64\n",
    "import requests"
   ]
  },
  {
   "cell_type": "code",
   "execution_count": 19,
   "metadata": {},
   "outputs": [],
   "source": [
    "file_path = \"./test.jpg\""
   ]
  },
  {
   "cell_type": "code",
   "execution_count": 21,
   "metadata": {},
   "outputs": [],
   "source": [
    "default_headers = {\n",
    "    'app_id': '353975811_qq_com_2fbf80_5b6f95',\n",
    "    'app_key': 'b855f2f871de39e426a23e214d16f8941a40875d40aa7c93782b632467232744',\n",
    "    'Content-type': 'application/json'\n",
    "}\n",
    "\n",
    "service = 'https://api.mathpix.com/v3/latex'"
   ]
  },
  {
   "cell_type": "code",
   "execution_count": 22,
   "metadata": {},
   "outputs": [],
   "source": [
    "#\n",
    "# Return the base64 encoding of an image with the given filename.\n",
    "#\n",
    "def image_uri(filename):\n",
    "    image_data = open(filename, \"rb\").read()\n",
    "    return \"data:image/jpg;base64,\" + base64.b64encode(image_data).decode()"
   ]
  },
  {
   "cell_type": "code",
   "execution_count": 23,
   "metadata": {},
   "outputs": [],
   "source": [
    "#\n",
    "# Call the Mathpix service with the given arguments, headers, and timeout.\n",
    "#\n",
    "def latex(args, headers=default_headers, timeout=30):\n",
    "    r = requests.post(service,\n",
    "        data=json.dumps(args), headers=headers, timeout=timeout)\n",
    "    return json.loads(r.text)"
   ]
  },
  {
   "cell_type": "code",
   "execution_count": 24,
   "metadata": {},
   "outputs": [],
   "source": [
    "r = latex({\n",
    "    'src': image_uri(file_path),\n",
    "    'formats': ['latex_simplified']\n",
    "})"
   ]
  },
  {
   "cell_type": "code",
   "execution_count": 30,
   "metadata": {},
   "outputs": [
    {
     "name": "stdout",
     "output_type": "stream",
     "text": [
      "{\n",
      "    \"auto_rotate_confidence\": 1.3113004655451732e-06,\n",
      "    \"auto_rotate_degrees\": 0,\n",
      "    \"detection_list\": [\n",
      "        \"is_printed\"\n",
      "    ],\n",
      "    \"detection_map\": {\n",
      "        \"contains_chart\": 0,\n",
      "        \"contains_diagram\": 0,\n",
      "        \"contains_graph\": 0,\n",
      "        \"contains_table\": 0,\n",
      "        \"is_blank\": 0,\n",
      "        \"is_inverted\": 0,\n",
      "        \"is_not_math\": 0,\n",
      "        \"is_printed\": 0.9999972581863403\n",
      "    },\n",
      "    \"latex_confidence\": 0.99658203125,\n",
      "    \"latex_confidence_rate\": 0.9999497357536765,\n",
      "    \"latex_simplified\": \"\\\\sum _ { i = 1 } ^ { n } ( Z _ { i } - Z _ { i - 1 } ) ^ { 2 } = \\\\sum _ { i = 1 } ^ { n } X _ { i } ^ { 2 } = n\",\n",
      "    \"position\": {\n",
      "        \"height\": 55,\n",
      "        \"top_left_x\": 25,\n",
      "        \"top_left_y\": 6,\n",
      "        \"width\": 210\n",
      "    },\n",
      "    \"request_id\": \"2022_05_20_0e6506c14832dc9cb32ag\"\n",
      "}\n"
     ]
    }
   ],
   "source": [
    "print(json.dumps(r, indent=4, sort_keys=True))"
   ]
  },
  {
   "cell_type": "code",
   "execution_count": 44,
   "metadata": {},
   "outputs": [
    {
     "name": "stdout",
     "output_type": "stream",
     "text": [
      "\\sum _ { i = 1 } ^ { n } ( Z _ { i } - Z _ { i - 1 } ) ^ { 2 } = \\sum _ { i = 1 } ^ { n } X _ { i } ^ { 2 } = n\n"
     ]
    }
   ],
   "source": [
    "outcome=r[\"latex_simplified\"]\n",
    "print(outcome)"
   ]
  },
  {
   "cell_type": "code",
   "execution_count": null,
   "metadata": {},
   "outputs": [],
   "source": []
  },
  {
   "cell_type": "code",
   "execution_count": 1,
   "metadata": {},
   "outputs": [],
   "source": [
    "import win32clipboard as wc\n",
    "import os\n",
    "import mathpix\n",
    "from PIL import ImageGrab\n",
    "from PIL import Image\n",
    "from io import BytesIO"
   ]
  },
  {
   "cell_type": "code",
   "execution_count": 5,
   "metadata": {},
   "outputs": [],
   "source": [
    "im = ImageGrab.grabclipboard()"
   ]
  },
  {
   "cell_type": "code",
   "execution_count": null,
   "metadata": {},
   "outputs": [],
   "source": [
    "im"
   ]
  },
  {
   "cell_type": "code",
   "execution_count": 6,
   "metadata": {},
   "outputs": [
    {
     "data": {
      "text/plain": [
       "True"
      ]
     },
     "execution_count": 6,
     "metadata": {},
     "output_type": "execute_result"
    }
   ],
   "source": [
    "isinstance(im, Image.Image)"
   ]
  },
  {
   "cell_type": "code",
   "execution_count": 11,
   "metadata": {},
   "outputs": [
    {
     "data": {
      "text/plain": [
       "0"
      ]
     },
     "execution_count": 11,
     "metadata": {},
     "output_type": "execute_result"
    }
   ],
   "source": [
    "imb = BytesIO()\n",
    "im.save(imb, \"jpeg\")\n",
    "imb.seek(0)\n",
    "idata = imb.read()\n",
    "imb.close()"
   ]
  },
  {
   "cell_type": "code",
   "execution_count": null,
   "metadata": {},
   "outputs": [],
   "source": []
  }
 ],
 "metadata": {
  "kernelspec": {
   "display_name": "Python 3",
   "language": "python",
   "name": "python3"
  },
  "language_info": {
   "codemirror_mode": {
    "name": "ipython",
    "version": 3
   },
   "file_extension": ".py",
   "mimetype": "text/x-python",
   "name": "python",
   "nbconvert_exporter": "python",
   "pygments_lexer": "ipython3",
   "version": "3.6.5"
  }
 },
 "nbformat": 4,
 "nbformat_minor": 2
}
