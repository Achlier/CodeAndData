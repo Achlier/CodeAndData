{
 "cells": [
  {
   "cell_type": "code",
   "execution_count": 1,
   "metadata": {},
   "outputs": [],
   "source": [
    "import pandas as pd\n",
    "import datetime"
   ]
  },
  {
   "cell_type": "code",
   "execution_count": null,
   "metadata": {},
   "outputs": [],
   "source": [
    "从策略开始日期持有最近发行的30只股票，"
   ]
  },
  {
   "cell_type": "code",
   "execution_count": 2,
   "metadata": {},
   "outputs": [],
   "source": [
    "stock_data = pd.read_excel('定增股票.xlsx')\n",
    "stock_data = stock_data.dropna().reset_index(drop=True) # 去除空值"
   ]
  },
  {
   "cell_type": "code",
   "execution_count": 3,
   "metadata": {},
   "outputs": [],
   "source": [
    "stop_time=stock_data.iloc[0,2] # 决定停止时间-即最近发行日期，用于停止更新持仓\n",
    "hold_data=stock_data.iloc[-30:,:] # 当前持仓数据，由30支股票组成\n",
    "remain_data=stock_data.iloc[:-30,:] # 还未持有过的股票数据，以防同一天重复拿取股票"
   ]
  },
  {
   "cell_type": "code",
   "execution_count": 4,
   "metadata": {},
   "outputs": [],
   "source": [
    "def find_code_by_issue(issue):\n",
    "    \"\"\"\n",
    "    由发行日期寻找对应股票代码，如果当天未找到代码则在增加一天后继续寻找，知道日期超过停止时间\n",
    "    \n",
    "    Parameters\n",
    "    ----------\n",
    "    issue : 寻找的发行日期，Timestamp 格式\n",
    "    remain_data : 剩余股票数据，全局变量，DataFrame 格式，储存所有未曾持有过的股票数据\n",
    "    stop_time : 停止时间，Timestamp 格式，用于停止寻找股票\n",
    "    \n",
    "    Returns\n",
    "    -------\n",
    "    如果未找到，即日期超过停止时间，则返回空list。\n",
    "    如果找到，则返回对应一支股票的所有信息\n",
    "    \n",
    "    \"\"\"\n",
    "    global remain_data,stop_time # 加入全局变量\n",
    "    if issue>stop_time: # 判断是否超停止时间\n",
    "        return []\n",
    "    code_list = remain_data[remain_data['发行日期']==issue] # 寻找对应日期的股票\n",
    "    if len(code_list)==0: # 如果未找到\n",
    "        return find_code_by_issue(issue+datetime.timedelta(days=1)) # 则寻找的时间增加一天\n",
    "    else:\n",
    "        code_index=code_list.index[-1] # 提取对应股票index\n",
    "        remain_data=remain_data.drop(code_index) # 在剩余股票数据删除准备加入持仓的股票\n",
    "        return code_list.iloc[-1,:] # 返回这支股票的所有信息"
   ]
  },
  {
   "cell_type": "code",
   "execution_count": 5,
   "metadata": {},
   "outputs": [],
   "source": [
    "hold_code_list=pd.DataFrame([hold_data['代码'].tolist()],index=[hold_data.iloc[0,2]]) # 只包含当前持仓组合代码\n",
    "while True:\n",
    "    dele_stock = hold_data.sort_values(by='首批限售股份解禁日').iloc[0,:] # delete_stock : 按最早解禁日寻找准备去除的股票\n",
    "    hold_data = hold_data.drop(dele_stock.name) # 去除解禁股票\n",
    "    target_stock = find_code_by_issue(dele_stock['首批限售股份解禁日']) # 找到此股票解禁日对应发行的股票信息\n",
    "    if len(target_stock)==0: # 如果未找到则超过停止时间，停止更新持仓\n",
    "        break\n",
    "    else:\n",
    "        hold_data = hold_data.append(target_stock) # 在持仓加入新发行的股票\n",
    "        new_list = pd.DataFrame([hold_data['代码'].tolist()],index=[hold_data.sort_values(by='发行日期',ascending=False).iloc[0,2]])\n",
    "        # 创建新的只包含当前持仓组合代码的DataFrame，index是组合中最晚的发行日期，即更新日期\n",
    "        hold_code_list = hold_code_list.append(new_list) # 加入历史持仓表\n",
    "hold_code_list.index.duplicated(keep='last') # 同一天的数据只取最终持仓\n",
    "hold_code_list=hold_code_list[~hold_code_list.index.duplicated(keep='last')]"
   ]
  },
  {
   "cell_type": "code",
   "execution_count": 20,
   "metadata": {},
   "outputs": [],
   "source": [
    "hold_code_list.to_excel('持仓组合.xlsx')"
   ]
  },
  {
   "cell_type": "code",
   "execution_count": null,
   "metadata": {},
   "outputs": [],
   "source": []
  }
 ],
 "metadata": {
  "kernelspec": {
   "display_name": "Python 3",
   "language": "python",
   "name": "python3"
  },
  "language_info": {
   "codemirror_mode": {
    "name": "ipython",
    "version": 3
   },
   "file_extension": ".py",
   "mimetype": "text/x-python",
   "name": "python",
   "nbconvert_exporter": "python",
   "pygments_lexer": "ipython3",
   "version": "3.6.5"
  }
 },
 "nbformat": 4,
 "nbformat_minor": 2
}
