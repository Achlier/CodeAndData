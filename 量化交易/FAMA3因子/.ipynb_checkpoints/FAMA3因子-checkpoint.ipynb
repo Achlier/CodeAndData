{
 "cells": [
  {
   "cell_type": "markdown",
   "metadata": {},
   "source": [
    "# 整理思路"
   ]
  },
  {
   "cell_type": "markdown",
   "metadata": {},
   "source": [
    "首先回顾一下公式\n",
    "\n",
    "$$r_t-r_f=\\alpha_t+\\beta_0SMB_t+\\beta_1HML_t+\\beta_3MKT+\\epsilon_t$$"
   ]
  },
  {
   "cell_type": "markdown",
   "metadata": {},
   "source": [
    "其中\n",
    "\n",
    "- SMB ：规模因子\n",
    "- HML ：账面市值比因子\n",
    "- MKT ：市场因子\n",
    "- 市净率（Price-to-Book Ratio/PB）= 股票价格(P)/每股净资产(Book Value) \n",
    "- 市场价值比率(Book to market ratio/BM) = 每股净资产(Book Value) /股票价格(P) = 1/市净率\n",
    "\n",
    "**SMB因子构造**\n",
    "\n",
    "- 使用流通市值进行排序（各一半），计算小盘股组合和大盘股组合的（流通市值加权）收益率之差。计算公式：SMB=(SH+SM+SL)/3-(BH+BM+BL)/3\n",
    "\n",
    "**HML因子构造**\n",
    "\n",
    "- 使用账面市值比进行排序（以BM的70%、30%分位数为界），计算高账面市值比组合和低账面市值比组合的（流通市值加权）收益率之差。计算公式：HML=(SH+BH)/2-(SL+BL)/2\n",
    "\n",
    "因此我们还需要（月度复权数据-依照网上的案例）\n",
    "\n",
    "- 个股收盘价\n",
    "- 市场收盘价\n",
    "- 无风险利率"
   ]
  },
  {
   "cell_type": "markdown",
   "metadata": {},
   "source": [
    "# 数据处理"
   ]
  },
  {
   "cell_type": "markdown",
   "metadata": {},
   "source": [
    "数据可见我的 网盘分享。密码"
   ]
  },
  {
   "cell_type": "markdown",
   "metadata": {},
   "source": [
    "#### 导入财务数据并分析"
   ]
  },
  {
   "cell_type": "code",
   "execution_count": 11,
   "metadata": {},
   "outputs": [],
   "source": [
    "import pandas as pd"
   ]
  },
  {
   "cell_type": "code",
   "execution_count": 4,
   "metadata": {},
   "outputs": [
    {
     "name": "stdout",
     "output_type": "stream",
     "text": [
      "['/eqtopc2totcap'] ['/totcap'] ['/floatcap']\n"
     ]
    }
   ],
   "source": [
    "b2p = pd.HDFStore('b2p.h5', mode='r') \n",
    "totcap = pd.HDFStore('totcap.h5', mode='r') \n",
    "floatcap = pd.HDFStore('floatcap.h5', mode='r') \n",
    "print(b2p.keys(),totcap.keys(),floatcap.keys())"
   ]
  },
  {
   "cell_type": "code",
   "execution_count": 5,
   "metadata": {},
   "outputs": [],
   "source": [
    "b2p_data=b2p['eqtopc2totcap']\n",
    "totcap_data=totcap['totcap']\n",
    "floatcap_data=floatcap['floatcap']"
   ]
  },
  {
   "cell_type": "markdown",
   "metadata": {},
   "source": [
    "读取数据后，看看里面都是什么"
   ]
  },
  {
   "cell_type": "code",
   "execution_count": 6,
   "metadata": {},
   "outputs": [
    {
     "data": {
      "text/html": [
       "<div>\n",
       "<style scoped>\n",
       "    .dataframe tbody tr th:only-of-type {\n",
       "        vertical-align: middle;\n",
       "    }\n",
       "\n",
       "    .dataframe tbody tr th {\n",
       "        vertical-align: top;\n",
       "    }\n",
       "\n",
       "    .dataframe thead th {\n",
       "        text-align: right;\n",
       "    }\n",
       "</style>\n",
       "<table border=\"1\" class=\"dataframe\">\n",
       "  <thead>\n",
       "    <tr style=\"text-align: right;\">\n",
       "      <th></th>\n",
       "      <th>date</th>\n",
       "      <th>Stkcd</th>\n",
       "      <th>sig</th>\n",
       "      <th>facnameuse</th>\n",
       "    </tr>\n",
       "  </thead>\n",
       "  <tbody>\n",
       "    <tr>\n",
       "      <th>0</th>\n",
       "      <td>20050104</td>\n",
       "      <td>000001.SZ</td>\n",
       "      <td>0.340960</td>\n",
       "      <td>eqtopc2totcap</td>\n",
       "    </tr>\n",
       "    <tr>\n",
       "      <th>1</th>\n",
       "      <td>20050104</td>\n",
       "      <td>000002.SZ</td>\n",
       "      <td>0.477448</td>\n",
       "      <td>eqtopc2totcap</td>\n",
       "    </tr>\n",
       "    <tr>\n",
       "      <th>2</th>\n",
       "      <td>20050104</td>\n",
       "      <td>000004.SZ</td>\n",
       "      <td>0.169741</td>\n",
       "      <td>eqtopc2totcap</td>\n",
       "    </tr>\n",
       "    <tr>\n",
       "      <th>3</th>\n",
       "      <td>20050104</td>\n",
       "      <td>000005.SZ</td>\n",
       "      <td>0.576144</td>\n",
       "      <td>eqtopc2totcap</td>\n",
       "    </tr>\n",
       "    <tr>\n",
       "      <th>4</th>\n",
       "      <td>20050104</td>\n",
       "      <td>000006.SZ</td>\n",
       "      <td>0.868864</td>\n",
       "      <td>eqtopc2totcap</td>\n",
       "    </tr>\n",
       "  </tbody>\n",
       "</table>\n",
       "</div>"
      ],
      "text/plain": [
       "       date      Stkcd       sig     facnameuse\n",
       "0  20050104  000001.SZ  0.340960  eqtopc2totcap\n",
       "1  20050104  000002.SZ  0.477448  eqtopc2totcap\n",
       "2  20050104  000004.SZ  0.169741  eqtopc2totcap\n",
       "3  20050104  000005.SZ  0.576144  eqtopc2totcap\n",
       "4  20050104  000006.SZ  0.868864  eqtopc2totcap"
      ]
     },
     "execution_count": 6,
     "metadata": {},
     "output_type": "execute_result"
    }
   ],
   "source": [
    "b2p_data.head()"
   ]
  },
  {
   "cell_type": "code",
   "execution_count": 7,
   "metadata": {},
   "outputs": [
    {
     "data": {
      "text/html": [
       "<div>\n",
       "<style scoped>\n",
       "    .dataframe tbody tr th:only-of-type {\n",
       "        vertical-align: middle;\n",
       "    }\n",
       "\n",
       "    .dataframe tbody tr th {\n",
       "        vertical-align: top;\n",
       "    }\n",
       "\n",
       "    .dataframe thead th {\n",
       "        text-align: right;\n",
       "    }\n",
       "</style>\n",
       "<table border=\"1\" class=\"dataframe\">\n",
       "  <thead>\n",
       "    <tr style=\"text-align: right;\">\n",
       "      <th></th>\n",
       "      <th>date</th>\n",
       "      <th>Stkcd</th>\n",
       "      <th>sig</th>\n",
       "      <th>facnameuse</th>\n",
       "    </tr>\n",
       "  </thead>\n",
       "  <tbody>\n",
       "    <tr>\n",
       "      <th>4837</th>\n",
       "      <td>20220801</td>\n",
       "      <td>871970.BJ</td>\n",
       "      <td>0.403256</td>\n",
       "      <td>eqtopc2totcap</td>\n",
       "    </tr>\n",
       "    <tr>\n",
       "      <th>4838</th>\n",
       "      <td>20220801</td>\n",
       "      <td>871981.BJ</td>\n",
       "      <td>0.360205</td>\n",
       "      <td>eqtopc2totcap</td>\n",
       "    </tr>\n",
       "    <tr>\n",
       "      <th>4839</th>\n",
       "      <td>20220801</td>\n",
       "      <td>872925.BJ</td>\n",
       "      <td>0.427790</td>\n",
       "      <td>eqtopc2totcap</td>\n",
       "    </tr>\n",
       "    <tr>\n",
       "      <th>4840</th>\n",
       "      <td>20220801</td>\n",
       "      <td>873169.BJ</td>\n",
       "      <td>0.321375</td>\n",
       "      <td>eqtopc2totcap</td>\n",
       "    </tr>\n",
       "    <tr>\n",
       "      <th>4841</th>\n",
       "      <td>20220801</td>\n",
       "      <td>873223.BJ</td>\n",
       "      <td>0.318666</td>\n",
       "      <td>eqtopc2totcap</td>\n",
       "    </tr>\n",
       "  </tbody>\n",
       "</table>\n",
       "</div>"
      ],
      "text/plain": [
       "          date      Stkcd       sig     facnameuse\n",
       "4837  20220801  871970.BJ  0.403256  eqtopc2totcap\n",
       "4838  20220801  871981.BJ  0.360205  eqtopc2totcap\n",
       "4839  20220801  872925.BJ  0.427790  eqtopc2totcap\n",
       "4840  20220801  873169.BJ  0.321375  eqtopc2totcap\n",
       "4841  20220801  873223.BJ  0.318666  eqtopc2totcap"
      ]
     },
     "execution_count": 7,
     "metadata": {},
     "output_type": "execute_result"
    }
   ],
   "source": [
    "b2p_data.tail()"
   ]
  },
  {
   "cell_type": "code",
   "execution_count": 8,
   "metadata": {},
   "outputs": [],
   "source": [
    "b2p_data.columns=['date','Stkcd','b2p','facnameuse'] # 修改列名以方便阅读"
   ]
  },
  {
   "cell_type": "markdown",
   "metadata": {},
   "source": [
    "2005-2022 年内的数据，列名分别是: 日期 编码 sig(按文件名是Book to price)"
   ]
  },
  {
   "cell_type": "code",
   "execution_count": 9,
   "metadata": {},
   "outputs": [
    {
     "data": {
      "text/html": [
       "<div>\n",
       "<style scoped>\n",
       "    .dataframe tbody tr th:only-of-type {\n",
       "        vertical-align: middle;\n",
       "    }\n",
       "\n",
       "    .dataframe tbody tr th {\n",
       "        vertical-align: top;\n",
       "    }\n",
       "\n",
       "    .dataframe thead th {\n",
       "        text-align: right;\n",
       "    }\n",
       "</style>\n",
       "<table border=\"1\" class=\"dataframe\">\n",
       "  <thead>\n",
       "    <tr style=\"text-align: right;\">\n",
       "      <th></th>\n",
       "      <th>date</th>\n",
       "      <th>Stkcd</th>\n",
       "      <th>sig</th>\n",
       "    </tr>\n",
       "  </thead>\n",
       "  <tbody>\n",
       "    <tr>\n",
       "      <th>0</th>\n",
       "      <td>20031231</td>\n",
       "      <td>000001.SZ</td>\n",
       "      <td>1.692865e+10</td>\n",
       "    </tr>\n",
       "    <tr>\n",
       "      <th>1</th>\n",
       "      <td>20031231</td>\n",
       "      <td>000002.SZ</td>\n",
       "      <td>8.996443e+09</td>\n",
       "    </tr>\n",
       "    <tr>\n",
       "      <th>2</th>\n",
       "      <td>20031231</td>\n",
       "      <td>000004.SZ</td>\n",
       "      <td>6.701339e+08</td>\n",
       "    </tr>\n",
       "    <tr>\n",
       "      <th>3</th>\n",
       "      <td>20031231</td>\n",
       "      <td>000005.SZ</td>\n",
       "      <td>1.913386e+09</td>\n",
       "    </tr>\n",
       "    <tr>\n",
       "      <th>4</th>\n",
       "      <td>20031231</td>\n",
       "      <td>000006.SZ</td>\n",
       "      <td>1.344036e+09</td>\n",
       "    </tr>\n",
       "  </tbody>\n",
       "</table>\n",
       "</div>"
      ],
      "text/plain": [
       "       date      Stkcd           sig\n",
       "0  20031231  000001.SZ  1.692865e+10\n",
       "1  20031231  000002.SZ  8.996443e+09\n",
       "2  20031231  000004.SZ  6.701339e+08\n",
       "3  20031231  000005.SZ  1.913386e+09\n",
       "4  20031231  000006.SZ  1.344036e+09"
      ]
     },
     "execution_count": 9,
     "metadata": {},
     "output_type": "execute_result"
    }
   ],
   "source": [
    "totcap_data.head()"
   ]
  },
  {
   "cell_type": "code",
   "execution_count": 10,
   "metadata": {},
   "outputs": [],
   "source": [
    "totcap_data.columns=['date','Stkcd','totcap'] # 修改列名以方便阅读"
   ]
  },
  {
   "cell_type": "code",
   "execution_count": 11,
   "metadata": {},
   "outputs": [
    {
     "data": {
      "text/html": [
       "<div>\n",
       "<style scoped>\n",
       "    .dataframe tbody tr th:only-of-type {\n",
       "        vertical-align: middle;\n",
       "    }\n",
       "\n",
       "    .dataframe tbody tr th {\n",
       "        vertical-align: top;\n",
       "    }\n",
       "\n",
       "    .dataframe thead th {\n",
       "        text-align: right;\n",
       "    }\n",
       "</style>\n",
       "<table border=\"1\" class=\"dataframe\">\n",
       "  <thead>\n",
       "    <tr style=\"text-align: right;\">\n",
       "      <th></th>\n",
       "      <th>date</th>\n",
       "      <th>Stkcd</th>\n",
       "      <th>sig</th>\n",
       "    </tr>\n",
       "  </thead>\n",
       "  <tbody>\n",
       "    <tr>\n",
       "      <th>0</th>\n",
       "      <td>20031231</td>\n",
       "      <td>000001.SZ</td>\n",
       "      <td>1.226145e+10</td>\n",
       "    </tr>\n",
       "    <tr>\n",
       "      <th>1</th>\n",
       "      <td>20031231</td>\n",
       "      <td>000002.SZ</td>\n",
       "      <td>6.000288e+09</td>\n",
       "    </tr>\n",
       "    <tr>\n",
       "      <th>2</th>\n",
       "      <td>20031231</td>\n",
       "      <td>000004.SZ</td>\n",
       "      <td>3.324247e+08</td>\n",
       "    </tr>\n",
       "    <tr>\n",
       "      <th>3</th>\n",
       "      <td>20031231</td>\n",
       "      <td>000005.SZ</td>\n",
       "      <td>1.009664e+09</td>\n",
       "    </tr>\n",
       "    <tr>\n",
       "      <th>4</th>\n",
       "      <td>20031231</td>\n",
       "      <td>000006.SZ</td>\n",
       "      <td>8.363773e+08</td>\n",
       "    </tr>\n",
       "  </tbody>\n",
       "</table>\n",
       "</div>"
      ],
      "text/plain": [
       "       date      Stkcd           sig\n",
       "0  20031231  000001.SZ  1.226145e+10\n",
       "1  20031231  000002.SZ  6.000288e+09\n",
       "2  20031231  000004.SZ  3.324247e+08\n",
       "3  20031231  000005.SZ  1.009664e+09\n",
       "4  20031231  000006.SZ  8.363773e+08"
      ]
     },
     "execution_count": 11,
     "metadata": {},
     "output_type": "execute_result"
    }
   ],
   "source": [
    "floatcap_data.head()"
   ]
  },
  {
   "cell_type": "code",
   "execution_count": 12,
   "metadata": {},
   "outputs": [],
   "source": [
    "floatcap_data.columns=['date','Stkcd','floatcap'] # 修改列名以方便阅读"
   ]
  },
  {
   "cell_type": "markdown",
   "metadata": {},
   "source": [
    "2003-2022 年的数据，列名分别是: 日期 编码 sig(按文件名是total capital市值和 float capital流通市值)"
   ]
  },
  {
   "cell_type": "markdown",
   "metadata": {},
   "source": [
    "#### 合并&删除空值"
   ]
  },
  {
   "cell_type": "markdown",
   "metadata": {},
   "source": [
    "由于B2P似乎是从2005开始的，其他数据也有可能不一致，先试着合并一下吧"
   ]
  },
  {
   "cell_type": "code",
   "execution_count": 13,
   "metadata": {},
   "outputs": [],
   "source": [
    "tfcap_data=pd.merge(totcap_data,floatcap_data,how='inner',on=['date','Stkcd'])\n",
    "fin_data=pd.merge(b2p_data[['date','Stkcd','b2p']],tfcap_data,how='inner',on=['date','Stkcd'])"
   ]
  },
  {
   "cell_type": "code",
   "execution_count": 14,
   "metadata": {},
   "outputs": [
    {
     "data": {
      "text/html": [
       "<div>\n",
       "<style scoped>\n",
       "    .dataframe tbody tr th:only-of-type {\n",
       "        vertical-align: middle;\n",
       "    }\n",
       "\n",
       "    .dataframe tbody tr th {\n",
       "        vertical-align: top;\n",
       "    }\n",
       "\n",
       "    .dataframe thead th {\n",
       "        text-align: right;\n",
       "    }\n",
       "</style>\n",
       "<table border=\"1\" class=\"dataframe\">\n",
       "  <thead>\n",
       "    <tr style=\"text-align: right;\">\n",
       "      <th></th>\n",
       "      <th>date</th>\n",
       "      <th>Stkcd</th>\n",
       "      <th>b2p</th>\n",
       "      <th>totcap</th>\n",
       "      <th>floatcap</th>\n",
       "    </tr>\n",
       "  </thead>\n",
       "  <tbody>\n",
       "    <tr>\n",
       "      <th>0</th>\n",
       "      <td>20050104</td>\n",
       "      <td>000001.SZ</td>\n",
       "      <td>0.340960</td>\n",
       "      <td>1.282297e+10</td>\n",
       "      <td>9.287695e+09</td>\n",
       "    </tr>\n",
       "    <tr>\n",
       "      <th>1</th>\n",
       "      <td>20050104</td>\n",
       "      <td>000002.SZ</td>\n",
       "      <td>0.477448</td>\n",
       "      <td>1.195928e+10</td>\n",
       "      <td>8.294219e+09</td>\n",
       "    </tr>\n",
       "    <tr>\n",
       "      <th>2</th>\n",
       "      <td>20050104</td>\n",
       "      <td>000004.SZ</td>\n",
       "      <td>0.169741</td>\n",
       "      <td>5.718812e+08</td>\n",
       "      <td>2.836857e+08</td>\n",
       "    </tr>\n",
       "    <tr>\n",
       "      <th>3</th>\n",
       "      <td>20050104</td>\n",
       "      <td>000005.SZ</td>\n",
       "      <td>0.576144</td>\n",
       "      <td>1.559055e+09</td>\n",
       "      <td>8.226892e+08</td>\n",
       "    </tr>\n",
       "    <tr>\n",
       "      <th>4</th>\n",
       "      <td>20050104</td>\n",
       "      <td>000006.SZ</td>\n",
       "      <td>0.868864</td>\n",
       "      <td>1.047333e+09</td>\n",
       "      <td>6.517431e+08</td>\n",
       "    </tr>\n",
       "  </tbody>\n",
       "</table>\n",
       "</div>"
      ],
      "text/plain": [
       "       date      Stkcd       b2p        totcap      floatcap\n",
       "0  20050104  000001.SZ  0.340960  1.282297e+10  9.287695e+09\n",
       "1  20050104  000002.SZ  0.477448  1.195928e+10  8.294219e+09\n",
       "2  20050104  000004.SZ  0.169741  5.718812e+08  2.836857e+08\n",
       "3  20050104  000005.SZ  0.576144  1.559055e+09  8.226892e+08\n",
       "4  20050104  000006.SZ  0.868864  1.047333e+09  6.517431e+08"
      ]
     },
     "execution_count": 14,
     "metadata": {},
     "output_type": "execute_result"
    }
   ],
   "source": [
    "fin_data.head()"
   ]
  },
  {
   "cell_type": "markdown",
   "metadata": {},
   "source": [
    "接下来去掉空缺值,并重新排index，最后就可以暂时输出了"
   ]
  },
  {
   "cell_type": "code",
   "execution_count": 15,
   "metadata": {},
   "outputs": [],
   "source": [
    "fin_data=fin_data.loc[(fin_data != 0).all(1)].reset_index(drop=True)"
   ]
  },
  {
   "cell_type": "code",
   "execution_count": 16,
   "metadata": {},
   "outputs": [],
   "source": [
    "fin_data.to_pickle('fin.pkl') # 导出成 pickle 格式的文件，以防意外"
   ]
  },
  {
   "cell_type": "code",
   "execution_count": null,
   "metadata": {},
   "outputs": [],
   "source": [
    "del fin_data, totcap_data, floatcap_data, b2p_data"
   ]
  },
  {
   "cell_type": "markdown",
   "metadata": {},
   "source": [
    "节约内存及时清理后台！"
   ]
  },
  {
   "cell_type": "markdown",
   "metadata": {},
   "source": [
    "#### 合并行情数据"
   ]
  },
  {
   "cell_type": "code",
   "execution_count": 12,
   "metadata": {},
   "outputs": [],
   "source": [
    "fin_data=pd.read_pickle('fin.pkl')"
   ]
  },
  {
   "cell_type": "code",
   "execution_count": 13,
   "metadata": {},
   "outputs": [
    {
     "data": {
      "text/plain": [
       "['/ashareeodprices', '/lastupdatedt']"
      ]
     },
     "execution_count": 13,
     "metadata": {},
     "output_type": "execute_result"
    }
   ],
   "source": [
    "prices=pd.HDFStore('ashareeodprices.h5', mode='r') \n",
    "prices.keys()"
   ]
  },
  {
   "cell_type": "code",
   "execution_count": 14,
   "metadata": {},
   "outputs": [
    {
     "data": {
      "text/html": [
       "<div>\n",
       "<style scoped>\n",
       "    .dataframe tbody tr th:only-of-type {\n",
       "        vertical-align: middle;\n",
       "    }\n",
       "\n",
       "    .dataframe tbody tr th {\n",
       "        vertical-align: top;\n",
       "    }\n",
       "\n",
       "    .dataframe thead th {\n",
       "        text-align: right;\n",
       "    }\n",
       "</style>\n",
       "<table border=\"1\" class=\"dataframe\">\n",
       "  <thead>\n",
       "    <tr style=\"text-align: right;\">\n",
       "      <th></th>\n",
       "      <th>date</th>\n",
       "      <th>Stkcd</th>\n",
       "      <th>preclose</th>\n",
       "      <th>open</th>\n",
       "      <th>high</th>\n",
       "      <th>low</th>\n",
       "      <th>close</th>\n",
       "      <th>ret</th>\n",
       "      <th>vol</th>\n",
       "      <th>amt</th>\n",
       "      <th>adjpreclose</th>\n",
       "      <th>adjopen</th>\n",
       "      <th>adjhigh</th>\n",
       "      <th>adjlow</th>\n",
       "      <th>adjclose</th>\n",
       "      <th>adjfac</th>\n",
       "      <th>avgprice</th>\n",
       "      <th>ztprice</th>\n",
       "      <th>dtprice</th>\n",
       "    </tr>\n",
       "  </thead>\n",
       "  <tbody>\n",
       "    <tr>\n",
       "      <th>0</th>\n",
       "      <td>20000104</td>\n",
       "      <td>000001.SZ</td>\n",
       "      <td>17.45</td>\n",
       "      <td>17.50</td>\n",
       "      <td>18.55</td>\n",
       "      <td>17.20</td>\n",
       "      <td>18.29</td>\n",
       "      <td>4.8138</td>\n",
       "      <td>82161.0</td>\n",
       "      <td>147325.3568</td>\n",
       "      <td>378.00</td>\n",
       "      <td>379.08</td>\n",
       "      <td>401.82</td>\n",
       "      <td>372.58</td>\n",
       "      <td>396.19</td>\n",
       "      <td>21.661613</td>\n",
       "      <td>17.9313</td>\n",
       "      <td>NaN</td>\n",
       "      <td>NaN</td>\n",
       "    </tr>\n",
       "    <tr>\n",
       "      <th>1</th>\n",
       "      <td>20000104</td>\n",
       "      <td>000002.SZ</td>\n",
       "      <td>9.75</td>\n",
       "      <td>9.80</td>\n",
       "      <td>10.40</td>\n",
       "      <td>9.60</td>\n",
       "      <td>10.30</td>\n",
       "      <td>5.6410</td>\n",
       "      <td>45747.0</td>\n",
       "      <td>46053.4516</td>\n",
       "      <td>82.99</td>\n",
       "      <td>83.42</td>\n",
       "      <td>88.53</td>\n",
       "      <td>81.72</td>\n",
       "      <td>87.68</td>\n",
       "      <td>8.512305</td>\n",
       "      <td>10.0670</td>\n",
       "      <td>NaN</td>\n",
       "      <td>NaN</td>\n",
       "    </tr>\n",
       "    <tr>\n",
       "      <th>2</th>\n",
       "      <td>20000104</td>\n",
       "      <td>000003.SZ</td>\n",
       "      <td>5.47</td>\n",
       "      <td>5.48</td>\n",
       "      <td>5.85</td>\n",
       "      <td>5.40</td>\n",
       "      <td>5.74</td>\n",
       "      <td>4.9360</td>\n",
       "      <td>19073.0</td>\n",
       "      <td>10787.1201</td>\n",
       "      <td>20.97</td>\n",
       "      <td>21.01</td>\n",
       "      <td>22.43</td>\n",
       "      <td>20.70</td>\n",
       "      <td>22.00</td>\n",
       "      <td>3.833487</td>\n",
       "      <td>5.6557</td>\n",
       "      <td>NaN</td>\n",
       "      <td>NaN</td>\n",
       "    </tr>\n",
       "    <tr>\n",
       "      <th>3</th>\n",
       "      <td>20000104</td>\n",
       "      <td>000004.SZ</td>\n",
       "      <td>8.51</td>\n",
       "      <td>8.55</td>\n",
       "      <td>8.75</td>\n",
       "      <td>8.36</td>\n",
       "      <td>8.74</td>\n",
       "      <td>2.7027</td>\n",
       "      <td>6577.0</td>\n",
       "      <td>5628.1931</td>\n",
       "      <td>26.48</td>\n",
       "      <td>26.60</td>\n",
       "      <td>27.23</td>\n",
       "      <td>26.01</td>\n",
       "      <td>27.19</td>\n",
       "      <td>3.111524</td>\n",
       "      <td>8.5574</td>\n",
       "      <td>NaN</td>\n",
       "      <td>NaN</td>\n",
       "    </tr>\n",
       "    <tr>\n",
       "      <th>4</th>\n",
       "      <td>20000104</td>\n",
       "      <td>000005.SZ</td>\n",
       "      <td>6.04</td>\n",
       "      <td>6.10</td>\n",
       "      <td>6.27</td>\n",
       "      <td>6.00</td>\n",
       "      <td>6.24</td>\n",
       "      <td>3.3113</td>\n",
       "      <td>8365.0</td>\n",
       "      <td>5132.4196</td>\n",
       "      <td>26.78</td>\n",
       "      <td>27.04</td>\n",
       "      <td>27.80</td>\n",
       "      <td>26.60</td>\n",
       "      <td>27.66</td>\n",
       "      <td>4.433378</td>\n",
       "      <td>6.1356</td>\n",
       "      <td>NaN</td>\n",
       "      <td>NaN</td>\n",
       "    </tr>\n",
       "  </tbody>\n",
       "</table>\n",
       "</div>"
      ],
      "text/plain": [
       "       date      Stkcd  preclose   open   high    low  close     ret      vol  \\\n",
       "0  20000104  000001.SZ     17.45  17.50  18.55  17.20  18.29  4.8138  82161.0   \n",
       "1  20000104  000002.SZ      9.75   9.80  10.40   9.60  10.30  5.6410  45747.0   \n",
       "2  20000104  000003.SZ      5.47   5.48   5.85   5.40   5.74  4.9360  19073.0   \n",
       "3  20000104  000004.SZ      8.51   8.55   8.75   8.36   8.74  2.7027   6577.0   \n",
       "4  20000104  000005.SZ      6.04   6.10   6.27   6.00   6.24  3.3113   8365.0   \n",
       "\n",
       "           amt  adjpreclose  adjopen  adjhigh  adjlow  adjclose     adjfac  \\\n",
       "0  147325.3568       378.00   379.08   401.82  372.58    396.19  21.661613   \n",
       "1   46053.4516        82.99    83.42    88.53   81.72     87.68   8.512305   \n",
       "2   10787.1201        20.97    21.01    22.43   20.70     22.00   3.833487   \n",
       "3    5628.1931        26.48    26.60    27.23   26.01     27.19   3.111524   \n",
       "4    5132.4196        26.78    27.04    27.80   26.60     27.66   4.433378   \n",
       "\n",
       "   avgprice  ztprice  dtprice  \n",
       "0   17.9313      NaN      NaN  \n",
       "1   10.0670      NaN      NaN  \n",
       "2    5.6557      NaN      NaN  \n",
       "3    8.5574      NaN      NaN  \n",
       "4    6.1356      NaN      NaN  "
      ]
     },
     "execution_count": 14,
     "metadata": {},
     "output_type": "execute_result"
    }
   ],
   "source": [
    "prices_data=prices['ashareeodprices']\n",
    "prices_data.head()"
   ]
  },
  {
   "cell_type": "markdown",
   "metadata": {},
   "source": [
    "因为我们只需要 adjclose 的数据，将对应列合并后再确定一下是否存在空值就可以清内存了！"
   ]
  },
  {
   "cell_type": "code",
   "execution_count": 15,
   "metadata": {},
   "outputs": [
    {
     "data": {
      "text/html": [
       "<div>\n",
       "<style scoped>\n",
       "    .dataframe tbody tr th:only-of-type {\n",
       "        vertical-align: middle;\n",
       "    }\n",
       "\n",
       "    .dataframe tbody tr th {\n",
       "        vertical-align: top;\n",
       "    }\n",
       "\n",
       "    .dataframe thead th {\n",
       "        text-align: right;\n",
       "    }\n",
       "</style>\n",
       "<table border=\"1\" class=\"dataframe\">\n",
       "  <thead>\n",
       "    <tr style=\"text-align: right;\">\n",
       "      <th></th>\n",
       "      <th>date</th>\n",
       "      <th>Stkcd</th>\n",
       "      <th>b2p</th>\n",
       "      <th>totcap</th>\n",
       "      <th>floatcap</th>\n",
       "      <th>close</th>\n",
       "      <th>adjclose</th>\n",
       "    </tr>\n",
       "  </thead>\n",
       "  <tbody>\n",
       "  </tbody>\n",
       "</table>\n",
       "</div>"
      ],
      "text/plain": [
       "Empty DataFrame\n",
       "Columns: [date, Stkcd, b2p, totcap, floatcap, close, adjclose]\n",
       "Index: []"
      ]
     },
     "execution_count": 15,
     "metadata": {},
     "output_type": "execute_result"
    }
   ],
   "source": [
    "fama_data=pd.merge(fin_data,prices_data[['date','Stkcd','close','adjclose']],how='inner',on=['date','Stkcd'])\n",
    "fama_data.loc[(fama_data == 0).any(1)]"
   ]
  },
  {
   "cell_type": "code",
   "execution_count": 16,
   "metadata": {},
   "outputs": [],
   "source": [
    "del fin_data,prices_data"
   ]
  },
  {
   "cell_type": "markdown",
   "metadata": {},
   "source": [
    "因为只需要月末数据,我们取每只股票每月最后一个数据"
   ]
  },
  {
   "cell_type": "code",
   "execution_count": 17,
   "metadata": {
    "scrolled": true
   },
   "outputs": [],
   "source": [
    "fama_data['date']=pd.to_datetime(fama_data['date'],format = '%Y%m%d') # 先将转换成时间戳的格式\n",
    "fama_m_data=fama_data.groupby(['Stkcd',pd.Grouper(freq='m',key='date')]).last().ffill().reset_index() \n",
    "# 按股票代码和月份分类，取每个月最后一个，并填充空缺值"
   ]
  },
  {
   "cell_type": "code",
   "execution_count": 18,
   "metadata": {},
   "outputs": [
    {
     "data": {
      "text/plain": [
       "numpy.datetime64('2022-07-31T00:00:00.000000000')"
      ]
     },
     "execution_count": 18,
     "metadata": {},
     "output_type": "execute_result"
    }
   ],
   "source": [
    "fama_m_data['date'].unique().max()"
   ]
  },
  {
   "cell_type": "code",
   "execution_count": 19,
   "metadata": {},
   "outputs": [
    {
     "data": {
      "text/plain": [
       "numpy.datetime64('2003-12-31T00:00:00.000000000')"
      ]
     },
     "execution_count": 19,
     "metadata": {},
     "output_type": "execute_result"
    }
   ],
   "source": [
    "fama_m_data['date'].unique().min()"
   ]
  },
  {
   "cell_type": "code",
   "execution_count": 20,
   "metadata": {},
   "outputs": [
    {
     "data": {
      "text/plain": [
       "224"
      ]
     },
     "execution_count": 20,
     "metadata": {},
     "output_type": "execute_result"
    }
   ],
   "source": [
    "len(fama_m_data['date'].unique())"
   ]
  },
  {
   "cell_type": "markdown",
   "metadata": {},
   "source": [
    "2003-12-31 到 2022-07-29 ，18*12+8=224 个月，看来数据没多没少！可以开始计算收益率了"
   ]
  },
  {
   "cell_type": "code",
   "execution_count": 21,
   "metadata": {},
   "outputs": [],
   "source": [
    "fama_m_data['adjclose'] = fama_m_data.groupby('Stkcd')['adjclose'].apply(lambda x:(x.shift(-1)-x)/x) # （这个月减上个月）/上个月\n",
    "fama_m_data = fama_m_data.dropna()"
   ]
  },
  {
   "cell_type": "markdown",
   "metadata": {},
   "source": [
    "#### 开始构造因子"
   ]
  },
  {
   "cell_type": "markdown",
   "metadata": {},
   "source": [
    "在构造之前需要开始划分 SB 和 HML"
   ]
  },
  {
   "cell_type": "code",
   "execution_count": 22,
   "metadata": {},
   "outputs": [
    {
     "data": {
      "text/html": [
       "<div>\n",
       "<style scoped>\n",
       "    .dataframe tbody tr th:only-of-type {\n",
       "        vertical-align: middle;\n",
       "    }\n",
       "\n",
       "    .dataframe tbody tr th {\n",
       "        vertical-align: top;\n",
       "    }\n",
       "\n",
       "    .dataframe thead th {\n",
       "        text-align: right;\n",
       "    }\n",
       "</style>\n",
       "<table border=\"1\" class=\"dataframe\">\n",
       "  <thead>\n",
       "    <tr style=\"text-align: right;\">\n",
       "      <th></th>\n",
       "      <th>Stkcd</th>\n",
       "      <th>date</th>\n",
       "      <th>b2p</th>\n",
       "      <th>totcap</th>\n",
       "      <th>floatcap</th>\n",
       "      <th>close</th>\n",
       "      <th>adjclose</th>\n",
       "    </tr>\n",
       "  </thead>\n",
       "  <tbody>\n",
       "    <tr>\n",
       "      <th>0</th>\n",
       "      <td>000001.SZ</td>\n",
       "      <td>2003-12-31</td>\n",
       "      <td>0.235216</td>\n",
       "      <td>1.692865e+10</td>\n",
       "      <td>1.226145e+10</td>\n",
       "      <td>8.51</td>\n",
       "      <td>0.090474</td>\n",
       "    </tr>\n",
       "    <tr>\n",
       "      <th>1</th>\n",
       "      <td>000001.SZ</td>\n",
       "      <td>2004-01-31</td>\n",
       "      <td>0.214730</td>\n",
       "      <td>1.854369e+10</td>\n",
       "      <td>1.343122e+10</td>\n",
       "      <td>9.28</td>\n",
       "      <td>0.116395</td>\n",
       "    </tr>\n",
       "    <tr>\n",
       "      <th>2</th>\n",
       "      <td>000001.SZ</td>\n",
       "      <td>2004-02-29</td>\n",
       "      <td>0.197909</td>\n",
       "      <td>2.011980e+10</td>\n",
       "      <td>1.457280e+10</td>\n",
       "      <td>10.36</td>\n",
       "      <td>0.028940</td>\n",
       "    </tr>\n",
       "    <tr>\n",
       "      <th>3</th>\n",
       "      <td>000001.SZ</td>\n",
       "      <td>2004-03-31</td>\n",
       "      <td>0.192691</td>\n",
       "      <td>2.066463e+10</td>\n",
       "      <td>1.496742e+10</td>\n",
       "      <td>10.66</td>\n",
       "      <td>-0.124766</td>\n",
       "    </tr>\n",
       "    <tr>\n",
       "      <th>4</th>\n",
       "      <td>000001.SZ</td>\n",
       "      <td>2004-04-30</td>\n",
       "      <td>0.232417</td>\n",
       "      <td>1.797940e+10</td>\n",
       "      <td>1.302250e+10</td>\n",
       "      <td>9.33</td>\n",
       "      <td>0.031107</td>\n",
       "    </tr>\n",
       "  </tbody>\n",
       "</table>\n",
       "</div>"
      ],
      "text/plain": [
       "       Stkcd       date       b2p        totcap      floatcap  close  adjclose\n",
       "0  000001.SZ 2003-12-31  0.235216  1.692865e+10  1.226145e+10   8.51  0.090474\n",
       "1  000001.SZ 2004-01-31  0.214730  1.854369e+10  1.343122e+10   9.28  0.116395\n",
       "2  000001.SZ 2004-02-29  0.197909  2.011980e+10  1.457280e+10  10.36  0.028940\n",
       "3  000001.SZ 2004-03-31  0.192691  2.066463e+10  1.496742e+10  10.66 -0.124766\n",
       "4  000001.SZ 2004-04-30  0.232417  1.797940e+10  1.302250e+10   9.33  0.031107"
      ]
     },
     "execution_count": 22,
     "metadata": {},
     "output_type": "execute_result"
    }
   ],
   "source": [
    "fama_m_data.head()"
   ]
  },
  {
   "cell_type": "code",
   "execution_count": 23,
   "metadata": {},
   "outputs": [],
   "source": [
    "import numpy as np"
   ]
  },
  {
   "cell_type": "code",
   "execution_count": 24,
   "metadata": {},
   "outputs": [],
   "source": [
    "def dec_SMB(x): # 划分SMB的公式\n",
    "    outp=x.duplicated()\n",
    "    outp[x>=x.quantile(0.5)]='B'\n",
    "    outp[x<x.quantile(0.5)]='S'\n",
    "    return outp\n",
    "     \n",
    "\n",
    "def dec_HML(x): # 划分HML的公式\n",
    "    outp=x.duplicated()\n",
    "    outp[:]='M'\n",
    "    outp[x>=x.quantile(0.7)]='H'\n",
    "    outp[x<=x.quantile(0.3)]='L'\n",
    "    return outp"
   ]
  },
  {
   "cell_type": "code",
   "execution_count": 25,
   "metadata": {},
   "outputs": [],
   "source": [
    "fama_m_data.loc[:,'SMB']=fama_m_data.groupby('date')['floatcap'].apply(lambda x: dec_SMB(x))\n",
    "fama_m_data.loc[:,'HML']=fama_m_data.groupby('date')['b2p'].apply(lambda x: dec_HML(x))"
   ]
  },
  {
   "cell_type": "code",
   "execution_count": 26,
   "metadata": {},
   "outputs": [],
   "source": [
    "fama_m_data['tag']=fama_m_data['SMB']+fama_m_data['HML'] # 分成六组，标上名字"
   ]
  },
  {
   "cell_type": "code",
   "execution_count": 27,
   "metadata": {},
   "outputs": [
    {
     "data": {
      "text/html": [
       "<div>\n",
       "<style scoped>\n",
       "    .dataframe tbody tr th:only-of-type {\n",
       "        vertical-align: middle;\n",
       "    }\n",
       "\n",
       "    .dataframe tbody tr th {\n",
       "        vertical-align: top;\n",
       "    }\n",
       "\n",
       "    .dataframe thead th {\n",
       "        text-align: right;\n",
       "    }\n",
       "</style>\n",
       "<table border=\"1\" class=\"dataframe\">\n",
       "  <thead>\n",
       "    <tr style=\"text-align: right;\">\n",
       "      <th></th>\n",
       "      <th>Stkcd</th>\n",
       "      <th>date</th>\n",
       "      <th>b2p</th>\n",
       "      <th>totcap</th>\n",
       "      <th>floatcap</th>\n",
       "      <th>close</th>\n",
       "      <th>adjclose</th>\n",
       "      <th>SMB</th>\n",
       "      <th>HML</th>\n",
       "      <th>tag</th>\n",
       "    </tr>\n",
       "  </thead>\n",
       "  <tbody>\n",
       "    <tr>\n",
       "      <th>0</th>\n",
       "      <td>000001.SZ</td>\n",
       "      <td>2003-12-31</td>\n",
       "      <td>0.235216</td>\n",
       "      <td>1.692865e+10</td>\n",
       "      <td>1.226145e+10</td>\n",
       "      <td>8.51</td>\n",
       "      <td>0.090474</td>\n",
       "      <td>B</td>\n",
       "      <td>L</td>\n",
       "      <td>BL</td>\n",
       "    </tr>\n",
       "    <tr>\n",
       "      <th>1</th>\n",
       "      <td>000001.SZ</td>\n",
       "      <td>2004-01-31</td>\n",
       "      <td>0.214730</td>\n",
       "      <td>1.854369e+10</td>\n",
       "      <td>1.343122e+10</td>\n",
       "      <td>9.28</td>\n",
       "      <td>0.116395</td>\n",
       "      <td>B</td>\n",
       "      <td>L</td>\n",
       "      <td>BL</td>\n",
       "    </tr>\n",
       "    <tr>\n",
       "      <th>2</th>\n",
       "      <td>000001.SZ</td>\n",
       "      <td>2004-02-29</td>\n",
       "      <td>0.197909</td>\n",
       "      <td>2.011980e+10</td>\n",
       "      <td>1.457280e+10</td>\n",
       "      <td>10.36</td>\n",
       "      <td>0.028940</td>\n",
       "      <td>B</td>\n",
       "      <td>L</td>\n",
       "      <td>BL</td>\n",
       "    </tr>\n",
       "    <tr>\n",
       "      <th>3</th>\n",
       "      <td>000001.SZ</td>\n",
       "      <td>2004-03-31</td>\n",
       "      <td>0.192691</td>\n",
       "      <td>2.066463e+10</td>\n",
       "      <td>1.496742e+10</td>\n",
       "      <td>10.66</td>\n",
       "      <td>-0.124766</td>\n",
       "      <td>B</td>\n",
       "      <td>L</td>\n",
       "      <td>BL</td>\n",
       "    </tr>\n",
       "    <tr>\n",
       "      <th>4</th>\n",
       "      <td>000001.SZ</td>\n",
       "      <td>2004-04-30</td>\n",
       "      <td>0.232417</td>\n",
       "      <td>1.797940e+10</td>\n",
       "      <td>1.302250e+10</td>\n",
       "      <td>9.33</td>\n",
       "      <td>0.031107</td>\n",
       "      <td>B</td>\n",
       "      <td>L</td>\n",
       "      <td>BL</td>\n",
       "    </tr>\n",
       "  </tbody>\n",
       "</table>\n",
       "</div>"
      ],
      "text/plain": [
       "       Stkcd       date       b2p        totcap      floatcap  close  \\\n",
       "0  000001.SZ 2003-12-31  0.235216  1.692865e+10  1.226145e+10   8.51   \n",
       "1  000001.SZ 2004-01-31  0.214730  1.854369e+10  1.343122e+10   9.28   \n",
       "2  000001.SZ 2004-02-29  0.197909  2.011980e+10  1.457280e+10  10.36   \n",
       "3  000001.SZ 2004-03-31  0.192691  2.066463e+10  1.496742e+10  10.66   \n",
       "4  000001.SZ 2004-04-30  0.232417  1.797940e+10  1.302250e+10   9.33   \n",
       "\n",
       "   adjclose SMB HML tag  \n",
       "0  0.090474   B   L  BL  \n",
       "1  0.116395   B   L  BL  \n",
       "2  0.028940   B   L  BL  \n",
       "3 -0.124766   B   L  BL  \n",
       "4  0.031107   B   L  BL  "
      ]
     },
     "execution_count": 27,
     "metadata": {},
     "output_type": "execute_result"
    }
   ],
   "source": [
    "fama_m_data.head()"
   ]
  },
  {
   "cell_type": "markdown",
   "metadata": {},
   "source": [
    "SMB因子构造\n",
    "\n",
    "- 使用流通市值进行排序（各一半），计算小盘股组合和大盘股组合的（流通市值加权）收益率之差。计算公式：SMB=(SH+SM+SL)/3-(BH+BM+BL)/3\n",
    "\n",
    "HML因子构造\n",
    "\n",
    "- 使用账面市值比进行排序（以BM的70%、30%分位数为界），计算高账面市值比组合和低账面市值比组合的（流通市值加权）收益率之差。计算公式：HML=(SH+BH)/2-(SL+BL)/2"
   ]
  },
  {
   "cell_type": "code",
   "execution_count": 28,
   "metadata": {},
   "outputs": [],
   "source": [
    "factor_data=fama_m_data.groupby(['date','tag']).apply(lambda x: (x['adjclose']*x['floatcap']).sum()/x['floatcap'].sum()).reset_index()\n",
    "# 对每一组的股票收益进行流通市值加权\n",
    "\n",
    "factor_data.rename(columns={factor_data.columns[-1]:'ret'},inplace=True)\n",
    "# 重新给得出的值改名\n",
    "\n",
    "# 改变一下表格形式，使用透视表功能\n",
    "factor_data=factor_data.pivot(index='date',columns='tag',values='ret')"
   ]
  },
  {
   "cell_type": "code",
   "execution_count": 29,
   "metadata": {},
   "outputs": [
    {
     "data": {
      "text/html": [
       "<div>\n",
       "<style scoped>\n",
       "    .dataframe tbody tr th:only-of-type {\n",
       "        vertical-align: middle;\n",
       "    }\n",
       "\n",
       "    .dataframe tbody tr th {\n",
       "        vertical-align: top;\n",
       "    }\n",
       "\n",
       "    .dataframe thead th {\n",
       "        text-align: right;\n",
       "    }\n",
       "</style>\n",
       "<table border=\"1\" class=\"dataframe\">\n",
       "  <thead>\n",
       "    <tr style=\"text-align: right;\">\n",
       "      <th>tag</th>\n",
       "      <th>BH</th>\n",
       "      <th>BL</th>\n",
       "      <th>BM</th>\n",
       "      <th>SH</th>\n",
       "      <th>SL</th>\n",
       "      <th>SM</th>\n",
       "    </tr>\n",
       "    <tr>\n",
       "      <th>date</th>\n",
       "      <th></th>\n",
       "      <th></th>\n",
       "      <th></th>\n",
       "      <th></th>\n",
       "      <th></th>\n",
       "      <th></th>\n",
       "    </tr>\n",
       "  </thead>\n",
       "  <tbody>\n",
       "    <tr>\n",
       "      <th>2003-12-31</th>\n",
       "      <td>0.101038</td>\n",
       "      <td>0.047227</td>\n",
       "      <td>0.066838</td>\n",
       "      <td>0.105323</td>\n",
       "      <td>0.082403</td>\n",
       "      <td>0.107298</td>\n",
       "    </tr>\n",
       "    <tr>\n",
       "      <th>2004-01-31</th>\n",
       "      <td>0.091564</td>\n",
       "      <td>0.050715</td>\n",
       "      <td>0.052916</td>\n",
       "      <td>0.106129</td>\n",
       "      <td>0.121950</td>\n",
       "      <td>0.107536</td>\n",
       "    </tr>\n",
       "    <tr>\n",
       "      <th>2004-02-29</th>\n",
       "      <td>0.038319</td>\n",
       "      <td>0.005672</td>\n",
       "      <td>0.038370</td>\n",
       "      <td>0.047358</td>\n",
       "      <td>0.033937</td>\n",
       "      <td>0.055577</td>\n",
       "    </tr>\n",
       "    <tr>\n",
       "      <th>2004-03-31</th>\n",
       "      <td>-0.101308</td>\n",
       "      <td>-0.121238</td>\n",
       "      <td>-0.082126</td>\n",
       "      <td>-0.100408</td>\n",
       "      <td>-0.117495</td>\n",
       "      <td>-0.102251</td>\n",
       "    </tr>\n",
       "    <tr>\n",
       "      <th>2004-04-30</th>\n",
       "      <td>-0.018893</td>\n",
       "      <td>-0.032013</td>\n",
       "      <td>-0.026163</td>\n",
       "      <td>-0.019857</td>\n",
       "      <td>-0.004122</td>\n",
       "      <td>-0.009239</td>\n",
       "    </tr>\n",
       "  </tbody>\n",
       "</table>\n",
       "</div>"
      ],
      "text/plain": [
       "tag               BH        BL        BM        SH        SL        SM\n",
       "date                                                                  \n",
       "2003-12-31  0.101038  0.047227  0.066838  0.105323  0.082403  0.107298\n",
       "2004-01-31  0.091564  0.050715  0.052916  0.106129  0.121950  0.107536\n",
       "2004-02-29  0.038319  0.005672  0.038370  0.047358  0.033937  0.055577\n",
       "2004-03-31 -0.101308 -0.121238 -0.082126 -0.100408 -0.117495 -0.102251\n",
       "2004-04-30 -0.018893 -0.032013 -0.026163 -0.019857 -0.004122 -0.009239"
      ]
     },
     "execution_count": 29,
     "metadata": {},
     "output_type": "execute_result"
    }
   ],
   "source": [
    "factor_data.head()"
   ]
  },
  {
   "cell_type": "code",
   "execution_count": 30,
   "metadata": {},
   "outputs": [],
   "source": [
    "factor_data['SMB']=factor_data.apply(lambda x: (x['SH']+x['SM']+x['SL'])/3-(x['BH']+x['BM']+x['BL'])/3,axis=1)\n",
    "factor_data['HML']=factor_data.apply(lambda x: (x['SH']+x['BH'])/2-(x['SL']+x['BL'])/3,axis=1)"
   ]
  },
  {
   "cell_type": "code",
   "execution_count": 31,
   "metadata": {},
   "outputs": [
    {
     "data": {
      "text/html": [
       "<div>\n",
       "<style scoped>\n",
       "    .dataframe tbody tr th:only-of-type {\n",
       "        vertical-align: middle;\n",
       "    }\n",
       "\n",
       "    .dataframe tbody tr th {\n",
       "        vertical-align: top;\n",
       "    }\n",
       "\n",
       "    .dataframe thead th {\n",
       "        text-align: right;\n",
       "    }\n",
       "</style>\n",
       "<table border=\"1\" class=\"dataframe\">\n",
       "  <thead>\n",
       "    <tr style=\"text-align: right;\">\n",
       "      <th>tag</th>\n",
       "      <th>BH</th>\n",
       "      <th>BL</th>\n",
       "      <th>BM</th>\n",
       "      <th>SH</th>\n",
       "      <th>SL</th>\n",
       "      <th>SM</th>\n",
       "      <th>SMB</th>\n",
       "      <th>HML</th>\n",
       "    </tr>\n",
       "    <tr>\n",
       "      <th>date</th>\n",
       "      <th></th>\n",
       "      <th></th>\n",
       "      <th></th>\n",
       "      <th></th>\n",
       "      <th></th>\n",
       "      <th></th>\n",
       "      <th></th>\n",
       "      <th></th>\n",
       "    </tr>\n",
       "  </thead>\n",
       "  <tbody>\n",
       "    <tr>\n",
       "      <th>2003-12-31</th>\n",
       "      <td>0.101038</td>\n",
       "      <td>0.047227</td>\n",
       "      <td>0.066838</td>\n",
       "      <td>0.105323</td>\n",
       "      <td>0.082403</td>\n",
       "      <td>0.107298</td>\n",
       "      <td>0.026640</td>\n",
       "      <td>0.059970</td>\n",
       "    </tr>\n",
       "    <tr>\n",
       "      <th>2004-01-31</th>\n",
       "      <td>0.091564</td>\n",
       "      <td>0.050715</td>\n",
       "      <td>0.052916</td>\n",
       "      <td>0.106129</td>\n",
       "      <td>0.121950</td>\n",
       "      <td>0.107536</td>\n",
       "      <td>0.046807</td>\n",
       "      <td>0.041292</td>\n",
       "    </tr>\n",
       "    <tr>\n",
       "      <th>2004-02-29</th>\n",
       "      <td>0.038319</td>\n",
       "      <td>0.005672</td>\n",
       "      <td>0.038370</td>\n",
       "      <td>0.047358</td>\n",
       "      <td>0.033937</td>\n",
       "      <td>0.055577</td>\n",
       "      <td>0.018170</td>\n",
       "      <td>0.029635</td>\n",
       "    </tr>\n",
       "    <tr>\n",
       "      <th>2004-03-31</th>\n",
       "      <td>-0.101308</td>\n",
       "      <td>-0.121238</td>\n",
       "      <td>-0.082126</td>\n",
       "      <td>-0.100408</td>\n",
       "      <td>-0.117495</td>\n",
       "      <td>-0.102251</td>\n",
       "      <td>-0.005161</td>\n",
       "      <td>-0.021280</td>\n",
       "    </tr>\n",
       "    <tr>\n",
       "      <th>2004-04-30</th>\n",
       "      <td>-0.018893</td>\n",
       "      <td>-0.032013</td>\n",
       "      <td>-0.026163</td>\n",
       "      <td>-0.019857</td>\n",
       "      <td>-0.004122</td>\n",
       "      <td>-0.009239</td>\n",
       "      <td>0.014617</td>\n",
       "      <td>-0.007330</td>\n",
       "    </tr>\n",
       "  </tbody>\n",
       "</table>\n",
       "</div>"
      ],
      "text/plain": [
       "tag               BH        BL        BM        SH        SL        SM  \\\n",
       "date                                                                     \n",
       "2003-12-31  0.101038  0.047227  0.066838  0.105323  0.082403  0.107298   \n",
       "2004-01-31  0.091564  0.050715  0.052916  0.106129  0.121950  0.107536   \n",
       "2004-02-29  0.038319  0.005672  0.038370  0.047358  0.033937  0.055577   \n",
       "2004-03-31 -0.101308 -0.121238 -0.082126 -0.100408 -0.117495 -0.102251   \n",
       "2004-04-30 -0.018893 -0.032013 -0.026163 -0.019857 -0.004122 -0.009239   \n",
       "\n",
       "tag              SMB       HML  \n",
       "date                            \n",
       "2003-12-31  0.026640  0.059970  \n",
       "2004-01-31  0.046807  0.041292  \n",
       "2004-02-29  0.018170  0.029635  \n",
       "2004-03-31 -0.005161 -0.021280  \n",
       "2004-04-30  0.014617 -0.007330  "
      ]
     },
     "execution_count": 31,
     "metadata": {},
     "output_type": "execute_result"
    }
   ],
   "source": [
    "factor_data.head()"
   ]
  },
  {
   "cell_type": "code",
   "execution_count": 42,
   "metadata": {},
   "outputs": [],
   "source": [
    "factor_data[['SMB','HML']].to_csv('SMB_and_HML_factors.csv') # 导出因子数据"
   ]
  },
  {
   "cell_type": "markdown",
   "metadata": {},
   "source": [
    "#### 市场因子"
   ]
  },
  {
   "cell_type": "markdown",
   "metadata": {},
   "source": [
    "我将市场收益定为所有股票的平均收益值"
   ]
  },
  {
   "cell_type": "code",
   "execution_count": 32,
   "metadata": {},
   "outputs": [],
   "source": [
    "factor_data['mrt']=fama_m_data.groupby(['date'])['adjclose'].agg('mean')"
   ]
  },
  {
   "cell_type": "markdown",
   "metadata": {},
   "source": [
    "对于无风险利率数据，我从tushare数据工具库调取了 上海银行间同业拆放利率（shibor/1m）2006-10-08---2022-07-31 的数据"
   ]
  },
  {
   "cell_type": "code",
   "execution_count": 69,
   "metadata": {},
   "outputs": [],
   "source": [
    "rf_data=pd.read_csv('tushare_shibor.csv')"
   ]
  },
  {
   "cell_type": "code",
   "execution_count": 70,
   "metadata": {},
   "outputs": [],
   "source": [
    "rf_data['date']=pd.to_datetime(rf_data['date'],format = '%Y%m%d')\n",
    "rf_data=rf_data.set_index('date')\n",
    "rf_data.columns=['rf'] #为了方便合并把 date 格式改了"
   ]
  },
  {
   "cell_type": "code",
   "execution_count": 78,
   "metadata": {},
   "outputs": [],
   "source": [
    "fama3_data=pd.merge(factor_data[['SMB','HML','mrt']],rf_data,on='date')\n",
    "fama3_data['MKT']=fama3_data['mrt']-fama3_data['rf'] # 用市场收益 - 无风险利率 = MKT因子"
   ]
  },
  {
   "cell_type": "code",
   "execution_count": 83,
   "metadata": {},
   "outputs": [],
   "source": [
    "fama3_data=fama3_data.drop(columns=['mrt','rf']) # 删除多余的序列"
   ]
  },
  {
   "cell_type": "code",
   "execution_count": 84,
   "metadata": {},
   "outputs": [],
   "source": [
    "fama3_data.to_csv('FAMA_3_factors.csv') # 导出因子数据"
   ]
  },
  {
   "cell_type": "markdown",
   "metadata": {},
   "source": [
    "结束撒花！"
   ]
  }
 ],
 "metadata": {
  "kernelspec": {
   "display_name": "Python 3",
   "language": "python",
   "name": "python3"
  },
  "language_info": {
   "codemirror_mode": {
    "name": "ipython",
    "version": 3
   },
   "file_extension": ".py",
   "mimetype": "text/x-python",
   "name": "python",
   "nbconvert_exporter": "python",
   "pygments_lexer": "ipython3",
   "version": "3.6.5"
  }
 },
 "nbformat": 4,
 "nbformat_minor": 2
}
