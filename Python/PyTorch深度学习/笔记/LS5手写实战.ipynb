{
 "cells": [
  {
   "cell_type": "markdown",
   "id": "8394560e",
   "metadata": {},
   "source": [
    "## 手写数字识别实战"
   ]
  },
  {
   "cell_type": "code",
   "execution_count": 1,
   "id": "42f18f1a",
   "metadata": {},
   "outputs": [],
   "source": [
    "import torch\n",
    "from torch import nn\n",
    "from torch.nn import functional as F\n",
    "from torch import optim\n",
    "\n",
    "import torchvision\n",
    "from matplotlib import pyplot as plt\n",
    "\n",
    "import os\n",
    "os.environ[\"KMP_DUPLICATE_LIB_OK\"]=\"TRUE\""
   ]
  },
  {
   "cell_type": "markdown",
   "id": "0c011335",
   "metadata": {},
   "source": [
    "### 画图辅助 function"
   ]
  },
  {
   "cell_type": "code",
   "execution_count": 2,
   "id": "72882483",
   "metadata": {},
   "outputs": [],
   "source": [
    "# loss curve 可视化loss下降曲线\n",
    "def plot_curve(data):\n",
    "    fig = plt.figure()\n",
    "    plt.plot(range(len(data)), data, color='blue')\n",
    "    plt.legend(['value'], loc='upper right')\n",
    "    plt.xlabel('step')\n",
    "    plt.ylabel('value')\n",
    "    plt.show()\n",
    "\n",
    "# visualization of result 可视化图片\n",
    "def plot_image(img, label, name):\n",
    "    fig = plt.figure()\n",
    "    for i in range(6):\n",
    "        plt.subplot(2, 3, i + 1) # 创建多个子图,2 rows 3 cloums ,i+1 is index\n",
    "        plt.tight_layout()  # 用于自动调整子图参数以提供指定的填充\n",
    "        plt.imshow(img[i][0]*0.3081+0.1307, cmap='gray', interpolation='none') # draw heatmap\n",
    "        plt.title(\"{}: {}\".format(name, label[i].item()))\n",
    "        plt.xticks([]) # 不显示横坐标\n",
    "        plt.yticks([])\n",
    "    plt.show()\n",
    "\n",
    "# one_hot encode for label\n",
    "def one_hot(label, depth=10):\n",
    "    out = torch.zeros(label.size(0), depth) #返回一个形状为为size,类型为torch.dtype，里面的每一个值都是0的tensor\n",
    "    idx = torch.LongTensor(label).view(-1, 1)\n",
    "    out.scatter_(dim=1, index=idx, value=1)\n",
    "    return out"
   ]
  },
  {
   "cell_type": "code",
   "execution_count": 24,
   "id": "824dd112",
   "metadata": {},
   "outputs": [
    {
     "data": {
      "text/plain": [
       "tensor([[1., 0., 0., 0., 0., 0., 0., 0., 0., 0.],\n",
       "        [0., 1., 0., 0., 0., 0., 0., 0., 0., 0.],\n",
       "        [0., 0., 1., 0., 0., 0., 0., 0., 0., 0.],\n",
       "        [0., 0., 0., 1., 0., 0., 0., 0., 0., 0.]])"
      ]
     },
     "execution_count": 24,
     "metadata": {},
     "output_type": "execute_result"
    }
   ],
   "source": [
    "one_hot(torch.tensor([0,1,2,3]))"
   ]
  },
  {
   "cell_type": "markdown",
   "id": "c8636e3f",
   "metadata": {},
   "source": [
    "### 读取数据\n",
    "\n",
    "torch.utils 内置 MNIST 数据集，可以直接下载调用"
   ]
  },
  {
   "cell_type": "code",
   "execution_count": 3,
   "id": "99a9b57d",
   "metadata": {},
   "outputs": [],
   "source": [
    "batch_size = 512 # 一次处理512个28*28像素的图片\n",
    "\n",
    "train_loader = torch.utils.data.DataLoader(\n",
    "    torchvision.datasets.MNIST('data/', train=True, download=True,\n",
    "                               transform=torchvision.transforms.Compose([\n",
    "                                   torchvision.transforms.ToTensor(),\n",
    "                                   torchvision.transforms.Normalize(\n",
    "                                       (0.1307,), (0.3081,))\n",
    "                               ])),\n",
    "    batch_size=batch_size, shuffle=True) # 获取训练集\n",
    "\n",
    "test_loader = torch.utils.data.DataLoader(\n",
    "    torchvision.datasets.MNIST('data/', train=False, download=True,\n",
    "                               transform=torchvision.transforms.Compose([\n",
    "                                   torchvision.transforms.ToTensor(),\n",
    "                                   torchvision.transforms.Normalize(\n",
    "                                       (0.1307,), (0.3081,))\n",
    "                               ])),\n",
    "    batch_size=batch_size, shuffle=False) # 获取测试集\n",
    "\n",
    "# torchvision.transforms.Normalize正则化：为什么呢？因为神经网络接受的数据集最好是在0附近均匀的分布.\n",
    "# 而minst图片数据集的像素值都是大于0的，在0的右侧分布,因此减去0.1307平均值再除以0.3081标准差，让模型性能更好"
   ]
  },
  {
   "cell_type": "code",
   "execution_count": 4,
   "id": "c2d68280",
   "metadata": {},
   "outputs": [
    {
     "name": "stdout",
     "output_type": "stream",
     "text": [
      "torch.Size([512, 1, 28, 28]) torch.Size([512]) tensor(-0.4242) tensor(2.8215)\n"
     ]
    },
    {
     "data": {
      "image/png": "[encoded data removed]",
      "text/plain": [
       "<Figure size 432x288 with 6 Axes>"
      ]
     },
     "metadata": {},
     "output_type": "display_data"
    }
   ],
   "source": [
    "# 测试一个实例\n",
    "x, y = next(iter(train_loader)) # iter()函数生成一个迭代器，接受的值是：任何支持迭代的集合对象，next（）函数返回迭代器里的下一个项目\n",
    "print(x.shape, y.shape, x.min(), x.max())\n",
    "plot_image(x, y, 'image sample')"
   ]
  },
  {
   "cell_type": "markdown",
   "id": "47c992d4",
   "metadata": {},
   "source": [
    "### 建立网络"
   ]
  },
  {
   "cell_type": "code",
   "execution_count": 5,
   "id": "5457df38",
   "metadata": {},
   "outputs": [],
   "source": [
    "class Net(nn.Module): # 继承 pytorch 自带类\n",
    "\n",
    "    def __init__(self):\n",
    "        super(Net, self).__init__()\n",
    "        # 实现3层网络 xw+b\n",
    "        # 此处为每层权重初始化\n",
    "        self.fc1 = nn.Linear(28*28, 256)\n",
    "        self.fc2 = nn.Linear(256, 64)\n",
    "        self.fc3 = nn.Linear(64, 10)\n",
    "\n",
    "    def forward(self, x):\n",
    "        # 前向传播函数，计算时会接受一张图片\n",
    "        # h1 = relu(xw1+b1)\n",
    "        x = F.relu(self.fc1(x))\n",
    "        # h2 = relu(h1w2+b2)\n",
    "        x = F.relu(self.fc2(x))\n",
    "        # h3 = h2w3+b3\n",
    "        # 最后一层更具实际做调整，这里就用简单的均方误差作为损失函数\n",
    "        x = self.fc3(x)\n",
    "        return x"
   ]
  },
  {
   "cell_type": "markdown",
   "id": "b0ee6d74",
   "metadata": {},
   "source": [
    "### 训练模型"
   ]
  },
  {
   "cell_type": "code",
   "execution_count": 6,
   "id": "50e10822",
   "metadata": {},
   "outputs": [],
   "source": [
    "#实例化一个网络对象\n",
    "net = Net()\n",
    "#构建优化器\n",
    "optimizer = optim.SGD(net.parameters(), lr=0.01, momentum=0.9) # 随机梯度下降，优化的就是net实例里的模型参数\n",
    "#创建一个空列表记录每个batch的损失值\n",
    "train_loss = [] "
   ]
  },
  {
   "cell_type": "code",
   "execution_count": 26,
   "id": "b51d3de0",
   "metadata": {
    "collapsed": true
   },
   "outputs": [
    {
     "name": "stdout",
     "output_type": "stream",
     "text": [
      "0 0 0.10759361833333969\n",
      "0 10 0.09444443136453629\n",
      "0 20 0.08584798872470856\n",
      "0 30 0.08049176633358002\n",
      "0 40 0.07488486915826797\n",
      "0 50 0.07051582634449005\n",
      "0 60 0.06614620238542557\n",
      "0 70 0.06287319958209991\n",
      "0 80 0.05842266231775284\n",
      "0 90 0.05630342289805412\n",
      "0 100 0.05388900637626648\n",
      "0 110 0.05114709585905075\n",
      "1 0 0.04924849420785904\n",
      "1 10 0.04761557653546333\n",
      "1 20 0.045320965349674225\n",
      "1 30 0.047775667160749435\n",
      "1 40 0.04476300626993179\n",
      "1 50 0.04560505226254463\n",
      "1 60 0.0417795293033123\n",
      "1 70 0.04252726957201958\n",
      "1 80 0.03895410895347595\n",
      "1 90 0.04237261414527893\n",
      "1 100 0.04057879000902176\n",
      "1 110 0.03942284733057022\n",
      "2 0 0.038189422339200974\n",
      "2 10 0.03642185032367706\n",
      "2 20 0.03683634102344513\n",
      "2 30 0.037364523857831955\n",
      "2 40 0.03663918375968933\n",
      "2 50 0.04003308340907097\n",
      "2 60 0.03772184997797012\n",
      "2 70 0.03536868095397949\n",
      "2 80 0.03563985973596573\n",
      "2 90 0.03472227603197098\n",
      "2 100 0.03406861796975136\n",
      "2 110 0.0336172953248024\n"
     ]
    }
   ],
   "source": [
    "for epoch in range(3): #对整个数据集迭代3次\n",
    "    for batch_idx, (x, y) in enumerate(train_loader): # train_loader可迭代对象里的元素是一对对(x,y)pair\n",
    "        # x: [b, 1, 28, 28], y: [b]\n",
    "        # 而net只能接受的是[batch,28*28]这样的2维输入，所以要将[512, 1, 28, 28]打平成[512,784]\n",
    "        # [b, 1, 28, 28] => [b, 784]\n",
    "        x = x.view(x.size(0), 28*28) # x.size(0)取得就是第一个元素，512\n",
    "\n",
    "        # 将打平后的样本属性输入进net() => [b, 10]\n",
    "        out = net(x) #得到的out就是预测值\n",
    "        y_onehot = one_hot(y) #通过one_hot函数将y也变成onehot格式 [b, 10]\n",
    "        \n",
    "        # 接下来我们希望，out 接近于y_onehot\n",
    "        loss = F.mse_loss(out, y_onehot)\n",
    "\n",
    "        optimizer.zero_grad()  # 梯度清零\n",
    "        loss.backward() #计算梯度\n",
    "        # w' = w - lr*grad\n",
    "        optimizer.step() #更新梯度\n",
    "\n",
    "        train_loss.append(loss.item())  #将loss值存进列表中，方便之后画图\n",
    "        # 每个10个batch打印一次loss\n",
    "        if batch_idx % 10==0:\n",
    "            print(epoch, batch_idx, loss.item())"
   ]
  },
  {
   "cell_type": "code",
   "execution_count": 27,
   "id": "b6160cdd",
   "metadata": {},
   "outputs": [
    {
     "data": {
      "image/png": "[encoded data removed]",
      "text/plain": [
       "<Figure size 432x288 with 1 Axes>"
      ]
     },
     "metadata": {
      "needs_background": "light"
     },
     "output_type": "display_data"
    }
   ],
   "source": [
    "plot_curve(train_loss)\n",
    "#整个循环结束后，会得到最好的模型参数，但这并不是衡量模型性能的指标，要用到在测试集上的准确度"
   ]
  },
  {
   "cell_type": "markdown",
   "id": "651c5fb9",
   "metadata": {},
   "source": [
    "### 评估模型"
   ]
  },
  {
   "cell_type": "code",
   "execution_count": 28,
   "id": "f36a6f51",
   "metadata": {},
   "outputs": [
    {
     "name": "stdout",
     "output_type": "stream",
     "text": [
      "test acc: 0.8824\n"
     ]
    }
   ],
   "source": [
    "total_correct = 0  #初始化变量，用来记录每个batch中有多少是预测正确的\n",
    "for x,y in test_loader:\n",
    "    x  = x.view(x.size(0), 28*28)\n",
    "    out = net(x)\n",
    "    pred = out.argmax(dim=1) #返回out中第二个维度的最大值的索引,将out[batch,10]转化成pred[batch]形状\n",
    "    # pred.eq(y)比较出哪些是预测正确的，用sum()加起来，再用float()转化成浮点型,还是tensor格式，用item（）将其取出里面的数值\n",
    "    correct = pred.eq(y).sum().float().item()\n",
    "    total_correct += correct\n",
    "\n",
    "total_num = len(test_loader.dataset) #统计总共有多少个样本\n",
    "acc = total_correct / total_num #compute acc\n",
    "print('test acc:', acc)"
   ]
  },
  {
   "cell_type": "code",
   "execution_count": 29,
   "id": "27af8c5b",
   "metadata": {},
   "outputs": [
    {
     "data": {
      "image/png": "[encoded data removed]",
      "text/plain": [
       "<Figure size 432x288 with 6 Axes>"
      ]
     },
     "metadata": {},
     "output_type": "display_data"
    }
   ],
   "source": [
    "# 可视化test的结果\n",
    "x, y = next(iter(test_loader))\n",
    "out = net(x.view(x.size(0), 28*28))\n",
    "pred = out.argmax(dim=1)\n",
    "plot_image(x, pred, 'test')"
   ]
  }
 ],
 "metadata": {
  "kernelspec": {
   "display_name": "Python 3 (ipykernel)",
   "language": "python",
   "name": "python3"
  },
  "language_info": {
   "codemirror_mode": {
    "name": "ipython",
    "version": 3
   },
   "file_extension": ".py",
   "mimetype": "text/x-python",
   "name": "python",
   "nbconvert_exporter": "python",
   "pygments_lexer": "ipython3",
   "version": "3.9.12"
  }
 },
 "nbformat": 4,
 "nbformat_minor": 5
}
