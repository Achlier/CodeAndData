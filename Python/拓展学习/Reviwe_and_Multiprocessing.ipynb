{
 "cells": [
  {
   "cell_type": "markdown",
   "metadata": {},
   "source": [
    "# Markdown 特殊语法\n",
    "\n",
    "Markdown 目录：\n",
    "[TOC]\n",
    "\n",
    "*斜体*或_斜体_\n",
    "**粗体**\n",
    "***加粗斜体***\n",
    "~~删除线~~\n",
    "\n",
    "这是一个一级标题\n",
    "============================\n",
    "这是一个二级标题\n",
    "--------------------------------------------------\n",
    "\n",
    "欢迎来到[梵居闹市](http://blog.leanote.com/freewalk \"闹市\")\n",
    "\n",
    "我经常去的几个网站[Google][1]、[Leanote][2]以及[自己的博客][3]\n",
    "[Leanote 笔记][2]是一个不错的[网站][]。\n",
    "\n",
    "[1]:http://www.google.com \"Google\"\n",
    "\n",
    "[2]:http://www.leanote.com \"Leanote\"\n",
    "\n",
    "[3]:http://http://blog.leanote.com/freewalk \"梵居闹市\"\n",
    "\n",
    "[网站]:http://http://blog.leanote.com/freewalk\n",
    "\n",
    "## 0. 目录{#index}\n",
    "跳转到[目录](#index)\n",
    "\n",
    "Markdown\n",
    "\n",
    ":    轻量级文本标记语言，可以转换成html，pdf等格式（左侧有一个可见的冒号和四个不可见的空格）\n",
    "\n",
    "        代码块（左侧有八个不可见的空格）\n",
    "        \n",
    "*   轻轻的我走了， 正如我轻轻的来； 我轻轻的招手， 作别西天的云彩。\n",
    "那河畔的金柳， 是夕阳中的新娘； 波光里的艳影， 在我的心头荡漾。 \n",
    "软泥上的青荇， 油油的在水底招摇； 在康河的柔波里， 我甘心做一条水草！\n",
    "\n",
    "<code>Hello world</code>\n",
    "\n",
    "*   阅读的方法:\n",
    "    > 打开书本。\n",
    "    > 打开电灯。\n",
    "\n",
    "<代码写在这>\n",
    "\n",
    "1986\\. What a great season.\n",
    "\n",
    ">>> 请问 Markdwon 怎么用？ - 小白\n",
    "\n",
    ">> 自己看教程！ - 愤青\n",
    "\n",
    "> 教程在哪？ - 小白\n",
    "\n",
    "![美丽花儿](htp://ww2.sinaimg.cn/large/56d258bdjw1eugeubg8ujj21kw16odn6.jpg \"花儿\")\n",
    "\n",
    "使用 Markdown[^1]可以效率的书写文档, 直接转换成 HTML[^2], 你可以使用 Leanote[^Le] 编辑器进行书写。\n",
    "\n",
    "[^1]:Markdown是一种纯文本标记语言\n",
    "\n",
    "[^2]:HyperText Markup Language 超文本标记语言\n",
    "\n",
    "[^Le]:开源笔记平台，支持Markdown和笔记直接发为博文\n",
    "\n",
    "质能守恒方程可以用一个很简洁的方程式 $E=mc^2$ 来表达。\n",
    "\n",
    "$$\\sum_{i=1}^n a_i=0$$\n",
    "$$f(x_1,x_x,\\ldots,x_n) = x_1^2 + x_2^2 + \\cdots + x_n^2 $$\n",
    "$$\\sum^{j-1}_{k=0}{\\widehat{\\gamma}_{kj} z_k}$$\n",
    "\n",
    "产品|价格\n",
    "-|-:\n",
    "Leanote 高级账号|60元/年\n",
    "Leanote 超级账号|120元/年\n",
    "\n",
    "* * *\n",
    "***\n",
    "*****\n",
    "- - -\n",
    "---------------------------------------\n",
    "\n",
    "C语言里的函数 `scanf()` 怎么使用？\n",
    "\n",
    "    #include <stdio.h>\n",
    "    int main(void)\n",
    "    {\n",
    "        printf(\"Hello world\\n\");\n",
    "    }\n",
    "    \n",
    "```\n",
    "#include <stdio.h>\n",
    "int main(void)\n",
    "{\n",
    "    printf(\"Hello world\\n\");\n",
    "}\n",
    "```\n",
    "\n",
    "\n",
    "<div class=\"footer\">\n",
    "   © 2004 Foo Corporation\n",
    "</div>"
   ]
  },
  {
   "cell_type": "markdown",
   "metadata": {},
   "source": [
    "# 字符串的格式化方法"
   ]
  },
  {
   "cell_type": "markdown",
   "metadata": {},
   "source": [
    "- 使用%格式化\n",
    "                %s：字符串\n",
    "                %r：使用repr的字符串\n",
    "                %c：整数转换为单个字符\n",
    "                %d：十进制整数\n",
    "                %u：无符号整数\n",
    "                %o：八进制整数\n",
    "                %x：十六进制，字母为小写\n",
    "                %X：十六进制，字母为大写\n",
    "                %e：浮点数，E为小写\n",
    "                %E：浮点数，E为大写\n",
    "                %f，%F：浮点数十进制格式\n",
    "                %g，%G：十进制浮点数或者自动转换\n",
    "                格式字符出现整数表示此字符所占位置的宽度"
   ]
  },
  {
   "cell_type": "markdown",
   "metadata": {},
   "source": [
    "### %格式"
   ]
  },
  {
   "cell_type": "code",
   "execution_count": 17,
   "metadata": {},
   "outputs": [
    {
     "name": "stdout",
     "output_type": "stream",
     "text": [
      "string =  Hello!\n",
      "num =014\n",
      "num =  014\n",
      "string =Hello  !\n",
      "string =He!\n",
      "string =     He！\n"
     ]
    }
   ],
   "source": [
    "s = \"Hello\"\n",
    "num = 14\n",
    "\n",
    "#%n意思是字符串/数字长度为n，当原字符串/数字的长度小于n时，在原字符串左侧补空格 /补0\n",
    "print(\"string =%7s!\" % s)\n",
    "print (\"num =%.0003d\" % num)\n",
    "\n",
    "#%n.md是两种补齐方式的综合，当整数的位数不够m时，先在左侧补0，还是不够n位时，再在左侧补空格\n",
    "print (\"num =%5.3d\" % num)\n",
    "\n",
    "#%-n意思是字符串长度为n，当原字符串的长度小于n时，在原字符串右侧补空格\n",
    "print(\"string =%-7s!\" % s)\n",
    "\n",
    "#%.n意思是截取字符串的前n个字符\n",
    "print(\"string =%.2s!\" % s)\n",
    "\n",
    "#还可以用%*.*来表示精度，两个*的值分别在后面小括号的前两位数值指定\n",
    "print (\"string =%*.*s！\" % (7,2,s))"
   ]
  },
  {
   "cell_type": "markdown",
   "metadata": {},
   "source": [
    "### .format"
   ]
  },
  {
   "cell_type": "code",
   "execution_count": 5,
   "metadata": {},
   "outputs": [
    {
     "name": "stdout",
     "output_type": "stream",
     "text": [
      "We are Ach and can also be called as Achlier,so say Ach\n",
      "We are Ach and can also be called as Achlier,so say Ach\n"
     ]
    }
   ],
   "source": [
    "s = \"We are {A} and can also be called as {B},so say {A}\"\n",
    "s_dict = {\"A\":\"Ach\",\"B\":\"Achlier\"}\n",
    "\n",
    "print(\"We are %s and can also be called as %s,so say %s\")\n",
    "print(s.format(**s_dict))\n",
    "print(\"We are {0} and can also be called as {1},so say {0}\".format(\"Ach\",\"Achlier\"))"
   ]
  },
  {
   "cell_type": "markdown",
   "metadata": {},
   "source": [
    "# eval() 和 exec()\n",
    "\n",
    "- eval：字符串变表达式，并返回结果\n",
    "- exec：同上，但不返回结果"
   ]
  },
  {
   "cell_type": "code",
   "execution_count": 18,
   "metadata": {},
   "outputs": [
    {
     "name": "stdout",
     "output_type": "stream",
     "text": [
      "300\n"
     ]
    }
   ],
   "source": [
    "x = 100\n",
    "y = 200\n",
    "z1 = eval(\"x+y\")\n",
    "\n",
    "print(z1)"
   ]
  },
  {
   "cell_type": "markdown",
   "metadata": {},
   "source": [
    "# Time模块"
   ]
  },
  {
   "cell_type": "markdown",
   "metadata": {},
   "source": [
    "### 时间元组\n",
    "\n",
    "|索引|内容|属性|值|\n",
    "|---|---|---|---|\n",
    "|0|年|tm_year|2020|\n",
    "|1|月|tm_mon|1-12|\n",
    "|2|日|tm_mday|1-31|\n",
    "|3|时|tm_hour|0-23|\n",
    "|4|分|tm_min|0-59|\n",
    "|5|秒|tm_sec|0-61|\n",
    "|6|周|tm_wday|0-6|\n",
    "|7|天|tm_yday|1-366|\n",
    "|8|夏令时|tm_isdst|0,1,-1|"
   ]
  },
  {
   "cell_type": "code",
   "execution_count": 90,
   "metadata": {},
   "outputs": [
    {
     "data": {
      "text/plain": [
       "1.6e-06"
      ]
     },
     "execution_count": 90,
     "metadata": {},
     "output_type": "execute_result"
    }
   ],
   "source": [
    "import time\n",
    "\n",
    "#timezone:当前时区与UTC时区相差秒数\n",
    "time.timezone\n",
    "\n",
    "#得到时间戳-从1970年1月1日到当前的秒数\n",
    "time.time()\n",
    "\n",
    "#返回当前时间元组\n",
    "lt = time.localtime()\n",
    "\n",
    "#元组转化成正常格式\n",
    "time.asctime(lt)\n",
    "\n",
    "#返回普通格式当前时间\n",
    "time.ctime()\n",
    "\n",
    "#时间元组转化时间戳\n",
    "time.mktime(lt)\n",
    "\n",
    "#休息n秒钟\n",
    "time.sleep(1)\n",
    "\n",
    "#cpu时间\n",
    "time.clock()"
   ]
  },
  {
   "cell_type": "markdown",
   "metadata": {},
   "source": [
    "### shiftime:转化自定义格式\n",
    "\n",
    "|格式|含义|\n",
    "|---|---|\n",
    "|%a|本地简化星期名字|\n",
    "|%A|本地完整星期名字|\n",
    "|%b|本地简化月份名字|\n",
    "|%B|本地完整月份名字|\n",
    "|%c|本地相应日期和时间表示|\n",
    "|%d|一个月中的第几天|\n",
    "|%H|一天中的第几个小时（24制）|\n",
    "|%I|一天中的第几个小时（12制）|\n",
    "|%j|一年中的第几天|\n",
    "|%m|月份|\n",
    "|%M|分钟数|\n",
    "|%p|本地am或pm|\n",
    "|%S|秒|\n",
    "|%U|一年中的星期数（星期天是一周开始）|\n",
    "|%w|一星期中的第几天|\n",
    "|%W|一年中的星期数（星期一是一周开始）|\n",
    "|%x|本地相应日期|\n",
    "|%X|本地相应时间|\n",
    "|%y|去掉世纪的年份|\n",
    "|%Y|完整年份|\n",
    "|%z|用+/-HHMM表示距离UTC时间的偏差|\n",
    "|%%|%符号本身|"
   ]
  },
  {
   "cell_type": "code",
   "execution_count": 94,
   "metadata": {},
   "outputs": [
    {
     "name": "stdout",
     "output_type": "stream",
     "text": [
      "2020 YEAR 06 MONTH 07 DAY 23:04\n"
     ]
    }
   ],
   "source": [
    "t = time.localtime()\n",
    "ft = time.strftime(\"%Y YEAR %m MONTH %d DAY %H:%M\",t)\n",
    "print(ft)"
   ]
  },
  {
   "cell_type": "markdown",
   "metadata": {},
   "source": [
    "### datetime"
   ]
  },
  {
   "cell_type": "code",
   "execution_count": 122,
   "metadata": {},
   "outputs": [
    {
     "name": "stdout",
     "output_type": "stream",
     "text": [
      "2020 YEAR 06 MONTH 08 DAY 00:22\n"
     ]
    }
   ],
   "source": [
    "import datetime\n",
    "# datetime.date 理想日期型\n",
    "dt = datetime.date(2020,6,6)\n",
    "\n",
    "# datetime.datetime 提供时间和日期\n",
    "dt = datetime.datetime(2020,6,6)\n",
    "dt.today()\n",
    "dt.now()\n",
    "dt.fromtimestamp(time.time())\n",
    "\n",
    "# datetime.timedelta 时间长度\n",
    "t = dt.today()\n",
    "td = datetime.timedelta(hours = 1)\n",
    "ft = (td+t).strftime(\"%Y YEAR %m MONTH %d DAY %H:%M\")\n",
    "print(ft)"
   ]
  },
  {
   "cell_type": "code",
   "execution_count": 128,
   "metadata": {},
   "outputs": [
    {
     "name": "stdout",
     "output_type": "stream",
     "text": [
      "Hello\n",
      "Hello\n",
      "Hello\n",
      "0.000311100000544684\n"
     ]
    }
   ],
   "source": [
    "# timeit 计算运行时长\n",
    "import timeit\n",
    "s = '''\n",
    "def say_hi(world):\n",
    "    print(world)\n",
    "'''    \n",
    "\n",
    "t = timeit.timeit(stmt = \"say_hi(world)\",setup=s+\"world = 'Hello' \",number=3)\n",
    "print(t)"
   ]
  },
  {
   "cell_type": "markdown",
   "metadata": {},
   "source": [
    "# 关于继承\n",
    "- issubclass：是否子类\n",
    "- isinstance：是否实例\n",
    "- hasattr：是否成员\n",
    "- getattr： get attribute\n",
    "- setattr：set attribute\n",
    "- delattr：delete attribute\n",
    "- dir：获取对象成员列表\n",
    "\n",
    "附：Mixin and MRO"
   ]
  },
  {
   "cell_type": "code",
   "execution_count": 19,
   "metadata": {},
   "outputs": [],
   "source": [
    "# 设置某属性时都以大写处理\n",
    "class person():\n",
    "    def fget(self):\n",
    "        return \"my name is :\"+self._name\n",
    "    def fset(self,name):\n",
    "        self._name = name.upper()\n",
    "    def fdel(self):\n",
    "        self._name = \"NoName\"\n",
    "        \n",
    "    name = property(fget, fset, fdel, \"yey, name\")"
   ]
  },
  {
   "cell_type": "code",
   "execution_count": 23,
   "metadata": {},
   "outputs": [
    {
     "name": "stdout",
     "output_type": "stream",
     "text": [
      "my name is :ACH\n",
      "my name is :NoName\n"
     ]
    }
   ],
   "source": [
    "p1= person()\n",
    "p1.name = \"Ach\"\n",
    "print(p1.name)\n",
    "del p1.name\n",
    "print(p1.name)"
   ]
  },
  {
   "cell_type": "markdown",
   "metadata": {},
   "source": [
    "### 类的内置属性\n",
    "\n",
    "- _dict_：显示成员\n",
    "- _doc_：获取文档信息\n",
    "- _name_：获取类名或模块名\n",
    "- _bases_：显示父类\n",
    "\n",
    "### 类的内置方法\n",
    "\n",
    "- 操作类\n",
    "    - _init_：构造函数\n",
    "    - _new_：实例化方法\n",
    "    - _call_：函数调用\n",
    "    - _str_：字符串调用\n",
    "    - _repr_：同上相似\n",
    "- 描述符相关\n",
    "    - _set_\n",
    "    - _get_\n",
    "    - _delete_\n",
    "- 属性操作相关\n",
    "    - _getattr_\n",
    "    - _setattr_"
   ]
  },
  {
   "cell_type": "markdown",
   "metadata": {},
   "source": [
    "### 闭包与装饰器"
   ]
  },
  {
   "cell_type": "code",
   "execution_count": 14,
   "metadata": {},
   "outputs": [
    {
     "name": "stdout",
     "output_type": "stream",
     "text": [
      "My name is Ach\n",
      "My name is NoName\n"
     ]
    }
   ],
   "source": [
    "class person:\n",
    "    \n",
    "    name = \"NoName\"\n",
    "    \n",
    "    def __init__(self,myname):\n",
    "        self.name = myname\n",
    "    \n",
    "    def my_name(self):\n",
    "        print(\"My name is \"+self.name)\n",
    "    \n",
    "    @classmethod\n",
    "    def cls_name(cls):\n",
    "        print(\"My name is \"+cls.name)\n",
    "    \n",
    "    @staticmethod\n",
    "    def say():\n",
    "        print(\"Saying...\")\n",
    "\n",
    "Ach=person(\"Ach\")\n",
    "person.my_name(Ach)\n",
    "person.cls_name()"
   ]
  },
  {
   "cell_type": "code",
   "execution_count": 41,
   "metadata": {},
   "outputs": [
    {
     "name": "stdout",
     "output_type": "stream",
     "text": [
      "Time Sat May 30 20:30:27 2020\n",
      "Hello\n"
     ]
    }
   ],
   "source": [
    "import time\n",
    "\n",
    "def printtime(f):\n",
    "    def wrapper(*args,**kwargs):\n",
    "        print(\"Time\",time.ctime())\n",
    "        return f(*args,**kwargs)\n",
    "    return wrapper\n",
    "\n",
    "@printtime\n",
    "def hello():\n",
    "    print(\"Hello\")\n",
    "    \n",
    "hello()"
   ]
  },
  {
   "cell_type": "markdown",
   "metadata": {},
   "source": [
    "### 抽象类"
   ]
  },
  {
   "cell_type": "code",
   "execution_count": 29,
   "metadata": {},
   "outputs": [
    {
     "name": "stdout",
     "output_type": "stream",
     "text": [
      "What's my name?\n"
     ]
    }
   ],
   "source": [
    "import abc\n",
    "\n",
    "class person(metaclass=abc.ABCMeta):\n",
    "    \n",
    "    @abc.abstractmethod\n",
    "    def say():\n",
    "        pass\n",
    "    \n",
    "def ask_name(self):\n",
    "    print(\"What's my name?\")\n",
    "    \n",
    "A = type(\"Aname\", (object, ), {\"say\":ask_name})\n",
    "\n",
    "a = A()\n",
    "\n",
    "a.say()"
   ]
  },
  {
   "cell_type": "markdown",
   "metadata": {},
   "source": [
    "# 导入包\n",
    "\n",
    "### __all__的使用\n",
    "\n",
    "- 导入时，如果__init__.py中设置了__all__的值，则按照内容导入\n",
    "    - __all__ = {\"mod1\",\"mod2\",...}"
   ]
  },
  {
   "cell_type": "markdown",
   "metadata": {},
   "source": [
    "# 异常处理"
   ]
  },
  {
   "cell_type": "code",
   "execution_count": 30,
   "metadata": {},
   "outputs": [
    {
     "name": "stdout",
     "output_type": "stream",
     "text": [
      "This is test\n",
      "<class 'ValueError'>\n",
      "END\n"
     ]
    }
   ],
   "source": [
    "class REPerror(ValueError):\n",
    "    pass\n",
    "\n",
    "try:\n",
    "    print(\"This is test\")\n",
    "    raise REPerror(ValueError)\n",
    "except ValueError as e:\n",
    "    print(e)\n",
    "except Exception as e:\n",
    "    print(e)\n",
    "finally:\n",
    "    print(\"END\")"
   ]
  },
  {
   "cell_type": "markdown",
   "metadata": {},
   "source": [
    "# map and reduce and filter"
   ]
  },
  {
   "cell_type": "code",
   "execution_count": 32,
   "metadata": {},
   "outputs": [
    {
     "name": "stdout",
     "output_type": "stream",
     "text": [
      "10\n",
      "20\n",
      "30\n"
     ]
    }
   ],
   "source": [
    "def multen(n):\n",
    "    return n*10\n",
    "\n",
    "l = map(multen,[1,2,3])\n",
    "\n",
    "for i in l:\n",
    "    print(i)"
   ]
  },
  {
   "cell_type": "code",
   "execution_count": 35,
   "metadata": {},
   "outputs": [
    {
     "name": "stdout",
     "output_type": "stream",
     "text": [
      "6\n"
     ]
    }
   ],
   "source": [
    "from functools import reduce\n",
    "\n",
    "def myadd(x,y):\n",
    "    return x+y\n",
    "\n",
    "l = reduce(myadd, [1,2,3])\n",
    "print(l)"
   ]
  },
  {
   "cell_type": "code",
   "execution_count": 40,
   "metadata": {},
   "outputs": [
    {
     "name": "stdout",
     "output_type": "stream",
     "text": [
      "[2, 4]\n"
     ]
    }
   ],
   "source": [
    "def iseven(n):\n",
    "    return n%2 == 0\n",
    "\n",
    "l = filter(iseven, [1,2,3,4])\n",
    "print([i for i in l])"
   ]
  },
  {
   "cell_type": "markdown",
   "metadata": {},
   "source": [
    "# 偏函数\n",
    "\n",
    "- 把一个函数中某些值固定，便于下次使用"
   ]
  },
  {
   "cell_type": "code",
   "execution_count": 48,
   "metadata": {},
   "outputs": [
    {
     "data": {
      "text/plain": [
       "291"
      ]
     },
     "execution_count": 48,
     "metadata": {},
     "output_type": "execute_result"
    }
   ],
   "source": [
    "import functools\n",
    "\n",
    "int16 = functools.partial(int, base = 16)\n",
    "\n",
    "int16(\"123\")"
   ]
  },
  {
   "cell_type": "markdown",
   "metadata": {},
   "source": [
    "# zip and enumerate\n",
    "\n",
    "- zip把两个list配对\n",
    "- enumerate与zip相似，对可迭代对象配上索引，构成tuple"
   ]
  },
  {
   "cell_type": "markdown",
   "metadata": {},
   "source": [
    "# collections"
   ]
  },
  {
   "cell_type": "code",
   "execution_count": 50,
   "metadata": {},
   "outputs": [
    {
     "name": "stdout",
     "output_type": "stream",
     "text": [
      "point(x=[1, 2, 3], y=[4, 5, 6])\n"
     ]
    }
   ],
   "source": [
    "import collections\n",
    "\n",
    "point = collections.namedtuple(\"point\",[\"x\",\"y\"])\n",
    "\n",
    "l1 = [1,2,3]\n",
    "l2 = [4,5,6]\n",
    "p = point(l1,l2)\n",
    "\n",
    "print(p)"
   ]
  },
  {
   "cell_type": "code",
   "execution_count": 51,
   "metadata": {},
   "outputs": [],
   "source": [
    "from collections import deque\n",
    "\n",
    "q=deque({\"a\",\"b\",\"c\"})\n",
    "\n",
    "# 运用 q.+TAB 查看相关函数"
   ]
  },
  {
   "cell_type": "code",
   "execution_count": 52,
   "metadata": {},
   "outputs": [
    {
     "name": "stdout",
     "output_type": "stream",
     "text": [
      "1\n",
      "Ach\n"
     ]
    }
   ],
   "source": [
    "from collections import defaultdict\n",
    "\n",
    "func = lambda: \"Ach\"\n",
    "d = defaultdict(func)\n",
    "\n",
    "d[\"one\"] = 1\n",
    "\n",
    "print(d[\"one\"])\n",
    "print(d[\"two\"])"
   ]
  },
  {
   "cell_type": "markdown",
   "metadata": {},
   "source": [
    "# 调试\n",
    "\n",
    "- pdb调试\n",
    "- pycharm 调试"
   ]
  },
  {
   "cell_type": "markdown",
   "metadata": {},
   "source": [
    "# 文件"
   ]
  },
  {
   "cell_type": "code",
   "execution_count": 59,
   "metadata": {},
   "outputs": [
    {
     "name": "stdout",
     "output_type": "stream",
     "text": [
      "lo,world\n"
     ]
    }
   ],
   "source": [
    "# 打开后从第五个字节开始读取，开头为0\n",
    "# 注意每个中文字的占字节数（应该是3）\n",
    "\n",
    "with open(r\"test.txt\",\"r\") as f:\n",
    "    f.seek(3,0)\n",
    "    strChar = f.read()\n",
    "    print(strChar)"
   ]
  },
  {
   "cell_type": "code",
   "execution_count": 60,
   "metadata": {},
   "outputs": [
    {
     "name": "stdout",
     "output_type": "stream",
     "text": [
      "Hel\n",
      "lo,\n",
      "wor\n",
      "ld\n"
     ]
    }
   ],
   "source": [
    "with open(r\"test.txt\",\"r\") as f:\n",
    "    strChar = f.read(3)\n",
    "    while strChar:\n",
    "        print(strChar)\n",
    "        strChar = f.read(3)"
   ]
  },
  {
   "cell_type": "markdown",
   "metadata": {},
   "source": [
    "# pickle\n",
    "\n",
    "- 序列化模块\n",
    "- pickle.dump:序列号\n",
    "- pickle.load:反序列化"
   ]
  },
  {
   "cell_type": "code",
   "execution_count": 63,
   "metadata": {},
   "outputs": [],
   "source": [
    "import pickle\n",
    "\n",
    "age = 19\n",
    "\n",
    "with open(r\"load.txt\",\"wb\") as f:\n",
    "    pickle.dump(age,f)"
   ]
  },
  {
   "cell_type": "markdown",
   "metadata": {},
   "source": [
    "# shelve"
   ]
  },
  {
   "cell_type": "code",
   "execution_count": 64,
   "metadata": {},
   "outputs": [],
   "source": [
    "import shelve\n",
    "\n",
    "shv= shelve.open(r\"shv.db\")\n",
    "\n",
    "shv[\"one\"] = 1\n",
    "shv[\"two\"] = 2\n",
    "shv[\"three\"] = 3\n",
    "\n",
    "shv.close()"
   ]
  },
  {
   "cell_type": "code",
   "execution_count": 65,
   "metadata": {},
   "outputs": [
    {
     "name": "stdout",
     "output_type": "stream",
     "text": [
      "1\n"
     ]
    }
   ],
   "source": [
    "shv = shelve.open(r\"shv.db\")\n",
    "\n",
    "print(shv[\"one\"])"
   ]
  },
  {
   "cell_type": "code",
   "execution_count": 71,
   "metadata": {},
   "outputs": [
    {
     "name": "stdout",
     "output_type": "stream",
     "text": [
      "100\n"
     ]
    }
   ],
   "source": [
    "# 小心读取shv后更改并没有重新赋值到shv上,使用writeback\n",
    "shv= shelve.open(r\"shv.db\", writeback = True)\n",
    "try:\n",
    "    k1 = shv\n",
    "    k1[\"Ach\"] = 100\n",
    "finally:\n",
    "    shv.close()\n",
    "    \n",
    "shv = shelve.open(r\"shv.db\")\n",
    "try:\n",
    "    k1 = shv[\"Ach\"]\n",
    "    print(k1)\n",
    "finally:\n",
    "    shv.close()"
   ]
  },
  {
   "cell_type": "markdown",
   "metadata": {},
   "source": [
    "# log\n",
    "\n",
    "### 四个级别\n",
    "\n",
    "- DEBUG\n",
    "- INFO\n",
    "- WARNING\n",
    "- ERROR\n",
    "- CRITICAL\n",
    "\n",
    "\n",
    "### logging模块\n",
    "\n",
    "- 包含函数\n",
    "\n",
    "    - logging.debug(msg, *args, **kwargs)\n",
    "    - logging....\n",
    "    - logging.log(level, *args, **kwargs)\n",
    "    - logging.basicConfig(**kwargs)：对root logger进行一次性配置\n",
    "    \n",
    "- logging.basicConfig(**kwargs)\n",
    "\n",
    "    - 默认值\n",
    "    \n",
    "        - 输出：sys.stderr\n",
    "        - 级别：WARNING\n",
    "        - 格式：level:log_name:content"
   ]
  },
  {
   "cell_type": "code",
   "execution_count": 72,
   "metadata": {},
   "outputs": [],
   "source": [
    "import logging\n",
    "\n",
    "logging.basicConfig(filename=\"Ach.log\",level=logging.WARNING)\n",
    "\n",
    "logging.warning(\"This is a warning log.\")\n",
    "logging.log(logging.INFO,\"This is a info log.\")#低于level不显示"
   ]
  },
  {
   "cell_type": "markdown",
   "metadata": {},
   "source": [
    "### format参数\n",
    "\n",
    "- %(asctime)s：日志发生时间，通用格式\n",
    "- %(created)f：日志发生时间，时间戳格式(time.time())\n",
    "- %(relativeCreated)d：日志发生时间相对于logging加载时间\n",
    "- %(msecs)d：日志发生时间的毫秒部分\n",
    "- %(levelname)s：日志级别名称\n",
    "- %(levelno)s：日志级别等级\n",
    "- %(name)s：日志器名称，默认root\n",
    "- %(message)s：文本内容\n",
    "- %(pathname)s：日记函数源码路径\n",
    "- %(filename)s：日记函数源码文件\n",
    "- %(module)s：日记函数源码文件不包含后缀\n",
    "- %(lineno)d：日记函数源码所在行数\n",
    "- %(funcName)s：日记函数源码所在函数名\n",
    "- %(process)d：进程ID\n",
    "- %(processName)s：进程名\n",
    "- %(thread)d：线程ID\n",
    "- %(threadName)s：线程名"
   ]
  },
  {
   "cell_type": "markdown",
   "metadata": {},
   "source": [
    "### 处理流程\n",
    "\n",
    "- 四大组件\n",
    "    - 日志器(Logger)：产生一个日志接口\n",
    "    - 处理器(Handler)：发送到相应目的地\n",
    "    - 过滤器(Filter)：更精细控制输出\n",
    "    - 格式器(Formatter)：对输出信息进行格式化\n",
    "\n",
    "- Logger (logger 为 logging 的具体实例）\n",
    "    - Logger.setLevel()：设置最低级别\n",
    "    - Logger.addHandler()：添加处理器\n",
    "    - Logger.addFilter()：添加过滤器\n",
    "    - Logger.debug()：产生日志\n",
    "    - Logger.exception()：产生类似Logger.error的日志\n",
    "    - Logger.log()：产生日志\n",
    "    - logging.getLogger()：获得Logger对象\n",
    "    \n",
    "- Handler\n",
    "    - 内置函数\n",
    "        - setLevel\n",
    "        - setFormat\n",
    "        - addFilter, removeFilter\n",
    "    - 实例化操作\n",
    "        - logging.StreamHandler：将日志发送到stream\n",
    "        - logging.FileHandler：将日志发送到磁盘文件\n",
    "        - logging.handlers.RotatingFileHandler：将日志发送到磁盘文件\n",
    "        - logging.handlers.TimedRotatingFileHandler：将日志发送到磁盘文件\n",
    "        - logging.handlers.HTTPHandler：将日志以GET或POST的方式发送给一个HTTP服务器\n",
    "        - logging.handlers.SMTPHandler：将日志发送给一个指定的email地址\n",
    "        - logging.NullHandler：该实例会忽略error messages\n",
    "        \n",
    "- Format\n",
    "    - fmt：指定文字格式化字符串\n",
    "    - datefmt：指定日期格式化字符串\n",
    "    - style：可将%替换成其他形式\n",
    "    \n",
    "- Filter\n",
    "    - 控制传递过来的信息和内容，可以被Handler和Logger使用"
   ]
  },
  {
   "cell_type": "code",
   "execution_count": 1,
   "metadata": {},
   "outputs": [],
   "source": [
    "import logging\n",
    "import logging.handlers\n",
    "import datetime\n",
    "\n",
    "logger = logging.getLogger(\"mylogger\")\n",
    "logger.setLevel(logging.DEBUG)\n",
    "\n",
    "rf_handler = logging.handlers.TimedRotatingFileHandler(\"all.log\", when=\"midnight\",interval=1, backupCount=7)\n",
    "rf_handler.setFormatter(logging.Formatter(\"%(asctime)s - %(levelname)s - %(message)s\"))\n",
    "\n",
    "f_handler = logging.FileHandler(\"error.log\")\n",
    "f_handler.setLevel(logging.ERROR)\n",
    "f_handler.setFormatter(logging.Formatter(\"%(asctime)s - %(levelname)s - %(filename)s[:%(lineno)d] - %(message)s\"))\n",
    "\n",
    "logger.addHandler(rf_handler)\n",
    "logger.addHandler(f_handler)\n",
    "\n",
    "logger.debug(\"debug message\")\n",
    "logger.error(\"error message\")"
   ]
  },
  {
   "cell_type": "markdown",
   "metadata": {},
   "source": [
    "# 多线程\n",
    "\n",
    "- thread包\n",
    "\n",
    "- treading包\n",
    "\n",
    "    - 直接利用threading.Thread生成实例\n",
    "    - t.start()启动多线程\n",
    "    - t.join()等待多线程执行完成\n",
    "    - 守护线程daemon(在anaconda环境中可能有误)"
   ]
  },
  {
   "cell_type": "code",
   "execution_count": 5,
   "metadata": {},
   "outputs": [],
   "source": [
    "import threading\n",
    "import time\n",
    "\n",
    "def loop1():\n",
    "    time.sleep(1)\n",
    "    print(\"loop1 is end at:\",time.ctime())\n",
    "    \n",
    "def loop2():\n",
    "    time.sleep(3)\n",
    "    print(\"loop2 is end at:\",time.ctime())\n",
    "    \n",
    "def loop3():\n",
    "    time.sleep(6)\n",
    "    print(\"loop3 is end at:\",time.ctime())\n",
    "\n",
    "def main():\n",
    "    print(\"Starting at:\",time.ctime())\n",
    "    t1 = threading.Thread(target = loop1, args = ())\n",
    "    t1.setName(\"THR_1\")\n",
    "    t1.start()\n",
    "    \n",
    "    t2 = threading.Thread(target = loop2, args = ())\n",
    "    t2.setName(\"THR_2\")\n",
    "    t2.start()\n",
    "    \n",
    "    t3 = threading.Thread(target = loop3, args = ())\n",
    "    t3.setName(\"THR_3\")\n",
    "    t3.start()\n",
    "    \n",
    "    time.sleep(2)\n",
    "    \n",
    "    for thr in threading.enumerate():\n",
    "        print(\"正在运行的线程名字是：{}\".format(thr.getName()))"
   ]
  },
  {
   "cell_type": "code",
   "execution_count": 6,
   "metadata": {},
   "outputs": [
    {
     "name": "stdout",
     "output_type": "stream",
     "text": [
      "Starting at: Mon Jun  1 05:46:23 2020\n",
      "loop1 is end at: Mon Jun  1 05:46:24 2020\n",
      "正在运行的线程名字是：MainThread\n",
      "正在运行的线程名字是：Thread-4\n",
      "正在运行的线程名字是：Thread-5\n",
      "正在运行的线程名字是：IPythonHistorySavingThread\n",
      "正在运行的线程名字是：Thread-3\n",
      "正在运行的线程名字是：THR_2\n",
      "正在运行的线程名字是：THR_3\n",
      "loop2 is end at: Mon Jun  1 05:46:26 2020\n",
      "loop3 is end at: Mon Jun  1 05:46:29 2020\n"
     ]
    }
   ],
   "source": [
    "main()"
   ]
  },
  {
   "cell_type": "code",
   "execution_count": 11,
   "metadata": {},
   "outputs": [
    {
     "name": "stdout",
     "output_type": "stream",
     "text": [
      "Main thread is done! \n",
      "The args for this class is 1 \n",
      "The args for this class is 2 \n",
      "The args for this class is 4 \n",
      "The args for this class is 3 \n",
      "The args for this class is 0 \n"
     ]
    }
   ],
   "source": [
    "class mythread(threading.Thread):\n",
    "    def __init__(self,arg):\n",
    "        super(mythread,self).__init__()\n",
    "        self.arg = arg\n",
    "        \n",
    "    def run(self):\n",
    "        time.sleep(2)\n",
    "        print(\"The args for this class is {} \".format(self.arg))\n",
    "        \n",
    "for i in range (5):\n",
    "    t = mythread(i)\n",
    "    t.start()\n",
    "#如果不加join 先输出的是done\n",
    "#    t.join()\n",
    "    \n",
    "print(\"Main thread is done! \")"
   ]
  },
  {
   "cell_type": "code",
   "execution_count": 12,
   "metadata": {},
   "outputs": [
    {
     "name": "stdout",
     "output_type": "stream",
     "text": [
      "Main thread\n",
      "Start fun\n",
      "Main thread end\n",
      "end fun\n"
     ]
    }
   ],
   "source": [
    "def fun():\n",
    "    print(\"Start fun\")\n",
    "    time.sleep(2)\n",
    "    print(\"end fun\")\n",
    "    \n",
    "print(\"Main thread\")\n",
    "\n",
    "t1 = threading.Thread(target = fun, args = ())\n",
    "t1.setDaemon(True)\n",
    "t1.start()\n",
    "\n",
    "time.sleep(1)\n",
    "print(\"Main thread end\")\n",
    "#正常情况没有end fun显示"
   ]
  },
  {
   "cell_type": "code",
   "execution_count": 19,
   "metadata": {},
   "outputs": [],
   "source": [
    "# 整体化格式\n",
    "\n",
    "loop = [4,2]\n",
    "\n",
    "class ThreadFunc:\n",
    "    \n",
    "    def __init__(self, name):\n",
    "        self.name = name\n",
    "        \n",
    "    def loop(self, nloop, nsec):\n",
    "        \n",
    "        '''\n",
    "        nloop: loop函数名称\n",
    "        nsec:系统休眠时间\n",
    "        '''\n",
    "        \n",
    "        print(\"Strat loop\", nloop, \"at\", time.ctime())\n",
    "        time.sleep(nsec)\n",
    "        print(\"Done loop\", nloop, \"at\", time.ctime())\n",
    "\n",
    "def main():\n",
    "    print(\"Starting at: \", time.ctime())\n",
    "\n",
    "    t = ThreadFunc(\"loop\")\n",
    "    t1 = threading.Thread(target = t.loop, args = (\"Loop1\",4))\n",
    "    t2 = threading.Thread(target = ThreadFunc(\"loop\").loop, args = (\"Loop2\",2))\n",
    "    \n",
    "    t1.start()\n",
    "    t2.start()\n",
    "    \n",
    "    t1.join()\n",
    "    t2.join()\n",
    "    \n",
    "    print(\"All done at: \", time.ctime())\n",
    "    "
   ]
  },
  {
   "cell_type": "code",
   "execution_count": 18,
   "metadata": {},
   "outputs": [
    {
     "name": "stdout",
     "output_type": "stream",
     "text": [
      "Starting at:  Mon Jun  1 06:07:06 2020\n",
      "Strat loop Loop1 at Mon Jun  1 06:07:06 2020\n",
      "Strat loop Loop2 at Mon Jun  1 06:07:06 2020\n",
      "Done loop Loop2 at Mon Jun  1 06:07:08 2020\n",
      "Done loop Loop1 at Mon Jun  1 06:07:10 2020\n",
      "All done at:  Mon Jun  1 06:07:10 2020\n"
     ]
    }
   ],
   "source": [
    "main()"
   ]
  },
  {
   "cell_type": "code",
   "execution_count": 4,
   "metadata": {},
   "outputs": [],
   "source": [
    "# 锁的使用\n",
    "\n",
    "sum = 0\n",
    "loopsum = 10\n",
    "lock = threading.Lock()\n",
    "\n",
    "def myAdd():\n",
    "    global sum, loopsum\n",
    "    for i in range(1,loopsum):\n",
    "        lock.acquire()\n",
    "        sum += 1\n",
    "        lock.release()\n",
    "    \n",
    "def myMinu():\n",
    "    global sum, loopsum\n",
    "    for i in range(1,loopsum):\n",
    "        lock.acquire()\n",
    "        sum -= 1\n",
    "        lock.release()\n",
    "        \n",
    "t1 = threading.Thread(target = myAdd, args = ())\n",
    "t2 = threading.Thread(target = myMinu, args = ())\n",
    "\n",
    "t1.start()\n",
    "t2.start()"
   ]
  },
  {
   "cell_type": "markdown",
   "metadata": {},
   "source": [
    "### 解决死锁问题\n",
    "\n",
    "- lock.acquire(timeout = 5)：如果5秒后得不到锁就跳过\n",
    "- semaphore = threading.Semaphore(3)：能同时存在3个\n",
    "- threading.Timer(5, func)：在5s后执行func\n",
    "- mutex = threading.Rlock()：可重置的锁"
   ]
  },
  {
   "cell_type": "markdown",
   "metadata": {},
   "source": [
    "# 多进程"
   ]
  },
  {
   "cell_type": "code",
   "execution_count": 21,
   "metadata": {},
   "outputs": [
    {
     "name": "stdout",
     "output_type": "stream",
     "text": [
      "main line\n",
      "module name: __main__\n",
      "parent pracess: 6224\n",
      "process id: 10784\n"
     ]
    }
   ],
   "source": [
    "from multiprocessing import Process\n",
    "import os\n",
    "\n",
    "def info(title):\n",
    "    print(title)\n",
    "    print(\"module name:\", __name__)\n",
    "    print(\"parent pracess:\", os.getppid())\n",
    "    print(\"process id:\", os.getpid())\n",
    "    \n",
    "def f(name):\n",
    "    info(\"function f\")\n",
    "    print(\"hello \",name)\n",
    "    \n",
    "info(\"main line\")\n",
    "p = Process(target = f, args = (\"bob\", ))\n",
    "p.start()# 不知道为什么没有显示"
   ]
  },
  {
   "cell_type": "code",
   "execution_count": 24,
   "metadata": {},
   "outputs": [
    {
     "name": "stdout",
     "output_type": "stream",
     "text": [
      "Into producer: Wed Jun  3 06:10:31 2020\n",
      "put 1 into q\n",
      "put 2 into q\n",
      "put 3 into q\n",
      "put 4 into q\n",
      "Out of producer: Wed Jun  3 06:10:31 2020\n"
     ]
    }
   ],
   "source": [
    "# 队列例子\n",
    "from time import ctime\n",
    "\n",
    "def consumer(input_q):\n",
    "    print(\"Into consumer:\", ctime())\n",
    "    while True:\n",
    "        item = input_q.get()\n",
    "        if item is None:\n",
    "            break\n",
    "        print(\"pull\", item, \"out of q\")\n",
    "    print(\"Out of consumer:\", ctime())\n",
    "    \n",
    "def producer(sequence, output_q):\n",
    "    print(\"Into producer:\", ctime())\n",
    "    for item in sequence:\n",
    "        output_q.put(item)\n",
    "        print(\"put\", item, \"into q\")\n",
    "    print(\"Out of producer:\", ctime())\n",
    "    \n",
    "q = multiprocessing.Queue()\n",
    "cons_p = multiprocessing.Process(target=consumer, args=(q,))\n",
    "cons_p.start()# 也是没有显示\n",
    "\n",
    "sequence = [1,2,3,4]\n",
    "producer(sequence, q)\n",
    "\n",
    "q.put(None)\n",
    "cons_p.join()"
   ]
  },
  {
   "cell_type": "markdown",
   "metadata": {},
   "source": [
    "# 协程\n",
    "\n",
    "- 包括但不限于asyncio，tornado，gevent\n",
    "- yield，send，next\n",
    "- asyncio\n",
    "    - 仅对单线程并发IO，在客户端用处不大，可与coroutine配合\n",
    "    - 实现了tcp， udp， ssl等协议\n",
    "    - aiohttp给予asyncio实现的http框架\n",
    "- 并行计算（多cpu）\n",
    "- concurrent.futures\n",
    "    - 类似线程库\n",
    "    - 利用multiprocessiong实现真正的并行计算，运行多个解释器"
   ]
  },
  {
   "cell_type": "code",
   "execution_count": 7,
   "metadata": {},
   "outputs": [
    {
     "name": "stdout",
     "output_type": "stream",
     "text": [
      "True\n",
      "False\n",
      "True\n",
      "True\n"
     ]
    },
    {
     "data": {
      "text/plain": [
       "generator"
      ]
     },
     "execution_count": 7,
     "metadata": {},
     "output_type": "execute_result"
    }
   ],
   "source": [
    "# 判断\n",
    "from collections import Iterable,Iterator\n",
    "\n",
    "l1=[x for x in range(3)]\n",
    "l2=(x for x in range(3))\n",
    "\n",
    "print(isinstance(l1,Iterable))\n",
    "print(isinstance(l1,Iterator))\n",
    "print(isinstance(iter(l1),Iterator))\n",
    "\n",
    "print(isinstance(l2,Iterator))\n",
    "type(l2)"
   ]
  },
  {
   "cell_type": "code",
   "execution_count": 11,
   "metadata": {},
   "outputs": [
    {
     "name": "stdout",
     "output_type": "stream",
     "text": [
      "-> start\n",
      "5\n",
      "-> recuved 5 1\n",
      "6\n"
     ]
    }
   ],
   "source": [
    "def simple_coroutine(a):\n",
    "    print(\"-> start\")\n",
    "    \n",
    "    b = yield a\n",
    "    print(\"-> recuved\", a, b)\n",
    "    \n",
    "    c = yield a+b\n",
    "    print(\"-> recuved\", a, b, c)\n",
    "    \n",
    "sc = simple_coroutine(5)\n",
    "\n",
    "print(next(sc))\n",
    "print(sc.send(1))"
   ]
  },
  {
   "cell_type": "code",
   "execution_count": 13,
   "metadata": {},
   "outputs": [
    {
     "name": "stdout",
     "output_type": "stream",
     "text": [
      "['h', 'e', 'l', 'l', 'o']\n",
      "['h', 'e', 'l', 'l', 'o']\n"
     ]
    }
   ],
   "source": [
    "def gen():\n",
    "    for c in \"hello\":\n",
    "        yield c\n",
    "        \n",
    "print(list(gen()))\n",
    "\n",
    "def gen_new():\n",
    "    yield from \"hello\"\n",
    "    \n",
    "print(list(gen_new()))"
   ]
  },
  {
   "cell_type": "code",
   "execution_count": 24,
   "metadata": {},
   "outputs": [
    {
     "name": "stdout",
     "output_type": "stream",
     "text": [
      "{'boys_1': Res(count=7, average=39.57142857142857), 'boys_2': Res(count=7, average=3.4285714285714284)}\n"
     ]
    }
   ],
   "source": [
    "from collections import namedtuple\n",
    "\n",
    "ResClass = namedtuple(\"Res\", \"count average\")\n",
    "\n",
    "def averager():\n",
    "    total = 0.0\n",
    "    count = 0\n",
    "    average = None\n",
    "    \n",
    "    while True:\n",
    "        term = yield\n",
    "        if term is None:\n",
    "            break\n",
    "        total += term\n",
    "        count += 1\n",
    "        average = total/count\n",
    "        \n",
    "    return ResClass(count, average)\n",
    "\n",
    "def grouper(storages, key):\n",
    "    while True:\n",
    "        storages[key] = yield from averager()\n",
    "        \n",
    "def client():\n",
    "    process_data = {\n",
    "        \"boys_1\":[39,40,43,40,38,41,36],\n",
    "        \"boys_2\":[1,5,3,2,3,4,6]\n",
    "    }\n",
    "    \n",
    "    storages = {}\n",
    "    for k, v in process_data.items():\n",
    "        coroutine = grouper(storages,k)\n",
    "        \n",
    "        next(coroutine)\n",
    "        \n",
    "        for dt in v:\n",
    "            coroutine.send(dt)\n",
    "            \n",
    "        coroutine.send(None)\n",
    "    print(storages)\n",
    "    \n",
    "client()"
   ]
  },
  {
   "cell_type": "code",
   "execution_count": 4,
   "metadata": {},
   "outputs": [
    {
     "name": "stdout",
     "output_type": "stream",
     "text": [
      "Hello world! (<_MainThread(MainThread, started 17872)>)\n",
      "Start.....(<_MainThread(MainThread, started 17872)>)\n",
      "Hello world! (<_MainThread(MainThread, started 17872)>)\n",
      "Start.....(<_MainThread(MainThread, started 17872)>)\n",
      "Done......(<_MainThread(MainThread, started 17872)>)\n",
      "Hello again! (<_MainThread(MainThread, started 17872)>)\n",
      "Done......(<_MainThread(MainThread, started 17872)>)\n",
      "Hello again! (<_MainThread(MainThread, started 17872)>)\n"
     ]
    },
    {
     "data": {
      "text/plain": [
       "({<Task finished coro=<hello() done, defined at <ipython-input-4-fe39a66239f5>:8> result=None>,\n",
       "  <Task finished coro=<hello() done, defined at <ipython-input-4-fe39a66239f5>:8> result=None>},\n",
       " set())"
      ]
     },
     "execution_count": 4,
     "metadata": {},
     "output_type": "execute_result"
    }
   ],
   "source": [
    "# 使用协程\n",
    "import nest_asyncio\n",
    "nest_asyncio.apply()#其他环境不加，jupyter Spyder不支持\n",
    "\n",
    "import threading\n",
    "import asyncio\n",
    "\n",
    "@asyncio.coroutine\n",
    "def hello():\n",
    "    print(\"Hello world! (%s)\"% threading.currentThread())\n",
    "    print(\"Start.....(%s)\"% threading.currentThread())\n",
    "    yield from asyncio.sleep(10)# 网络请求或者读写用yield提高速度\n",
    "    print(\"Done......(%s)\"% threading.currentThread())\n",
    "    print(\"Hello again! (%s)\"% threading.currentThread())\n",
    "    \n",
    "# 启动消息循环\n",
    "loop = asyncio.get_event_loop()\n",
    "# 定义任务\n",
    "tasks = [hello(), hello()]\n",
    "# 等待执行完成\n",
    "loop.run_until_complete(asyncio.wait(tasks))\n",
    "# 关闭消息循环\n",
    "#loop.close() 其他环境要加，jupyter Spyder不支持"
   ]
  },
  {
   "cell_type": "code",
   "execution_count": 7,
   "metadata": {},
   "outputs": [
    {
     "name": "stdout",
     "output_type": "stream",
     "text": [
      "Hello world! (<_MainThread(MainThread, started 10300)>)\n",
      "Start.....(<_MainThread(MainThread, started 10300)>)\n",
      "Hello world! (<_MainThread(MainThread, started 10300)>)\n",
      "Start.....(<_MainThread(MainThread, started 10300)>)\n",
      "Done......(<_MainThread(MainThread, started 10300)>)\n",
      "Hello again! (<_MainThread(MainThread, started 10300)>)\n",
      "Done......(<_MainThread(MainThread, started 10300)>)\n",
      "Hello again! (<_MainThread(MainThread, started 10300)>)\n"
     ]
    },
    {
     "data": {
      "text/plain": [
       "({<Task finished coro=<hello() done, defined at <ipython-input-7-1b936f4125b4>:6> result=None>,\n",
       "  <Task finished coro=<hello() done, defined at <ipython-input-7-1b936f4125b4>:6> result=None>},\n",
       " set())"
      ]
     },
     "execution_count": 7,
     "metadata": {},
     "output_type": "execute_result"
    }
   ],
   "source": [
    "import nest_asyncio\n",
    "nest_asyncio.apply()\n",
    "#替换方法\n",
    "import threading\n",
    "import asyncio\n",
    "async def hello():\n",
    "    print(\"Hello world! (%s)\"% threading.currentThread())\n",
    "    print(\"Start.....(%s)\"% threading.currentThread())\n",
    "    await asyncio.sleep(10)\n",
    "    print(\"Done......(%s)\"% threading.currentThread())\n",
    "    print(\"Hello again! (%s)\"% threading.currentThread())\n",
    "    \n",
    "loop = asyncio.get_event_loop()\n",
    "tasks = [hello(), hello()]\n",
    "loop.run_until_complete(asyncio.wait(tasks))"
   ]
  },
  {
   "cell_type": "code",
   "execution_count": 9,
   "metadata": {},
   "outputs": [
    {
     "name": "stdout",
     "output_type": "stream",
     "text": [
      "wegt: www.sina.com.cn...\n",
      "www.sina.com.cn header > HTTP/1.1 302 Moved Temporarily\n",
      "www.sina.com.cn header > Server: nginx\n",
      "www.sina.com.cn header > Date: Fri, 05 Jun 2020 13:55:32 GMT\n",
      "www.sina.com.cn header > Content-Type: text/html\n",
      "www.sina.com.cn header > Content-Length: 138\n",
      "www.sina.com.cn header > Connection: close\n",
      "www.sina.com.cn header > Location: https://www.sina.com.cn/\n",
      "www.sina.com.cn header > X-Via-CDN: f=edge,s=ctc.ningbo.union.80.nb.sinaedge.com,c=113.88.237.35;\n",
      "www.sina.com.cn header > X-Via-Edge: 159136533245723ed5871f0beee733a389e81\n"
     ]
    },
    {
     "data": {
      "text/plain": [
       "({<Task finished coro=<wget() done, defined at <ipython-input-9-1123bc729d75>:3> result=None>},\n",
       " set())"
      ]
     },
     "execution_count": 9,
     "metadata": {},
     "output_type": "execute_result"
    }
   ],
   "source": [
    "import asyncio\n",
    "\n",
    "@asyncio.coroutine\n",
    "def wget(host):\n",
    "    print(\"wegt: %s...\" % host)\n",
    "    connect = asyncio.open_connection(host, 80)\n",
    "    reader, writer = yield from connect\n",
    "    header = \"GET / HTTP/1.0\\r\\nHost: %s\\r\\n\\r\\n\" % host\n",
    "    writer.write(header.encode(\"utf-8\"))\n",
    "    yield from writer.drain()\n",
    "    while True:\n",
    "        line = yield from reader.readline()\n",
    "        if line == b\"\\r\\n\":\n",
    "            break\n",
    "        print(\"%s header > %s\" % (host, line.decode(\"utf-8\").rstrip()))\n",
    "    writer.close()\n",
    "    \n",
    "loop = asyncio.get_event_loop()\n",
    "tasks = [wget(host) for host in [\"www.sina.com.cn\"]]\n",
    "loop.run_until_complete(asyncio.wait(tasks))"
   ]
  },
  {
   "cell_type": "code",
   "execution_count": 1,
   "metadata": {},
   "outputs": [
    {
     "name": "stdout",
     "output_type": "stream",
     "text": [
      "Server started at http://127.0.0.1:8000...\n"
     ]
    },
    {
     "name": "stderr",
     "output_type": "stream",
     "text": [
      "D:\\anaconda3\\lib\\site-packages\\ipykernel_launcher.py:17: DeprecationWarning: loop argument is deprecated\n",
      "D:\\anaconda3\\lib\\site-packages\\ipykernel_launcher.py:20: DeprecationWarning: Application.make_handler(...) is deprecated, use AppRunner API instead\n"
     ]
    },
    {
     "data": {
      "text/plain": [
       "<Server sockets=[<socket.socket fd=512, family=AddressFamily.AF_INET, type=SocketKind.SOCK_STREAM, proto=6, laddr=('127.0.0.1', 8000)>]>"
      ]
     },
     "execution_count": 1,
     "metadata": {},
     "output_type": "execute_result"
    }
   ],
   "source": [
    "import nest_asyncio\n",
    "nest_asyncio.apply()\n",
    "\n",
    "import asyncio\n",
    "from aiohttp import web\n",
    "\n",
    "async def index(request):\n",
    "    await asyncio.sleep(0.5)\n",
    "    return web.Response(body = b\"<h1>Index</h1>\")\n",
    "\n",
    "async def hello(request):\n",
    "    await asyncio.sleep(0.5)\n",
    "    text = \"<h1>hello, %s!</h1>\" % request.match_info[\"name\"]\n",
    "    return web.Response(body = text.encode(\"utf-8\"))\n",
    "\n",
    "async def init(loop):\n",
    "    app = web.Application(loop = loop)\n",
    "    app.router.add_route(\"GET\", \"/\", index)\n",
    "    app.router.add_route(\"GET\", \"/hello/{name}\", hello)\n",
    "    srv = await loop.create_server(app.make_handler(), \"127.0.0.1\",8000)\n",
    "    print(\"Server started at http://127.0.0.1:8000...\")\n",
    "    return srv\n",
    "\n",
    "loop = asyncio.get_event_loop()\n",
    "loop.run_until_complete(init(loop))"
   ]
  },
  {
   "cell_type": "code",
   "execution_count": 2,
   "metadata": {},
   "outputs": [
    {
     "name": "stdout",
     "output_type": "stream",
     "text": [
      "False\n",
      "False\n",
      "True\n",
      "True\n",
      "hello\n",
      "world\n"
     ]
    }
   ],
   "source": [
    "from concurrent.futures import ThreadPoolExecutor\n",
    "import time\n",
    "\n",
    "def return_future(msg):\n",
    "    time.sleep(3)\n",
    "    return msg\n",
    "\n",
    "pool = ThreadPoolExecutor(max_workers=2)#2核cpu\n",
    "\n",
    "f1 = pool.submit(return_future, \"hello\")\n",
    "f2 = pool.submit(return_future, \"world\")\n",
    "\n",
    "print(f1.done())\n",
    "print(f2.done())\n",
    "time.sleep(3)\n",
    "print(f1.done())\n",
    "print(f2.done())\n",
    "\n",
    "print(f1.result())\n",
    "print(f2.result())"
   ]
  },
  {
   "cell_type": "code",
   "execution_count": 4,
   "metadata": {},
   "outputs": [
    {
     "name": "stdout",
     "output_type": "stream",
     "text": [
      "1\n",
      "2\n",
      "ok\n",
      "ok\n"
     ]
    }
   ],
   "source": [
    "data = [\"1\",\"2\"]\n",
    "\n",
    "def wait_on(arg):\n",
    "    print(arg)\n",
    "    time.sleep(2)\n",
    "    return \"ok\"\n",
    "\n",
    "ex = ThreadPoolExecutor(max_workers=2)\n",
    "for i in ex.map(wait_on, data):\n",
    "    print(i)"
   ]
  },
  {
   "cell_type": "markdown",
   "metadata": {},
   "source": [
    "# HTTP\n",
    "- html-页面\n",
    "- css-排版\n",
    "- js-功能"
   ]
  },
  {
   "cell_type": "markdown",
   "metadata": {},
   "source": [
    "# XML\n",
    "\n",
    "- 处理指令\n",
    "    - 最多只有一行\n",
    "    - 只出现在第一行\n",
    "    - 与xml本身处理相关的一些指令(一般用于声明版本和采用的格式)\n",
    "    - <?xml version=\"版本\" (encoding=“utf-8/采用格式”) ?>  (括号内可省略)\n",
    "- 根元素\n",
    "    - 最外面的一个标签\n",
    "    - 类似一棵树的结构\n",
    "- 子元素\n",
    "    - 根元素下面所有元素\n",
    "- 属性\n",
    "    - 可以自定义\n",
    "    - 在每个开头的标签里面的结尾写 例子：<标签名字 type=\"online\" loc=\"beijing\">\n",
    "- 内容\n",
    "    - 开头标签和结尾标签之间\n",
    "- 注释\n",
    "    - 与标签分开\n",
    "    - 格式 <!- - 内容 - -> or <!- - - 内容 - ->\n",
    "    - 当内容中有双短时不允许\n",
    "    \n",
    "- xml中的某些符号可能会和内容冲突\n",
    "    - 使用实体引用（EntityReference）\n",
    "    - 保留字符的部分放在CDATA内部\n",
    "          <![CDATA[\n",
    "          select name,age\n",
    "          from Studengt\n",
    "          where score>80]]>\n",
    "      类似于r\"一段有特殊符号的字符串\"\n",
    "    - 常用实体引用\n",
    "        - &：&amp；\n",
    "        - <：&lt；\n",
    "        - \\>：&gt；\n",
    "        - '：&apos；\n",
    "        - \"：&quot；\n",
    "- 标签命名用Pascal命名法\n",
    "    - 单词表示\n",
    "    - 第一个字母大写\n",
    "    - 配对的标签必须一致\n",
    "- 为了避免冲突，添加命名空间\n",
    "    -xmlns：xml name space 的缩写\n",
    "        <Schooler xmlns:student=\"http://my_student\" xmlns:room=\"http://my_room\">\n",
    "        <student:Name>LiuYing</student:Name>\n",
    "        <room:Name>2020</room:Name>\n",
    "        </Schooler>"
   ]
  },
  {
   "cell_type": "markdown",
   "metadata": {},
   "source": [
    "- xml读取\n",
    "    - SAX(Simple API for XML):\n",
    "        - 基于事件驱动(包涵解析器和事件处理两部分)\n",
    "        - 快\n",
    "    - DOM\n",
    "        - w3c规定的接口\n",
    "        - 以树形结构保存读取\n",
    "        - minidom（xml.dom.minidom）\n",
    "            - minidom.parse(filename):加载\n",
    "            - doc.documentElement:获取对象\n",
    "            - node.getAttribute(attr_name):得到某节点属性的集合node\n",
    "            - node.getElementTagName(tage_name):得到某tag的集合node\n",
    "            - node.childNodes:得到所有子孩子\n",
    "            - node.childNodes[index].nodeValue：得到某个孩子的值\n",
    "            - node.firstNode:得到第一个子孩子\n",
    "            - node.attributes[tage_name]:得到所有属性中特定tag的集合\n",
    "        - etree（比较常用）\n",
    "            - root.getiterator:得到可迭代的root集合\n",
    "            - root.iter\n",
    "            - root.find(node_name):查找\n",
    "            - root.findall(node_name):查找所有\n",
    "            - node.tag:得到对应tag\n",
    "            - node.text:得到值\n",
    "            - node.attrib:node的属性的字典型的内容"
   ]
  },
  {
   "cell_type": "code",
   "execution_count": null,
   "metadata": {},
   "outputs": [],
   "source": [
    "import xml.dom.minidom\n",
    "from xml.dom.minidom import parse\n",
    "\n",
    "DOMTree = parse(\"fileName.xml\")\n",
    "doc = DOMTree.documentElement\n",
    "\n",
    "import xml.etree.ElementTree\n",
    "\n",
    "root = xml.etree.ElementTree.parse(\"fileName.xml\")\n",
    "nodes = root.getiterator()\n",
    "ele_teacher = root.find(\"Teacher\")"
   ]
  },
  {
   "cell_type": "markdown",
   "metadata": {},
   "source": [
    "- xml写入\n",
    "    - 更改\n",
    "        - ele.set:修改属性\n",
    "        - ele.append:添加子元素\n",
    "        - ele.remove:删除元素\n",
    "        - tree.write(\"fileName.xml\")\n",
    "            \n",
    "    - 生成创建\n",
    "        - SubElement\n",
    "        - minidom\n",
    "        - etree"
   ]
  },
  {
   "cell_type": "code",
   "execution_count": 8,
   "metadata": {},
   "outputs": [
    {
     "name": "stdout",
     "output_type": "stream",
     "text": [
      "<Student><Name a=\"b\">我加的</Name></Student>\n"
     ]
    }
   ],
   "source": [
    "import xml.etree.ElementTree\n",
    "\n",
    "stu = xml.etree.ElementTree.Element(\"Student\")\n",
    "name = xml.etree.ElementTree.SubElement(stu,\"Name\")\n",
    "name.attrib = {\"a\":\"b\"}\n",
    "name.text = \"我加的\"\n",
    "xml.etree.ElementTree.dump(stu)"
   ]
  },
  {
   "cell_type": "code",
   "execution_count": 6,
   "metadata": {},
   "outputs": [],
   "source": [
    "import xml.dom.minidom\n",
    "\n",
    "doc = xml.dom.minidom.Document()\n",
    "root = doc.createElement(\"Student\")\n",
    "root.setAttribute(\"company\",\"xx科技\")\n",
    "doc.appendChild(root)\n",
    "fp = open(\"Manager.xml\",\"w\")\n",
    "doc.writexml(fp, indent=\"\\t\", addindent=\"\\t\", newl=\"\\n\", encoding=\"utf-8\")"
   ]
  },
  {
   "cell_type": "code",
   "execution_count": 9,
   "metadata": {},
   "outputs": [],
   "source": [
    "import xml.etree.ElementTree\n",
    "\n",
    "etree = xml.etree.ElementTree.ElementTree()\n",
    "stu = xml.etree.ElementTree.Element(\"Student\")\n",
    "etree._setroot(stu)\n",
    "name = xml.etree.ElementTree.SubElement(stu,\"Name\")\n",
    "name.attrib = {\"a\":\"b\"}\n",
    "name.text = \"我加的\"\n",
    "etree.write(\"Manager.xml\")"
   ]
  },
  {
   "cell_type": "markdown",
   "metadata": {},
   "source": [
    "# Json\n",
    "\n",
    "- python for json\n",
    "    - 转换\n",
    "        - json.dumps():编码\n",
    "        - json.loads():解码\n",
    "    - 读取\n",
    "        - json.dump():写入文件\n",
    "        - json.load():读入python\n",
    "    "
   ]
  },
  {
   "cell_type": "markdown",
   "metadata": {},
   "source": [
    "# 正则表达式re\n",
    "\n",
    "- .:任意字符，除了\\n\n",
    "- []:括号中任意字符\n",
    "- \\d:任意数字\n",
    "- \\D:除了数字\n",
    "- \\s:空格tab键\n",
    "- \\S:除了空格\n",
    "- \\w:任意单词字符，a-zA-Z0-9\n",
    "- \\W:除了单词字符\n",
    "- *:前面内容重复0或多次\n",
    "- +:前面内容至少一次\n",
    "- ?:前面内容0或一次\n",
    "- {m,n}:最少n次最多m次\n",
    "- ^:字符串开始\n",
    "- $:字符串结尾\n",
    "- \\b:字符串边界\n",
    "- ():对内容进行分组\n",
    "- \\A:仅匹配开头\n",
    "- \\Z:仅匹配结尾\n",
    "- |:左或者右\n",
    "- (?p<nama>...):分组并命名\n",
    "- (?p=name):引用分组"
   ]
  },
  {
   "cell_type": "markdown",
   "metadata": {},
   "source": [
    "### 大致步骤\n",
    "\n",
    "- compolie将正则编译成pattern对象\n",
    "- pattern对文本匹配一个search/match对象\n",
    "- search/match提供属性和方法获得信息\n",
    "\n",
    "- 常用函数\n",
    "    - group（获得一个或者多个分组匹配的字符串）\n",
    "    - start:开始位置\n",
    "    - end:结束位置\n",
    "    - span:范围\n",
    "    - findall:查找所有\n",
    "    - finditer:查找返回一个iter    \n",
    "    - sub:替换"
   ]
  },
  {
   "cell_type": "code",
   "execution_count": 44,
   "metadata": {},
   "outputs": [
    {
     "name": "stdout",
     "output_type": "stream",
     "text": [
      "<_sre.SRE_Match object; span=(3, 5), match='12'>\n",
      "['12', '334456', '78']\n",
      "<callable_iterator object at 0x0000020B951BF1D0>\n"
     ]
    }
   ],
   "source": [
    "import re\n",
    "\n",
    "p = re.compile(r\"\\d+\")\n",
    "\n",
    "#match只匹配开头\n",
    "m = p.search(\"one12towthree334456four78\")\n",
    "#m = p.match(\"one12towthree334456four78\",3,26)\n",
    "a = p.findall(\"one12towthree334456four78\")\n",
    "i = p.finditer(\"one12towthree334456four78\")\n",
    "               \n",
    "print(m)\n",
    "print(a)\n",
    "print(i)"
   ]
  },
  {
   "cell_type": "code",
   "execution_count": 45,
   "metadata": {},
   "outputs": [
    {
     "name": "stdout",
     "output_type": "stream",
     "text": [
      "12\n",
      "3\n",
      "5\n",
      "<_sre.SRE_Match object; span=(3, 5), match='12'>\n",
      "<_sre.SRE_Match object; span=(13, 19), match='334456'>\n",
      "<_sre.SRE_Match object; span=(23, 25), match='78'>\n"
     ]
    }
   ],
   "source": [
    "print(m[0])\n",
    "print(m.start(0))\n",
    "print(m.end(0))\n",
    "\n",
    "for num in i:\n",
    "    print(num)"
   ]
  },
  {
   "cell_type": "code",
   "execution_count": 68,
   "metadata": {},
   "outputs": [
    {
     "name": "stdout",
     "output_type": "stream",
     "text": [
      "<_sre.SRE_Match object; span=(21, 29), match='love you'>\n",
      "I am hello world really 359 love you\n"
     ]
    }
   ],
   "source": [
    "import re\n",
    "\n",
    "p = re.compile(r\"([a-z]+) ([a-z]+)$\",re.I)\n",
    "n = re.compile(r\"(\\d+) (\\d+)\")\n",
    "\n",
    "m = p.search(\"I am 12 2 really 359 love you\")\n",
    "rst = n.sub(r\"hello world\",\"I am 12 2 really 359 love you\")\n",
    "               \n",
    "print(m)\n",
    "print(rst)"
   ]
  },
  {
   "cell_type": "code",
   "execution_count": 42,
   "metadata": {},
   "outputs": [
    {
     "name": "stdout",
     "output_type": "stream",
     "text": [
      "love you\n",
      "13\n",
      "21\n"
     ]
    }
   ],
   "source": [
    "print(m[0])\n",
    "print(m.start(0))\n",
    "print(m.end(0))"
   ]
  },
  {
   "cell_type": "markdown",
   "metadata": {},
   "source": [
    "### 匹配中文 [\\u4e00-\\u9fa5]"
   ]
  },
  {
   "cell_type": "code",
   "execution_count": 73,
   "metadata": {},
   "outputs": [
    {
     "name": "stdout",
     "output_type": "stream",
     "text": [
      "['你好', '世界']\n"
     ]
    }
   ],
   "source": [
    "import re\n",
    "\n",
    "p = re.compile(r\"[\\u4e00-\\u9fa5]+\")\n",
    "\n",
    "m = p.findall(u\"你好 世界,love you\")\n",
    "               \n",
    "print(m)"
   ]
  },
  {
   "cell_type": "markdown",
   "metadata": {},
   "source": [
    "### （非）贪婪匹配\n",
    "\n",
    "- 贪婪:尽可能多的匹配,(*)\n",
    "- 非贪婪:最小内容(?)\n",
    "- 正则默认贪婪"
   ]
  },
  {
   "cell_type": "code",
   "execution_count": 77,
   "metadata": {},
   "outputs": [
    {
     "name": "stdout",
     "output_type": "stream",
     "text": [
      "<_sre.SRE_Match object; span=(0, 43), match='<div>name</div><div>age</div><div>gen</div>'>\n",
      "<_sre.SRE_Match object; span=(0, 15), match='<div>name</div>'>\n"
     ]
    }
   ],
   "source": [
    "p1 = re.compile(r\"<div>.*</div>\")\n",
    "p2 = re.compile(r\"<div>.*?</div>\")\n",
    "\n",
    "title = u\"<div>name</div><div>age</div><div>gen</div>\"\n",
    "\n",
    "m1 = p1.search(title)\n",
    "print(m1)\n",
    "\n",
    "m2 = p2.search(title)\n",
    "print(m2)"
   ]
  },
  {
   "cell_type": "markdown",
   "metadata": {},
   "source": [
    "### xPath\n",
    "\n",
    "- 选取节点\n",
    "    - nodename:选取所有子节点\n",
    "    - /:从根节点开始读取\n",
    "    - //:不考虑位置选取\n",
    "    - .:选取当前节点\n",
    "    - ..:选取父级节点\n",
    "    - @:选取属性\n",
    "- predicates\n",
    "    - /School/Student[1]:选第一个\n",
    "    - /School/Student[last()]:选最后一个\n",
    "    - /School/Student[last()-1]:选倒数第二个\n",
    "    - /School/Student[position()<3]:选前两个\n",
    "    - //School[@score]:选带有score属性的\n",
    "    - //School[@score=\"99]:选分是99的\n",
    "    - //School[@score]/Age:选带有score属性的子节点Age\n",
    "- 通配符\n",
    "    - ‘*’:任何元素节点\n",
    "    - @*:匹配任何属性节点\n",
    "    - node():匹配任何类型节点\n",
    "- 多个路径\n",
    "    - //book/title | //book/author"
   ]
  },
  {
   "cell_type": "markdown",
   "metadata": {},
   "source": [
    "# 报文"
   ]
  },
  {
   "cell_type": "markdown",
   "metadata": {},
   "source": [
    "### 请求报文\n",
    "\n",
    "方法 URL 版本\n",
    "\n",
    "首部字段名: 值\n",
    "\n",
    "...\n",
    "...\n",
    "...\n",
    "\n",
    "实体主体\n",
    "\n",
    "### 响应报文\n",
    "\n",
    "版本 状态码 短语\n",
    "\n",
    "首部字段名: 值\n",
    "\n",
    "...\n",
    "...\n",
    "...\n",
    "\n",
    "实体主体"
   ]
  },
  {
   "cell_type": "markdown",
   "metadata": {},
   "source": [
    "### 请求报头中的方法\n",
    "\n",
    "- GET: 读取一个web页面\n",
    "\n",
    "- POST: 附加一个命名资源\n",
    "\n",
    "- DELETE: 删除web页面\n",
    "\n",
    "- CONNECT: 代理服务器"
   ]
  },
  {
   "cell_type": "markdown",
   "metadata": {},
   "source": [
    "### 响应报文中的状态码\n",
    "\n",
    "\n",
    "|状态码|含义|例子|\n",
    "|---|---|---|\n",
    "|1xx|通知信息|100=服务器正在处理客户请求|\n",
    "|2xx|成功|200=请求成功|\n",
    "|3xx|重定向|301=页面改变了位置|\n",
    "|4xx|客户错误|403=禁止的页面；404=页面未找到|\n",
    "|5xx|服务器错误|500=服务器内部错误；503=以后再试|\n",
    "\n",
    "- 具体各状态码含义，请参考W3C的HTTP1.1标准规范RFC2616\n",
    "- [http://www.w3.org/Protocols/rfc2616/rfc2616.html]"
   ]
  },
  {
   "cell_type": "markdown",
   "metadata": {},
   "source": [
    "### 首部字段\n",
    "\n",
    "|头|类型|说明|\n",
    "|---|---|---|\n",
    "|User-Agent|请求|关于浏览器和其他平台信息|\n",
    "|Accept|请求|客户能处理页面的类型|\n",
    "|Accept-Charset|请求|客户可以接受的字符集|\n",
    "|Accept-Encoding|请求|客户能处理的页面编码方式|\n",
    "|Accept-Language|请求|客户能处理的自然语言|\n",
    "|Host|请求|服务器的DNS名称，从URL中提取，必须|\n",
    "|Cookie|请求|将以前设置的cookie送回服务器|\n",
    "|Date|双向|消息被发送的日期和时间|\n",
    "|Server|响应|关务服务器的信息|\n",
    "|Content-Encoding|响应|内容是如何被编码的|\n",
    "|Content-Language|响应|页面所使用的自然语言|\n",
    "|Content-Length|响应|以字节计算的页面长度|\n",
    "|Content-Type|响应|页面的MIME类型|\n",
    "|Last-Modified|响应|页面最后被修改的时间和日期,页面缓存机制|\n",
    "|Location|响应|指示客户将请求发送给别处，重新定向另一个URL|\n",
    "|Set-Cookie|响应|服务器希望客户保存一个Cookie|"
   ]
  },
  {
   "cell_type": "code",
   "execution_count": null,
   "metadata": {},
   "outputs": [],
   "source": []
  }
 ],
 "metadata": {
  "kernelspec": {
   "display_name": "Python 3",
   "language": "python",
   "name": "python3"
  },
  "language_info": {
   "codemirror_mode": {
    "name": "ipython",
    "version": 3
   },
   "file_extension": ".py",
   "mimetype": "text/x-python",
   "name": "python",
   "nbconvert_exporter": "python",
   "pygments_lexer": "ipython3",
   "version": "3.6.5"
  }
 },
 "nbformat": 4,
 "nbformat_minor": 2
}
