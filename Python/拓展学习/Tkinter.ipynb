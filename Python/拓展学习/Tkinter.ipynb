{
 "cells": [
  {
   "cell_type": "markdown",
   "metadata": {},
   "source": [
    "# GUI\n",
    "\n",
    "- GraphicalUserInterface\n",
    "- GUI for python: Tkinter, wxPython, PyQt\n",
    "- Tkinter:\n",
    "    - 绑定TK GUI工具集，用途Python包装的Tcl代码（古早）\n",
    "- PyGTK\n",
    "    - Tkinter的代替品，跨平台有问题\n",
    "- wxPython\n",
    "    - 跨平台的Python GUI\n",
    "- PyQt\n",
    "    - 跨平台，授权问题\n",
    "    \n",
    "- 推荐资料\n",
    "    - 辛星GUI， 辛星Python\n",
    "    - Phthon GUI Programming cookbook\n",
    "    - Tkinter reference a GUI for Python"
   ]
  },
  {
   "cell_type": "markdown",
   "metadata": {},
   "source": [
    "### Tkinter 常用组件\n",
    "- 按钮\n",
    "    - Button 按钮组件\n",
    "    - RadioButton 单选框组件\n",
    "    - CheckButton 选择按钮组件\n",
    "    - Listbox 列表框组件\n",
    "- 文本输入组件\n",
    "    - Entry 单行文本框组件\n",
    "    - Text 多行文本框组件\n",
    "- 标签组件\n",
    "    - Label 标签组件，可以显示图片和文字\n",
    "    - Message 标签组件，可以根据内容将文字换行\n",
    "- 菜单\n",
    "    - Menu 菜单组件\n",
    "    - MenuButton 菜单按钮组件，可以使用Menu代替\n",
    "- 滚动条\n",
    "    - Scale 滑块组件\n",
    "    - Scrollbar 滑动条组件\n",
    "- 其他组件\n",
    "    - Canvas 画布组件\n",
    "    - Frame 框架组件，将多个组件编组\n",
    "    - Toplevel 创建子窗口容器组件"
   ]
  },
  {
   "cell_type": "markdown",
   "metadata": {},
   "source": [
    "### 基本框架"
   ]
  },
  {
   "cell_type": "code",
   "execution_count": 1,
   "metadata": {},
   "outputs": [],
   "source": [
    "import tkinter\n",
    "\n",
    "tkinter._test()"
   ]
  },
  {
   "cell_type": "code",
   "execution_count": 4,
   "metadata": {},
   "outputs": [],
   "source": [
    "base = tkinter.Tk()\n",
    "# 负责标题\n",
    "base.wm_title(\"Label Test\")\n",
    "lb = tkinter.Label(base, text=\"Python Label\")\n",
    "lb.pack()\n",
    "\n",
    "base.mainloop()"
   ]
  },
  {
   "cell_type": "markdown",
   "metadata": {},
   "source": [
    "### 加入命令"
   ]
  },
  {
   "cell_type": "code",
   "execution_count": 3,
   "metadata": {},
   "outputs": [],
   "source": [
    "def showlabel():\n",
    "    global baseFrame\n",
    "    lb = tkinter.Button(baseFrame, text=\"show Label\",command=showlabel)\n",
    "    lb.pack()\n",
    "\n",
    "baseFrame = tkinter.Tk()\n",
    "bt = tkinter.Button(baseFrame, text=\"Show Lbael\", command= showlabel)\n",
    "bt.pack()\n",
    "\n",
    "baseFrame.mainloop()"
   ]
  },
  {
   "cell_type": "markdown",
   "metadata": {},
   "source": [
    "### Button的属性:\n",
    "- anchor:设置按钮中文字的对其方式\n",
    "- background:设置按钮的背景颜色\n",
    "- foreground:设置按钮的前景色\n",
    "- borderwidth:设置按钮边框宽度\n",
    "- cursor:设置鼠标在按钮上的样式\n",
    "- command:设定触发函数\n",
    "- bitmap:设置按钮上显示位图\n",
    "- font:设置按钮上文本的字体\n",
    "- width:设置按钮的宽度\n",
    "- height:设置按钮的高度\n",
    "- state:设置按钮的状态\n",
    "- text:设置按钮上的文字\n",
    "- image:设置按钮上的图片"
   ]
  },
  {
   "cell_type": "markdown",
   "metadata": {},
   "source": [
    "### 组件布局\n",
    "- 控制组件的摆放方式\n",
    "- 三种布局:\n",
    "    - pack:按照方位布局\n",
    "    - grid:网格布局\n",
    "    - place:按照坐标布局\n",
    "- pack布局\n",
    "    - 最简单，代码量最少，挨个摆放，默认从上到下，系统自动\n",
    "    - 通用设定方式为:组件对象.pack(设置，)\n",
    "    - side:停靠方位，可选值为LEFT,TOP,RIGHT,BOTTON\n",
    "    - fill:填充方式，X,Y,BOTH,NONE\n",
    "    - expande:YES/NO\n",
    "    - anchor: N,E,S,W,CENTER\n",
    "    - ipadx:x方向的内边距\n",
    "    - ipady:y方向...\n",
    "    - padx:x方向外边界\n",
    "    - pady:y方向...\n",
    "- grid布局\n",
    "    - 通用使用的方式:组件对象grid(设置，)\n",
    "    - 利用row,column编号，都是从0开始\n",
    "    - sticky: N,E,S,W决定从哪个方向开始\n",
    "    - 支持ipadx，padx等参数\n",
    "    - 支持rowspan，column，表示跨行数量\n",
    "- place布局\n",
    "    - 明确方位的摆放\n",
    "    - 相对位置布局，随意改变窗口大小会导致混乱\n",
    "    - 使用place函数，分布为绝对布局和相对布局，绝对布局使用x，y参数\n",
    "    - 相对布局使用relx，rely，relheight，relwidth"
   ]
  },
  {
   "cell_type": "code",
   "execution_count": 25,
   "metadata": {},
   "outputs": [],
   "source": [
    "baseFrame = tkinter.Tk()\n",
    "\n",
    "bt0 = tkinter.Button(baseFrame,text=\"A\")\n",
    "bt0.pack(side=tkinter.LEFT,expand=tkinter.YES,fill=tkinter.Y)\n",
    "\n",
    "bt1 = tkinter.Button(baseFrame,text=\"A2\")\n",
    "bt1.pack(side=tkinter.LEFT,expand=tkinter.YES,fill=tkinter.Y)\n",
    "\n",
    "bt2 = tkinter.Button(baseFrame,text=\"B\")\n",
    "bt2.pack(side=tkinter.TOP,expand=tkinter.NO,fill=tkinter.BOTH)\n",
    "\n",
    "bt3 = tkinter.Button(baseFrame,text=\"C\")\n",
    "bt3.pack(side=tkinter.RIGHT,expand=tkinter.YES,fill=tkinter.NONE,anchor=tkinter.E)\n",
    "\n",
    "bt4 = tkinter.Button(baseFrame,text=\"D\")\n",
    "bt4.pack(side=tkinter.LEFT,expand=tkinter.NO,fill=tkinter.Y)\n",
    "\n",
    "bt5 = tkinter.Button(baseFrame,text=\"E\")\n",
    "bt5.pack(side=tkinter.TOP,expand=tkinter.NO,fill=tkinter.BOTH)\n",
    "\n",
    "bt6 = tkinter.Button(baseFrame,text=\"F\")\n",
    "bt6.pack(side=tkinter.BOTTOM,expand=tkinter.YES)\n",
    "\n",
    "bt7 = tkinter.Button(baseFrame,text=\"G\")\n",
    "bt7.pack()\n",
    "\n",
    "baseFrame.mainloop()"
   ]
  },
  {
   "cell_type": "code",
   "execution_count": 34,
   "metadata": {},
   "outputs": [],
   "source": [
    "baseFrame = tkinter.Tk()\n",
    "\n",
    "lb1 = tkinter.Label(baseFrame,text=\"账号:\").grid(row=0,sticky= tkinter.W)\n",
    "tkinter.Entry(baseFrame).grid(row=0,column=1,sticky=tkinter.E)\n",
    "\n",
    "lb1 = tkinter.Label(baseFrame,text=\"密码:\").grid(row=1,sticky= tkinter.W)\n",
    "tkinter.Entry(baseFrame).grid(row=1,column=1,sticky=tkinter.E)\n",
    "\n",
    "bt = tkinter.Button(baseFrame,text=\"登录\").grid(row=2,column=1,sticky= tkinter.E)\n",
    "\n",
    "baseFrame.mainloop()"
   ]
  },
  {
   "cell_type": "markdown",
   "metadata": {},
   "source": [
    "### 消息机制\n",
    "- 消息的传递机制\n",
    "    - 自动发出事件、消息\n",
    "    - 消息有系统负责发送到队列\n",
    "    - 有相关组件进行绑定、设置\n",
    "    - 后端自动选择感兴趣的事件并作出相应反应\n",
    "- 消息格式:\n",
    "    - <[modifier-]-type-[-detail]>\n",
    "    - &lt; Button-1 &gt; :Button表示一个按钮事件，1代表鼠标左键，2代表中键\n",
    "    - &lt; KeyPress-A &gt; :键盘A位\n",
    "    - &lt; Control-shoft-KeyPress-A &gt; :同时按下Control，shift，A三个键位\n",
    "    - &lt; F1 &gt; :F1键盘\n",
    "    - [键位对应名称](https://infohost.nmt.edu/tcc/help/pubs/tkinter/web/key-names.html)"
   ]
  },
  {
   "cell_type": "code",
   "execution_count": 39,
   "metadata": {},
   "outputs": [],
   "source": [
    "def baseLabel(event):\n",
    "    global baseFrame\n",
    "    lb = tkinter.Label(baseFrame,text=\"Thank for the click\")\n",
    "    lb.pack()\n",
    "\n",
    "baseFrame = tkinter.Tk()\n",
    "\n",
    "lb = tkinter.Button(baseFrame,text=\"Test Button\")\n",
    "lb.bind(\"<Button-1>\",baseLabel)\n",
    "lb.pack()\n",
    "\n",
    "baseFrame.mainloop()"
   ]
  },
  {
   "cell_type": "markdown",
   "metadata": {},
   "source": [
    "### Tkinter的绑定\n",
    "- bind_all:全局范围的绑定，默认是全局快捷键，比如F1是帮助文档\n",
    "- bind_class:接受三个参数，第一个是类名，第二个是事件，第三个是操作\n",
    "    - w.bind_class(\"Entry\",&lt; Control-V &gt;, my_paste)\n",
    "- bind:单独对某一个实例绑定\n",
    "- unbind:解绑，需要一个参数\n",
    "    \n",
    "### Entry\n",
    "- 输入框，功能单一\n",
    "- entry[\"show\"] = \"*\",设置遮挡字符"
   ]
  },
  {
   "cell_type": "code",
   "execution_count": 54,
   "metadata": {},
   "outputs": [],
   "source": [
    "def reg():\n",
    "    name = e1.get()\n",
    "    pwd = e2.get()\n",
    "    \n",
    "    t1 = len(name)\n",
    "    t2 = len(pwd)\n",
    "    \n",
    "    if name ==\"Ach\" and pwd ==\"000\":\n",
    "        lb3[\"text\"] = \"登录成功\"\n",
    "    else:\n",
    "        lb3[\"text\"] = \"用户名或密码错误\"\n",
    "        e1.delete(0,t1)\n",
    "        e2.delete(0,t2)\n",
    "\n",
    "baseFrame = tkinter.Tk()\n",
    "\n",
    "lb1 = tkinter.Label(baseFrame,text=\"用户:\").grid(row=0,sticky= tkinter.W)\n",
    "e1 = tkinter.Entry(baseFrame)\n",
    "e1.grid(row=0,column=1,sticky=tkinter.E)\n",
    "\n",
    "lb1 = tkinter.Label(baseFrame,text=\"密码:\").grid(row=1,sticky= tkinter.W)\n",
    "e2 = tkinter.Entry(baseFrame)\n",
    "e2.grid(row=1,column=1,sticky=tkinter.E)\n",
    "e2[\"show\"] = \"❤\"\n",
    "\n",
    "bt = tkinter.Button(baseFrame,text=\"登录\", command=reg).grid(row=2,column=1,sticky= tkinter.E)\n",
    "\n",
    "lb3 = tkinter.Label(baseFrame,text=\"\")\n",
    "lb3.grid(row=3,column=1,sticky= tkinter.E)\n",
    "\n",
    "baseFrame.mainloop()"
   ]
  },
  {
   "cell_type": "markdown",
   "metadata": {},
   "source": [
    "### 菜单\n",
    "\n",
    "#### 普通菜单\n",
    "- 第一个Menu类定义是parent\n",
    "- add_command添加菜单项，如果菜单是顶层菜单，则从左向右添加，否则就是下拉菜单\n",
    "    - label:指定菜单单项名称\n",
    "    - command:点击后相应的调用函数\n",
    "    - acceletor:快捷键\n",
    "    - underline:指定是否菜单信息下有横线\n",
    "    - menu:属性制定使用哪一个作为顶级菜单"
   ]
  },
  {
   "cell_type": "code",
   "execution_count": 55,
   "metadata": {},
   "outputs": [],
   "source": [
    "baseFrame = tkinter.Tk()\n",
    "\n",
    "menubar = tkinter.Menu(baseFrame)\n",
    "\n",
    "for item in [\"File\",\"Edit\",\"View\",\"About\"]:\n",
    "    menubar.add_command(label=item)\n",
    "\n",
    "baseFrame[\"menu\"]=menubar\n",
    "\n",
    "baseFrame.mainloop()"
   ]
  },
  {
   "cell_type": "markdown",
   "metadata": {},
   "source": [
    "#### 级联菜单\n",
    "- add_cascade:级联菜单，作用是引出后面的菜单\n",
    "- add_cascade的menu属性:指明把菜单级联到哪个菜单上\n",
    "- label:名称\n",
    "- 过程:\n",
    "    1. 建立menu\n",
    "    2. add_command\n",
    "    3. add_cascade"
   ]
  },
  {
   "cell_type": "code",
   "execution_count": 57,
   "metadata": {},
   "outputs": [],
   "source": [
    "baseFrame = tkinter.Tk()\n",
    "\n",
    "menubar = tkinter.Menu(baseFrame)\n",
    "\n",
    "emenu = tkinter.Menu(menubar)\n",
    "\n",
    "for item in [\"Copy\",\"Past\",\"Cut\"]:\n",
    "    emenu.add_command(label=item)\n",
    "\n",
    "menubar.add_cascade(label=\"File\")\n",
    "menubar.add_cascade(label=\"Edit\",menu=emenu)\n",
    "menubar.add_cascade(label=\"About\")\n",
    "    \n",
    "baseFrame[\"menu\"]=menubar\n",
    "\n",
    "baseFrame.mainloop()"
   ]
  },
  {
   "cell_type": "markdown",
   "metadata": {},
   "source": [
    "#### 弹出菜单\n",
    "- 弹出菜单也叫上下文菜单\n",
    "- 实现的大体思路:\n",
    "    1. 建立菜单并向菜单添加各种功能\n",
    "    2. 监听鼠标右键\n",
    "    3. 如果右键，则根据位置判断弹出\n",
    "    4. 调用Menu的pop方法\n",
    "- add_separator: 添加分隔符"
   ]
  },
  {
   "cell_type": "code",
   "execution_count": 63,
   "metadata": {},
   "outputs": [],
   "source": [
    "def makeLabel():\n",
    "    global baseFrame\n",
    "    tkinter.Label(baseFrame,text=\"Hello,world!\").pack()\n",
    "\n",
    "baseFrame = tkinter.Tk()\n",
    "\n",
    "menubar = tkinter.Menu(baseFrame)\n",
    "for item in [\"Copy\",\"Past\",\"Cut\"]:\n",
    "    menubar.add_command(label=item)\n",
    "    menubar.add_separator()\n",
    "\n",
    "menubar.add_command(label=\"Hello\",command=makeLabel)\n",
    "\n",
    "def pop(event):\n",
    "    menubar.post(event.x_root,event.y_root)\n",
    "\n",
    "baseFrame.bind(\"<Button-3>\",pop)\n",
    "\n",
    "baseFrame.mainloop()"
   ]
  },
  {
   "cell_type": "markdown",
   "metadata": {},
   "source": [
    "### 画布\n",
    "- 画布: 可以自由的在上面绘制图形的一个小舞台\n",
    "- 在画布上绘制对象，通常用create_xxx,xxx=对象类型，列如line，rectangle\n",
    "- 画布所支持的组件:\n",
    "    - arc\n",
    "    - bitmap\n",
    "    - image（BitmapImage，PhotoImage）\n",
    "    - line\n",
    "    - oval\n",
    "    - polygon\n",
    "    - rectangle\n",
    "    - text\n",
    "    - window（组件）\n",
    "- 每次调用create_xxx都会返回一个创建的组件ID，同时也可以用tag属性指定其标签\n",
    "- 通过调用canvas.move实现一个一次性动作"
   ]
  },
  {
   "cell_type": "code",
   "execution_count": 74,
   "metadata": {},
   "outputs": [],
   "source": [
    "baseFrame = tkinter.Tk()\n",
    "\n",
    "cvs = tkinter.Canvas(baseFrame,width=300,height=200)\n",
    "cvs.pack()\n",
    "\n",
    "cvs.create_line(23,23,200,200)\n",
    "cvs.create_text(100,10,text=\"I Love Python\")\n",
    "\n",
    "baseFrame.mainloop()"
   ]
  },
  {
   "cell_type": "code",
   "execution_count": 89,
   "metadata": {},
   "outputs": [],
   "source": [
    "# 画五角星\n",
    "import math as m\n",
    "\n",
    "baseFrame = tkinter.Tk()\n",
    "\n",
    "w = tkinter.Canvas(baseFrame,width=300,height=300,background=\"gray\")\n",
    "w.pack()\n",
    "\n",
    "center_x = 150\n",
    "center_y = 150\n",
    "r = 150\n",
    "\n",
    "points = [\n",
    "    center_x - int(r*m.sin(2*m.pi/5)),\n",
    "    center_y - int(r*m.cos(2*m.pi/5)),\n",
    "    \n",
    "    center_x + int(r*m.sin(2*m.pi/5)),\n",
    "    center_y - int(r*m.cos(2*m.pi/5)),\n",
    "    \n",
    "    center_x - int(r*m.sin(m.pi/5)),\n",
    "    center_y + int(r*m.cos(m.pi/5)),\n",
    "    \n",
    "    center_x,\n",
    "    center_y - r,\n",
    "    \n",
    "    center_x + int(r*m.sin(m.pi/5)),\n",
    "    center_y + int(r*m.cos(m.pi/5))\n",
    "]\n",
    "\n",
    "w.create_polygon(points,outline=\"red\",fill=\"yellow\")\n",
    "w.create_text(150,150,text=\"Triangle\")\n",
    "\n",
    "baseFrame.mainloop()"
   ]
  },
  {
   "cell_type": "code",
   "execution_count": 92,
   "metadata": {},
   "outputs": [],
   "source": [
    "baseFrame = tkinter.Tk()\n",
    "\n",
    "def btClick(event):\n",
    "    global w\n",
    "    w.move(id_ball,12,5)\n",
    "    w.move(\"fall\",0,5)\n",
    "\n",
    "w = tkinter.Canvas(baseFrame,width=500,height=300)\n",
    "w.pack()\n",
    "w.bind(\"<Button-1>\",btClick)\n",
    "\n",
    "id_ball = w.create_oval(10,10,30,30, fill=\"red\")\n",
    "\n",
    "w.create_text(100,50, fill=\"red\",text=\"I Love Python\",tag=\"fall\")\n",
    "id_rectangle = w.create_rectangle(50,70,170,110,fill=\"gray\")\n",
    "w.addtag_withtag(\"fall\",id_rectangle)\n",
    "\n",
    "baseFrame.mainloop()"
   ]
  },
  {
   "cell_type": "code",
   "execution_count": null,
   "metadata": {},
   "outputs": [],
   "source": []
  }
 ],
 "metadata": {
  "kernelspec": {
   "display_name": "Python 3",
   "language": "python",
   "name": "python3"
  },
  "language_info": {
   "codemirror_mode": {
    "name": "ipython",
    "version": 3
   },
   "file_extension": ".py",
   "mimetype": "text/x-python",
   "name": "python",
   "nbconvert_exporter": "python",
   "pygments_lexer": "ipython3",
   "version": "3.6.5"
  }
 },
 "nbformat": 4,
 "nbformat_minor": 2
}
