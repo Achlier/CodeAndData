{
 "cells": [
  {
   "cell_type": "markdown",
   "metadata": {},
   "source": [
    "# Database and SQL Preliminaries"
   ]
  },
  {
   "cell_type": "markdown",
   "metadata": {},
   "source": [
    "**Dr. Pengfei Zhao**\n",
    "\n",
    "Finance Mathematics Program, \n",
    "\n",
    "BNU-HKBU United International College"
   ]
  },
  {
   "cell_type": "markdown",
   "metadata": {},
   "source": [
    "## 1. DataBase Management System (DBMS)"
   ]
  },
  {
   "cell_type": "markdown",
   "metadata": {},
   "source": [
    "### What is DBMS?"
   ]
  },
  {
   "cell_type": "markdown",
   "metadata": {},
   "source": [
    "* `DBMS` is a **system** to manage `databases`, where sets of interrelated data is stored.\n",
    "* Generally, database can be categorized to two types, `relational database` and `non-relational database` (see the detailed difference [here](https://www.pluralsight.com/blog/software-development/relational-non-relational-databases)). The system to manage a relational database is called `relational database management system`, shorted as `RDBMS`. We **only** focus on relational database in this class.\n",
    "* A relational database normally contains several `relations` (tables including rows and columns), each of which contains a specific aspect of data/information about a particular enterprise.\n",
    "* `RDBMS` = Collection of interrelated data (storage of relations) + Set of programs to manage the data.\n",
    "* RDBMS provides an environment that is both `convenient` and `efficient` to use.\n",
    "* RDBMS Applications:\n",
    "    * Banking: all transactions\n",
    "    * Airlines: reservations, schedules\n",
    "    * Universities:  registration, grades\n",
    "    * Sales: customers, products, purchases\n",
    "    * Manufacturing: production, inventory, orders, supply chain\n",
    "    * Human resources:  employee records, salaries, tax deductions"
   ]
  },
  {
   "cell_type": "markdown",
   "metadata": {},
   "source": [
    "### Commercial RDBMS"
   ]
  },
  {
   "cell_type": "markdown",
   "metadata": {},
   "source": [
    "* Not Free: Oracle, IBM (DB2, Universal Server), Microsoft (SQL Server, Access)...\n",
    "* Free: MySQL, PostgreSQL, SQLite..."
   ]
  },
  {
   "cell_type": "markdown",
   "metadata": {},
   "source": [
    "### DBMS vs File Systems"
   ]
  },
  {
   "cell_type": "markdown",
   "metadata": {},
   "source": [
    "* In the early days, database applications were built on top of file systems.\n",
    "* **Drawbacks** of using file systems to store data:\n",
    "    * Data redundancy and inconsistency\n",
    "    * Difficulty in accessing data \n",
    "    * Integrity problems\n",
    "    * Concurrent access by multiple users\n",
    "    * Security problems\n",
    "* DBMS offer automated solutions to all the above problems."
   ]
  },
  {
   "cell_type": "markdown",
   "metadata": {},
   "source": [
    "### Data Independence"
   ]
  },
  {
   "cell_type": "markdown",
   "metadata": {},
   "source": [
    "* One big problem in application development is the separation of applications from data.\n",
    "* Do I have change my program when I...\n",
    "    * replace my hard drive?\n",
    "    * partition the data into two physical files (or merge two physical files into one)?\n",
    "* Solution: introduce levels of abstraction.\n"
   ]
  },
  {
   "cell_type": "markdown",
   "metadata": {},
   "source": [
    " <img src=\"../Figures/DB/logic.png\" width = \"480\" height = \"300\" alt=\"图片名称\" align=center />"
   ]
  },
  {
   "cell_type": "markdown",
   "metadata": {},
   "source": [
    "* `Physical level:` describe how a record is stored on disks.\n",
    "* `Logical level:` describes data stored in database, and the relationships among the data.\n",
    "* `View level:` Define a subset of the database for a particular application. Views can also hide information (e.g. salary) for security purposes.\n"
   ]
  },
  {
   "cell_type": "markdown",
   "metadata": {},
   "source": [
    "### An Example of Data Independence"
   ]
  },
  {
   "cell_type": "markdown",
   "metadata": {},
   "source": [
    " <img src=\"../Figures/DB/data_independence.png\" width = \"480\" height = \"300\" alt=\"图片名称\" align=center />"
   ]
  },
  {
   "cell_type": "markdown",
   "metadata": {},
   "source": [
    "### Example of a `Relation`"
   ]
  },
  {
   "cell_type": "markdown",
   "metadata": {},
   "source": [
    " <img src=\"../Figures/DB/relation-term.png\" width = \"580\" height = \"350\" alt=\"图片名称\" align=center />"
   ]
  },
  {
   "cell_type": "markdown",
   "metadata": {},
   "source": [
    "## 2. Structured Query Language (SQL)"
   ]
  },
  {
   "cell_type": "markdown",
   "metadata": {},
   "source": [
    "### What is SQL?"
   ]
  },
  {
   "cell_type": "markdown",
   "metadata": {},
   "source": [
    "* SQL stands for Structured Query Language.\n",
    "* SQL lets you access and manipulate databases.\n",
    "* SQL is an ANSI (American National Standards Institute) standard.\n",
    "* RDBMS is a platform/system, and SQL is a script language running on RDBMS, helping RDBMS manipulating data."
   ]
  },
  {
   "cell_type": "markdown",
   "metadata": {},
   "source": [
    "### What Can SQL do?"
   ]
  },
  {
   "cell_type": "markdown",
   "metadata": {},
   "source": [
    "* SQL can execute queries against a database\n",
    "* SQL can retrieve data from a database\n",
    "* SQL can insert records in a database\n",
    "* SQL can update records in a database\n",
    "* SQL can delete records from a database\n",
    "* SQL can create new databases\n",
    "* SQL can create new tables in a database\n",
    "* SQL can create stored procedures in a database\n",
    "* SQL can create views in a database\n",
    "* SQL can set permissions on tables, procedures, and views"
   ]
  },
  {
   "cell_type": "markdown",
   "metadata": {},
   "source": [
    "### SQL is a Standard - BUT...."
   ]
  },
  {
   "cell_type": "markdown",
   "metadata": {},
   "source": [
    "* Although SQL is an ANSI (American National Standards Institute) standard, there are different versions of the SQL language (e.g. SQL in Oracle and MySQL system may be slightly different).\n",
    "\n",
    "* However, to be compliant with the ANSI standard, they all support at least the major commands (such as *SELECT*, *UPDATE*, *DELETE*, *INSERT*, *WHERE*) in a similar manner.\n"
   ]
  },
  {
   "cell_type": "markdown",
   "metadata": {},
   "source": [
    "### DDL and DML"
   ]
  },
  {
   "cell_type": "markdown",
   "metadata": {},
   "source": [
    "* `SQL` includes `DDL` and `DML`.\n",
    "* Data Definition Language (DDL) are statements that specify and modify database schemas..\n",
    "* Data Manipulation Language (DML) are statements that manipulate database content."
   ]
  }
 ],
 "metadata": {
  "kernelspec": {
   "display_name": "Python 3",
   "language": "python",
   "name": "python3"
  },
  "language_info": {
   "codemirror_mode": {
    "name": "ipython",
    "version": 3
   },
   "file_extension": ".py",
   "mimetype": "text/x-python",
   "name": "python",
   "nbconvert_exporter": "python",
   "pygments_lexer": "ipython3",
   "version": "3.6.4"
  }
 },
 "nbformat": 4,
 "nbformat_minor": 2
}
