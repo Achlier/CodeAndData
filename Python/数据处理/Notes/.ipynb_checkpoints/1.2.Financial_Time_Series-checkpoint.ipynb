{
 "cells": [
  {
   "cell_type": "markdown",
   "metadata": {},
   "source": [
    "<img src=\"http://hilpisch.com/tpq_logo.png\" alt=\"The Python Quants\" width=\"35%\" align=\"right\" border=\"0\"><br>"
   ]
  },
  {
   "cell_type": "markdown",
   "metadata": {},
   "source": [
    "# Python for Finance"
   ]
  },
  {
   "cell_type": "markdown",
   "metadata": {},
   "source": [
    "**Analyze Big Financial Data**\n",
    "\n",
    "O'Reilly (2014)\n",
    "\n",
    "Yves Hilpisch"
   ]
  },
  {
   "cell_type": "markdown",
   "metadata": {},
   "source": [
    "<img style=\"border:0px solid grey;\" src=\"http://hilpisch.com/python_for_finance.png\" alt=\"Python for Finance\" width=\"30%\" align=\"left\" border=\"0\">"
   ]
  },
  {
   "cell_type": "markdown",
   "metadata": {},
   "source": [
    "**Buy the book ** |\n",
    "<a href='http://shop.oreilly.com/product/0636920032441.do' target='_blank'>O'Reilly</a> |\n",
    "<a href='http://www.amazon.com/Yves-Hilpisch/e/B00JCYHHJM' target='_blank'>Amazon</a>\n",
    "\n",
    "**All book codes & IPYNBs** |\n",
    "<a href=\"http://oreilly.quant-platform.com\">http://oreilly.quant-platform.com</a>\n",
    "\n",
    "**The Python Quants GmbH** | <a href='http://tpq.io' target='_blank'>http://tpq.io</a>\n",
    "\n",
    "**Contact us** | <a href='mailto:pff@tpq.io'>pff@tpq.io</a>"
   ]
  },
  {
   "cell_type": "markdown",
   "metadata": {},
   "source": [
    "# Financial Time Series"
   ]
  },
  {
   "cell_type": "code",
   "execution_count": 2,
   "metadata": {},
   "outputs": [],
   "source": [
    "from pylab import plt\n",
    "plt.style.use('seaborn')\n",
    "import matplotlib as mpl\n",
    "mpl.rcParams['font.family'] = 'serif'"
   ]
  },
  {
   "cell_type": "markdown",
   "metadata": {},
   "source": [
    "## pandas Basics"
   ]
  },
  {
   "cell_type": "code",
   "execution_count": 3,
   "metadata": {
    "uuid": "eda2a742-134d-4d47-8b30-557b846b9bb3"
   },
   "outputs": [],
   "source": [
    "import numpy as np\n",
    "import pandas as pd"
   ]
  },
  {
   "cell_type": "markdown",
   "metadata": {},
   "source": [
    "### First Steps with DataFrame Class"
   ]
  },
  {
   "cell_type": "code",
   "execution_count": 9,
   "metadata": {
    "uuid": "f3be2d89-829a-49b2-96fc-07c475db1e3f"
   },
   "outputs": [
    {
     "data": {
      "text/html": [
       "<div>\n",
       "<style>\n",
       "    .dataframe thead tr:only-child th {\n",
       "        text-align: right;\n",
       "    }\n",
       "\n",
       "    .dataframe thead th {\n",
       "        text-align: left;\n",
       "    }\n",
       "\n",
       "    .dataframe tbody tr th {\n",
       "        vertical-align: top;\n",
       "    }\n",
       "</style>\n",
       "<table border=\"1\" class=\"dataframe\">\n",
       "  <thead>\n",
       "    <tr style=\"text-align: right;\">\n",
       "      <th></th>\n",
       "      <th>numbers</th>\n",
       "    </tr>\n",
       "  </thead>\n",
       "  <tbody>\n",
       "    <tr>\n",
       "      <th>a</th>\n",
       "      <td>10</td>\n",
       "    </tr>\n",
       "    <tr>\n",
       "      <th>b</th>\n",
       "      <td>20</td>\n",
       "    </tr>\n",
       "    <tr>\n",
       "      <th>c</th>\n",
       "      <td>30</td>\n",
       "    </tr>\n",
       "    <tr>\n",
       "      <th>d</th>\n",
       "      <td>40</td>\n",
       "    </tr>\n",
       "  </tbody>\n",
       "</table>\n",
       "</div>"
      ],
      "text/plain": [
       "   numbers\n",
       "a       10\n",
       "b       20\n",
       "c       30\n",
       "d       40"
      ]
     },
     "execution_count": 9,
     "metadata": {},
     "output_type": "execute_result"
    }
   ],
   "source": [
    "df = pd.DataFrame([10, 20, 30, 40], columns=['numbers'],\n",
    "                  index=['a', 'b', 'c', 'd'])\n",
    "df"
   ]
  },
  {
   "cell_type": "code",
   "execution_count": 4,
   "metadata": {
    "uuid": "47b70a7b-710f-4c40-9a70-b09db7af1a12"
   },
   "outputs": [
    {
     "data": {
      "text/plain": [
       "Index(['a', 'b', 'c', 'd'], dtype='object')"
      ]
     },
     "execution_count": 4,
     "metadata": {},
     "output_type": "execute_result"
    }
   ],
   "source": [
    "df.index  # the index values"
   ]
  },
  {
   "cell_type": "code",
   "execution_count": 5,
   "metadata": {
    "uuid": "a36c6695-520d-4df1-a6fa-5f8362af37a3"
   },
   "outputs": [
    {
     "data": {
      "text/plain": [
       "Index(['numbers'], dtype='object')"
      ]
     },
     "execution_count": 5,
     "metadata": {},
     "output_type": "execute_result"
    }
   ],
   "source": [
    "df.columns  # the column names"
   ]
  },
  {
   "cell_type": "code",
   "execution_count": 6,
   "metadata": {
    "uuid": "c93aed37-21de-429d-86ed-9849e4c3e23c"
   },
   "outputs": [
    {
     "data": {
      "text/plain": [
       "numbers    30\n",
       "Name: c, dtype: int64"
      ]
     },
     "execution_count": 6,
     "metadata": {},
     "output_type": "execute_result"
    }
   ],
   "source": [
    "df.loc['c']  # selection via index"
   ]
  },
  {
   "cell_type": "code",
   "execution_count": 7,
   "metadata": {
    "uuid": "8c7c2f69-3673-40d9-a568-0471c629810d"
   },
   "outputs": [
    {
     "data": {
      "text/html": [
       "<div>\n",
       "<style scoped>\n",
       "    .dataframe tbody tr th:only-of-type {\n",
       "        vertical-align: middle;\n",
       "    }\n",
       "\n",
       "    .dataframe tbody tr th {\n",
       "        vertical-align: top;\n",
       "    }\n",
       "\n",
       "    .dataframe thead th {\n",
       "        text-align: right;\n",
       "    }\n",
       "</style>\n",
       "<table border=\"1\" class=\"dataframe\">\n",
       "  <thead>\n",
       "    <tr style=\"text-align: right;\">\n",
       "      <th></th>\n",
       "      <th>numbers</th>\n",
       "    </tr>\n",
       "  </thead>\n",
       "  <tbody>\n",
       "    <tr>\n",
       "      <th>a</th>\n",
       "      <td>10</td>\n",
       "    </tr>\n",
       "    <tr>\n",
       "      <th>d</th>\n",
       "      <td>40</td>\n",
       "    </tr>\n",
       "  </tbody>\n",
       "</table>\n",
       "</div>"
      ],
      "text/plain": [
       "   numbers\n",
       "a       10\n",
       "d       40"
      ]
     },
     "execution_count": 7,
     "metadata": {},
     "output_type": "execute_result"
    }
   ],
   "source": [
    "df.loc[['a', 'd']]  # selection of multiple indices"
   ]
  },
  {
   "cell_type": "code",
   "execution_count": 8,
   "metadata": {
    "uuid": "c3ce0cc3-26e8-4256-ab8c-9a2d4b181633"
   },
   "outputs": [
    {
     "data": {
      "text/html": [
       "<div>\n",
       "<style scoped>\n",
       "    .dataframe tbody tr th:only-of-type {\n",
       "        vertical-align: middle;\n",
       "    }\n",
       "\n",
       "    .dataframe tbody tr th {\n",
       "        vertical-align: top;\n",
       "    }\n",
       "\n",
       "    .dataframe thead th {\n",
       "        text-align: right;\n",
       "    }\n",
       "</style>\n",
       "<table border=\"1\" class=\"dataframe\">\n",
       "  <thead>\n",
       "    <tr style=\"text-align: right;\">\n",
       "      <th></th>\n",
       "      <th>numbers</th>\n",
       "    </tr>\n",
       "  </thead>\n",
       "  <tbody>\n",
       "    <tr>\n",
       "      <th>b</th>\n",
       "      <td>20</td>\n",
       "    </tr>\n",
       "    <tr>\n",
       "      <th>c</th>\n",
       "      <td>30</td>\n",
       "    </tr>\n",
       "  </tbody>\n",
       "</table>\n",
       "</div>"
      ],
      "text/plain": [
       "   numbers\n",
       "b       20\n",
       "c       30"
      ]
     },
     "execution_count": 8,
     "metadata": {},
     "output_type": "execute_result"
    }
   ],
   "source": [
    "df.loc[df.index[1:3]]  # selection via Index object"
   ]
  },
  {
   "cell_type": "code",
   "execution_count": 9,
   "metadata": {
    "uuid": "94b1d846-63df-49f4-8a7f-8fed03e5f4fa"
   },
   "outputs": [
    {
     "data": {
      "text/plain": [
       "numbers    100\n",
       "dtype: int64"
      ]
     },
     "execution_count": 9,
     "metadata": {},
     "output_type": "execute_result"
    }
   ],
   "source": [
    "df.sum()  # sum per column"
   ]
  },
  {
   "cell_type": "code",
   "execution_count": 10,
   "metadata": {
    "uuid": "4e73eb4f-352d-4527-b0c5-4f3a6e7eb354"
   },
   "outputs": [
    {
     "data": {
      "text/html": [
       "<div>\n",
       "<style scoped>\n",
       "    .dataframe tbody tr th:only-of-type {\n",
       "        vertical-align: middle;\n",
       "    }\n",
       "\n",
       "    .dataframe tbody tr th {\n",
       "        vertical-align: top;\n",
       "    }\n",
       "\n",
       "    .dataframe thead th {\n",
       "        text-align: right;\n",
       "    }\n",
       "</style>\n",
       "<table border=\"1\" class=\"dataframe\">\n",
       "  <thead>\n",
       "    <tr style=\"text-align: right;\">\n",
       "      <th></th>\n",
       "      <th>numbers</th>\n",
       "    </tr>\n",
       "  </thead>\n",
       "  <tbody>\n",
       "    <tr>\n",
       "      <th>a</th>\n",
       "      <td>100</td>\n",
       "    </tr>\n",
       "    <tr>\n",
       "      <th>b</th>\n",
       "      <td>400</td>\n",
       "    </tr>\n",
       "    <tr>\n",
       "      <th>c</th>\n",
       "      <td>900</td>\n",
       "    </tr>\n",
       "    <tr>\n",
       "      <th>d</th>\n",
       "      <td>1600</td>\n",
       "    </tr>\n",
       "  </tbody>\n",
       "</table>\n",
       "</div>"
      ],
      "text/plain": [
       "   numbers\n",
       "a      100\n",
       "b      400\n",
       "c      900\n",
       "d     1600"
      ]
     },
     "execution_count": 10,
     "metadata": {},
     "output_type": "execute_result"
    }
   ],
   "source": [
    "df.apply(lambda x: x ** 2)  # square of every element"
   ]
  },
  {
   "cell_type": "code",
   "execution_count": 4,
   "metadata": {},
   "outputs": [],
   "source": [
    "df = pd.DataFrame(np.random.randint(0,9,(3,4)))"
   ]
  },
  {
   "cell_type": "code",
   "execution_count": 11,
   "metadata": {
    "uuid": "75206a83-0154-4be2-88d0-7a82a190fda1"
   },
   "outputs": [
    {
     "data": {
      "text/html": [
       "<div>\n",
       "<style scoped>\n",
       "    .dataframe tbody tr th:only-of-type {\n",
       "        vertical-align: middle;\n",
       "    }\n",
       "\n",
       "    .dataframe tbody tr th {\n",
       "        vertical-align: top;\n",
       "    }\n",
       "\n",
       "    .dataframe thead th {\n",
       "        text-align: right;\n",
       "    }\n",
       "</style>\n",
       "<table border=\"1\" class=\"dataframe\">\n",
       "  <thead>\n",
       "    <tr style=\"text-align: right;\">\n",
       "      <th></th>\n",
       "      <th>numbers</th>\n",
       "    </tr>\n",
       "  </thead>\n",
       "  <tbody>\n",
       "    <tr>\n",
       "      <th>a</th>\n",
       "      <td>100</td>\n",
       "    </tr>\n",
       "    <tr>\n",
       "      <th>b</th>\n",
       "      <td>400</td>\n",
       "    </tr>\n",
       "    <tr>\n",
       "      <th>c</th>\n",
       "      <td>900</td>\n",
       "    </tr>\n",
       "    <tr>\n",
       "      <th>d</th>\n",
       "      <td>1600</td>\n",
       "    </tr>\n",
       "  </tbody>\n",
       "</table>\n",
       "</div>"
      ],
      "text/plain": [
       "   numbers\n",
       "a      100\n",
       "b      400\n",
       "c      900\n",
       "d     1600"
      ]
     },
     "execution_count": 11,
     "metadata": {},
     "output_type": "execute_result"
    }
   ],
   "source": [
    "df ** 2  # again square, this time NumPy-like"
   ]
  },
  {
   "cell_type": "code",
   "execution_count": 10,
   "metadata": {
    "uuid": "49a2633a-b3c0-4d00-a227-e0ff4a8cf81d"
   },
   "outputs": [
    {
     "data": {
      "text/html": [
       "<div>\n",
       "<style>\n",
       "    .dataframe thead tr:only-child th {\n",
       "        text-align: right;\n",
       "    }\n",
       "\n",
       "    .dataframe thead th {\n",
       "        text-align: left;\n",
       "    }\n",
       "\n",
       "    .dataframe tbody tr th {\n",
       "        vertical-align: top;\n",
       "    }\n",
       "</style>\n",
       "<table border=\"1\" class=\"dataframe\">\n",
       "  <thead>\n",
       "    <tr style=\"text-align: right;\">\n",
       "      <th></th>\n",
       "      <th>numbers</th>\n",
       "      <th>floats</th>\n",
       "    </tr>\n",
       "  </thead>\n",
       "  <tbody>\n",
       "    <tr>\n",
       "      <th>a</th>\n",
       "      <td>10</td>\n",
       "      <td>1.5</td>\n",
       "    </tr>\n",
       "    <tr>\n",
       "      <th>b</th>\n",
       "      <td>20</td>\n",
       "      <td>2.5</td>\n",
       "    </tr>\n",
       "    <tr>\n",
       "      <th>c</th>\n",
       "      <td>30</td>\n",
       "      <td>3.5</td>\n",
       "    </tr>\n",
       "    <tr>\n",
       "      <th>d</th>\n",
       "      <td>40</td>\n",
       "      <td>4.5</td>\n",
       "    </tr>\n",
       "  </tbody>\n",
       "</table>\n",
       "</div>"
      ],
      "text/plain": [
       "   numbers  floats\n",
       "a       10     1.5\n",
       "b       20     2.5\n",
       "c       30     3.5\n",
       "d       40     4.5"
      ]
     },
     "execution_count": 10,
     "metadata": {},
     "output_type": "execute_result"
    }
   ],
   "source": [
    "df['floats'] = (1.5, 2.5, 3.5, 4.5)\n",
    "  # new column is generated\n",
    "df"
   ]
  },
  {
   "cell_type": "code",
   "execution_count": 13,
   "metadata": {
    "uuid": "c49b9aea-417a-4c2b-8e27-0e8771a77c87"
   },
   "outputs": [
    {
     "data": {
      "text/plain": [
       "a    1.5\n",
       "b    2.5\n",
       "c    3.5\n",
       "d    4.5\n",
       "Name: floats, dtype: float64"
      ]
     },
     "execution_count": 13,
     "metadata": {},
     "output_type": "execute_result"
    }
   ],
   "source": [
    "df['floats']  # selection of column"
   ]
  },
  {
   "cell_type": "code",
   "execution_count": 11,
   "metadata": {
    "uuid": "aa892c41-6637-45ed-876b-6a70285e4c0b"
   },
   "outputs": [
    {
     "data": {
      "text/html": [
       "<div>\n",
       "<style>\n",
       "    .dataframe thead tr:only-child th {\n",
       "        text-align: right;\n",
       "    }\n",
       "\n",
       "    .dataframe thead th {\n",
       "        text-align: left;\n",
       "    }\n",
       "\n",
       "    .dataframe tbody tr th {\n",
       "        vertical-align: top;\n",
       "    }\n",
       "</style>\n",
       "<table border=\"1\" class=\"dataframe\">\n",
       "  <thead>\n",
       "    <tr style=\"text-align: right;\">\n",
       "      <th></th>\n",
       "      <th>numbers</th>\n",
       "      <th>floats</th>\n",
       "      <th>names</th>\n",
       "    </tr>\n",
       "  </thead>\n",
       "  <tbody>\n",
       "    <tr>\n",
       "      <th>a</th>\n",
       "      <td>10</td>\n",
       "      <td>1.5</td>\n",
       "      <td>Guido</td>\n",
       "    </tr>\n",
       "    <tr>\n",
       "      <th>b</th>\n",
       "      <td>20</td>\n",
       "      <td>2.5</td>\n",
       "      <td>Felix</td>\n",
       "    </tr>\n",
       "    <tr>\n",
       "      <th>c</th>\n",
       "      <td>30</td>\n",
       "      <td>3.5</td>\n",
       "      <td>Francesc</td>\n",
       "    </tr>\n",
       "    <tr>\n",
       "      <th>d</th>\n",
       "      <td>40</td>\n",
       "      <td>4.5</td>\n",
       "      <td>Yves</td>\n",
       "    </tr>\n",
       "  </tbody>\n",
       "</table>\n",
       "</div>"
      ],
      "text/plain": [
       "   numbers  floats     names\n",
       "a       10     1.5     Guido\n",
       "b       20     2.5     Felix\n",
       "c       30     3.5  Francesc\n",
       "d       40     4.5      Yves"
      ]
     },
     "execution_count": 11,
     "metadata": {},
     "output_type": "execute_result"
    }
   ],
   "source": [
    "df['names'] = pd.DataFrame(['Yves', 'Guido', 'Felix', 'Francesc'],\n",
    "                           index=['d', 'a', 'b', 'c'])\n",
    "df"
   ]
  },
  {
   "cell_type": "code",
   "execution_count": 12,
   "metadata": {
    "uuid": "584ac18c-161f-4c7b-8ff1-1cd406fb8437"
   },
   "outputs": [
    {
     "data": {
      "text/html": [
       "<div>\n",
       "<style>\n",
       "    .dataframe thead tr:only-child th {\n",
       "        text-align: right;\n",
       "    }\n",
       "\n",
       "    .dataframe thead th {\n",
       "        text-align: left;\n",
       "    }\n",
       "\n",
       "    .dataframe tbody tr th {\n",
       "        vertical-align: top;\n",
       "    }\n",
       "</style>\n",
       "<table border=\"1\" class=\"dataframe\">\n",
       "  <thead>\n",
       "    <tr style=\"text-align: right;\">\n",
       "      <th></th>\n",
       "      <th>numbers</th>\n",
       "      <th>floats</th>\n",
       "      <th>names</th>\n",
       "    </tr>\n",
       "  </thead>\n",
       "  <tbody>\n",
       "    <tr>\n",
       "      <th>0</th>\n",
       "      <td>10</td>\n",
       "      <td>1.50</td>\n",
       "      <td>Guido</td>\n",
       "    </tr>\n",
       "    <tr>\n",
       "      <th>1</th>\n",
       "      <td>20</td>\n",
       "      <td>2.50</td>\n",
       "      <td>Felix</td>\n",
       "    </tr>\n",
       "    <tr>\n",
       "      <th>2</th>\n",
       "      <td>30</td>\n",
       "      <td>3.50</td>\n",
       "      <td>Francesc</td>\n",
       "    </tr>\n",
       "    <tr>\n",
       "      <th>3</th>\n",
       "      <td>40</td>\n",
       "      <td>4.50</td>\n",
       "      <td>Yves</td>\n",
       "    </tr>\n",
       "    <tr>\n",
       "      <th>4</th>\n",
       "      <td>100</td>\n",
       "      <td>5.75</td>\n",
       "      <td>Henry</td>\n",
       "    </tr>\n",
       "  </tbody>\n",
       "</table>\n",
       "</div>"
      ],
      "text/plain": [
       "   numbers  floats     names\n",
       "0       10    1.50     Guido\n",
       "1       20    2.50     Felix\n",
       "2       30    3.50  Francesc\n",
       "3       40    4.50      Yves\n",
       "4      100    5.75     Henry"
      ]
     },
     "execution_count": 12,
     "metadata": {},
     "output_type": "execute_result"
    }
   ],
   "source": [
    "df.append({'numbers': 100, 'floats': 5.75, 'names': 'Henry'},\n",
    "               ignore_index=True)\n",
    "  # temporary object; df not changed"
   ]
  },
  {
   "cell_type": "code",
   "execution_count": 13,
   "metadata": {
    "uuid": "9068cd04-c6ff-4d0c-bd52-cf04cd89a0e9"
   },
   "outputs": [
    {
     "data": {
      "text/html": [
       "<div>\n",
       "<style>\n",
       "    .dataframe thead tr:only-child th {\n",
       "        text-align: right;\n",
       "    }\n",
       "\n",
       "    .dataframe thead th {\n",
       "        text-align: left;\n",
       "    }\n",
       "\n",
       "    .dataframe tbody tr th {\n",
       "        vertical-align: top;\n",
       "    }\n",
       "</style>\n",
       "<table border=\"1\" class=\"dataframe\">\n",
       "  <thead>\n",
       "    <tr style=\"text-align: right;\">\n",
       "      <th></th>\n",
       "      <th>floats</th>\n",
       "      <th>names</th>\n",
       "      <th>numbers</th>\n",
       "    </tr>\n",
       "  </thead>\n",
       "  <tbody>\n",
       "    <tr>\n",
       "      <th>a</th>\n",
       "      <td>1.50</td>\n",
       "      <td>Guido</td>\n",
       "      <td>10</td>\n",
       "    </tr>\n",
       "    <tr>\n",
       "      <th>b</th>\n",
       "      <td>2.50</td>\n",
       "      <td>Felix</td>\n",
       "      <td>20</td>\n",
       "    </tr>\n",
       "    <tr>\n",
       "      <th>c</th>\n",
       "      <td>3.50</td>\n",
       "      <td>Francesc</td>\n",
       "      <td>30</td>\n",
       "    </tr>\n",
       "    <tr>\n",
       "      <th>d</th>\n",
       "      <td>4.50</td>\n",
       "      <td>Yves</td>\n",
       "      <td>40</td>\n",
       "    </tr>\n",
       "    <tr>\n",
       "      <th>z</th>\n",
       "      <td>5.75</td>\n",
       "      <td>Henry</td>\n",
       "      <td>100</td>\n",
       "    </tr>\n",
       "  </tbody>\n",
       "</table>\n",
       "</div>"
      ],
      "text/plain": [
       "   floats     names  numbers\n",
       "a    1.50     Guido       10\n",
       "b    2.50     Felix       20\n",
       "c    3.50  Francesc       30\n",
       "d    4.50      Yves       40\n",
       "z    5.75     Henry      100"
      ]
     },
     "execution_count": 13,
     "metadata": {},
     "output_type": "execute_result"
    }
   ],
   "source": [
    "df = df.append(pd.DataFrame({'numbers': 100, 'floats': 5.75,\n",
    "                             'names': 'Henry'}, index=['z',]))\n",
    "df"
   ]
  },
  {
   "cell_type": "code",
   "execution_count": 14,
   "metadata": {
    "uuid": "0d526ac2-8691-4a59-83c5-712c800f0464"
   },
   "outputs": [
    {
     "data": {
      "text/html": [
       "<div>\n",
       "<style>\n",
       "    .dataframe thead tr:only-child th {\n",
       "        text-align: right;\n",
       "    }\n",
       "\n",
       "    .dataframe thead th {\n",
       "        text-align: left;\n",
       "    }\n",
       "\n",
       "    .dataframe tbody tr th {\n",
       "        vertical-align: top;\n",
       "    }\n",
       "</style>\n",
       "<table border=\"1\" class=\"dataframe\">\n",
       "  <thead>\n",
       "    <tr style=\"text-align: right;\">\n",
       "      <th></th>\n",
       "      <th>floats</th>\n",
       "      <th>names</th>\n",
       "      <th>numbers</th>\n",
       "      <th>squares</th>\n",
       "    </tr>\n",
       "  </thead>\n",
       "  <tbody>\n",
       "    <tr>\n",
       "      <th>a</th>\n",
       "      <td>1.50</td>\n",
       "      <td>Guido</td>\n",
       "      <td>10</td>\n",
       "      <td>1.0</td>\n",
       "    </tr>\n",
       "    <tr>\n",
       "      <th>b</th>\n",
       "      <td>2.50</td>\n",
       "      <td>Felix</td>\n",
       "      <td>20</td>\n",
       "      <td>4.0</td>\n",
       "    </tr>\n",
       "    <tr>\n",
       "      <th>c</th>\n",
       "      <td>3.50</td>\n",
       "      <td>Francesc</td>\n",
       "      <td>30</td>\n",
       "      <td>9.0</td>\n",
       "    </tr>\n",
       "    <tr>\n",
       "      <th>d</th>\n",
       "      <td>4.50</td>\n",
       "      <td>Yves</td>\n",
       "      <td>40</td>\n",
       "      <td>16.0</td>\n",
       "    </tr>\n",
       "    <tr>\n",
       "      <th>z</th>\n",
       "      <td>5.75</td>\n",
       "      <td>Henry</td>\n",
       "      <td>100</td>\n",
       "      <td>NaN</td>\n",
       "    </tr>\n",
       "  </tbody>\n",
       "</table>\n",
       "</div>"
      ],
      "text/plain": [
       "   floats     names  numbers  squares\n",
       "a    1.50     Guido       10      1.0\n",
       "b    2.50     Felix       20      4.0\n",
       "c    3.50  Francesc       30      9.0\n",
       "d    4.50      Yves       40     16.0\n",
       "z    5.75     Henry      100      NaN"
      ]
     },
     "execution_count": 14,
     "metadata": {},
     "output_type": "execute_result"
    }
   ],
   "source": [
    "df.join(pd.DataFrame([1, 4, 9, 16, 25],\n",
    "            index=['a', 'b', 'c', 'd', 'y'],\n",
    "            columns=['squares',]))\n",
    "  # temporary object"
   ]
  },
  {
   "cell_type": "code",
   "execution_count": 18,
   "metadata": {
    "uuid": "6558c7ff-f24e-4dd0-b57e-a30196bad1f4"
   },
   "outputs": [
    {
     "data": {
      "text/html": [
       "<div>\n",
       "<style scoped>\n",
       "    .dataframe tbody tr th:only-of-type {\n",
       "        vertical-align: middle;\n",
       "    }\n",
       "\n",
       "    .dataframe tbody tr th {\n",
       "        vertical-align: top;\n",
       "    }\n",
       "\n",
       "    .dataframe thead th {\n",
       "        text-align: right;\n",
       "    }\n",
       "</style>\n",
       "<table border=\"1\" class=\"dataframe\">\n",
       "  <thead>\n",
       "    <tr style=\"text-align: right;\">\n",
       "      <th></th>\n",
       "      <th>floats</th>\n",
       "      <th>names</th>\n",
       "      <th>numbers</th>\n",
       "      <th>squares</th>\n",
       "    </tr>\n",
       "  </thead>\n",
       "  <tbody>\n",
       "    <tr>\n",
       "      <th>a</th>\n",
       "      <td>1.50</td>\n",
       "      <td>Guido</td>\n",
       "      <td>10.0</td>\n",
       "      <td>1.0</td>\n",
       "    </tr>\n",
       "    <tr>\n",
       "      <th>b</th>\n",
       "      <td>2.50</td>\n",
       "      <td>Felix</td>\n",
       "      <td>20.0</td>\n",
       "      <td>4.0</td>\n",
       "    </tr>\n",
       "    <tr>\n",
       "      <th>c</th>\n",
       "      <td>3.50</td>\n",
       "      <td>Francesc</td>\n",
       "      <td>30.0</td>\n",
       "      <td>9.0</td>\n",
       "    </tr>\n",
       "    <tr>\n",
       "      <th>d</th>\n",
       "      <td>4.50</td>\n",
       "      <td>Yves</td>\n",
       "      <td>40.0</td>\n",
       "      <td>16.0</td>\n",
       "    </tr>\n",
       "    <tr>\n",
       "      <th>y</th>\n",
       "      <td>NaN</td>\n",
       "      <td>NaN</td>\n",
       "      <td>NaN</td>\n",
       "      <td>25.0</td>\n",
       "    </tr>\n",
       "    <tr>\n",
       "      <th>z</th>\n",
       "      <td>5.75</td>\n",
       "      <td>Henry</td>\n",
       "      <td>100.0</td>\n",
       "      <td>NaN</td>\n",
       "    </tr>\n",
       "  </tbody>\n",
       "</table>\n",
       "</div>"
      ],
      "text/plain": [
       "   floats     names  numbers  squares\n",
       "a    1.50     Guido     10.0      1.0\n",
       "b    2.50     Felix     20.0      4.0\n",
       "c    3.50  Francesc     30.0      9.0\n",
       "d    4.50      Yves     40.0     16.0\n",
       "y     NaN       NaN      NaN     25.0\n",
       "z    5.75     Henry    100.0      NaN"
      ]
     },
     "execution_count": 18,
     "metadata": {},
     "output_type": "execute_result"
    }
   ],
   "source": [
    "df = df.join(pd.DataFrame([1, 4, 9, 16, 25],\n",
    "                    index=['a', 'b', 'c', 'd', 'y'],\n",
    "                    columns=['squares',]),\n",
    "                    how='outer')\n",
    "df"
   ]
  },
  {
   "cell_type": "code",
   "execution_count": 19,
   "metadata": {
    "uuid": "3e863c7f-7875-4911-997b-6e48123dc1e5"
   },
   "outputs": [
    {
     "data": {
      "text/plain": [
       "numbers    40.0\n",
       "squares    11.0\n",
       "dtype: float64"
      ]
     },
     "execution_count": 19,
     "metadata": {},
     "output_type": "execute_result"
    }
   ],
   "source": [
    "df[['numbers', 'squares']].mean()\n",
    "  # column-wise mean"
   ]
  },
  {
   "cell_type": "code",
   "execution_count": 20,
   "metadata": {
    "uuid": "c52173a0-485d-4eb2-b6b4-407d1ff2c30e"
   },
   "outputs": [
    {
     "data": {
      "text/plain": [
       "numbers    35.355339\n",
       "squares     9.669540\n",
       "dtype: float64"
      ]
     },
     "execution_count": 20,
     "metadata": {},
     "output_type": "execute_result"
    }
   ],
   "source": [
    "df[['numbers', 'squares']].std()\n",
    "  # column-wise standard deviation"
   ]
  },
  {
   "cell_type": "markdown",
   "metadata": {},
   "source": [
    "### Second Steps with DataFrame Class"
   ]
  },
  {
   "cell_type": "code",
   "execution_count": 21,
   "metadata": {
    "uuid": "d6f56a00-91e6-4221-a1ec-6093f416d1be"
   },
   "outputs": [
    {
     "data": {
      "text/plain": [
       "array([[ 1.321677, -0.223755,  0.845289,  1.312106],\n",
       "       [-0.958205,  0.763066, -0.188933, -0.863822],\n",
       "       [ 0.224055, -0.62577 , -1.975839,  0.250876],\n",
       "       [ 0.574035, -0.182031,  0.312119,  0.597762],\n",
       "       [ 0.172791,  1.04793 , -0.687687,  0.4307  ],\n",
       "       [ 0.546069,  1.035873, -0.371233,  1.692606],\n",
       "       [-1.600886, -0.179964,  0.376877,  0.27294 ],\n",
       "       [ 1.265513,  1.319254,  1.26514 ,  1.596943],\n",
       "       [-1.668441,  0.36277 ,  0.710947,  2.149087]])"
      ]
     },
     "execution_count": 21,
     "metadata": {},
     "output_type": "execute_result"
    }
   ],
   "source": [
    "a = np.random.standard_normal((9, 4))\n",
    "a.round(6)"
   ]
  },
  {
   "cell_type": "code",
   "execution_count": 22,
   "metadata": {
    "uuid": "450bd14d-7668-4f3f-a863-966f13562818"
   },
   "outputs": [
    {
     "data": {
      "text/html": [
       "<div>\n",
       "<style scoped>\n",
       "    .dataframe tbody tr th:only-of-type {\n",
       "        vertical-align: middle;\n",
       "    }\n",
       "\n",
       "    .dataframe tbody tr th {\n",
       "        vertical-align: top;\n",
       "    }\n",
       "\n",
       "    .dataframe thead th {\n",
       "        text-align: right;\n",
       "    }\n",
       "</style>\n",
       "<table border=\"1\" class=\"dataframe\">\n",
       "  <thead>\n",
       "    <tr style=\"text-align: right;\">\n",
       "      <th></th>\n",
       "      <th>0</th>\n",
       "      <th>1</th>\n",
       "      <th>2</th>\n",
       "      <th>3</th>\n",
       "    </tr>\n",
       "  </thead>\n",
       "  <tbody>\n",
       "    <tr>\n",
       "      <th>0</th>\n",
       "      <td>1.321677</td>\n",
       "      <td>-0.223755</td>\n",
       "      <td>0.845289</td>\n",
       "      <td>1.312106</td>\n",
       "    </tr>\n",
       "    <tr>\n",
       "      <th>1</th>\n",
       "      <td>-0.958205</td>\n",
       "      <td>0.763066</td>\n",
       "      <td>-0.188933</td>\n",
       "      <td>-0.863822</td>\n",
       "    </tr>\n",
       "    <tr>\n",
       "      <th>2</th>\n",
       "      <td>0.224055</td>\n",
       "      <td>-0.625770</td>\n",
       "      <td>-1.975839</td>\n",
       "      <td>0.250876</td>\n",
       "    </tr>\n",
       "    <tr>\n",
       "      <th>3</th>\n",
       "      <td>0.574035</td>\n",
       "      <td>-0.182031</td>\n",
       "      <td>0.312119</td>\n",
       "      <td>0.597762</td>\n",
       "    </tr>\n",
       "    <tr>\n",
       "      <th>4</th>\n",
       "      <td>0.172791</td>\n",
       "      <td>1.047930</td>\n",
       "      <td>-0.687687</td>\n",
       "      <td>0.430700</td>\n",
       "    </tr>\n",
       "    <tr>\n",
       "      <th>5</th>\n",
       "      <td>0.546069</td>\n",
       "      <td>1.035873</td>\n",
       "      <td>-0.371233</td>\n",
       "      <td>1.692606</td>\n",
       "    </tr>\n",
       "    <tr>\n",
       "      <th>6</th>\n",
       "      <td>-1.600886</td>\n",
       "      <td>-0.179964</td>\n",
       "      <td>0.376877</td>\n",
       "      <td>0.272940</td>\n",
       "    </tr>\n",
       "    <tr>\n",
       "      <th>7</th>\n",
       "      <td>1.265513</td>\n",
       "      <td>1.319254</td>\n",
       "      <td>1.265140</td>\n",
       "      <td>1.596943</td>\n",
       "    </tr>\n",
       "    <tr>\n",
       "      <th>8</th>\n",
       "      <td>-1.668441</td>\n",
       "      <td>0.362770</td>\n",
       "      <td>0.710947</td>\n",
       "      <td>2.149087</td>\n",
       "    </tr>\n",
       "  </tbody>\n",
       "</table>\n",
       "</div>"
      ],
      "text/plain": [
       "          0         1         2         3\n",
       "0  1.321677 -0.223755  0.845289  1.312106\n",
       "1 -0.958205  0.763066 -0.188933 -0.863822\n",
       "2  0.224055 -0.625770 -1.975839  0.250876\n",
       "3  0.574035 -0.182031  0.312119  0.597762\n",
       "4  0.172791  1.047930 -0.687687  0.430700\n",
       "5  0.546069  1.035873 -0.371233  1.692606\n",
       "6 -1.600886 -0.179964  0.376877  0.272940\n",
       "7  1.265513  1.319254  1.265140  1.596943\n",
       "8 -1.668441  0.362770  0.710947  2.149087"
      ]
     },
     "execution_count": 22,
     "metadata": {},
     "output_type": "execute_result"
    }
   ],
   "source": [
    "df = pd.DataFrame(a)\n",
    "df"
   ]
  },
  {
   "cell_type": "code",
   "execution_count": 23,
   "metadata": {
    "uuid": "968395a4-12bc-46d2-b486-6c767abce366"
   },
   "outputs": [
    {
     "data": {
      "text/html": [
       "<div>\n",
       "<style scoped>\n",
       "    .dataframe tbody tr th:only-of-type {\n",
       "        vertical-align: middle;\n",
       "    }\n",
       "\n",
       "    .dataframe tbody tr th {\n",
       "        vertical-align: top;\n",
       "    }\n",
       "\n",
       "    .dataframe thead th {\n",
       "        text-align: right;\n",
       "    }\n",
       "</style>\n",
       "<table border=\"1\" class=\"dataframe\">\n",
       "  <thead>\n",
       "    <tr style=\"text-align: right;\">\n",
       "      <th></th>\n",
       "      <th>No1</th>\n",
       "      <th>No2</th>\n",
       "      <th>No3</th>\n",
       "      <th>No4</th>\n",
       "    </tr>\n",
       "  </thead>\n",
       "  <tbody>\n",
       "    <tr>\n",
       "      <th>0</th>\n",
       "      <td>1.321677</td>\n",
       "      <td>-0.223755</td>\n",
       "      <td>0.845289</td>\n",
       "      <td>1.312106</td>\n",
       "    </tr>\n",
       "    <tr>\n",
       "      <th>1</th>\n",
       "      <td>-0.958205</td>\n",
       "      <td>0.763066</td>\n",
       "      <td>-0.188933</td>\n",
       "      <td>-0.863822</td>\n",
       "    </tr>\n",
       "    <tr>\n",
       "      <th>2</th>\n",
       "      <td>0.224055</td>\n",
       "      <td>-0.625770</td>\n",
       "      <td>-1.975839</td>\n",
       "      <td>0.250876</td>\n",
       "    </tr>\n",
       "    <tr>\n",
       "      <th>3</th>\n",
       "      <td>0.574035</td>\n",
       "      <td>-0.182031</td>\n",
       "      <td>0.312119</td>\n",
       "      <td>0.597762</td>\n",
       "    </tr>\n",
       "    <tr>\n",
       "      <th>4</th>\n",
       "      <td>0.172791</td>\n",
       "      <td>1.047930</td>\n",
       "      <td>-0.687687</td>\n",
       "      <td>0.430700</td>\n",
       "    </tr>\n",
       "    <tr>\n",
       "      <th>5</th>\n",
       "      <td>0.546069</td>\n",
       "      <td>1.035873</td>\n",
       "      <td>-0.371233</td>\n",
       "      <td>1.692606</td>\n",
       "    </tr>\n",
       "    <tr>\n",
       "      <th>6</th>\n",
       "      <td>-1.600886</td>\n",
       "      <td>-0.179964</td>\n",
       "      <td>0.376877</td>\n",
       "      <td>0.272940</td>\n",
       "    </tr>\n",
       "    <tr>\n",
       "      <th>7</th>\n",
       "      <td>1.265513</td>\n",
       "      <td>1.319254</td>\n",
       "      <td>1.265140</td>\n",
       "      <td>1.596943</td>\n",
       "    </tr>\n",
       "    <tr>\n",
       "      <th>8</th>\n",
       "      <td>-1.668441</td>\n",
       "      <td>0.362770</td>\n",
       "      <td>0.710947</td>\n",
       "      <td>2.149087</td>\n",
       "    </tr>\n",
       "  </tbody>\n",
       "</table>\n",
       "</div>"
      ],
      "text/plain": [
       "        No1       No2       No3       No4\n",
       "0  1.321677 -0.223755  0.845289  1.312106\n",
       "1 -0.958205  0.763066 -0.188933 -0.863822\n",
       "2  0.224055 -0.625770 -1.975839  0.250876\n",
       "3  0.574035 -0.182031  0.312119  0.597762\n",
       "4  0.172791  1.047930 -0.687687  0.430700\n",
       "5  0.546069  1.035873 -0.371233  1.692606\n",
       "6 -1.600886 -0.179964  0.376877  0.272940\n",
       "7  1.265513  1.319254  1.265140  1.596943\n",
       "8 -1.668441  0.362770  0.710947  2.149087"
      ]
     },
     "execution_count": 23,
     "metadata": {},
     "output_type": "execute_result"
    }
   ],
   "source": [
    "df.columns = ['No1', 'No2', 'No3', 'No4']\n",
    "df"
   ]
  },
  {
   "cell_type": "code",
   "execution_count": 24,
   "metadata": {
    "uuid": "68e8d73f-93d3-47ac-a656-1edbdebcd1ff"
   },
   "outputs": [
    {
     "data": {
      "text/plain": [
       "-0.18203051098590636"
      ]
     },
     "execution_count": 24,
     "metadata": {},
     "output_type": "execute_result"
    }
   ],
   "source": [
    "df['No2'].iloc[3]  # value in column No2 at index position 3"
   ]
  },
  {
   "cell_type": "code",
   "execution_count": 25,
   "metadata": {
    "uuid": "a80e1e88-d211-4ee4-a6d3-90403a7739a8"
   },
   "outputs": [
    {
     "data": {
      "text/plain": [
       "DatetimeIndex(['2015-01-31', '2015-02-28', '2015-03-31', '2015-04-30',\n",
       "               '2015-05-31', '2015-06-30', '2015-07-31', '2015-08-31',\n",
       "               '2015-09-30'],\n",
       "              dtype='datetime64[ns]', freq='M')"
      ]
     },
     "execution_count": 25,
     "metadata": {},
     "output_type": "execute_result"
    }
   ],
   "source": [
    "dates = pd.date_range('2015-1-1', periods=9, freq='M')\n",
    "dates"
   ]
  },
  {
   "cell_type": "code",
   "execution_count": 26,
   "metadata": {
    "uuid": "d8fef9ed-25ca-4ae0-bd0c-026d340a903b"
   },
   "outputs": [
    {
     "data": {
      "text/html": [
       "<div>\n",
       "<style scoped>\n",
       "    .dataframe tbody tr th:only-of-type {\n",
       "        vertical-align: middle;\n",
       "    }\n",
       "\n",
       "    .dataframe tbody tr th {\n",
       "        vertical-align: top;\n",
       "    }\n",
       "\n",
       "    .dataframe thead th {\n",
       "        text-align: right;\n",
       "    }\n",
       "</style>\n",
       "<table border=\"1\" class=\"dataframe\">\n",
       "  <thead>\n",
       "    <tr style=\"text-align: right;\">\n",
       "      <th></th>\n",
       "      <th>No1</th>\n",
       "      <th>No2</th>\n",
       "      <th>No3</th>\n",
       "      <th>No4</th>\n",
       "    </tr>\n",
       "  </thead>\n",
       "  <tbody>\n",
       "    <tr>\n",
       "      <th>2015-01-31</th>\n",
       "      <td>1.321677</td>\n",
       "      <td>-0.223755</td>\n",
       "      <td>0.845289</td>\n",
       "      <td>1.312106</td>\n",
       "    </tr>\n",
       "    <tr>\n",
       "      <th>2015-02-28</th>\n",
       "      <td>-0.958205</td>\n",
       "      <td>0.763066</td>\n",
       "      <td>-0.188933</td>\n",
       "      <td>-0.863822</td>\n",
       "    </tr>\n",
       "    <tr>\n",
       "      <th>2015-03-31</th>\n",
       "      <td>0.224055</td>\n",
       "      <td>-0.625770</td>\n",
       "      <td>-1.975839</td>\n",
       "      <td>0.250876</td>\n",
       "    </tr>\n",
       "    <tr>\n",
       "      <th>2015-04-30</th>\n",
       "      <td>0.574035</td>\n",
       "      <td>-0.182031</td>\n",
       "      <td>0.312119</td>\n",
       "      <td>0.597762</td>\n",
       "    </tr>\n",
       "    <tr>\n",
       "      <th>2015-05-31</th>\n",
       "      <td>0.172791</td>\n",
       "      <td>1.047930</td>\n",
       "      <td>-0.687687</td>\n",
       "      <td>0.430700</td>\n",
       "    </tr>\n",
       "    <tr>\n",
       "      <th>2015-06-30</th>\n",
       "      <td>0.546069</td>\n",
       "      <td>1.035873</td>\n",
       "      <td>-0.371233</td>\n",
       "      <td>1.692606</td>\n",
       "    </tr>\n",
       "    <tr>\n",
       "      <th>2015-07-31</th>\n",
       "      <td>-1.600886</td>\n",
       "      <td>-0.179964</td>\n",
       "      <td>0.376877</td>\n",
       "      <td>0.272940</td>\n",
       "    </tr>\n",
       "    <tr>\n",
       "      <th>2015-08-31</th>\n",
       "      <td>1.265513</td>\n",
       "      <td>1.319254</td>\n",
       "      <td>1.265140</td>\n",
       "      <td>1.596943</td>\n",
       "    </tr>\n",
       "    <tr>\n",
       "      <th>2015-09-30</th>\n",
       "      <td>-1.668441</td>\n",
       "      <td>0.362770</td>\n",
       "      <td>0.710947</td>\n",
       "      <td>2.149087</td>\n",
       "    </tr>\n",
       "  </tbody>\n",
       "</table>\n",
       "</div>"
      ],
      "text/plain": [
       "                 No1       No2       No3       No4\n",
       "2015-01-31  1.321677 -0.223755  0.845289  1.312106\n",
       "2015-02-28 -0.958205  0.763066 -0.188933 -0.863822\n",
       "2015-03-31  0.224055 -0.625770 -1.975839  0.250876\n",
       "2015-04-30  0.574035 -0.182031  0.312119  0.597762\n",
       "2015-05-31  0.172791  1.047930 -0.687687  0.430700\n",
       "2015-06-30  0.546069  1.035873 -0.371233  1.692606\n",
       "2015-07-31 -1.600886 -0.179964  0.376877  0.272940\n",
       "2015-08-31  1.265513  1.319254  1.265140  1.596943\n",
       "2015-09-30 -1.668441  0.362770  0.710947  2.149087"
      ]
     },
     "execution_count": 26,
     "metadata": {},
     "output_type": "execute_result"
    }
   ],
   "source": [
    "df.index = dates\n",
    "df"
   ]
  },
  {
   "cell_type": "code",
   "execution_count": 27,
   "metadata": {
    "uuid": "bcc38d60-3e1c-49bb-b883-ea7564c136b4"
   },
   "outputs": [
    {
     "data": {
      "text/plain": [
       "array([[ 1.321677, -0.223755,  0.845289,  1.312106],\n",
       "       [-0.958205,  0.763066, -0.188933, -0.863822],\n",
       "       [ 0.224055, -0.62577 , -1.975839,  0.250876],\n",
       "       [ 0.574035, -0.182031,  0.312119,  0.597762],\n",
       "       [ 0.172791,  1.04793 , -0.687687,  0.4307  ],\n",
       "       [ 0.546069,  1.035873, -0.371233,  1.692606],\n",
       "       [-1.600886, -0.179964,  0.376877,  0.27294 ],\n",
       "       [ 1.265513,  1.319254,  1.26514 ,  1.596943],\n",
       "       [-1.668441,  0.36277 ,  0.710947,  2.149087]])"
      ]
     },
     "execution_count": 27,
     "metadata": {},
     "output_type": "execute_result"
    }
   ],
   "source": [
    "np.array(df).round(6)"
   ]
  },
  {
   "cell_type": "markdown",
   "metadata": {},
   "source": [
    "### Basic Analytics"
   ]
  },
  {
   "cell_type": "code",
   "execution_count": 28,
   "metadata": {
    "uuid": "f760ea25-c64c-4e70-9f91-b72701d919ce"
   },
   "outputs": [
    {
     "data": {
      "text/plain": [
       "No1   -0.123391\n",
       "No2    3.317374\n",
       "No3    0.286681\n",
       "No4    7.439198\n",
       "dtype: float64"
      ]
     },
     "execution_count": 28,
     "metadata": {},
     "output_type": "execute_result"
    }
   ],
   "source": [
    "df.sum()"
   ]
  },
  {
   "cell_type": "code",
   "execution_count": 29,
   "metadata": {
    "uuid": "3dd9bd77-eb80-46cb-87f3-62c053a8e223"
   },
   "outputs": [
    {
     "data": {
      "text/plain": [
       "No1   -0.013710\n",
       "No2    0.368597\n",
       "No3    0.031853\n",
       "No4    0.826578\n",
       "dtype: float64"
      ]
     },
     "execution_count": 29,
     "metadata": {},
     "output_type": "execute_result"
    }
   ],
   "source": [
    "df.mean()"
   ]
  },
  {
   "cell_type": "code",
   "execution_count": 30,
   "metadata": {
    "uuid": "8e167ea8-09b7-4585-8cac-28fe20eefe66"
   },
   "outputs": [
    {
     "data": {
      "text/html": [
       "<div>\n",
       "<style scoped>\n",
       "    .dataframe tbody tr th:only-of-type {\n",
       "        vertical-align: middle;\n",
       "    }\n",
       "\n",
       "    .dataframe tbody tr th {\n",
       "        vertical-align: top;\n",
       "    }\n",
       "\n",
       "    .dataframe thead th {\n",
       "        text-align: right;\n",
       "    }\n",
       "</style>\n",
       "<table border=\"1\" class=\"dataframe\">\n",
       "  <thead>\n",
       "    <tr style=\"text-align: right;\">\n",
       "      <th></th>\n",
       "      <th>No1</th>\n",
       "      <th>No2</th>\n",
       "      <th>No3</th>\n",
       "      <th>No4</th>\n",
       "    </tr>\n",
       "  </thead>\n",
       "  <tbody>\n",
       "    <tr>\n",
       "      <th>2015-01-31</th>\n",
       "      <td>1.321677</td>\n",
       "      <td>-0.223755</td>\n",
       "      <td>0.845289</td>\n",
       "      <td>1.312106</td>\n",
       "    </tr>\n",
       "    <tr>\n",
       "      <th>2015-02-28</th>\n",
       "      <td>0.363472</td>\n",
       "      <td>0.539312</td>\n",
       "      <td>0.656356</td>\n",
       "      <td>0.448284</td>\n",
       "    </tr>\n",
       "    <tr>\n",
       "      <th>2015-03-31</th>\n",
       "      <td>0.587528</td>\n",
       "      <td>-0.086458</td>\n",
       "      <td>-1.319483</td>\n",
       "      <td>0.699160</td>\n",
       "    </tr>\n",
       "    <tr>\n",
       "      <th>2015-04-30</th>\n",
       "      <td>1.161563</td>\n",
       "      <td>-0.268489</td>\n",
       "      <td>-1.007364</td>\n",
       "      <td>1.296922</td>\n",
       "    </tr>\n",
       "    <tr>\n",
       "      <th>2015-05-31</th>\n",
       "      <td>1.334353</td>\n",
       "      <td>0.779441</td>\n",
       "      <td>-1.695050</td>\n",
       "      <td>1.727622</td>\n",
       "    </tr>\n",
       "    <tr>\n",
       "      <th>2015-06-30</th>\n",
       "      <td>1.880423</td>\n",
       "      <td>1.815314</td>\n",
       "      <td>-2.066284</td>\n",
       "      <td>3.420228</td>\n",
       "    </tr>\n",
       "    <tr>\n",
       "      <th>2015-07-31</th>\n",
       "      <td>0.279537</td>\n",
       "      <td>1.635350</td>\n",
       "      <td>-1.689407</td>\n",
       "      <td>3.693167</td>\n",
       "    </tr>\n",
       "    <tr>\n",
       "      <th>2015-08-31</th>\n",
       "      <td>1.545050</td>\n",
       "      <td>2.954604</td>\n",
       "      <td>-0.424267</td>\n",
       "      <td>5.290110</td>\n",
       "    </tr>\n",
       "    <tr>\n",
       "      <th>2015-09-30</th>\n",
       "      <td>-0.123391</td>\n",
       "      <td>3.317374</td>\n",
       "      <td>0.286681</td>\n",
       "      <td>7.439198</td>\n",
       "    </tr>\n",
       "  </tbody>\n",
       "</table>\n",
       "</div>"
      ],
      "text/plain": [
       "                 No1       No2       No3       No4\n",
       "2015-01-31  1.321677 -0.223755  0.845289  1.312106\n",
       "2015-02-28  0.363472  0.539312  0.656356  0.448284\n",
       "2015-03-31  0.587528 -0.086458 -1.319483  0.699160\n",
       "2015-04-30  1.161563 -0.268489 -1.007364  1.296922\n",
       "2015-05-31  1.334353  0.779441 -1.695050  1.727622\n",
       "2015-06-30  1.880423  1.815314 -2.066284  3.420228\n",
       "2015-07-31  0.279537  1.635350 -1.689407  3.693167\n",
       "2015-08-31  1.545050  2.954604 -0.424267  5.290110\n",
       "2015-09-30 -0.123391  3.317374  0.286681  7.439198"
      ]
     },
     "execution_count": 30,
     "metadata": {},
     "output_type": "execute_result"
    }
   ],
   "source": [
    "df.cumsum()"
   ]
  },
  {
   "cell_type": "code",
   "execution_count": 31,
   "metadata": {
    "uuid": "125980cc-91ec-4ab4-9a4a-cfd772dd1254"
   },
   "outputs": [
    {
     "data": {
      "text/html": [
       "<div>\n",
       "<style scoped>\n",
       "    .dataframe tbody tr th:only-of-type {\n",
       "        vertical-align: middle;\n",
       "    }\n",
       "\n",
       "    .dataframe tbody tr th {\n",
       "        vertical-align: top;\n",
       "    }\n",
       "\n",
       "    .dataframe thead th {\n",
       "        text-align: right;\n",
       "    }\n",
       "</style>\n",
       "<table border=\"1\" class=\"dataframe\">\n",
       "  <thead>\n",
       "    <tr style=\"text-align: right;\">\n",
       "      <th></th>\n",
       "      <th>No1</th>\n",
       "      <th>No2</th>\n",
       "      <th>No3</th>\n",
       "      <th>No4</th>\n",
       "    </tr>\n",
       "  </thead>\n",
       "  <tbody>\n",
       "    <tr>\n",
       "      <th>count</th>\n",
       "      <td>9.000000</td>\n",
       "      <td>9.000000</td>\n",
       "      <td>9.000000</td>\n",
       "      <td>9.000000</td>\n",
       "    </tr>\n",
       "    <tr>\n",
       "      <th>mean</th>\n",
       "      <td>-0.013710</td>\n",
       "      <td>0.368597</td>\n",
       "      <td>0.031853</td>\n",
       "      <td>0.826578</td>\n",
       "    </tr>\n",
       "    <tr>\n",
       "      <th>std</th>\n",
       "      <td>1.135733</td>\n",
       "      <td>0.699097</td>\n",
       "      <td>0.974758</td>\n",
       "      <td>0.937597</td>\n",
       "    </tr>\n",
       "    <tr>\n",
       "      <th>min</th>\n",
       "      <td>-1.668441</td>\n",
       "      <td>-0.625770</td>\n",
       "      <td>-1.975839</td>\n",
       "      <td>-0.863822</td>\n",
       "    </tr>\n",
       "    <tr>\n",
       "      <th>25%</th>\n",
       "      <td>-0.958205</td>\n",
       "      <td>-0.182031</td>\n",
       "      <td>-0.371233</td>\n",
       "      <td>0.272940</td>\n",
       "    </tr>\n",
       "    <tr>\n",
       "      <th>50%</th>\n",
       "      <td>0.224055</td>\n",
       "      <td>0.362770</td>\n",
       "      <td>0.312119</td>\n",
       "      <td>0.597762</td>\n",
       "    </tr>\n",
       "    <tr>\n",
       "      <th>75%</th>\n",
       "      <td>0.574035</td>\n",
       "      <td>1.035873</td>\n",
       "      <td>0.710947</td>\n",
       "      <td>1.596943</td>\n",
       "    </tr>\n",
       "    <tr>\n",
       "      <th>max</th>\n",
       "      <td>1.321677</td>\n",
       "      <td>1.319254</td>\n",
       "      <td>1.265140</td>\n",
       "      <td>2.149087</td>\n",
       "    </tr>\n",
       "  </tbody>\n",
       "</table>\n",
       "</div>"
      ],
      "text/plain": [
       "            No1       No2       No3       No4\n",
       "count  9.000000  9.000000  9.000000  9.000000\n",
       "mean  -0.013710  0.368597  0.031853  0.826578\n",
       "std    1.135733  0.699097  0.974758  0.937597\n",
       "min   -1.668441 -0.625770 -1.975839 -0.863822\n",
       "25%   -0.958205 -0.182031 -0.371233  0.272940\n",
       "50%    0.224055  0.362770  0.312119  0.597762\n",
       "75%    0.574035  1.035873  0.710947  1.596943\n",
       "max    1.321677  1.319254  1.265140  2.149087"
      ]
     },
     "execution_count": 31,
     "metadata": {},
     "output_type": "execute_result"
    }
   ],
   "source": [
    "df.describe()"
   ]
  },
  {
   "cell_type": "code",
   "execution_count": 32,
   "metadata": {
    "uuid": "9dfc1e40-c030-4a9c-9e3a-ff28c64a93df"
   },
   "outputs": [
    {
     "data": {
      "text/html": [
       "<div>\n",
       "<style scoped>\n",
       "    .dataframe tbody tr th:only-of-type {\n",
       "        vertical-align: middle;\n",
       "    }\n",
       "\n",
       "    .dataframe tbody tr th {\n",
       "        vertical-align: top;\n",
       "    }\n",
       "\n",
       "    .dataframe thead th {\n",
       "        text-align: right;\n",
       "    }\n",
       "</style>\n",
       "<table border=\"1\" class=\"dataframe\">\n",
       "  <thead>\n",
       "    <tr style=\"text-align: right;\">\n",
       "      <th></th>\n",
       "      <th>No1</th>\n",
       "      <th>No2</th>\n",
       "      <th>No3</th>\n",
       "      <th>No4</th>\n",
       "    </tr>\n",
       "  </thead>\n",
       "  <tbody>\n",
       "    <tr>\n",
       "      <th>2015-01-31</th>\n",
       "      <td>1.149642</td>\n",
       "      <td>0.473027</td>\n",
       "      <td>0.919396</td>\n",
       "      <td>1.145472</td>\n",
       "    </tr>\n",
       "    <tr>\n",
       "      <th>2015-02-28</th>\n",
       "      <td>0.978879</td>\n",
       "      <td>0.873537</td>\n",
       "      <td>0.434664</td>\n",
       "      <td>0.929420</td>\n",
       "    </tr>\n",
       "    <tr>\n",
       "      <th>2015-03-31</th>\n",
       "      <td>0.473345</td>\n",
       "      <td>0.791056</td>\n",
       "      <td>1.405645</td>\n",
       "      <td>0.500875</td>\n",
       "    </tr>\n",
       "    <tr>\n",
       "      <th>2015-04-30</th>\n",
       "      <td>0.757651</td>\n",
       "      <td>0.426650</td>\n",
       "      <td>0.558676</td>\n",
       "      <td>0.773150</td>\n",
       "    </tr>\n",
       "    <tr>\n",
       "      <th>2015-05-31</th>\n",
       "      <td>0.415681</td>\n",
       "      <td>1.023685</td>\n",
       "      <td>0.829269</td>\n",
       "      <td>0.656277</td>\n",
       "    </tr>\n",
       "    <tr>\n",
       "      <th>2015-06-30</th>\n",
       "      <td>0.738965</td>\n",
       "      <td>1.017778</td>\n",
       "      <td>0.609289</td>\n",
       "      <td>1.301002</td>\n",
       "    </tr>\n",
       "    <tr>\n",
       "      <th>2015-07-31</th>\n",
       "      <td>1.265261</td>\n",
       "      <td>0.424221</td>\n",
       "      <td>0.613903</td>\n",
       "      <td>0.522436</td>\n",
       "    </tr>\n",
       "    <tr>\n",
       "      <th>2015-08-31</th>\n",
       "      <td>1.124950</td>\n",
       "      <td>1.148588</td>\n",
       "      <td>1.124784</td>\n",
       "      <td>1.263702</td>\n",
       "    </tr>\n",
       "    <tr>\n",
       "      <th>2015-09-30</th>\n",
       "      <td>1.291681</td>\n",
       "      <td>0.602304</td>\n",
       "      <td>0.843177</td>\n",
       "      <td>1.465977</td>\n",
       "    </tr>\n",
       "  </tbody>\n",
       "</table>\n",
       "</div>"
      ],
      "text/plain": [
       "                 No1       No2       No3       No4\n",
       "2015-01-31  1.149642  0.473027  0.919396  1.145472\n",
       "2015-02-28  0.978879  0.873537  0.434664  0.929420\n",
       "2015-03-31  0.473345  0.791056  1.405645  0.500875\n",
       "2015-04-30  0.757651  0.426650  0.558676  0.773150\n",
       "2015-05-31  0.415681  1.023685  0.829269  0.656277\n",
       "2015-06-30  0.738965  1.017778  0.609289  1.301002\n",
       "2015-07-31  1.265261  0.424221  0.613903  0.522436\n",
       "2015-08-31  1.124950  1.148588  1.124784  1.263702\n",
       "2015-09-30  1.291681  0.602304  0.843177  1.465977"
      ]
     },
     "execution_count": 32,
     "metadata": {},
     "output_type": "execute_result"
    }
   ],
   "source": [
    "np.sqrt(abs(df))"
   ]
  },
  {
   "cell_type": "code",
   "execution_count": 33,
   "metadata": {
    "uuid": "a540362b-50d7-4ef0-89ba-0b6ee38033f6"
   },
   "outputs": [
    {
     "data": {
      "text/plain": [
       "No1    8.196056\n",
       "No2    6.780846\n",
       "No3    7.338804\n",
       "No4    8.558312\n",
       "dtype: float64"
      ]
     },
     "execution_count": 33,
     "metadata": {},
     "output_type": "execute_result"
    }
   ],
   "source": [
    "np.sqrt(abs(df)).sum()"
   ]
  },
  {
   "cell_type": "code",
   "execution_count": 34,
   "metadata": {
    "uuid": "4b1834ec-9f9b-41d6-8d06-f2efc8433dc4"
   },
   "outputs": [
    {
     "data": {
      "text/plain": [
       "<matplotlib.axes._subplots.AxesSubplot at 0x1080f5f28>"
      ]
     },
     "execution_count": 34,
     "metadata": {},
     "output_type": "execute_result"
    },
    {
     "data": {
      "image/png": "[encoded data removed]",
      "text/plain": [
       "<matplotlib.figure.Figure at 0x1080eb780>"
      ]
     },
     "metadata": {},
     "output_type": "display_data"
    }
   ],
   "source": [
    "%matplotlib inline\n",
    "df.cumsum().plot(lw=2.0, grid=True)\n",
    "# tag: dataframe_plot\n",
    "# title: Line plot of a DataFrame object"
   ]
  },
  {
   "cell_type": "markdown",
   "metadata": {},
   "source": [
    "### Series Class"
   ]
  },
  {
   "cell_type": "code",
   "execution_count": 35,
   "metadata": {
    "uuid": "e86f82d1-5934-42d3-a986-f01bc829adaa"
   },
   "outputs": [
    {
     "data": {
      "text/plain": [
       "pandas.core.frame.DataFrame"
      ]
     },
     "execution_count": 35,
     "metadata": {},
     "output_type": "execute_result"
    }
   ],
   "source": [
    "type(df)"
   ]
  },
  {
   "cell_type": "code",
   "execution_count": 36,
   "metadata": {
    "uuid": "bcebc814-623d-4e8a-81e9-314ab36a7429"
   },
   "outputs": [
    {
     "data": {
      "text/plain": [
       "2015-01-31    1.321677\n",
       "2015-02-28   -0.958205\n",
       "2015-03-31    0.224055\n",
       "2015-04-30    0.574035\n",
       "2015-05-31    0.172791\n",
       "2015-06-30    0.546069\n",
       "2015-07-31   -1.600886\n",
       "2015-08-31    1.265513\n",
       "2015-09-30   -1.668441\n",
       "Freq: M, Name: No1, dtype: float64"
      ]
     },
     "execution_count": 36,
     "metadata": {},
     "output_type": "execute_result"
    }
   ],
   "source": [
    "df['No1']"
   ]
  },
  {
   "cell_type": "code",
   "execution_count": 37,
   "metadata": {
    "uuid": "ca241ef9-5359-4c89-bc92-be6346cb3959"
   },
   "outputs": [
    {
     "data": {
      "text/plain": [
       "pandas.core.series.Series"
      ]
     },
     "execution_count": 37,
     "metadata": {},
     "output_type": "execute_result"
    }
   ],
   "source": [
    "type(df['No1'])"
   ]
  },
  {
   "cell_type": "code",
   "execution_count": 38,
   "metadata": {
    "uuid": "b3d4cc90-e499-459c-88a5-011fde80d864"
   },
   "outputs": [
    {
     "data": {
      "text/plain": [
       "Text(0,0.5,'value')"
      ]
     },
     "execution_count": 38,
     "metadata": {},
     "output_type": "execute_result"
    },
    {
     "data": {
      "image/png": "[encoded data removed]",
      "text/plain": [
       "<matplotlib.figure.Figure at 0x107f182e8>"
      ]
     },
     "metadata": {},
     "output_type": "display_data"
    }
   ],
   "source": [
    "import matplotlib.pyplot as plt\n",
    "df['No1'].cumsum().plot(style='r', lw=2., grid=True)\n",
    "plt.xlabel('date')\n",
    "plt.ylabel('value')\n",
    "# tag: time_series\n",
    "# title: Line plot of a Series object"
   ]
  },
  {
   "cell_type": "markdown",
   "metadata": {},
   "source": [
    "### GroupBy Operations"
   ]
  },
  {
   "cell_type": "code",
   "execution_count": 39,
   "metadata": {
    "scrolled": true,
    "uuid": "4bc106dd-9590-4566-bc70-d410517c8223"
   },
   "outputs": [
    {
     "data": {
      "text/html": [
       "<div>\n",
       "<style scoped>\n",
       "    .dataframe tbody tr th:only-of-type {\n",
       "        vertical-align: middle;\n",
       "    }\n",
       "\n",
       "    .dataframe tbody tr th {\n",
       "        vertical-align: top;\n",
       "    }\n",
       "\n",
       "    .dataframe thead th {\n",
       "        text-align: right;\n",
       "    }\n",
       "</style>\n",
       "<table border=\"1\" class=\"dataframe\">\n",
       "  <thead>\n",
       "    <tr style=\"text-align: right;\">\n",
       "      <th></th>\n",
       "      <th>No1</th>\n",
       "      <th>No2</th>\n",
       "      <th>No3</th>\n",
       "      <th>No4</th>\n",
       "      <th>Quarter</th>\n",
       "    </tr>\n",
       "  </thead>\n",
       "  <tbody>\n",
       "    <tr>\n",
       "      <th>2015-01-31</th>\n",
       "      <td>1.321677</td>\n",
       "      <td>-0.223755</td>\n",
       "      <td>0.845289</td>\n",
       "      <td>1.312106</td>\n",
       "      <td>Q1</td>\n",
       "    </tr>\n",
       "    <tr>\n",
       "      <th>2015-02-28</th>\n",
       "      <td>-0.958205</td>\n",
       "      <td>0.763066</td>\n",
       "      <td>-0.188933</td>\n",
       "      <td>-0.863822</td>\n",
       "      <td>Q1</td>\n",
       "    </tr>\n",
       "    <tr>\n",
       "      <th>2015-03-31</th>\n",
       "      <td>0.224055</td>\n",
       "      <td>-0.625770</td>\n",
       "      <td>-1.975839</td>\n",
       "      <td>0.250876</td>\n",
       "      <td>Q1</td>\n",
       "    </tr>\n",
       "    <tr>\n",
       "      <th>2015-04-30</th>\n",
       "      <td>0.574035</td>\n",
       "      <td>-0.182031</td>\n",
       "      <td>0.312119</td>\n",
       "      <td>0.597762</td>\n",
       "      <td>Q2</td>\n",
       "    </tr>\n",
       "    <tr>\n",
       "      <th>2015-05-31</th>\n",
       "      <td>0.172791</td>\n",
       "      <td>1.047930</td>\n",
       "      <td>-0.687687</td>\n",
       "      <td>0.430700</td>\n",
       "      <td>Q2</td>\n",
       "    </tr>\n",
       "    <tr>\n",
       "      <th>2015-06-30</th>\n",
       "      <td>0.546069</td>\n",
       "      <td>1.035873</td>\n",
       "      <td>-0.371233</td>\n",
       "      <td>1.692606</td>\n",
       "      <td>Q2</td>\n",
       "    </tr>\n",
       "    <tr>\n",
       "      <th>2015-07-31</th>\n",
       "      <td>-1.600886</td>\n",
       "      <td>-0.179964</td>\n",
       "      <td>0.376877</td>\n",
       "      <td>0.272940</td>\n",
       "      <td>Q3</td>\n",
       "    </tr>\n",
       "    <tr>\n",
       "      <th>2015-08-31</th>\n",
       "      <td>1.265513</td>\n",
       "      <td>1.319254</td>\n",
       "      <td>1.265140</td>\n",
       "      <td>1.596943</td>\n",
       "      <td>Q3</td>\n",
       "    </tr>\n",
       "    <tr>\n",
       "      <th>2015-09-30</th>\n",
       "      <td>-1.668441</td>\n",
       "      <td>0.362770</td>\n",
       "      <td>0.710947</td>\n",
       "      <td>2.149087</td>\n",
       "      <td>Q3</td>\n",
       "    </tr>\n",
       "  </tbody>\n",
       "</table>\n",
       "</div>"
      ],
      "text/plain": [
       "                 No1       No2       No3       No4 Quarter\n",
       "2015-01-31  1.321677 -0.223755  0.845289  1.312106      Q1\n",
       "2015-02-28 -0.958205  0.763066 -0.188933 -0.863822      Q1\n",
       "2015-03-31  0.224055 -0.625770 -1.975839  0.250876      Q1\n",
       "2015-04-30  0.574035 -0.182031  0.312119  0.597762      Q2\n",
       "2015-05-31  0.172791  1.047930 -0.687687  0.430700      Q2\n",
       "2015-06-30  0.546069  1.035873 -0.371233  1.692606      Q2\n",
       "2015-07-31 -1.600886 -0.179964  0.376877  0.272940      Q3\n",
       "2015-08-31  1.265513  1.319254  1.265140  1.596943      Q3\n",
       "2015-09-30 -1.668441  0.362770  0.710947  2.149087      Q3"
      ]
     },
     "execution_count": 39,
     "metadata": {},
     "output_type": "execute_result"
    }
   ],
   "source": [
    "df['Quarter'] = ['Q1', 'Q1', 'Q1', 'Q2', 'Q2', 'Q2', 'Q3', 'Q3', 'Q3']\n",
    "df"
   ]
  },
  {
   "cell_type": "code",
   "execution_count": 40,
   "metadata": {},
   "outputs": [],
   "source": [
    "groups = df.groupby('Quarter')"
   ]
  },
  {
   "cell_type": "code",
   "execution_count": 41,
   "metadata": {
    "uuid": "804e567f-6b74-4405-a10e-d19d914655e7"
   },
   "outputs": [
    {
     "data": {
      "text/html": [
       "<div>\n",
       "<style scoped>\n",
       "    .dataframe tbody tr th:only-of-type {\n",
       "        vertical-align: middle;\n",
       "    }\n",
       "\n",
       "    .dataframe tbody tr th {\n",
       "        vertical-align: top;\n",
       "    }\n",
       "\n",
       "    .dataframe thead th {\n",
       "        text-align: right;\n",
       "    }\n",
       "</style>\n",
       "<table border=\"1\" class=\"dataframe\">\n",
       "  <thead>\n",
       "    <tr style=\"text-align: right;\">\n",
       "      <th></th>\n",
       "      <th>No1</th>\n",
       "      <th>No2</th>\n",
       "      <th>No3</th>\n",
       "      <th>No4</th>\n",
       "    </tr>\n",
       "    <tr>\n",
       "      <th>Quarter</th>\n",
       "      <th></th>\n",
       "      <th></th>\n",
       "      <th></th>\n",
       "      <th></th>\n",
       "    </tr>\n",
       "  </thead>\n",
       "  <tbody>\n",
       "    <tr>\n",
       "      <th>Q1</th>\n",
       "      <td>0.195843</td>\n",
       "      <td>-0.028819</td>\n",
       "      <td>-0.439828</td>\n",
       "      <td>0.233053</td>\n",
       "    </tr>\n",
       "    <tr>\n",
       "      <th>Q2</th>\n",
       "      <td>0.430965</td>\n",
       "      <td>0.633924</td>\n",
       "      <td>-0.248934</td>\n",
       "      <td>0.907023</td>\n",
       "    </tr>\n",
       "    <tr>\n",
       "      <th>Q3</th>\n",
       "      <td>-0.667938</td>\n",
       "      <td>0.500687</td>\n",
       "      <td>0.784321</td>\n",
       "      <td>1.339657</td>\n",
       "    </tr>\n",
       "  </tbody>\n",
       "</table>\n",
       "</div>"
      ],
      "text/plain": [
       "              No1       No2       No3       No4\n",
       "Quarter                                        \n",
       "Q1       0.195843 -0.028819 -0.439828  0.233053\n",
       "Q2       0.430965  0.633924 -0.248934  0.907023\n",
       "Q3      -0.667938  0.500687  0.784321  1.339657"
      ]
     },
     "execution_count": 41,
     "metadata": {},
     "output_type": "execute_result"
    }
   ],
   "source": [
    "groups.mean()"
   ]
  },
  {
   "cell_type": "code",
   "execution_count": 42,
   "metadata": {
    "uuid": "7eb45e5c-b86f-4464-afd9-d5a3665e0f8e"
   },
   "outputs": [
    {
     "data": {
      "text/html": [
       "<div>\n",
       "<style scoped>\n",
       "    .dataframe tbody tr th:only-of-type {\n",
       "        vertical-align: middle;\n",
       "    }\n",
       "\n",
       "    .dataframe tbody tr th {\n",
       "        vertical-align: top;\n",
       "    }\n",
       "\n",
       "    .dataframe thead th {\n",
       "        text-align: right;\n",
       "    }\n",
       "</style>\n",
       "<table border=\"1\" class=\"dataframe\">\n",
       "  <thead>\n",
       "    <tr style=\"text-align: right;\">\n",
       "      <th></th>\n",
       "      <th>No1</th>\n",
       "      <th>No2</th>\n",
       "      <th>No3</th>\n",
       "      <th>No4</th>\n",
       "    </tr>\n",
       "    <tr>\n",
       "      <th>Quarter</th>\n",
       "      <th></th>\n",
       "      <th></th>\n",
       "      <th></th>\n",
       "      <th></th>\n",
       "    </tr>\n",
       "  </thead>\n",
       "  <tbody>\n",
       "    <tr>\n",
       "      <th>Q1</th>\n",
       "      <td>1.321677</td>\n",
       "      <td>0.763066</td>\n",
       "      <td>0.845289</td>\n",
       "      <td>1.312106</td>\n",
       "    </tr>\n",
       "    <tr>\n",
       "      <th>Q2</th>\n",
       "      <td>0.574035</td>\n",
       "      <td>1.047930</td>\n",
       "      <td>0.312119</td>\n",
       "      <td>1.692606</td>\n",
       "    </tr>\n",
       "    <tr>\n",
       "      <th>Q3</th>\n",
       "      <td>1.265513</td>\n",
       "      <td>1.319254</td>\n",
       "      <td>1.265140</td>\n",
       "      <td>2.149087</td>\n",
       "    </tr>\n",
       "  </tbody>\n",
       "</table>\n",
       "</div>"
      ],
      "text/plain": [
       "              No1       No2       No3       No4\n",
       "Quarter                                        \n",
       "Q1       1.321677  0.763066  0.845289  1.312106\n",
       "Q2       0.574035  1.047930  0.312119  1.692606\n",
       "Q3       1.265513  1.319254  1.265140  2.149087"
      ]
     },
     "execution_count": 42,
     "metadata": {},
     "output_type": "execute_result"
    }
   ],
   "source": [
    "groups.max()"
   ]
  },
  {
   "cell_type": "code",
   "execution_count": 43,
   "metadata": {
    "uuid": "a871b95e-5946-4b09-b8dc-bc9503d2ff14"
   },
   "outputs": [
    {
     "data": {
      "text/plain": [
       "Quarter\n",
       "Q1    3\n",
       "Q2    3\n",
       "Q3    3\n",
       "dtype: int64"
      ]
     },
     "execution_count": 43,
     "metadata": {},
     "output_type": "execute_result"
    }
   ],
   "source": [
    "groups.size()"
   ]
  },
  {
   "cell_type": "code",
   "execution_count": 44,
   "metadata": {
    "uuid": "542cf99a-bbf8-447e-9643-d6887ac74be7"
   },
   "outputs": [],
   "source": [
    "df['Odd_Even'] = ['Odd', 'Even', 'Odd', 'Even', 'Odd', 'Even',\n",
    "                  'Odd', 'Even', 'Odd']"
   ]
  },
  {
   "cell_type": "code",
   "execution_count": 45,
   "metadata": {
    "uuid": "f5144c9f-ff37-4e35-9417-e39debdcd45b"
   },
   "outputs": [],
   "source": [
    "groups = df.groupby(['Quarter', 'Odd_Even'])"
   ]
  },
  {
   "cell_type": "code",
   "execution_count": 46,
   "metadata": {
    "uuid": "06904508-dbf1-431f-a3a2-681f29f03c51"
   },
   "outputs": [
    {
     "data": {
      "text/plain": [
       "Quarter  Odd_Even\n",
       "Q1       Even        1\n",
       "         Odd         2\n",
       "Q2       Even        2\n",
       "         Odd         1\n",
       "Q3       Even        1\n",
       "         Odd         2\n",
       "dtype: int64"
      ]
     },
     "execution_count": 46,
     "metadata": {},
     "output_type": "execute_result"
    }
   ],
   "source": [
    "groups.size()"
   ]
  },
  {
   "cell_type": "code",
   "execution_count": 47,
   "metadata": {
    "uuid": "b8471956-40fc-4203-a54a-aaa45f5a3c00"
   },
   "outputs": [
    {
     "data": {
      "text/html": [
       "<div>\n",
       "<style scoped>\n",
       "    .dataframe tbody tr th:only-of-type {\n",
       "        vertical-align: middle;\n",
       "    }\n",
       "\n",
       "    .dataframe tbody tr th {\n",
       "        vertical-align: top;\n",
       "    }\n",
       "\n",
       "    .dataframe thead th {\n",
       "        text-align: right;\n",
       "    }\n",
       "</style>\n",
       "<table border=\"1\" class=\"dataframe\">\n",
       "  <thead>\n",
       "    <tr style=\"text-align: right;\">\n",
       "      <th></th>\n",
       "      <th></th>\n",
       "      <th>No1</th>\n",
       "      <th>No2</th>\n",
       "      <th>No3</th>\n",
       "      <th>No4</th>\n",
       "    </tr>\n",
       "    <tr>\n",
       "      <th>Quarter</th>\n",
       "      <th>Odd_Even</th>\n",
       "      <th></th>\n",
       "      <th></th>\n",
       "      <th></th>\n",
       "      <th></th>\n",
       "    </tr>\n",
       "  </thead>\n",
       "  <tbody>\n",
       "    <tr>\n",
       "      <th rowspan=\"2\" valign=\"top\">Q1</th>\n",
       "      <th>Even</th>\n",
       "      <td>-0.958205</td>\n",
       "      <td>0.763066</td>\n",
       "      <td>-0.188933</td>\n",
       "      <td>-0.863822</td>\n",
       "    </tr>\n",
       "    <tr>\n",
       "      <th>Odd</th>\n",
       "      <td>0.772866</td>\n",
       "      <td>-0.424762</td>\n",
       "      <td>-0.565275</td>\n",
       "      <td>0.781491</td>\n",
       "    </tr>\n",
       "    <tr>\n",
       "      <th rowspan=\"2\" valign=\"top\">Q2</th>\n",
       "      <th>Even</th>\n",
       "      <td>0.560052</td>\n",
       "      <td>0.426921</td>\n",
       "      <td>-0.029557</td>\n",
       "      <td>1.145184</td>\n",
       "    </tr>\n",
       "    <tr>\n",
       "      <th>Odd</th>\n",
       "      <td>0.172791</td>\n",
       "      <td>1.047930</td>\n",
       "      <td>-0.687687</td>\n",
       "      <td>0.430700</td>\n",
       "    </tr>\n",
       "    <tr>\n",
       "      <th rowspan=\"2\" valign=\"top\">Q3</th>\n",
       "      <th>Even</th>\n",
       "      <td>1.265513</td>\n",
       "      <td>1.319254</td>\n",
       "      <td>1.265140</td>\n",
       "      <td>1.596943</td>\n",
       "    </tr>\n",
       "    <tr>\n",
       "      <th>Odd</th>\n",
       "      <td>-1.634663</td>\n",
       "      <td>0.091403</td>\n",
       "      <td>0.543912</td>\n",
       "      <td>1.211014</td>\n",
       "    </tr>\n",
       "  </tbody>\n",
       "</table>\n",
       "</div>"
      ],
      "text/plain": [
       "                       No1       No2       No3       No4\n",
       "Quarter Odd_Even                                        \n",
       "Q1      Even     -0.958205  0.763066 -0.188933 -0.863822\n",
       "        Odd       0.772866 -0.424762 -0.565275  0.781491\n",
       "Q2      Even      0.560052  0.426921 -0.029557  1.145184\n",
       "        Odd       0.172791  1.047930 -0.687687  0.430700\n",
       "Q3      Even      1.265513  1.319254  1.265140  1.596943\n",
       "        Odd      -1.634663  0.091403  0.543912  1.211014"
      ]
     },
     "execution_count": 47,
     "metadata": {},
     "output_type": "execute_result"
    }
   ],
   "source": [
    "groups.mean()"
   ]
  },
  {
   "cell_type": "markdown",
   "metadata": {},
   "source": [
    "## Financial Data"
   ]
  },
  {
   "cell_type": "code",
   "execution_count": 4,
   "metadata": {
    "uuid": "53a33e39-a3ff-4c95-b0f2-a94d727ae0da"
   },
   "outputs": [
    {
     "name": "stdout",
     "output_type": "stream",
     "text": [
      "<class 'pandas.core.frame.DataFrame'>\n",
      "DatetimeIndex: 2517 entries, 2016-09-07 to 2006-09-08\n",
      "Data columns (total 6 columns):\n",
      "Open         2517 non-null float64\n",
      "High         2517 non-null float64\n",
      "Low          2517 non-null float64\n",
      "Close        2517 non-null float64\n",
      "Volume       2517 non-null int64\n",
      "Adj Close    2517 non-null float64\n",
      "dtypes: float64(5), int64(1)\n",
      "memory usage: 137.6 KB\n"
     ]
    }
   ],
   "source": [
    "# data from Thomson Reuters Eikon API\n",
    "dateparse = lambda x: pd.datetime.strptime(x, '%Y-%m-%d')\n",
    "AAPL = pd.read_csv('../data/TimeSeries/AAPL.csv', sep='\\t', index_col='Date', date_parser=dateparse)\n",
    "AAPL.info()"
   ]
  },
  {
   "cell_type": "code",
   "execution_count": 5,
   "metadata": {},
   "outputs": [
    {
     "data": {
      "text/html": [
       "<div>\n",
       "<style>\n",
       "    .dataframe thead tr:only-child th {\n",
       "        text-align: right;\n",
       "    }\n",
       "\n",
       "    .dataframe thead th {\n",
       "        text-align: left;\n",
       "    }\n",
       "\n",
       "    .dataframe tbody tr th {\n",
       "        vertical-align: top;\n",
       "    }\n",
       "</style>\n",
       "<table border=\"1\" class=\"dataframe\">\n",
       "  <thead>\n",
       "    <tr style=\"text-align: right;\">\n",
       "      <th></th>\n",
       "      <th>Open</th>\n",
       "      <th>High</th>\n",
       "      <th>Low</th>\n",
       "      <th>Close</th>\n",
       "      <th>Volume</th>\n",
       "      <th>Adj Close</th>\n",
       "    </tr>\n",
       "    <tr>\n",
       "      <th>Date</th>\n",
       "      <th></th>\n",
       "      <th></th>\n",
       "      <th></th>\n",
       "      <th></th>\n",
       "      <th></th>\n",
       "      <th></th>\n",
       "    </tr>\n",
       "  </thead>\n",
       "  <tbody>\n",
       "    <tr>\n",
       "      <th>2016-09-07</th>\n",
       "      <td>107.830002</td>\n",
       "      <td>108.760002</td>\n",
       "      <td>107.070000</td>\n",
       "      <td>108.360001</td>\n",
       "      <td>42186200</td>\n",
       "      <td>108.360001</td>\n",
       "    </tr>\n",
       "    <tr>\n",
       "      <th>2016-09-06</th>\n",
       "      <td>107.900002</td>\n",
       "      <td>108.300003</td>\n",
       "      <td>107.510002</td>\n",
       "      <td>107.699997</td>\n",
       "      <td>26880400</td>\n",
       "      <td>107.699997</td>\n",
       "    </tr>\n",
       "    <tr>\n",
       "      <th>2016-09-02</th>\n",
       "      <td>107.699997</td>\n",
       "      <td>108.000000</td>\n",
       "      <td>106.820000</td>\n",
       "      <td>107.730003</td>\n",
       "      <td>26802500</td>\n",
       "      <td>107.730003</td>\n",
       "    </tr>\n",
       "    <tr>\n",
       "      <th>2016-09-01</th>\n",
       "      <td>106.139999</td>\n",
       "      <td>106.800003</td>\n",
       "      <td>105.620003</td>\n",
       "      <td>106.730003</td>\n",
       "      <td>26701500</td>\n",
       "      <td>106.730003</td>\n",
       "    </tr>\n",
       "    <tr>\n",
       "      <th>2016-08-31</th>\n",
       "      <td>105.660004</td>\n",
       "      <td>106.570000</td>\n",
       "      <td>105.639999</td>\n",
       "      <td>106.099998</td>\n",
       "      <td>29662400</td>\n",
       "      <td>106.099998</td>\n",
       "    </tr>\n",
       "  </tbody>\n",
       "</table>\n",
       "</div>"
      ],
      "text/plain": [
       "                  Open        High         Low       Close    Volume  \\\n",
       "Date                                                                   \n",
       "2016-09-07  107.830002  108.760002  107.070000  108.360001  42186200   \n",
       "2016-09-06  107.900002  108.300003  107.510002  107.699997  26880400   \n",
       "2016-09-02  107.699997  108.000000  106.820000  107.730003  26802500   \n",
       "2016-09-01  106.139999  106.800003  105.620003  106.730003  26701500   \n",
       "2016-08-31  105.660004  106.570000  105.639999  106.099998  29662400   \n",
       "\n",
       "             Adj Close  \n",
       "Date                    \n",
       "2016-09-07  108.360001  \n",
       "2016-09-06  107.699997  \n",
       "2016-09-02  107.730003  \n",
       "2016-09-01  106.730003  \n",
       "2016-08-31  106.099998  "
      ]
     },
     "execution_count": 5,
     "metadata": {},
     "output_type": "execute_result"
    }
   ],
   "source": [
    "AAPL.head()"
   ]
  },
  {
   "cell_type": "code",
   "execution_count": 6,
   "metadata": {
    "uuid": "6185abc6-54c5-4711-b273-3252938f3e5e"
   },
   "outputs": [
    {
     "data": {
      "image/png": "[encoded data removed]",
      "text/plain": [
       "<matplotlib.figure.Figure at 0x7f7d48c46e48>"
      ]
     },
     "metadata": {},
     "output_type": "display_data"
    }
   ],
   "source": [
    "%matplotlib inline \n",
    "AAPL['Close'].plot(figsize=(8, 5), grid=True);\n",
    "# tag: dax\n",
    "# title: Historical DAX index levels"
   ]
  },
  {
   "cell_type": "markdown",
   "metadata": {},
   "source": [
    "* Pick the period before the adjustment"
   ]
  },
  {
   "cell_type": "code",
   "execution_count": 9,
   "metadata": {},
   "outputs": [
    {
     "data": {
      "text/plain": [
       "Date\n",
       "2016-09-07    108.360001\n",
       "2016-09-06    107.699997\n",
       "2016-09-02    107.730003\n",
       "2016-09-01    106.730003\n",
       "2016-08-31    106.099998\n",
       "Name: Close, dtype: float64"
      ]
     },
     "execution_count": 9,
     "metadata": {},
     "output_type": "execute_result"
    }
   ],
   "source": [
    "AAPL['Close'].head()"
   ]
  },
  {
   "cell_type": "code",
   "execution_count": 8,
   "metadata": {},
   "outputs": [
    {
     "data": {
      "text/plain": [
       "Date\n",
       "2016-09-07           NaN\n",
       "2016-09-06    108.360001\n",
       "2016-09-02    107.699997\n",
       "2016-09-01    107.730003\n",
       "2016-08-31    106.730003\n",
       "Name: Close, dtype: float64"
      ]
     },
     "execution_count": 8,
     "metadata": {},
     "output_type": "execute_result"
    }
   ],
   "source": [
    "AAPL['Close'].shift(1).head()"
   ]
  },
  {
   "cell_type": "code",
   "execution_count": 127,
   "metadata": {},
   "outputs": [
    {
     "data": {
      "text/plain": [
       "Timestamp('2014-06-09 00:00:00')"
      ]
     },
     "execution_count": 127,
     "metadata": {},
     "output_type": "execute_result"
    }
   ],
   "source": [
    "AAPL[np.abs(AAPL['Close']/AAPL['Close'].shift(1)-1)>0.3].index[0]"
   ]
  },
  {
   "cell_type": "code",
   "execution_count": 142,
   "metadata": {},
   "outputs": [],
   "source": [
    "AAPL_before_adjust = AAPL.loc['2014-06-8':]"
   ]
  },
  {
   "cell_type": "code",
   "execution_count": 143,
   "metadata": {
    "scrolled": true
   },
   "outputs": [
    {
     "data": {
      "text/html": [
       "<div>\n",
       "<style>\n",
       "    .dataframe thead tr:only-child th {\n",
       "        text-align: right;\n",
       "    }\n",
       "\n",
       "    .dataframe thead th {\n",
       "        text-align: left;\n",
       "    }\n",
       "\n",
       "    .dataframe tbody tr th {\n",
       "        vertical-align: top;\n",
       "    }\n",
       "</style>\n",
       "<table border=\"1\" class=\"dataframe\">\n",
       "  <thead>\n",
       "    <tr style=\"text-align: right;\">\n",
       "      <th></th>\n",
       "      <th>Open</th>\n",
       "      <th>High</th>\n",
       "      <th>Low</th>\n",
       "      <th>Close</th>\n",
       "      <th>Volume</th>\n",
       "      <th>Adj Close</th>\n",
       "    </tr>\n",
       "    <tr>\n",
       "      <th>Date</th>\n",
       "      <th></th>\n",
       "      <th></th>\n",
       "      <th></th>\n",
       "      <th></th>\n",
       "      <th></th>\n",
       "      <th></th>\n",
       "    </tr>\n",
       "  </thead>\n",
       "  <tbody>\n",
       "    <tr>\n",
       "      <th>2014-06-06</th>\n",
       "      <td>649.900002</td>\n",
       "      <td>651.259979</td>\n",
       "      <td>644.470024</td>\n",
       "      <td>645.570023</td>\n",
       "      <td>87484600</td>\n",
       "      <td>88.336725</td>\n",
       "    </tr>\n",
       "    <tr>\n",
       "      <th>2014-06-05</th>\n",
       "      <td>646.199997</td>\n",
       "      <td>649.370003</td>\n",
       "      <td>642.610008</td>\n",
       "      <td>647.349983</td>\n",
       "      <td>75951400</td>\n",
       "      <td>88.580287</td>\n",
       "    </tr>\n",
       "    <tr>\n",
       "      <th>2014-06-04</th>\n",
       "      <td>637.440010</td>\n",
       "      <td>647.890022</td>\n",
       "      <td>636.109993</td>\n",
       "      <td>644.819992</td>\n",
       "      <td>83870500</td>\n",
       "      <td>88.234095</td>\n",
       "    </tr>\n",
       "    <tr>\n",
       "      <th>2014-06-03</th>\n",
       "      <td>628.459991</td>\n",
       "      <td>638.740013</td>\n",
       "      <td>628.250000</td>\n",
       "      <td>637.539986</td>\n",
       "      <td>73177300</td>\n",
       "      <td>87.237933</td>\n",
       "    </tr>\n",
       "    <tr>\n",
       "      <th>2014-06-02</th>\n",
       "      <td>633.959984</td>\n",
       "      <td>634.830017</td>\n",
       "      <td>622.500015</td>\n",
       "      <td>628.650009</td>\n",
       "      <td>92337700</td>\n",
       "      <td>86.021471</td>\n",
       "    </tr>\n",
       "    <tr>\n",
       "      <th>2014-05-30</th>\n",
       "      <td>637.979996</td>\n",
       "      <td>644.169991</td>\n",
       "      <td>628.900002</td>\n",
       "      <td>633.000015</td>\n",
       "      <td>141005200</td>\n",
       "      <td>86.616706</td>\n",
       "    </tr>\n",
       "    <tr>\n",
       "      <th>2014-05-29</th>\n",
       "      <td>627.849991</td>\n",
       "      <td>636.870010</td>\n",
       "      <td>627.769989</td>\n",
       "      <td>635.379990</td>\n",
       "      <td>94118500</td>\n",
       "      <td>86.942370</td>\n",
       "    </tr>\n",
       "    <tr>\n",
       "      <th>2014-05-28</th>\n",
       "      <td>626.019989</td>\n",
       "      <td>629.830009</td>\n",
       "      <td>623.779991</td>\n",
       "      <td>624.010010</td>\n",
       "      <td>78870400</td>\n",
       "      <td>85.386556</td>\n",
       "    </tr>\n",
       "    <tr>\n",
       "      <th>2014-05-27</th>\n",
       "      <td>615.879997</td>\n",
       "      <td>625.859985</td>\n",
       "      <td>615.630005</td>\n",
       "      <td>625.630020</td>\n",
       "      <td>87216500</td>\n",
       "      <td>85.608231</td>\n",
       "    </tr>\n",
       "    <tr>\n",
       "      <th>2014-05-23</th>\n",
       "      <td>607.250000</td>\n",
       "      <td>614.730011</td>\n",
       "      <td>606.470009</td>\n",
       "      <td>614.129997</td>\n",
       "      <td>58052400</td>\n",
       "      <td>84.034622</td>\n",
       "    </tr>\n",
       "    <tr>\n",
       "      <th>2014-05-22</th>\n",
       "      <td>606.599998</td>\n",
       "      <td>609.850006</td>\n",
       "      <td>604.100021</td>\n",
       "      <td>607.269974</td>\n",
       "      <td>50190000</td>\n",
       "      <td>83.095929</td>\n",
       "    </tr>\n",
       "    <tr>\n",
       "      <th>2014-05-21</th>\n",
       "      <td>603.830002</td>\n",
       "      <td>606.699974</td>\n",
       "      <td>602.059975</td>\n",
       "      <td>606.310005</td>\n",
       "      <td>49214900</td>\n",
       "      <td>82.964572</td>\n",
       "    </tr>\n",
       "    <tr>\n",
       "      <th>2014-05-20</th>\n",
       "      <td>604.510017</td>\n",
       "      <td>606.399994</td>\n",
       "      <td>600.730011</td>\n",
       "      <td>604.710022</td>\n",
       "      <td>58709000</td>\n",
       "      <td>82.745638</td>\n",
       "    </tr>\n",
       "    <tr>\n",
       "      <th>2014-05-19</th>\n",
       "      <td>597.849998</td>\n",
       "      <td>607.330002</td>\n",
       "      <td>597.329987</td>\n",
       "      <td>604.590019</td>\n",
       "      <td>79438800</td>\n",
       "      <td>82.729217</td>\n",
       "    </tr>\n",
       "    <tr>\n",
       "      <th>2014-05-16</th>\n",
       "      <td>588.629974</td>\n",
       "      <td>597.529991</td>\n",
       "      <td>585.399994</td>\n",
       "      <td>597.510017</td>\n",
       "      <td>69064100</td>\n",
       "      <td>81.760423</td>\n",
       "    </tr>\n",
       "    <tr>\n",
       "      <th>2014-05-15</th>\n",
       "      <td>594.700020</td>\n",
       "      <td>596.599983</td>\n",
       "      <td>588.040001</td>\n",
       "      <td>588.819992</td>\n",
       "      <td>57711500</td>\n",
       "      <td>80.571322</td>\n",
       "    </tr>\n",
       "    <tr>\n",
       "      <th>2014-05-14</th>\n",
       "      <td>592.430008</td>\n",
       "      <td>597.400002</td>\n",
       "      <td>591.740005</td>\n",
       "      <td>593.869987</td>\n",
       "      <td>41601000</td>\n",
       "      <td>81.262339</td>\n",
       "    </tr>\n",
       "    <tr>\n",
       "      <th>2014-05-13</th>\n",
       "      <td>591.999985</td>\n",
       "      <td>594.540016</td>\n",
       "      <td>590.699982</td>\n",
       "      <td>593.760025</td>\n",
       "      <td>39934300</td>\n",
       "      <td>81.247292</td>\n",
       "    </tr>\n",
       "    <tr>\n",
       "      <th>2014-05-12</th>\n",
       "      <td>587.489975</td>\n",
       "      <td>593.659996</td>\n",
       "      <td>587.399986</td>\n",
       "      <td>592.830017</td>\n",
       "      <td>53302200</td>\n",
       "      <td>81.120034</td>\n",
       "    </tr>\n",
       "    <tr>\n",
       "      <th>2014-05-09</th>\n",
       "      <td>584.540001</td>\n",
       "      <td>586.250000</td>\n",
       "      <td>580.330025</td>\n",
       "      <td>585.540024</td>\n",
       "      <td>72899400</td>\n",
       "      <td>80.122506</td>\n",
       "    </tr>\n",
       "    <tr>\n",
       "      <th>2014-05-08</th>\n",
       "      <td>588.249992</td>\n",
       "      <td>594.410027</td>\n",
       "      <td>586.400017</td>\n",
       "      <td>587.990013</td>\n",
       "      <td>57574300</td>\n",
       "      <td>80.457751</td>\n",
       "    </tr>\n",
       "    <tr>\n",
       "      <th>2014-05-07</th>\n",
       "      <td>595.249992</td>\n",
       "      <td>597.289986</td>\n",
       "      <td>587.729980</td>\n",
       "      <td>592.329979</td>\n",
       "      <td>70716100</td>\n",
       "      <td>80.601425</td>\n",
       "    </tr>\n",
       "    <tr>\n",
       "      <th>2014-05-06</th>\n",
       "      <td>601.799995</td>\n",
       "      <td>604.409988</td>\n",
       "      <td>594.410027</td>\n",
       "      <td>594.410027</td>\n",
       "      <td>93641100</td>\n",
       "      <td>80.884468</td>\n",
       "    </tr>\n",
       "    <tr>\n",
       "      <th>2014-05-05</th>\n",
       "      <td>590.140022</td>\n",
       "      <td>600.999977</td>\n",
       "      <td>589.999992</td>\n",
       "      <td>600.959976</td>\n",
       "      <td>71766800</td>\n",
       "      <td>81.775753</td>\n",
       "    </tr>\n",
       "    <tr>\n",
       "      <th>2014-05-02</th>\n",
       "      <td>592.340019</td>\n",
       "      <td>594.199982</td>\n",
       "      <td>589.709999</td>\n",
       "      <td>592.580025</td>\n",
       "      <td>47878600</td>\n",
       "      <td>80.635450</td>\n",
       "    </tr>\n",
       "    <tr>\n",
       "      <th>2014-05-01</th>\n",
       "      <td>591.999985</td>\n",
       "      <td>594.799995</td>\n",
       "      <td>586.360016</td>\n",
       "      <td>591.480026</td>\n",
       "      <td>61012000</td>\n",
       "      <td>80.485767</td>\n",
       "    </tr>\n",
       "    <tr>\n",
       "      <th>2014-04-30</th>\n",
       "      <td>592.639999</td>\n",
       "      <td>599.430008</td>\n",
       "      <td>589.799988</td>\n",
       "      <td>590.089981</td>\n",
       "      <td>114160200</td>\n",
       "      <td>80.296616</td>\n",
       "    </tr>\n",
       "    <tr>\n",
       "      <th>2014-04-29</th>\n",
       "      <td>593.739998</td>\n",
       "      <td>595.979996</td>\n",
       "      <td>589.509995</td>\n",
       "      <td>592.329979</td>\n",
       "      <td>84344400</td>\n",
       "      <td>80.601425</td>\n",
       "    </tr>\n",
       "    <tr>\n",
       "      <th>2014-04-28</th>\n",
       "      <td>572.800026</td>\n",
       "      <td>595.749977</td>\n",
       "      <td>572.549980</td>\n",
       "      <td>594.090019</td>\n",
       "      <td>167371400</td>\n",
       "      <td>80.840922</td>\n",
       "    </tr>\n",
       "    <tr>\n",
       "      <th>2014-04-25</th>\n",
       "      <td>564.529984</td>\n",
       "      <td>571.990021</td>\n",
       "      <td>563.959984</td>\n",
       "      <td>571.939980</td>\n",
       "      <td>97568800</td>\n",
       "      <td>77.826851</td>\n",
       "    </tr>\n",
       "    <tr>\n",
       "      <th>...</th>\n",
       "      <td>...</td>\n",
       "      <td>...</td>\n",
       "      <td>...</td>\n",
       "      <td>...</td>\n",
       "      <td>...</td>\n",
       "      <td>...</td>\n",
       "    </tr>\n",
       "    <tr>\n",
       "      <th>2006-10-19</th>\n",
       "      <td>79.259998</td>\n",
       "      <td>79.950001</td>\n",
       "      <td>78.160000</td>\n",
       "      <td>78.989999</td>\n",
       "      <td>378244300</td>\n",
       "      <td>10.331050</td>\n",
       "    </tr>\n",
       "    <tr>\n",
       "      <th>2006-10-18</th>\n",
       "      <td>74.750002</td>\n",
       "      <td>75.370003</td>\n",
       "      <td>73.910003</td>\n",
       "      <td>74.529997</td>\n",
       "      <td>283476900</td>\n",
       "      <td>9.747729</td>\n",
       "    </tr>\n",
       "    <tr>\n",
       "      <th>2006-10-17</th>\n",
       "      <td>75.040002</td>\n",
       "      <td>75.270000</td>\n",
       "      <td>74.039999</td>\n",
       "      <td>74.289998</td>\n",
       "      <td>120231300</td>\n",
       "      <td>9.716340</td>\n",
       "    </tr>\n",
       "    <tr>\n",
       "      <th>2006-10-16</th>\n",
       "      <td>75.189999</td>\n",
       "      <td>75.880001</td>\n",
       "      <td>74.790003</td>\n",
       "      <td>75.399997</td>\n",
       "      <td>127173200</td>\n",
       "      <td>9.861516</td>\n",
       "    </tr>\n",
       "    <tr>\n",
       "      <th>2006-10-13</th>\n",
       "      <td>75.630002</td>\n",
       "      <td>76.879997</td>\n",
       "      <td>74.740002</td>\n",
       "      <td>75.020001</td>\n",
       "      <td>171049200</td>\n",
       "      <td>9.811816</td>\n",
       "    </tr>\n",
       "    <tr>\n",
       "      <th>2006-10-12</th>\n",
       "      <td>73.610003</td>\n",
       "      <td>75.390003</td>\n",
       "      <td>73.600002</td>\n",
       "      <td>75.260000</td>\n",
       "      <td>148213800</td>\n",
       "      <td>9.843206</td>\n",
       "    </tr>\n",
       "    <tr>\n",
       "      <th>2006-10-11</th>\n",
       "      <td>73.419998</td>\n",
       "      <td>73.979998</td>\n",
       "      <td>72.599999</td>\n",
       "      <td>73.230000</td>\n",
       "      <td>142963800</td>\n",
       "      <td>9.577703</td>\n",
       "    </tr>\n",
       "    <tr>\n",
       "      <th>2006-10-10</th>\n",
       "      <td>74.539997</td>\n",
       "      <td>74.579998</td>\n",
       "      <td>73.079997</td>\n",
       "      <td>73.810000</td>\n",
       "      <td>132897100</td>\n",
       "      <td>9.653561</td>\n",
       "    </tr>\n",
       "    <tr>\n",
       "      <th>2006-10-09</th>\n",
       "      <td>73.800000</td>\n",
       "      <td>75.080003</td>\n",
       "      <td>73.530001</td>\n",
       "      <td>74.629999</td>\n",
       "      <td>109555600</td>\n",
       "      <td>9.760808</td>\n",
       "    </tr>\n",
       "    <tr>\n",
       "      <th>2006-10-06</th>\n",
       "      <td>74.420001</td>\n",
       "      <td>75.040002</td>\n",
       "      <td>73.810000</td>\n",
       "      <td>74.220003</td>\n",
       "      <td>116739700</td>\n",
       "      <td>9.707185</td>\n",
       "    </tr>\n",
       "    <tr>\n",
       "      <th>2006-10-05</th>\n",
       "      <td>74.529997</td>\n",
       "      <td>76.160001</td>\n",
       "      <td>74.130001</td>\n",
       "      <td>74.829997</td>\n",
       "      <td>170970800</td>\n",
       "      <td>9.786966</td>\n",
       "    </tr>\n",
       "    <tr>\n",
       "      <th>2006-10-04</th>\n",
       "      <td>74.100000</td>\n",
       "      <td>75.459998</td>\n",
       "      <td>73.159999</td>\n",
       "      <td>75.380003</td>\n",
       "      <td>207270700</td>\n",
       "      <td>9.858901</td>\n",
       "    </tr>\n",
       "    <tr>\n",
       "      <th>2006-10-03</th>\n",
       "      <td>74.450002</td>\n",
       "      <td>74.950000</td>\n",
       "      <td>73.190000</td>\n",
       "      <td>74.080000</td>\n",
       "      <td>197677200</td>\n",
       "      <td>9.688874</td>\n",
       "    </tr>\n",
       "    <tr>\n",
       "      <th>2006-10-02</th>\n",
       "      <td>75.100003</td>\n",
       "      <td>75.870001</td>\n",
       "      <td>74.299998</td>\n",
       "      <td>74.859998</td>\n",
       "      <td>178159800</td>\n",
       "      <td>9.790890</td>\n",
       "    </tr>\n",
       "    <tr>\n",
       "      <th>2006-09-29</th>\n",
       "      <td>77.110003</td>\n",
       "      <td>77.519999</td>\n",
       "      <td>76.679999</td>\n",
       "      <td>76.980000</td>\n",
       "      <td>101453100</td>\n",
       "      <td>10.068163</td>\n",
       "    </tr>\n",
       "    <tr>\n",
       "      <th>2006-09-28</th>\n",
       "      <td>77.020000</td>\n",
       "      <td>77.479998</td>\n",
       "      <td>75.950003</td>\n",
       "      <td>77.010000</td>\n",
       "      <td>180902400</td>\n",
       "      <td>10.072087</td>\n",
       "    </tr>\n",
       "    <tr>\n",
       "      <th>2006-09-27</th>\n",
       "      <td>77.169997</td>\n",
       "      <td>77.469997</td>\n",
       "      <td>75.820000</td>\n",
       "      <td>76.410000</td>\n",
       "      <td>202593300</td>\n",
       "      <td>9.993613</td>\n",
       "    </tr>\n",
       "    <tr>\n",
       "      <th>2006-09-26</th>\n",
       "      <td>76.180001</td>\n",
       "      <td>77.779998</td>\n",
       "      <td>76.099999</td>\n",
       "      <td>77.610001</td>\n",
       "      <td>275737000</td>\n",
       "      <td>10.150561</td>\n",
       "    </tr>\n",
       "    <tr>\n",
       "      <th>2006-09-25</th>\n",
       "      <td>73.810000</td>\n",
       "      <td>75.860001</td>\n",
       "      <td>73.719998</td>\n",
       "      <td>75.749998</td>\n",
       "      <td>214748100</td>\n",
       "      <td>9.907292</td>\n",
       "    </tr>\n",
       "    <tr>\n",
       "      <th>2006-09-22</th>\n",
       "      <td>74.299998</td>\n",
       "      <td>74.339999</td>\n",
       "      <td>72.579999</td>\n",
       "      <td>73.000002</td>\n",
       "      <td>166278000</td>\n",
       "      <td>9.547622</td>\n",
       "    </tr>\n",
       "    <tr>\n",
       "      <th>2006-09-21</th>\n",
       "      <td>75.250000</td>\n",
       "      <td>76.059999</td>\n",
       "      <td>74.019999</td>\n",
       "      <td>74.650000</td>\n",
       "      <td>198531200</td>\n",
       "      <td>9.763424</td>\n",
       "    </tr>\n",
       "    <tr>\n",
       "      <th>2006-09-20</th>\n",
       "      <td>74.380000</td>\n",
       "      <td>75.680003</td>\n",
       "      <td>74.220003</td>\n",
       "      <td>75.260000</td>\n",
       "      <td>205697800</td>\n",
       "      <td>9.843206</td>\n",
       "    </tr>\n",
       "    <tr>\n",
       "      <th>2006-09-19</th>\n",
       "      <td>74.100000</td>\n",
       "      <td>74.360000</td>\n",
       "      <td>72.799997</td>\n",
       "      <td>73.770000</td>\n",
       "      <td>177512300</td>\n",
       "      <td>9.648330</td>\n",
       "    </tr>\n",
       "    <tr>\n",
       "      <th>2006-09-18</th>\n",
       "      <td>73.800000</td>\n",
       "      <td>74.859998</td>\n",
       "      <td>73.300002</td>\n",
       "      <td>73.890002</td>\n",
       "      <td>176319500</td>\n",
       "      <td>9.664025</td>\n",
       "    </tr>\n",
       "    <tr>\n",
       "      <th>2006-09-15</th>\n",
       "      <td>74.599998</td>\n",
       "      <td>74.980000</td>\n",
       "      <td>73.290002</td>\n",
       "      <td>74.100000</td>\n",
       "      <td>245463400</td>\n",
       "      <td>9.691490</td>\n",
       "    </tr>\n",
       "    <tr>\n",
       "      <th>2006-09-14</th>\n",
       "      <td>73.719998</td>\n",
       "      <td>74.670000</td>\n",
       "      <td>73.459999</td>\n",
       "      <td>74.170002</td>\n",
       "      <td>200432400</td>\n",
       "      <td>9.700646</td>\n",
       "    </tr>\n",
       "    <tr>\n",
       "      <th>2006-09-13</th>\n",
       "      <td>72.849998</td>\n",
       "      <td>74.319999</td>\n",
       "      <td>72.299999</td>\n",
       "      <td>74.200003</td>\n",
       "      <td>286534500</td>\n",
       "      <td>9.704569</td>\n",
       "    </tr>\n",
       "    <tr>\n",
       "      <th>2006-09-12</th>\n",
       "      <td>72.809998</td>\n",
       "      <td>73.449999</td>\n",
       "      <td>71.450000</td>\n",
       "      <td>72.630000</td>\n",
       "      <td>421171800</td>\n",
       "      <td>9.499230</td>\n",
       "    </tr>\n",
       "    <tr>\n",
       "      <th>2006-09-11</th>\n",
       "      <td>72.430002</td>\n",
       "      <td>73.729999</td>\n",
       "      <td>71.419999</td>\n",
       "      <td>72.499997</td>\n",
       "      <td>237281100</td>\n",
       "      <td>9.482227</td>\n",
       "    </tr>\n",
       "    <tr>\n",
       "      <th>2006-09-08</th>\n",
       "      <td>73.369997</td>\n",
       "      <td>73.570002</td>\n",
       "      <td>71.909997</td>\n",
       "      <td>72.519998</td>\n",
       "      <td>223980400</td>\n",
       "      <td>9.484843</td>\n",
       "    </tr>\n",
       "  </tbody>\n",
       "</table>\n",
       "<p>1949 rows × 6 columns</p>\n",
       "</div>"
      ],
      "text/plain": [
       "                  Open        High         Low       Close     Volume  \\\n",
       "Date                                                                    \n",
       "2014-06-06  649.900002  651.259979  644.470024  645.570023   87484600   \n",
       "2014-06-05  646.199997  649.370003  642.610008  647.349983   75951400   \n",
       "2014-06-04  637.440010  647.890022  636.109993  644.819992   83870500   \n",
       "2014-06-03  628.459991  638.740013  628.250000  637.539986   73177300   \n",
       "2014-06-02  633.959984  634.830017  622.500015  628.650009   92337700   \n",
       "2014-05-30  637.979996  644.169991  628.900002  633.000015  141005200   \n",
       "2014-05-29  627.849991  636.870010  627.769989  635.379990   94118500   \n",
       "2014-05-28  626.019989  629.830009  623.779991  624.010010   78870400   \n",
       "2014-05-27  615.879997  625.859985  615.630005  625.630020   87216500   \n",
       "2014-05-23  607.250000  614.730011  606.470009  614.129997   58052400   \n",
       "2014-05-22  606.599998  609.850006  604.100021  607.269974   50190000   \n",
       "2014-05-21  603.830002  606.699974  602.059975  606.310005   49214900   \n",
       "2014-05-20  604.510017  606.399994  600.730011  604.710022   58709000   \n",
       "2014-05-19  597.849998  607.330002  597.329987  604.590019   79438800   \n",
       "2014-05-16  588.629974  597.529991  585.399994  597.510017   69064100   \n",
       "2014-05-15  594.700020  596.599983  588.040001  588.819992   57711500   \n",
       "2014-05-14  592.430008  597.400002  591.740005  593.869987   41601000   \n",
       "2014-05-13  591.999985  594.540016  590.699982  593.760025   39934300   \n",
       "2014-05-12  587.489975  593.659996  587.399986  592.830017   53302200   \n",
       "2014-05-09  584.540001  586.250000  580.330025  585.540024   72899400   \n",
       "2014-05-08  588.249992  594.410027  586.400017  587.990013   57574300   \n",
       "2014-05-07  595.249992  597.289986  587.729980  592.329979   70716100   \n",
       "2014-05-06  601.799995  604.409988  594.410027  594.410027   93641100   \n",
       "2014-05-05  590.140022  600.999977  589.999992  600.959976   71766800   \n",
       "2014-05-02  592.340019  594.199982  589.709999  592.580025   47878600   \n",
       "2014-05-01  591.999985  594.799995  586.360016  591.480026   61012000   \n",
       "2014-04-30  592.639999  599.430008  589.799988  590.089981  114160200   \n",
       "2014-04-29  593.739998  595.979996  589.509995  592.329979   84344400   \n",
       "2014-04-28  572.800026  595.749977  572.549980  594.090019  167371400   \n",
       "2014-04-25  564.529984  571.990021  563.959984  571.939980   97568800   \n",
       "...                ...         ...         ...         ...        ...   \n",
       "2006-10-19   79.259998   79.950001   78.160000   78.989999  378244300   \n",
       "2006-10-18   74.750002   75.370003   73.910003   74.529997  283476900   \n",
       "2006-10-17   75.040002   75.270000   74.039999   74.289998  120231300   \n",
       "2006-10-16   75.189999   75.880001   74.790003   75.399997  127173200   \n",
       "2006-10-13   75.630002   76.879997   74.740002   75.020001  171049200   \n",
       "2006-10-12   73.610003   75.390003   73.600002   75.260000  148213800   \n",
       "2006-10-11   73.419998   73.979998   72.599999   73.230000  142963800   \n",
       "2006-10-10   74.539997   74.579998   73.079997   73.810000  132897100   \n",
       "2006-10-09   73.800000   75.080003   73.530001   74.629999  109555600   \n",
       "2006-10-06   74.420001   75.040002   73.810000   74.220003  116739700   \n",
       "2006-10-05   74.529997   76.160001   74.130001   74.829997  170970800   \n",
       "2006-10-04   74.100000   75.459998   73.159999   75.380003  207270700   \n",
       "2006-10-03   74.450002   74.950000   73.190000   74.080000  197677200   \n",
       "2006-10-02   75.100003   75.870001   74.299998   74.859998  178159800   \n",
       "2006-09-29   77.110003   77.519999   76.679999   76.980000  101453100   \n",
       "2006-09-28   77.020000   77.479998   75.950003   77.010000  180902400   \n",
       "2006-09-27   77.169997   77.469997   75.820000   76.410000  202593300   \n",
       "2006-09-26   76.180001   77.779998   76.099999   77.610001  275737000   \n",
       "2006-09-25   73.810000   75.860001   73.719998   75.749998  214748100   \n",
       "2006-09-22   74.299998   74.339999   72.579999   73.000002  166278000   \n",
       "2006-09-21   75.250000   76.059999   74.019999   74.650000  198531200   \n",
       "2006-09-20   74.380000   75.680003   74.220003   75.260000  205697800   \n",
       "2006-09-19   74.100000   74.360000   72.799997   73.770000  177512300   \n",
       "2006-09-18   73.800000   74.859998   73.300002   73.890002  176319500   \n",
       "2006-09-15   74.599998   74.980000   73.290002   74.100000  245463400   \n",
       "2006-09-14   73.719998   74.670000   73.459999   74.170002  200432400   \n",
       "2006-09-13   72.849998   74.319999   72.299999   74.200003  286534500   \n",
       "2006-09-12   72.809998   73.449999   71.450000   72.630000  421171800   \n",
       "2006-09-11   72.430002   73.729999   71.419999   72.499997  237281100   \n",
       "2006-09-08   73.369997   73.570002   71.909997   72.519998  223980400   \n",
       "\n",
       "            Adj Close  \n",
       "Date                   \n",
       "2014-06-06  88.336725  \n",
       "2014-06-05  88.580287  \n",
       "2014-06-04  88.234095  \n",
       "2014-06-03  87.237933  \n",
       "2014-06-02  86.021471  \n",
       "2014-05-30  86.616706  \n",
       "2014-05-29  86.942370  \n",
       "2014-05-28  85.386556  \n",
       "2014-05-27  85.608231  \n",
       "2014-05-23  84.034622  \n",
       "2014-05-22  83.095929  \n",
       "2014-05-21  82.964572  \n",
       "2014-05-20  82.745638  \n",
       "2014-05-19  82.729217  \n",
       "2014-05-16  81.760423  \n",
       "2014-05-15  80.571322  \n",
       "2014-05-14  81.262339  \n",
       "2014-05-13  81.247292  \n",
       "2014-05-12  81.120034  \n",
       "2014-05-09  80.122506  \n",
       "2014-05-08  80.457751  \n",
       "2014-05-07  80.601425  \n",
       "2014-05-06  80.884468  \n",
       "2014-05-05  81.775753  \n",
       "2014-05-02  80.635450  \n",
       "2014-05-01  80.485767  \n",
       "2014-04-30  80.296616  \n",
       "2014-04-29  80.601425  \n",
       "2014-04-28  80.840922  \n",
       "2014-04-25  77.826851  \n",
       "...               ...  \n",
       "2006-10-19  10.331050  \n",
       "2006-10-18   9.747729  \n",
       "2006-10-17   9.716340  \n",
       "2006-10-16   9.861516  \n",
       "2006-10-13   9.811816  \n",
       "2006-10-12   9.843206  \n",
       "2006-10-11   9.577703  \n",
       "2006-10-10   9.653561  \n",
       "2006-10-09   9.760808  \n",
       "2006-10-06   9.707185  \n",
       "2006-10-05   9.786966  \n",
       "2006-10-04   9.858901  \n",
       "2006-10-03   9.688874  \n",
       "2006-10-02   9.790890  \n",
       "2006-09-29  10.068163  \n",
       "2006-09-28  10.072087  \n",
       "2006-09-27   9.993613  \n",
       "2006-09-26  10.150561  \n",
       "2006-09-25   9.907292  \n",
       "2006-09-22   9.547622  \n",
       "2006-09-21   9.763424  \n",
       "2006-09-20   9.843206  \n",
       "2006-09-19   9.648330  \n",
       "2006-09-18   9.664025  \n",
       "2006-09-15   9.691490  \n",
       "2006-09-14   9.700646  \n",
       "2006-09-13   9.704569  \n",
       "2006-09-12   9.499230  \n",
       "2006-09-11   9.482227  \n",
       "2006-09-08   9.484843  \n",
       "\n",
       "[1949 rows x 6 columns]"
      ]
     },
     "execution_count": 143,
     "metadata": {},
     "output_type": "execute_result"
    }
   ],
   "source": [
    "AAPL_before_adjust"
   ]
  },
  {
   "cell_type": "code",
   "execution_count": 144,
   "metadata": {},
   "outputs": [
    {
     "data": {
      "image/png": "[encoded data removed]",
      "text/plain": [
       "<matplotlib.figure.Figure at 0x7feea78e95c0>"
      ]
     },
     "metadata": {},
     "output_type": "display_data"
    }
   ],
   "source": [
    "AAPL_before_adjust['Close'].plot(figsize=(8, 5), grid=True);"
   ]
  },
  {
   "cell_type": "markdown",
   "metadata": {},
   "source": [
    "### Get daily percentage change"
   ]
  },
  {
   "cell_type": "code",
   "execution_count": 145,
   "metadata": {
    "uuid": "9b45b8c2-3b95-4c80-94a0-14f891cdd161"
   },
   "outputs": [
    {
     "name": "stdout",
     "output_type": "stream",
     "text": [
      "CPU times: user 46.6 ms, sys: 0 ns, total: 46.6 ms\n",
      "Wall time: 120 ms\n"
     ]
    },
    {
     "name": "stderr",
     "output_type": "stream",
     "text": [
      "/opt/anaconda3/envs/uicquant/lib/python3.6/site-packages/ipykernel_launcher.py:1: SettingWithCopyWarning: \n",
      "A value is trying to be set on a copy of a slice from a DataFrame.\n",
      "Try using .loc[row_indexer,col_indexer] = value instead\n",
      "\n",
      "See the caveats in the documentation: http://pandas.pydata.org/pandas-docs/stable/indexing.html#indexing-view-versus-copy\n",
      "  \"\"\"Entry point for launching an IPython kernel.\n"
     ]
    }
   ],
   "source": [
    "%time AAPL_before_adjust['Pct_Change'] = np.log(AAPL_before_adjust['Close'] / AAPL_before_adjust['Close'].shift(1))"
   ]
  },
  {
   "cell_type": "code",
   "execution_count": 146,
   "metadata": {
    "uuid": "5fbf45e9-dd56-40ba-8a75-086a80a04d5b"
   },
   "outputs": [
    {
     "data": {
      "text/html": [
       "<div>\n",
       "<style>\n",
       "    .dataframe thead tr:only-child th {\n",
       "        text-align: right;\n",
       "    }\n",
       "\n",
       "    .dataframe thead th {\n",
       "        text-align: left;\n",
       "    }\n",
       "\n",
       "    .dataframe tbody tr th {\n",
       "        vertical-align: top;\n",
       "    }\n",
       "</style>\n",
       "<table border=\"1\" class=\"dataframe\">\n",
       "  <thead>\n",
       "    <tr style=\"text-align: right;\">\n",
       "      <th></th>\n",
       "      <th>Open</th>\n",
       "      <th>High</th>\n",
       "      <th>Low</th>\n",
       "      <th>Close</th>\n",
       "      <th>Volume</th>\n",
       "      <th>Adj Close</th>\n",
       "      <th>Pct_Change</th>\n",
       "    </tr>\n",
       "    <tr>\n",
       "      <th>Date</th>\n",
       "      <th></th>\n",
       "      <th></th>\n",
       "      <th></th>\n",
       "      <th></th>\n",
       "      <th></th>\n",
       "      <th></th>\n",
       "      <th></th>\n",
       "    </tr>\n",
       "  </thead>\n",
       "  <tbody>\n",
       "    <tr>\n",
       "      <th>2014-06-06</th>\n",
       "      <td>649.900002</td>\n",
       "      <td>651.259979</td>\n",
       "      <td>644.470024</td>\n",
       "      <td>645.570023</td>\n",
       "      <td>87484600</td>\n",
       "      <td>88.336725</td>\n",
       "      <td>NaN</td>\n",
       "    </tr>\n",
       "    <tr>\n",
       "      <th>2014-06-05</th>\n",
       "      <td>646.199997</td>\n",
       "      <td>649.370003</td>\n",
       "      <td>642.610008</td>\n",
       "      <td>647.349983</td>\n",
       "      <td>75951400</td>\n",
       "      <td>88.580287</td>\n",
       "      <td>0.002753</td>\n",
       "    </tr>\n",
       "    <tr>\n",
       "      <th>2014-06-04</th>\n",
       "      <td>637.440010</td>\n",
       "      <td>647.890022</td>\n",
       "      <td>636.109993</td>\n",
       "      <td>644.819992</td>\n",
       "      <td>83870500</td>\n",
       "      <td>88.234095</td>\n",
       "      <td>-0.003916</td>\n",
       "    </tr>\n",
       "    <tr>\n",
       "      <th>2014-06-03</th>\n",
       "      <td>628.459991</td>\n",
       "      <td>638.740013</td>\n",
       "      <td>628.250000</td>\n",
       "      <td>637.539986</td>\n",
       "      <td>73177300</td>\n",
       "      <td>87.237933</td>\n",
       "      <td>-0.011354</td>\n",
       "    </tr>\n",
       "    <tr>\n",
       "      <th>2014-06-02</th>\n",
       "      <td>633.959984</td>\n",
       "      <td>634.830017</td>\n",
       "      <td>622.500015</td>\n",
       "      <td>628.650009</td>\n",
       "      <td>92337700</td>\n",
       "      <td>86.021471</td>\n",
       "      <td>-0.014042</td>\n",
       "    </tr>\n",
       "  </tbody>\n",
       "</table>\n",
       "</div>"
      ],
      "text/plain": [
       "                  Open        High         Low       Close    Volume  \\\n",
       "Date                                                                   \n",
       "2014-06-06  649.900002  651.259979  644.470024  645.570023  87484600   \n",
       "2014-06-05  646.199997  649.370003  642.610008  647.349983  75951400   \n",
       "2014-06-04  637.440010  647.890022  636.109993  644.819992  83870500   \n",
       "2014-06-03  628.459991  638.740013  628.250000  637.539986  73177300   \n",
       "2014-06-02  633.959984  634.830017  622.500015  628.650009  92337700   \n",
       "\n",
       "            Adj Close  Pct_Change  \n",
       "Date                               \n",
       "2014-06-06  88.336725         NaN  \n",
       "2014-06-05  88.580287    0.002753  \n",
       "2014-06-04  88.234095   -0.003916  \n",
       "2014-06-03  87.237933   -0.011354  \n",
       "2014-06-02  86.021471   -0.014042  "
      ]
     },
     "execution_count": 146,
     "metadata": {},
     "output_type": "execute_result"
    }
   ],
   "source": [
    "AAPL_before_adjust.head()"
   ]
  },
  {
   "cell_type": "code",
   "execution_count": 147,
   "metadata": {
    "uuid": "8995980e-7fa1-482e-8996-3a0cc1050359"
   },
   "outputs": [
    {
     "data": {
      "image/png": "[encoded data removed]",
      "text/plain": [
       "<matplotlib.figure.Figure at 0x7feea722acc0>"
      ]
     },
     "metadata": {},
     "output_type": "display_data"
    }
   ],
   "source": [
    "AAPL_before_adjust[['Close', 'Pct_Change']].plot(subplots=True, style='b', figsize=(8, 5), grid=True);\n",
    "# tag: dax_returns\n",
    "# title: The S&P 500 index and daily log returns"
   ]
  },
  {
   "cell_type": "markdown",
   "metadata": {},
   "source": [
    "### Moving Average"
   ]
  },
  {
   "cell_type": "markdown",
   "metadata": {},
   "source": [
    "* Example of `rolling` function, see [here](https://pandas.pydata.org/pandas-docs/stable/generated/pandas.DataFrame.rolling.html)"
   ]
  },
  {
   "cell_type": "code",
   "execution_count": 34,
   "metadata": {},
   "outputs": [
    {
     "data": {
      "text/html": [
       "<div>\n",
       "<style>\n",
       "    .dataframe thead tr:only-child th {\n",
       "        text-align: right;\n",
       "    }\n",
       "\n",
       "    .dataframe thead th {\n",
       "        text-align: left;\n",
       "    }\n",
       "\n",
       "    .dataframe tbody tr th {\n",
       "        vertical-align: top;\n",
       "    }\n",
       "</style>\n",
       "<table border=\"1\" class=\"dataframe\">\n",
       "  <thead>\n",
       "    <tr style=\"text-align: right;\">\n",
       "      <th></th>\n",
       "      <th>0</th>\n",
       "      <th>1</th>\n",
       "      <th>2</th>\n",
       "      <th>3</th>\n",
       "      <th>4</th>\n",
       "    </tr>\n",
       "  </thead>\n",
       "  <tbody>\n",
       "    <tr>\n",
       "      <th>0</th>\n",
       "      <td>26</td>\n",
       "      <td>26</td>\n",
       "      <td>44</td>\n",
       "      <td>48</td>\n",
       "      <td>41</td>\n",
       "    </tr>\n",
       "    <tr>\n",
       "      <th>1</th>\n",
       "      <td>34</td>\n",
       "      <td>11</td>\n",
       "      <td>18</td>\n",
       "      <td>2</td>\n",
       "      <td>9</td>\n",
       "    </tr>\n",
       "    <tr>\n",
       "      <th>2</th>\n",
       "      <td>12</td>\n",
       "      <td>30</td>\n",
       "      <td>43</td>\n",
       "      <td>36</td>\n",
       "      <td>33</td>\n",
       "    </tr>\n",
       "    <tr>\n",
       "      <th>3</th>\n",
       "      <td>27</td>\n",
       "      <td>15</td>\n",
       "      <td>8</td>\n",
       "      <td>17</td>\n",
       "      <td>1</td>\n",
       "    </tr>\n",
       "    <tr>\n",
       "      <th>4</th>\n",
       "      <td>46</td>\n",
       "      <td>45</td>\n",
       "      <td>15</td>\n",
       "      <td>38</td>\n",
       "      <td>1</td>\n",
       "    </tr>\n",
       "    <tr>\n",
       "      <th>5</th>\n",
       "      <td>41</td>\n",
       "      <td>26</td>\n",
       "      <td>34</td>\n",
       "      <td>14</td>\n",
       "      <td>39</td>\n",
       "    </tr>\n",
       "    <tr>\n",
       "      <th>6</th>\n",
       "      <td>20</td>\n",
       "      <td>35</td>\n",
       "      <td>29</td>\n",
       "      <td>34</td>\n",
       "      <td>19</td>\n",
       "    </tr>\n",
       "    <tr>\n",
       "      <th>7</th>\n",
       "      <td>39</td>\n",
       "      <td>24</td>\n",
       "      <td>32</td>\n",
       "      <td>14</td>\n",
       "      <td>0</td>\n",
       "    </tr>\n",
       "    <tr>\n",
       "      <th>8</th>\n",
       "      <td>5</td>\n",
       "      <td>26</td>\n",
       "      <td>47</td>\n",
       "      <td>21</td>\n",
       "      <td>0</td>\n",
       "    </tr>\n",
       "    <tr>\n",
       "      <th>9</th>\n",
       "      <td>20</td>\n",
       "      <td>20</td>\n",
       "      <td>25</td>\n",
       "      <td>38</td>\n",
       "      <td>49</td>\n",
       "    </tr>\n",
       "  </tbody>\n",
       "</table>\n",
       "</div>"
      ],
      "text/plain": [
       "    0   1   2   3   4\n",
       "0  26  26  44  48  41\n",
       "1  34  11  18   2   9\n",
       "2  12  30  43  36  33\n",
       "3  27  15   8  17   1\n",
       "4  46  45  15  38   1\n",
       "5  41  26  34  14  39\n",
       "6  20  35  29  34  19\n",
       "7  39  24  32  14   0\n",
       "8   5  26  47  21   0\n",
       "9  20  20  25  38  49"
      ]
     },
     "execution_count": 34,
     "metadata": {},
     "output_type": "execute_result"
    }
   ],
   "source": [
    "df = pd.DataFrame(np.random.randint(50,size=50).reshape(10,5))\n",
    "df"
   ]
  },
  {
   "cell_type": "code",
   "execution_count": 39,
   "metadata": {},
   "outputs": [
    {
     "data": {
      "text/html": [
       "<div>\n",
       "<style>\n",
       "    .dataframe thead tr:only-child th {\n",
       "        text-align: right;\n",
       "    }\n",
       "\n",
       "    .dataframe thead th {\n",
       "        text-align: left;\n",
       "    }\n",
       "\n",
       "    .dataframe tbody tr th {\n",
       "        vertical-align: top;\n",
       "    }\n",
       "</style>\n",
       "<table border=\"1\" class=\"dataframe\">\n",
       "  <thead>\n",
       "    <tr style=\"text-align: right;\">\n",
       "      <th></th>\n",
       "      <th>0</th>\n",
       "      <th>1</th>\n",
       "      <th>2</th>\n",
       "      <th>3</th>\n",
       "      <th>4</th>\n",
       "    </tr>\n",
       "  </thead>\n",
       "  <tbody>\n",
       "    <tr>\n",
       "      <th>0</th>\n",
       "      <td>NaN</td>\n",
       "      <td>NaN</td>\n",
       "      <td>NaN</td>\n",
       "      <td>NaN</td>\n",
       "      <td>NaN</td>\n",
       "    </tr>\n",
       "    <tr>\n",
       "      <th>1</th>\n",
       "      <td>NaN</td>\n",
       "      <td>NaN</td>\n",
       "      <td>NaN</td>\n",
       "      <td>NaN</td>\n",
       "      <td>NaN</td>\n",
       "    </tr>\n",
       "    <tr>\n",
       "      <th>2</th>\n",
       "      <td>24.000000</td>\n",
       "      <td>22.333333</td>\n",
       "      <td>35.000000</td>\n",
       "      <td>28.666667</td>\n",
       "      <td>27.666667</td>\n",
       "    </tr>\n",
       "    <tr>\n",
       "      <th>3</th>\n",
       "      <td>24.333333</td>\n",
       "      <td>18.666667</td>\n",
       "      <td>23.000000</td>\n",
       "      <td>18.333333</td>\n",
       "      <td>14.333333</td>\n",
       "    </tr>\n",
       "    <tr>\n",
       "      <th>4</th>\n",
       "      <td>28.333333</td>\n",
       "      <td>30.000000</td>\n",
       "      <td>22.000000</td>\n",
       "      <td>30.333333</td>\n",
       "      <td>11.666667</td>\n",
       "    </tr>\n",
       "    <tr>\n",
       "      <th>5</th>\n",
       "      <td>38.000000</td>\n",
       "      <td>28.666667</td>\n",
       "      <td>19.000000</td>\n",
       "      <td>23.000000</td>\n",
       "      <td>13.666667</td>\n",
       "    </tr>\n",
       "    <tr>\n",
       "      <th>6</th>\n",
       "      <td>35.666667</td>\n",
       "      <td>35.333333</td>\n",
       "      <td>26.000000</td>\n",
       "      <td>28.666667</td>\n",
       "      <td>19.666667</td>\n",
       "    </tr>\n",
       "    <tr>\n",
       "      <th>7</th>\n",
       "      <td>33.333333</td>\n",
       "      <td>28.333333</td>\n",
       "      <td>31.666667</td>\n",
       "      <td>20.666667</td>\n",
       "      <td>19.333333</td>\n",
       "    </tr>\n",
       "    <tr>\n",
       "      <th>8</th>\n",
       "      <td>21.333333</td>\n",
       "      <td>28.333333</td>\n",
       "      <td>36.000000</td>\n",
       "      <td>23.000000</td>\n",
       "      <td>6.333333</td>\n",
       "    </tr>\n",
       "    <tr>\n",
       "      <th>9</th>\n",
       "      <td>21.333333</td>\n",
       "      <td>23.333333</td>\n",
       "      <td>34.666667</td>\n",
       "      <td>24.333333</td>\n",
       "      <td>16.333333</td>\n",
       "    </tr>\n",
       "  </tbody>\n",
       "</table>\n",
       "</div>"
      ],
      "text/plain": [
       "           0          1          2          3          4\n",
       "0        NaN        NaN        NaN        NaN        NaN\n",
       "1        NaN        NaN        NaN        NaN        NaN\n",
       "2  24.000000  22.333333  35.000000  28.666667  27.666667\n",
       "3  24.333333  18.666667  23.000000  18.333333  14.333333\n",
       "4  28.333333  30.000000  22.000000  30.333333  11.666667\n",
       "5  38.000000  28.666667  19.000000  23.000000  13.666667\n",
       "6  35.666667  35.333333  26.000000  28.666667  19.666667\n",
       "7  33.333333  28.333333  31.666667  20.666667  19.333333\n",
       "8  21.333333  28.333333  36.000000  23.000000   6.333333\n",
       "9  21.333333  23.333333  34.666667  24.333333  16.333333"
      ]
     },
     "execution_count": 39,
     "metadata": {},
     "output_type": "execute_result"
    }
   ],
   "source": [
    "df.rolling(window=3).mean() # for each attibute's each window, calculate window average"
   ]
  },
  {
   "cell_type": "markdown",
   "metadata": {},
   "source": [
    "* "
   ]
  },
  {
   "cell_type": "code",
   "execution_count": 148,
   "metadata": {
    "uuid": "956890ca-7927-4fac-a99a-af7a15cac58f"
   },
   "outputs": [
    {
     "name": "stderr",
     "output_type": "stream",
     "text": [
      "/opt/anaconda3/envs/uicquant/lib/python3.6/site-packages/ipykernel_launcher.py:1: SettingWithCopyWarning: \n",
      "A value is trying to be set on a copy of a slice from a DataFrame.\n",
      "Try using .loc[row_indexer,col_indexer] = value instead\n",
      "\n",
      "See the caveats in the documentation: http://pandas.pydata.org/pandas-docs/stable/indexing.html#indexing-view-versus-copy\n",
      "  \"\"\"Entry point for launching an IPython kernel.\n",
      "/opt/anaconda3/envs/uicquant/lib/python3.6/site-packages/ipykernel_launcher.py:2: SettingWithCopyWarning: \n",
      "A value is trying to be set on a copy of a slice from a DataFrame.\n",
      "Try using .loc[row_indexer,col_indexer] = value instead\n",
      "\n",
      "See the caveats in the documentation: http://pandas.pydata.org/pandas-docs/stable/indexing.html#indexing-view-versus-copy\n",
      "  \n"
     ]
    }
   ],
   "source": [
    "AAPL_before_adjust['42d'] = AAPL_before_adjust['Close'].rolling(window=42).mean()\n",
    "AAPL_before_adjust['252d'] = AAPL_before_adjust['Close'].rolling(window=252).mean()"
   ]
  },
  {
   "cell_type": "code",
   "execution_count": 149,
   "metadata": {
    "uuid": "f5440e3f-b808-4685-9bec-5f6ca39609c5"
   },
   "outputs": [
    {
     "data": {
      "text/html": [
       "<div>\n",
       "<style>\n",
       "    .dataframe thead tr:only-child th {\n",
       "        text-align: right;\n",
       "    }\n",
       "\n",
       "    .dataframe thead th {\n",
       "        text-align: left;\n",
       "    }\n",
       "\n",
       "    .dataframe tbody tr th {\n",
       "        vertical-align: top;\n",
       "    }\n",
       "</style>\n",
       "<table border=\"1\" class=\"dataframe\">\n",
       "  <thead>\n",
       "    <tr style=\"text-align: right;\">\n",
       "      <th></th>\n",
       "      <th>Close</th>\n",
       "      <th>42d</th>\n",
       "      <th>252d</th>\n",
       "    </tr>\n",
       "    <tr>\n",
       "      <th>Date</th>\n",
       "      <th></th>\n",
       "      <th></th>\n",
       "      <th></th>\n",
       "    </tr>\n",
       "  </thead>\n",
       "  <tbody>\n",
       "    <tr>\n",
       "      <th>2006-09-14</th>\n",
       "      <td>74.170002</td>\n",
       "      <td>77.260238</td>\n",
       "      <td>100.878849</td>\n",
       "    </tr>\n",
       "    <tr>\n",
       "      <th>2006-09-13</th>\n",
       "      <td>74.200003</td>\n",
       "      <td>77.047857</td>\n",
       "      <td>100.622460</td>\n",
       "    </tr>\n",
       "    <tr>\n",
       "      <th>2006-09-12</th>\n",
       "      <td>72.630000</td>\n",
       "      <td>76.792857</td>\n",
       "      <td>100.366230</td>\n",
       "    </tr>\n",
       "    <tr>\n",
       "      <th>2006-09-11</th>\n",
       "      <td>72.499997</td>\n",
       "      <td>76.555952</td>\n",
       "      <td>100.110873</td>\n",
       "    </tr>\n",
       "    <tr>\n",
       "      <th>2006-09-08</th>\n",
       "      <td>72.519998</td>\n",
       "      <td>76.365714</td>\n",
       "      <td>99.860992</td>\n",
       "    </tr>\n",
       "  </tbody>\n",
       "</table>\n",
       "</div>"
      ],
      "text/plain": [
       "                Close        42d        252d\n",
       "Date                                        \n",
       "2006-09-14  74.170002  77.260238  100.878849\n",
       "2006-09-13  74.200003  77.047857  100.622460\n",
       "2006-09-12  72.630000  76.792857  100.366230\n",
       "2006-09-11  72.499997  76.555952  100.110873\n",
       "2006-09-08  72.519998  76.365714   99.860992"
      ]
     },
     "execution_count": 149,
     "metadata": {},
     "output_type": "execute_result"
    }
   ],
   "source": [
    "AAPL_before_adjust[['Close', '42d', '252d']].tail()"
   ]
  },
  {
   "cell_type": "code",
   "execution_count": 150,
   "metadata": {
    "uuid": "281a5820-2a77-46b4-b399-8c0913423bc3"
   },
   "outputs": [
    {
     "data": {
      "text/plain": [
       "<matplotlib.axes._subplots.AxesSubplot at 0x7feea7642a58>"
      ]
     },
     "execution_count": 150,
     "metadata": {},
     "output_type": "execute_result"
    },
    {
     "data": {
      "image/png": "[encoded data removed]",
      "text/plain": [
       "<matplotlib.figure.Figure at 0x7feea71c92e8>"
      ]
     },
     "metadata": {},
     "output_type": "display_data"
    }
   ],
   "source": [
    "AAPL_before_adjust[['Close', '42d', '252d']].plot(figsize=(8, 5), grid=True)\n",
    "# tag: dax_trends\n",
    "# title: The S&P index and moving averages"
   ]
  },
  {
   "cell_type": "code",
   "execution_count": 154,
   "metadata": {
    "uuid": "1b12ae02-5e35-47ff-a9c9-8563e468b489"
   },
   "outputs": [
    {
     "name": "stderr",
     "output_type": "stream",
     "text": [
      "/opt/anaconda3/envs/uicquant/lib/python3.6/site-packages/ipykernel_launcher.py:2: SettingWithCopyWarning: \n",
      "A value is trying to be set on a copy of a slice from a DataFrame.\n",
      "Try using .loc[row_indexer,col_indexer] = value instead\n",
      "\n",
      "See the caveats in the documentation: http://pandas.pydata.org/pandas-docs/stable/indexing.html#indexing-view-versus-copy\n",
      "  \n"
     ]
    }
   ],
   "source": [
    "import math\n",
    "AAPL_before_adjust['Mov_Vol'] = AAPL_before_adjust['Pct_Change'].rolling(window=252).std() * math.sqrt(252)\n",
    "  # moving annual volatility"
   ]
  },
  {
   "cell_type": "code",
   "execution_count": 155,
   "metadata": {
    "uuid": "2e75f8fd-bcf8-4c36-93b9-974ef94366c7"
   },
   "outputs": [
    {
     "data": {
      "image/png": "[encoded data removed]",
      "text/plain": [
       "<matplotlib.figure.Figure at 0x7feea7393ac8>"
      ]
     },
     "metadata": {},
     "output_type": "display_data"
    }
   ],
   "source": [
    "AAPL_before_adjust[['Close', 'Mov_Vol', 'Pct_Change']].plot(subplots=True, style='b',\n",
    "                                         figsize=(8, 7), grid=True);\n",
    "# tag: dax_mov_std\n",
    "# title: The S&P index and moving, annualized volatility"
   ]
  },
  {
   "cell_type": "markdown",
   "metadata": {},
   "source": [
    "## Regression Analysis"
   ]
  },
  {
   "cell_type": "code",
   "execution_count": 60,
   "metadata": {
    "uuid": "85bf9df2-d445-4600-a02e-37cf2b7dc9ff"
   },
   "outputs": [],
   "source": [
    "import pandas as pd"
   ]
  },
  {
   "cell_type": "code",
   "execution_count": 61,
   "metadata": {
    "uuid": "0bc55f0d-cd99-45b9-955e-3a126360e94f"
   },
   "outputs": [],
   "source": [
    "# data from Thomson Reuters Eikon API\n",
    "raw = pd.read_csv('source/tr_eikon_eod_data.csv',\n",
    "                 index_col=0, parse_dates=True)\n",
    "spx = pd.DataFrame(raw['.SPX'])"
   ]
  },
  {
   "cell_type": "code",
   "execution_count": 62,
   "metadata": {
    "uuid": "73526ac3-4bf0-4455-89b2-f6aa614ffdca"
   },
   "outputs": [
    {
     "data": {
      "text/html": [
       "<div>\n",
       "<style scoped>\n",
       "    .dataframe tbody tr th:only-of-type {\n",
       "        vertical-align: middle;\n",
       "    }\n",
       "\n",
       "    .dataframe tbody tr th {\n",
       "        vertical-align: top;\n",
       "    }\n",
       "\n",
       "    .dataframe thead th {\n",
       "        text-align: right;\n",
       "    }\n",
       "</style>\n",
       "<table border=\"1\" class=\"dataframe\">\n",
       "  <thead>\n",
       "    <tr style=\"text-align: right;\">\n",
       "      <th></th>\n",
       "      <th>.SPX</th>\n",
       "    </tr>\n",
       "    <tr>\n",
       "      <th>Date</th>\n",
       "      <th></th>\n",
       "    </tr>\n",
       "  </thead>\n",
       "  <tbody>\n",
       "    <tr>\n",
       "      <th>2017-10-25</th>\n",
       "      <td>2557.0</td>\n",
       "    </tr>\n",
       "    <tr>\n",
       "      <th>2017-10-26</th>\n",
       "      <td>2560.0</td>\n",
       "    </tr>\n",
       "    <tr>\n",
       "      <th>2017-10-27</th>\n",
       "      <td>2581.0</td>\n",
       "    </tr>\n",
       "    <tr>\n",
       "      <th>2017-10-30</th>\n",
       "      <td>2573.0</td>\n",
       "    </tr>\n",
       "    <tr>\n",
       "      <th>2017-10-31</th>\n",
       "      <td>2575.0</td>\n",
       "    </tr>\n",
       "  </tbody>\n",
       "</table>\n",
       "</div>"
      ],
      "text/plain": [
       "              .SPX\n",
       "Date              \n",
       "2017-10-25  2557.0\n",
       "2017-10-26  2560.0\n",
       "2017-10-27  2581.0\n",
       "2017-10-30  2573.0\n",
       "2017-10-31  2575.0"
      ]
     },
     "execution_count": 62,
     "metadata": {},
     "output_type": "execute_result"
    }
   ],
   "source": [
    "np.round(spx.tail())"
   ]
  },
  {
   "cell_type": "code",
   "execution_count": 63,
   "metadata": {
    "uuid": "3a1920c2-8c61-4720-941e-afdb983350aa"
   },
   "outputs": [
    {
     "name": "stdout",
     "output_type": "stream",
     "text": [
      "<class 'pandas.core.frame.DataFrame'>\n",
      "DatetimeIndex: 1972 entries, 2010-01-04 to 2017-10-31\n",
      "Data columns (total 1 columns):\n",
      ".VIX    1972 non-null float64\n",
      "dtypes: float64(1)\n",
      "memory usage: 30.8 KB\n"
     ]
    }
   ],
   "source": [
    "vix = pd.DataFrame(raw['.VIX'])\n",
    "vix.info()"
   ]
  },
  {
   "cell_type": "code",
   "execution_count": 64,
   "metadata": {
    "uuid": "3a437278-4466-41bf-b7f2-f9c17d2c44a7"
   },
   "outputs": [],
   "source": [
    "data = spx.join(vix)"
   ]
  },
  {
   "cell_type": "code",
   "execution_count": 65,
   "metadata": {
    "uuid": "fc5fc92a-3475-4e4b-a5fe-145809d35919"
   },
   "outputs": [
    {
     "data": {
      "text/html": [
       "<div>\n",
       "<style scoped>\n",
       "    .dataframe tbody tr th:only-of-type {\n",
       "        vertical-align: middle;\n",
       "    }\n",
       "\n",
       "    .dataframe tbody tr th {\n",
       "        vertical-align: top;\n",
       "    }\n",
       "\n",
       "    .dataframe thead th {\n",
       "        text-align: right;\n",
       "    }\n",
       "</style>\n",
       "<table border=\"1\" class=\"dataframe\">\n",
       "  <thead>\n",
       "    <tr style=\"text-align: right;\">\n",
       "      <th></th>\n",
       "      <th>.SPX</th>\n",
       "      <th>.VIX</th>\n",
       "    </tr>\n",
       "    <tr>\n",
       "      <th>Date</th>\n",
       "      <th></th>\n",
       "      <th></th>\n",
       "    </tr>\n",
       "  </thead>\n",
       "  <tbody>\n",
       "    <tr>\n",
       "      <th>2017-10-25</th>\n",
       "      <td>2557.15</td>\n",
       "      <td>11.23</td>\n",
       "    </tr>\n",
       "    <tr>\n",
       "      <th>2017-10-26</th>\n",
       "      <td>2560.40</td>\n",
       "      <td>11.30</td>\n",
       "    </tr>\n",
       "    <tr>\n",
       "      <th>2017-10-27</th>\n",
       "      <td>2581.07</td>\n",
       "      <td>9.80</td>\n",
       "    </tr>\n",
       "    <tr>\n",
       "      <th>2017-10-30</th>\n",
       "      <td>2572.83</td>\n",
       "      <td>10.50</td>\n",
       "    </tr>\n",
       "    <tr>\n",
       "      <th>2017-10-31</th>\n",
       "      <td>2575.26</td>\n",
       "      <td>10.18</td>\n",
       "    </tr>\n",
       "  </tbody>\n",
       "</table>\n",
       "</div>"
      ],
      "text/plain": [
       "               .SPX   .VIX\n",
       "Date                      \n",
       "2017-10-25  2557.15  11.23\n",
       "2017-10-26  2560.40  11.30\n",
       "2017-10-27  2581.07   9.80\n",
       "2017-10-30  2572.83  10.50\n",
       "2017-10-31  2575.26  10.18"
      ]
     },
     "execution_count": 65,
     "metadata": {},
     "output_type": "execute_result"
    }
   ],
   "source": [
    "data.tail()"
   ]
  },
  {
   "cell_type": "code",
   "execution_count": 66,
   "metadata": {
    "uuid": "07158c72-907f-4636-ad40-95182b7728e3"
   },
   "outputs": [
    {
     "data": {
      "image/png": "[encoded data removed]",
      "text/plain": [
       "<matplotlib.figure.Figure at 0x1089cf978>"
      ]
     },
     "metadata": {},
     "output_type": "display_data"
    }
   ],
   "source": [
    "data.plot(subplots=True, grid=True, style='b', figsize=(8, 6));\n",
    "# tag: spx_vix\n",
    "# title: The S&P 500 Index and the VIX volatility index"
   ]
  },
  {
   "cell_type": "code",
   "execution_count": 67,
   "metadata": {
    "uuid": "17ae59ff-9863-4c30-9493-22d44c0e5edf"
   },
   "outputs": [
    {
     "data": {
      "text/html": [
       "<div>\n",
       "<style scoped>\n",
       "    .dataframe tbody tr th:only-of-type {\n",
       "        vertical-align: middle;\n",
       "    }\n",
       "\n",
       "    .dataframe tbody tr th {\n",
       "        vertical-align: top;\n",
       "    }\n",
       "\n",
       "    .dataframe thead th {\n",
       "        text-align: right;\n",
       "    }\n",
       "</style>\n",
       "<table border=\"1\" class=\"dataframe\">\n",
       "  <thead>\n",
       "    <tr style=\"text-align: right;\">\n",
       "      <th></th>\n",
       "      <th>.SPX</th>\n",
       "      <th>.VIX</th>\n",
       "    </tr>\n",
       "    <tr>\n",
       "      <th>Date</th>\n",
       "      <th></th>\n",
       "      <th></th>\n",
       "    </tr>\n",
       "  </thead>\n",
       "  <tbody>\n",
       "    <tr>\n",
       "      <th>2010-01-04</th>\n",
       "      <td>NaN</td>\n",
       "      <td>NaN</td>\n",
       "    </tr>\n",
       "    <tr>\n",
       "      <th>2010-01-05</th>\n",
       "      <td>0.003111</td>\n",
       "      <td>-0.035038</td>\n",
       "    </tr>\n",
       "    <tr>\n",
       "      <th>2010-01-06</th>\n",
       "      <td>0.000545</td>\n",
       "      <td>-0.009868</td>\n",
       "    </tr>\n",
       "    <tr>\n",
       "      <th>2010-01-07</th>\n",
       "      <td>0.003993</td>\n",
       "      <td>-0.005233</td>\n",
       "    </tr>\n",
       "    <tr>\n",
       "      <th>2010-01-08</th>\n",
       "      <td>0.002878</td>\n",
       "      <td>-0.050024</td>\n",
       "    </tr>\n",
       "  </tbody>\n",
       "</table>\n",
       "</div>"
      ],
      "text/plain": [
       "                .SPX      .VIX\n",
       "Date                          \n",
       "2010-01-04       NaN       NaN\n",
       "2010-01-05  0.003111 -0.035038\n",
       "2010-01-06  0.000545 -0.009868\n",
       "2010-01-07  0.003993 -0.005233\n",
       "2010-01-08  0.002878 -0.050024"
      ]
     },
     "execution_count": 67,
     "metadata": {},
     "output_type": "execute_result"
    }
   ],
   "source": [
    "rets = np.log(data / data.shift(1)) \n",
    "rets.head()"
   ]
  },
  {
   "cell_type": "code",
   "execution_count": 68,
   "metadata": {},
   "outputs": [],
   "source": [
    "rets.dropna(inplace=True)"
   ]
  },
  {
   "cell_type": "code",
   "execution_count": 69,
   "metadata": {
    "uuid": "771c53bf-78fb-4260-865b-39307973cb77"
   },
   "outputs": [
    {
     "data": {
      "image/png": "[encoded data removed]",
      "text/plain": [
       "<matplotlib.figure.Figure at 0x1057ec128>"
      ]
     },
     "metadata": {},
     "output_type": "display_data"
    }
   ],
   "source": [
    "rets.plot(subplots=True, grid=True, style='b', figsize=(8, 6));\n",
    "# tag: es50_vs_rets\n",
    "# title: Log returns of S&P500 and VIX"
   ]
  },
  {
   "cell_type": "code",
   "execution_count": 70,
   "metadata": {},
   "outputs": [],
   "source": [
    "import numpy as np"
   ]
  },
  {
   "cell_type": "code",
   "execution_count": 71,
   "metadata": {
    "uuid": "709bc1e8-03a8-47c6-9b21-4efa08052dab"
   },
   "outputs": [
    {
     "data": {
      "text/plain": [
       "array([ -6.45336250e+00,   2.34474296e-03])"
      ]
     },
     "execution_count": 71,
     "metadata": {},
     "output_type": "execute_result"
    }
   ],
   "source": [
    "xdat = rets['.SPX'].values\n",
    "ydat = rets['.VIX'].values\n",
    "reg = np.polyfit(x=xdat, y=ydat, deg=1)\n",
    "reg"
   ]
  },
  {
   "cell_type": "code",
   "execution_count": 72,
   "metadata": {
    "uuid": "24c708df-1e81-48c6-b1c2-890dd52e541f"
   },
   "outputs": [
    {
     "data": {
      "text/plain": [
       "Text(0,0.5,'VIX returns')"
      ]
     },
     "execution_count": 72,
     "metadata": {},
     "output_type": "execute_result"
    },
    {
     "data": {
      "image/png": "[encoded data removed]",
      "text/plain": [
       "<matplotlib.figure.Figure at 0x111343d30>"
      ]
     },
     "metadata": {},
     "output_type": "display_data"
    }
   ],
   "source": [
    "plt.plot(xdat, ydat, 'r.')\n",
    "ax = plt.axis()  # grab axis values\n",
    "x = np.linspace(ax[0], ax[1] + 0.01)\n",
    "plt.plot(x, np.polyval(reg, x), 'b', lw=2)\n",
    "plt.grid(True)\n",
    "plt.axis('tight')\n",
    "plt.xlabel('S&P 500 returns')\n",
    "plt.ylabel('VIX returns')\n",
    "# tag: scatter_rets\n",
    "# title: Scatter plot of log returns and regression line"
   ]
  },
  {
   "cell_type": "code",
   "execution_count": 73,
   "metadata": {
    "uuid": "e1f9009e-5b73-4e04-9b10-deea36f4e508"
   },
   "outputs": [
    {
     "data": {
      "text/html": [
       "<div>\n",
       "<style scoped>\n",
       "    .dataframe tbody tr th:only-of-type {\n",
       "        vertical-align: middle;\n",
       "    }\n",
       "\n",
       "    .dataframe tbody tr th {\n",
       "        vertical-align: top;\n",
       "    }\n",
       "\n",
       "    .dataframe thead th {\n",
       "        text-align: right;\n",
       "    }\n",
       "</style>\n",
       "<table border=\"1\" class=\"dataframe\">\n",
       "  <thead>\n",
       "    <tr style=\"text-align: right;\">\n",
       "      <th></th>\n",
       "      <th>.SPX</th>\n",
       "      <th>.VIX</th>\n",
       "    </tr>\n",
       "  </thead>\n",
       "  <tbody>\n",
       "    <tr>\n",
       "      <th>.SPX</th>\n",
       "      <td>1.000000</td>\n",
       "      <td>-0.808372</td>\n",
       "    </tr>\n",
       "    <tr>\n",
       "      <th>.VIX</th>\n",
       "      <td>-0.808372</td>\n",
       "      <td>1.000000</td>\n",
       "    </tr>\n",
       "  </tbody>\n",
       "</table>\n",
       "</div>"
      ],
      "text/plain": [
       "          .SPX      .VIX\n",
       ".SPX  1.000000 -0.808372\n",
       ".VIX -0.808372  1.000000"
      ]
     },
     "execution_count": 73,
     "metadata": {},
     "output_type": "execute_result"
    }
   ],
   "source": [
    "rets.corr()"
   ]
  },
  {
   "cell_type": "code",
   "execution_count": 74,
   "metadata": {
    "uuid": "a534d3db-df59-4a31-b0b7-1ab3c19d77d0"
   },
   "outputs": [
    {
     "data": {
      "text/plain": [
       "<matplotlib.axes._subplots.AxesSubplot at 0x111333898>"
      ]
     },
     "execution_count": 74,
     "metadata": {},
     "output_type": "execute_result"
    },
    {
     "data": {
      "image/png": "[encoded data removed]",
      "text/plain": [
       "<matplotlib.figure.Figure at 0x11145c160>"
      ]
     },
     "metadata": {},
     "output_type": "display_data"
    }
   ],
   "source": [
    "rets['.SPX'].rolling(window=252).corr(rets['.VIX']).plot(grid=True, style='b')\n",
    "# tag: roll_corr\n",
    "# title: Rolling correlation between S&P 500 and VIX"
   ]
  },
  {
   "cell_type": "markdown",
   "metadata": {},
   "source": [
    "## High Frequency Data"
   ]
  },
  {
   "cell_type": "code",
   "execution_count": 11,
   "metadata": {
    "uuid": "cd3bd5f2-565a-4158-a796-e8ec41f76d88"
   },
   "outputs": [],
   "source": [
    "import numpy as np\n",
    "import pandas as pd\n",
    "import datetime as dt\n",
    "%matplotlib inline"
   ]
  },
  {
   "cell_type": "code",
   "execution_count": 12,
   "metadata": {
    "uuid": "946e1882-04bb-4809-869f-1e7dd8ad396a"
   },
   "outputs": [
    {
     "ename": "FileNotFoundError",
     "evalue": "File b'source/fxcm_eur_usd_tick_data.csv' does not exist",
     "output_type": "error",
     "traceback": [
      "\u001b[0;31m---------------------------------------------------------------------------\u001b[0m",
      "\u001b[0;31mFileNotFoundError\u001b[0m                         Traceback (most recent call last)",
      "\u001b[0;32m<ipython-input-12-7be2eaeeedf2>\u001b[0m in \u001b[0;36m<module>\u001b[0;34m()\u001b[0m\n\u001b[1;32m      1\u001b[0m \u001b[0;31m# data from FXCM Forex Capital Markets Ltd.\u001b[0m\u001b[0;34m\u001b[0m\u001b[0;34m\u001b[0m\u001b[0m\n\u001b[1;32m      2\u001b[0m eur_usd = pd.read_csv('source/fxcm_eur_usd_tick_data.csv',\n\u001b[0;32m----> 3\u001b[0;31m                      index_col=0, parse_dates=True)\n\u001b[0m",
      "\u001b[0;32m/opt/anaconda3/envs/uicquant/lib/python3.6/site-packages/pandas/io/parsers.py\u001b[0m in \u001b[0;36mparser_f\u001b[0;34m(filepath_or_buffer, sep, delimiter, header, names, index_col, usecols, squeeze, prefix, mangle_dupe_cols, dtype, engine, converters, true_values, false_values, skipinitialspace, skiprows, nrows, na_values, keep_default_na, na_filter, verbose, skip_blank_lines, parse_dates, infer_datetime_format, keep_date_col, date_parser, dayfirst, iterator, chunksize, compression, thousands, decimal, lineterminator, quotechar, quoting, escapechar, comment, encoding, dialect, tupleize_cols, error_bad_lines, warn_bad_lines, skipfooter, skip_footer, doublequote, delim_whitespace, as_recarray, compact_ints, use_unsigned, low_memory, buffer_lines, memory_map, float_precision)\u001b[0m\n\u001b[1;32m    653\u001b[0m                     skip_blank_lines=skip_blank_lines)\n\u001b[1;32m    654\u001b[0m \u001b[0;34m\u001b[0m\u001b[0m\n\u001b[0;32m--> 655\u001b[0;31m         \u001b[0;32mreturn\u001b[0m \u001b[0m_read\u001b[0m\u001b[0;34m(\u001b[0m\u001b[0mfilepath_or_buffer\u001b[0m\u001b[0;34m,\u001b[0m \u001b[0mkwds\u001b[0m\u001b[0;34m)\u001b[0m\u001b[0;34m\u001b[0m\u001b[0m\n\u001b[0m\u001b[1;32m    656\u001b[0m \u001b[0;34m\u001b[0m\u001b[0m\n\u001b[1;32m    657\u001b[0m     \u001b[0mparser_f\u001b[0m\u001b[0;34m.\u001b[0m\u001b[0m__name__\u001b[0m \u001b[0;34m=\u001b[0m \u001b[0mname\u001b[0m\u001b[0;34m\u001b[0m\u001b[0m\n",
      "\u001b[0;32m/opt/anaconda3/envs/uicquant/lib/python3.6/site-packages/pandas/io/parsers.py\u001b[0m in \u001b[0;36m_read\u001b[0;34m(filepath_or_buffer, kwds)\u001b[0m\n\u001b[1;32m    403\u001b[0m \u001b[0;34m\u001b[0m\u001b[0m\n\u001b[1;32m    404\u001b[0m     \u001b[0;31m# Create the parser.\u001b[0m\u001b[0;34m\u001b[0m\u001b[0;34m\u001b[0m\u001b[0m\n\u001b[0;32m--> 405\u001b[0;31m     \u001b[0mparser\u001b[0m \u001b[0;34m=\u001b[0m \u001b[0mTextFileReader\u001b[0m\u001b[0;34m(\u001b[0m\u001b[0mfilepath_or_buffer\u001b[0m\u001b[0;34m,\u001b[0m \u001b[0;34m**\u001b[0m\u001b[0mkwds\u001b[0m\u001b[0;34m)\u001b[0m\u001b[0;34m\u001b[0m\u001b[0m\n\u001b[0m\u001b[1;32m    406\u001b[0m \u001b[0;34m\u001b[0m\u001b[0m\n\u001b[1;32m    407\u001b[0m     \u001b[0;32mif\u001b[0m \u001b[0mchunksize\u001b[0m \u001b[0;32mor\u001b[0m \u001b[0miterator\u001b[0m\u001b[0;34m:\u001b[0m\u001b[0;34m\u001b[0m\u001b[0m\n",
      "\u001b[0;32m/opt/anaconda3/envs/uicquant/lib/python3.6/site-packages/pandas/io/parsers.py\u001b[0m in \u001b[0;36m__init__\u001b[0;34m(self, f, engine, **kwds)\u001b[0m\n\u001b[1;32m    760\u001b[0m             \u001b[0mself\u001b[0m\u001b[0;34m.\u001b[0m\u001b[0moptions\u001b[0m\u001b[0;34m[\u001b[0m\u001b[0;34m'has_index_names'\u001b[0m\u001b[0;34m]\u001b[0m \u001b[0;34m=\u001b[0m \u001b[0mkwds\u001b[0m\u001b[0;34m[\u001b[0m\u001b[0;34m'has_index_names'\u001b[0m\u001b[0;34m]\u001b[0m\u001b[0;34m\u001b[0m\u001b[0m\n\u001b[1;32m    761\u001b[0m \u001b[0;34m\u001b[0m\u001b[0m\n\u001b[0;32m--> 762\u001b[0;31m         \u001b[0mself\u001b[0m\u001b[0;34m.\u001b[0m\u001b[0m_make_engine\u001b[0m\u001b[0;34m(\u001b[0m\u001b[0mself\u001b[0m\u001b[0;34m.\u001b[0m\u001b[0mengine\u001b[0m\u001b[0;34m)\u001b[0m\u001b[0;34m\u001b[0m\u001b[0m\n\u001b[0m\u001b[1;32m    763\u001b[0m \u001b[0;34m\u001b[0m\u001b[0m\n\u001b[1;32m    764\u001b[0m     \u001b[0;32mdef\u001b[0m \u001b[0mclose\u001b[0m\u001b[0;34m(\u001b[0m\u001b[0mself\u001b[0m\u001b[0;34m)\u001b[0m\u001b[0;34m:\u001b[0m\u001b[0;34m\u001b[0m\u001b[0m\n",
      "\u001b[0;32m/opt/anaconda3/envs/uicquant/lib/python3.6/site-packages/pandas/io/parsers.py\u001b[0m in \u001b[0;36m_make_engine\u001b[0;34m(self, engine)\u001b[0m\n\u001b[1;32m    964\u001b[0m     \u001b[0;32mdef\u001b[0m \u001b[0m_make_engine\u001b[0m\u001b[0;34m(\u001b[0m\u001b[0mself\u001b[0m\u001b[0;34m,\u001b[0m \u001b[0mengine\u001b[0m\u001b[0;34m=\u001b[0m\u001b[0;34m'c'\u001b[0m\u001b[0;34m)\u001b[0m\u001b[0;34m:\u001b[0m\u001b[0;34m\u001b[0m\u001b[0m\n\u001b[1;32m    965\u001b[0m         \u001b[0;32mif\u001b[0m \u001b[0mengine\u001b[0m \u001b[0;34m==\u001b[0m \u001b[0;34m'c'\u001b[0m\u001b[0;34m:\u001b[0m\u001b[0;34m\u001b[0m\u001b[0m\n\u001b[0;32m--> 966\u001b[0;31m             \u001b[0mself\u001b[0m\u001b[0;34m.\u001b[0m\u001b[0m_engine\u001b[0m \u001b[0;34m=\u001b[0m \u001b[0mCParserWrapper\u001b[0m\u001b[0;34m(\u001b[0m\u001b[0mself\u001b[0m\u001b[0;34m.\u001b[0m\u001b[0mf\u001b[0m\u001b[0;34m,\u001b[0m \u001b[0;34m**\u001b[0m\u001b[0mself\u001b[0m\u001b[0;34m.\u001b[0m\u001b[0moptions\u001b[0m\u001b[0;34m)\u001b[0m\u001b[0;34m\u001b[0m\u001b[0m\n\u001b[0m\u001b[1;32m    967\u001b[0m         \u001b[0;32melse\u001b[0m\u001b[0;34m:\u001b[0m\u001b[0;34m\u001b[0m\u001b[0m\n\u001b[1;32m    968\u001b[0m             \u001b[0;32mif\u001b[0m \u001b[0mengine\u001b[0m \u001b[0;34m==\u001b[0m \u001b[0;34m'python'\u001b[0m\u001b[0;34m:\u001b[0m\u001b[0;34m\u001b[0m\u001b[0m\n",
      "\u001b[0;32m/opt/anaconda3/envs/uicquant/lib/python3.6/site-packages/pandas/io/parsers.py\u001b[0m in \u001b[0;36m__init__\u001b[0;34m(self, src, **kwds)\u001b[0m\n\u001b[1;32m   1580\u001b[0m         \u001b[0mkwds\u001b[0m\u001b[0;34m[\u001b[0m\u001b[0;34m'allow_leading_cols'\u001b[0m\u001b[0;34m]\u001b[0m \u001b[0;34m=\u001b[0m \u001b[0mself\u001b[0m\u001b[0;34m.\u001b[0m\u001b[0mindex_col\u001b[0m \u001b[0;32mis\u001b[0m \u001b[0;32mnot\u001b[0m \u001b[0;32mFalse\u001b[0m\u001b[0;34m\u001b[0m\u001b[0m\n\u001b[1;32m   1581\u001b[0m \u001b[0;34m\u001b[0m\u001b[0m\n\u001b[0;32m-> 1582\u001b[0;31m         \u001b[0mself\u001b[0m\u001b[0;34m.\u001b[0m\u001b[0m_reader\u001b[0m \u001b[0;34m=\u001b[0m \u001b[0mparsers\u001b[0m\u001b[0;34m.\u001b[0m\u001b[0mTextReader\u001b[0m\u001b[0;34m(\u001b[0m\u001b[0msrc\u001b[0m\u001b[0;34m,\u001b[0m \u001b[0;34m**\u001b[0m\u001b[0mkwds\u001b[0m\u001b[0;34m)\u001b[0m\u001b[0;34m\u001b[0m\u001b[0m\n\u001b[0m\u001b[1;32m   1583\u001b[0m \u001b[0;34m\u001b[0m\u001b[0m\n\u001b[1;32m   1584\u001b[0m         \u001b[0;31m# XXX\u001b[0m\u001b[0;34m\u001b[0m\u001b[0;34m\u001b[0m\u001b[0m\n",
      "\u001b[0;32mpandas/_libs/parsers.pyx\u001b[0m in \u001b[0;36mpandas._libs.parsers.TextReader.__cinit__ (pandas/_libs/parsers.c:4209)\u001b[0;34m()\u001b[0m\n",
      "\u001b[0;32mpandas/_libs/parsers.pyx\u001b[0m in \u001b[0;36mpandas._libs.parsers.TextReader._setup_parser_source (pandas/_libs/parsers.c:8873)\u001b[0;34m()\u001b[0m\n",
      "\u001b[0;31mFileNotFoundError\u001b[0m: File b'source/fxcm_eur_usd_tick_data.csv' does not exist"
     ]
    }
   ],
   "source": [
    "# data from FXCM Forex Capital Markets Ltd.\n",
    "eur_usd = pd.read_csv('source/fxcm_eur_usd_tick_data.csv',\n",
    "                     index_col=0, parse_dates=True)"
   ]
  },
  {
   "cell_type": "code",
   "execution_count": 77,
   "metadata": {
    "uuid": "1fce3fb2-c664-4f77-80dc-0e4907f86dac"
   },
   "outputs": [
    {
     "name": "stdout",
     "output_type": "stream",
     "text": [
      "<class 'pandas.core.frame.DataFrame'>\n",
      "DatetimeIndex: 17352 entries, 2017-11-10 12:00:00.007000 to 2017-11-10 14:00:00.131000\n",
      "Data columns (total 2 columns):\n",
      "Bid    17352 non-null float64\n",
      "Ask    17352 non-null float64\n",
      "dtypes: float64(2)\n",
      "memory usage: 406.7 KB\n"
     ]
    }
   ],
   "source": [
    "eur_usd.info()"
   ]
  },
  {
   "cell_type": "code",
   "execution_count": 78,
   "metadata": {},
   "outputs": [],
   "source": [
    "eur_usd['Mid'] = eur_usd.mean(axis=1)"
   ]
  },
  {
   "cell_type": "code",
   "execution_count": 79,
   "metadata": {
    "uuid": "b0fa9c58-2087-4f99-a7f1-efeb490bb456"
   },
   "outputs": [
    {
     "data": {
      "image/png": "[encoded data removed]",
      "text/plain": [
       "<matplotlib.figure.Figure at 0x111388860>"
      ]
     },
     "metadata": {},
     "output_type": "display_data"
    }
   ],
   "source": [
    "eur_usd['Mid'].plot(figsize=(10, 6));\n",
    "# tag: eur_uusd\n",
    "# title: EUR/USD tick data for two hours"
   ]
  },
  {
   "cell_type": "code",
   "execution_count": 80,
   "metadata": {
    "uuid": "47a27b89-f6a1-4b3c-9944-8a6109642c72"
   },
   "outputs": [
    {
     "data": {
      "text/html": [
       "<div>\n",
       "<style scoped>\n",
       "    .dataframe tbody tr th:only-of-type {\n",
       "        vertical-align: middle;\n",
       "    }\n",
       "\n",
       "    .dataframe tbody tr th {\n",
       "        vertical-align: top;\n",
       "    }\n",
       "\n",
       "    .dataframe thead th {\n",
       "        text-align: right;\n",
       "    }\n",
       "</style>\n",
       "<table border=\"1\" class=\"dataframe\">\n",
       "  <thead>\n",
       "    <tr style=\"text-align: right;\">\n",
       "      <th></th>\n",
       "      <th>Bid</th>\n",
       "      <th>Ask</th>\n",
       "      <th>Mid</th>\n",
       "    </tr>\n",
       "  </thead>\n",
       "  <tbody>\n",
       "    <tr>\n",
       "      <th>2017-11-10 12:00:00</th>\n",
       "      <td>1.16406</td>\n",
       "      <td>1.16407</td>\n",
       "      <td>1.164065</td>\n",
       "    </tr>\n",
       "    <tr>\n",
       "      <th>2017-11-10 12:01:00</th>\n",
       "      <td>1.16396</td>\n",
       "      <td>1.16397</td>\n",
       "      <td>1.163965</td>\n",
       "    </tr>\n",
       "    <tr>\n",
       "      <th>2017-11-10 12:02:00</th>\n",
       "      <td>1.16416</td>\n",
       "      <td>1.16418</td>\n",
       "      <td>1.164170</td>\n",
       "    </tr>\n",
       "    <tr>\n",
       "      <th>2017-11-10 12:03:00</th>\n",
       "      <td>1.16417</td>\n",
       "      <td>1.16417</td>\n",
       "      <td>1.164170</td>\n",
       "    </tr>\n",
       "    <tr>\n",
       "      <th>2017-11-10 12:04:00</th>\n",
       "      <td>1.16425</td>\n",
       "      <td>1.16427</td>\n",
       "      <td>1.164260</td>\n",
       "    </tr>\n",
       "  </tbody>\n",
       "</table>\n",
       "</div>"
      ],
      "text/plain": [
       "                         Bid      Ask       Mid\n",
       "2017-11-10 12:00:00  1.16406  1.16407  1.164065\n",
       "2017-11-10 12:01:00  1.16396  1.16397  1.163965\n",
       "2017-11-10 12:02:00  1.16416  1.16418  1.164170\n",
       "2017-11-10 12:03:00  1.16417  1.16417  1.164170\n",
       "2017-11-10 12:04:00  1.16425  1.16427  1.164260"
      ]
     },
     "execution_count": 80,
     "metadata": {},
     "output_type": "execute_result"
    }
   ],
   "source": [
    "eur_usd_resam = eur_usd.resample(rule='1min', label='last').last()\n",
    "eur_usd_resam.head()"
   ]
  },
  {
   "cell_type": "code",
   "execution_count": 81,
   "metadata": {
    "uuid": "7730056f-4ce8-4a23-853e-f5206eb86ea7"
   },
   "outputs": [
    {
     "data": {
      "text/plain": [
       "<matplotlib.axes._subplots.AxesSubplot at 0x1112ea3c8>"
      ]
     },
     "execution_count": 81,
     "metadata": {},
     "output_type": "execute_result"
    },
    {
     "data": {
      "image/png": "[encoded data removed]",
      "text/plain": [
       "<matplotlib.figure.Figure at 0x111351470>"
      ]
     },
     "metadata": {},
     "output_type": "display_data"
    }
   ],
   "source": [
    "eur_usd_resam['Mid'].plot(grid=True)\n",
    "# tag: eur_usd_resam\n",
    "# title: Resampled EUR/USD exchange rate tick data"
   ]
  },
  {
   "cell_type": "code",
   "execution_count": 82,
   "metadata": {
    "uuid": "d8d2f963-3909-4434-95fa-69f932b49451"
   },
   "outputs": [],
   "source": [
    "def reversal(x):\n",
    "    return 2 * 1.16 - x"
   ]
  },
  {
   "cell_type": "code",
   "execution_count": 83,
   "metadata": {
    "uuid": "e6d72fc4-0617-480c-84a3-56892f0e4b01"
   },
   "outputs": [
    {
     "data": {
      "text/plain": [
       "<matplotlib.axes._subplots.AxesSubplot at 0x11133c6a0>"
      ]
     },
     "execution_count": 83,
     "metadata": {},
     "output_type": "execute_result"
    },
    {
     "data": {
      "image/png": "[encoded data removed]",
      "text/plain": [
       "<matplotlib.figure.Figure at 0x1057ecf60>"
      ]
     },
     "metadata": {},
     "output_type": "display_data"
    }
   ],
   "source": [
    "eur_usd_resam['Mid'].apply(reversal).plot()\n",
    "# tag: aapl_resam_apply\n",
    "# title: Resampled EUR/USD exchange rate tick data with function applied to it"
   ]
  },
  {
   "cell_type": "raw",
   "metadata": {
    "uuid": "ac44afa5-337a-4aed-b811-1b76db21682d"
   },
   "source": [
    "!rm ./data/*\n",
    "  # Windows: del /data/*"
   ]
  },
  {
   "cell_type": "markdown",
   "metadata": {},
   "source": [
    "## Conclusions"
   ]
  },
  {
   "cell_type": "markdown",
   "metadata": {},
   "source": [
    "## Further Reading"
   ]
  },
  {
   "cell_type": "markdown",
   "metadata": {},
   "source": [
    "<img src=\"http://hilpisch.com/tpq_logo.png\" alt=\"The Python Quants\" width=\"35%\" align=\"right\" border=\"0\"><br>\n",
    "\n",
    "<a href=\"http://tpq.io\" target=\"_blank\">http://tpq.io</a> | <a href=\"http://twitter.com/dyjh\" target=\"_blank\">@dyjh</a> | <a href=\"mailto:training@tpq.io\">training@tpq.io</a>\n",
    "\n",
    "**Quant Platform** |\n",
    "<a href=\"http://quant-platform.com\">http://quant-platform.com</a>\n",
    "\n",
    "**Python for Finance** |\n",
    "<a href=\"http://python-for-finance.com\" target=\"_blank\">Python for Finance @ O'Reilly</a>\n",
    "\n",
    "**Derivatives Analytics with Python** |\n",
    "<a href=\"http://derivatives-analytics-with-python.com\" target=\"_blank\">Derivatives Analytics @ Wiley Finance</a>\n",
    "\n",
    "**Listed Volatility and Variance Derivatives** |\n",
    "<a href=\"http://lvvd.tpq.io\" target=\"_blank\">Listed VV Derivatives @ Wiley Finance</a>\n",
    "\n",
    "**Python Training** |\n",
    "<a href=\"http://training.tpq.io\" target=\"_blank\">Python for Finance University Certificate</a>"
   ]
  }
 ],
 "metadata": {
  "anaconda-cloud": {},
  "kernelspec": {
   "display_name": "Python 3 (ipykernel)",
   "language": "python",
   "name": "python3"
  },
  "language_info": {
   "codemirror_mode": {
    "name": "ipython",
    "version": 3
   },
   "file_extension": ".py",
   "mimetype": "text/x-python",
   "name": "python",
   "nbconvert_exporter": "python",
   "pygments_lexer": "ipython3",
   "version": "3.9.12"
  }
 },
 "nbformat": 4,
 "nbformat_minor": 1
}
