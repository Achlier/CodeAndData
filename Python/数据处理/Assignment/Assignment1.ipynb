{
 "cells": [
  {
   "cell_type": "markdown",
   "metadata": {},
   "source": [
    "# 1. Implement Your Code Below"
   ]
  },
  {
   "cell_type": "markdown",
   "metadata": {},
   "source": [
    "* Here you can define and implement functions. Pay attention to the readbility of your code, e.g. choose appropriate variable name, add sufficient and clear comments, etc."
   ]
  },
  {
   "cell_type": "code",
   "execution_count": 9,
   "metadata": {},
   "outputs": [],
   "source": [
    "import pandas as pd\n",
    "import numpy as np\n",
    "import math"
   ]
  },
  {
   "cell_type": "code",
   "execution_count": 10,
   "metadata": {},
   "outputs": [],
   "source": [
    "stocks_daily_bar = pd.read_csv('hundred_stocks_twoyears_daily_bar.csv').set_index('date')"
   ]
  },
  {
   "cell_type": "code",
   "execution_count": 11,
   "metadata": {},
   "outputs": [],
   "source": [
    "def check(x,p):\n",
    "    if x!=p:\n",
    "        return False\n",
    "    return True"
   ]
  },
  {
   "cell_type": "code",
   "execution_count": 16,
   "metadata": {},
   "outputs": [],
   "source": [
    "def show_result(a,b):\n",
    "    df_dummya_b= pd.DataFrame({'f=5':[0.1, 0.1, 0.1, 0.1, 0.1, 0.1, 0.1],'f=10':[0.1, 0.1, 0.1, 0.1, 0.1, 0.1, 0.1],'f=15':[0.1, 0.1, 0.1, 0.1, 0.1, 0.1, 0.1],'f=20':[0.1, 0.1, 0.1, 0.1, 0.1, 0.1, 0.1],'f=30':[0.1, 0.1, 0.1, 0.1, 0.1, 0.1, 0.1],'f=50':[0.1, 0.1, 0.1, 0.1, 0.1, 0.1, 0.1], 'f=100':[0.1, 0.1, 0.1, 0.1, 0.1, 0.1, 0.1]}) \n",
    "    df_dummya_b.index = ['p=5', 'p=10','p=15','p=20','p=30','p=50','p=100']\n",
    "    df_dummya_b= df_dummya_b[['f=5','f=10','f=15','f=20','f=30','f=50','f=100']]\n",
    "    for p in [5,10,15,20,30,50,100]:\n",
    "        for f in [5,10,15,20,30,50,100]:\n",
    "            point_sum=0\n",
    "            point_num=0\n",
    "            rate=0\n",
    "            for n in range(0,100):\n",
    "                try:\n",
    "                    code_n=stocks_daily_bar.groupby('code').get_group(n)\n",
    "                except:\n",
    "                    pass\n",
    "                else:\n",
    "                    LMA = code_n.rolling(window=b,min_periods=b).close.mean()\n",
    "                    SMA = code_n.rolling(window=a,min_periods=a).close.mean()\n",
    "                    data_stocks=pd.DataFrame({'long>short': LMA-SMA>0})\n",
    "                    data_stocks2=pd.DataFrame({'long<short': LMA-SMA<0})\n",
    "                    pass_time=data_stocks['long>short'].rolling(window=p+1,min_periods=p+1).sum()\n",
    "                    pass_time_check=pass_time.apply(lambda x: check(x,p))\n",
    "                    point=code_n[(data_stocks2['long<short'])&(pass_time_check)]\n",
    "                    for i in point.index:\n",
    "                        R=(code_n.shift(-f).loc[i].close-code_n.loc[i].close)/code_n.loc[i].close\n",
    "                        if math.isnan(R):\n",
    "                            pass\n",
    "                        else:\n",
    "                            point_sum+=R\n",
    "                            point_num+=1\n",
    "            if point_num!=0:\n",
    "                rate=point_sum/point_num\n",
    "            df_dummya_b.loc[('p=%d'%p),('f=%d'%f)]=rate\n",
    "    return df_dummya_b"
   ]
  },
  {
   "cell_type": "markdown",
   "metadata": {},
   "source": [
    "# 2. Show the Result Below"
   ]
  },
  {
   "cell_type": "markdown",
   "metadata": {},
   "source": [
    "* For each `(SMA, LMA)` pair, obtain the resulting dataframe, and show the dataframe result. For example:"
   ]
  },
  {
   "cell_type": "markdown",
   "metadata": {},
   "source": [
    "* Show the result dataframe of 5day MA cross above 10day MA below."
   ]
  },
  {
   "cell_type": "code",
   "execution_count": 17,
   "metadata": {},
   "outputs": [
    {
     "data": {
      "text/html": [
       "<div>\n",
       "<style scoped>\n",
       "    .dataframe tbody tr th:only-of-type {\n",
       "        vertical-align: middle;\n",
       "    }\n",
       "\n",
       "    .dataframe tbody tr th {\n",
       "        vertical-align: top;\n",
       "    }\n",
       "\n",
       "    .dataframe thead th {\n",
       "        text-align: right;\n",
       "    }\n",
       "</style>\n",
       "<table border=\"1\" class=\"dataframe\">\n",
       "  <thead>\n",
       "    <tr style=\"text-align: right;\">\n",
       "      <th></th>\n",
       "      <th>f=5</th>\n",
       "      <th>f=10</th>\n",
       "      <th>f=15</th>\n",
       "      <th>f=20</th>\n",
       "      <th>f=30</th>\n",
       "      <th>f=50</th>\n",
       "      <th>f=100</th>\n",
       "    </tr>\n",
       "  </thead>\n",
       "  <tbody>\n",
       "    <tr>\n",
       "      <th>p=5</th>\n",
       "      <td>-0.004063</td>\n",
       "      <td>0.002328</td>\n",
       "      <td>0.004522</td>\n",
       "      <td>0.004311</td>\n",
       "      <td>0.006923</td>\n",
       "      <td>0.011806</td>\n",
       "      <td>-0.016833</td>\n",
       "    </tr>\n",
       "    <tr>\n",
       "      <th>p=10</th>\n",
       "      <td>-0.009121</td>\n",
       "      <td>-0.002826</td>\n",
       "      <td>0.006242</td>\n",
       "      <td>0.005043</td>\n",
       "      <td>0.016078</td>\n",
       "      <td>0.029552</td>\n",
       "      <td>-0.008556</td>\n",
       "    </tr>\n",
       "    <tr>\n",
       "      <th>p=15</th>\n",
       "      <td>-0.002094</td>\n",
       "      <td>0.003623</td>\n",
       "      <td>0.024041</td>\n",
       "      <td>0.018510</td>\n",
       "      <td>0.033522</td>\n",
       "      <td>0.056647</td>\n",
       "      <td>0.029882</td>\n",
       "    </tr>\n",
       "    <tr>\n",
       "      <th>p=20</th>\n",
       "      <td>0.006350</td>\n",
       "      <td>0.004092</td>\n",
       "      <td>0.021276</td>\n",
       "      <td>0.032008</td>\n",
       "      <td>0.054156</td>\n",
       "      <td>0.078632</td>\n",
       "      <td>0.042356</td>\n",
       "    </tr>\n",
       "    <tr>\n",
       "      <th>p=30</th>\n",
       "      <td>0.013592</td>\n",
       "      <td>0.001430</td>\n",
       "      <td>0.032751</td>\n",
       "      <td>0.029489</td>\n",
       "      <td>0.013702</td>\n",
       "      <td>-0.010260</td>\n",
       "      <td>-0.035098</td>\n",
       "    </tr>\n",
       "    <tr>\n",
       "      <th>p=50</th>\n",
       "      <td>0.000000</td>\n",
       "      <td>0.000000</td>\n",
       "      <td>0.000000</td>\n",
       "      <td>0.000000</td>\n",
       "      <td>0.000000</td>\n",
       "      <td>0.000000</td>\n",
       "      <td>0.000000</td>\n",
       "    </tr>\n",
       "    <tr>\n",
       "      <th>p=100</th>\n",
       "      <td>0.000000</td>\n",
       "      <td>0.000000</td>\n",
       "      <td>0.000000</td>\n",
       "      <td>0.000000</td>\n",
       "      <td>0.000000</td>\n",
       "      <td>0.000000</td>\n",
       "      <td>0.000000</td>\n",
       "    </tr>\n",
       "  </tbody>\n",
       "</table>\n",
       "</div>"
      ],
      "text/plain": [
       "            f=5      f=10      f=15      f=20      f=30      f=50     f=100\n",
       "p=5   -0.004063  0.002328  0.004522  0.004311  0.006923  0.011806 -0.016833\n",
       "p=10  -0.009121 -0.002826  0.006242  0.005043  0.016078  0.029552 -0.008556\n",
       "p=15  -0.002094  0.003623  0.024041  0.018510  0.033522  0.056647  0.029882\n",
       "p=20   0.006350  0.004092  0.021276  0.032008  0.054156  0.078632  0.042356\n",
       "p=30   0.013592  0.001430  0.032751  0.029489  0.013702 -0.010260 -0.035098\n",
       "p=50   0.000000  0.000000  0.000000  0.000000  0.000000  0.000000  0.000000\n",
       "p=100  0.000000  0.000000  0.000000  0.000000  0.000000  0.000000  0.000000"
      ]
     },
     "execution_count": 17,
     "metadata": {},
     "output_type": "execute_result"
    }
   ],
   "source": [
    "show_result(5,10)"
   ]
  },
  {
   "cell_type": "markdown",
   "metadata": {},
   "source": [
    "* Show the result dataframe of 10day MA cross above 30day MA below."
   ]
  },
  {
   "cell_type": "code",
   "execution_count": 20,
   "metadata": {},
   "outputs": [
    {
     "data": {
      "text/html": [
       "<div>\n",
       "<style scoped>\n",
       "    .dataframe tbody tr th:only-of-type {\n",
       "        vertical-align: middle;\n",
       "    }\n",
       "\n",
       "    .dataframe tbody tr th {\n",
       "        vertical-align: top;\n",
       "    }\n",
       "\n",
       "    .dataframe thead th {\n",
       "        text-align: right;\n",
       "    }\n",
       "</style>\n",
       "<table border=\"1\" class=\"dataframe\">\n",
       "  <thead>\n",
       "    <tr style=\"text-align: right;\">\n",
       "      <th></th>\n",
       "      <th>f=5</th>\n",
       "      <th>f=10</th>\n",
       "      <th>f=15</th>\n",
       "      <th>f=20</th>\n",
       "      <th>f=30</th>\n",
       "      <th>f=50</th>\n",
       "      <th>f=100</th>\n",
       "    </tr>\n",
       "  </thead>\n",
       "  <tbody>\n",
       "    <tr>\n",
       "      <th>p=5</th>\n",
       "      <td>0.000084</td>\n",
       "      <td>-0.002075</td>\n",
       "      <td>-0.002916</td>\n",
       "      <td>0.000888</td>\n",
       "      <td>0.009254</td>\n",
       "      <td>0.004183</td>\n",
       "      <td>-0.035182</td>\n",
       "    </tr>\n",
       "    <tr>\n",
       "      <th>p=10</th>\n",
       "      <td>0.003152</td>\n",
       "      <td>-0.001499</td>\n",
       "      <td>-0.000390</td>\n",
       "      <td>0.006950</td>\n",
       "      <td>0.016080</td>\n",
       "      <td>0.011627</td>\n",
       "      <td>-0.026532</td>\n",
       "    </tr>\n",
       "    <tr>\n",
       "      <th>p=15</th>\n",
       "      <td>-0.002818</td>\n",
       "      <td>-0.005540</td>\n",
       "      <td>-0.002489</td>\n",
       "      <td>0.005377</td>\n",
       "      <td>0.012176</td>\n",
       "      <td>0.009054</td>\n",
       "      <td>-0.022413</td>\n",
       "    </tr>\n",
       "    <tr>\n",
       "      <th>p=20</th>\n",
       "      <td>-0.004171</td>\n",
       "      <td>-0.009144</td>\n",
       "      <td>-0.005276</td>\n",
       "      <td>0.000557</td>\n",
       "      <td>0.005215</td>\n",
       "      <td>-0.001149</td>\n",
       "      <td>-0.009303</td>\n",
       "    </tr>\n",
       "    <tr>\n",
       "      <th>p=30</th>\n",
       "      <td>0.002050</td>\n",
       "      <td>0.000791</td>\n",
       "      <td>0.003798</td>\n",
       "      <td>0.003823</td>\n",
       "      <td>0.007697</td>\n",
       "      <td>-0.008415</td>\n",
       "      <td>0.005193</td>\n",
       "    </tr>\n",
       "    <tr>\n",
       "      <th>p=50</th>\n",
       "      <td>0.004851</td>\n",
       "      <td>0.001633</td>\n",
       "      <td>0.004397</td>\n",
       "      <td>-0.006640</td>\n",
       "      <td>-0.001759</td>\n",
       "      <td>-0.040447</td>\n",
       "      <td>-0.049093</td>\n",
       "    </tr>\n",
       "    <tr>\n",
       "      <th>p=100</th>\n",
       "      <td>0.000000</td>\n",
       "      <td>0.000000</td>\n",
       "      <td>0.000000</td>\n",
       "      <td>0.000000</td>\n",
       "      <td>0.000000</td>\n",
       "      <td>0.000000</td>\n",
       "      <td>0.000000</td>\n",
       "    </tr>\n",
       "  </tbody>\n",
       "</table>\n",
       "</div>"
      ],
      "text/plain": [
       "            f=5      f=10      f=15      f=20      f=30      f=50     f=100\n",
       "p=5    0.000084 -0.002075 -0.002916  0.000888  0.009254  0.004183 -0.035182\n",
       "p=10   0.003152 -0.001499 -0.000390  0.006950  0.016080  0.011627 -0.026532\n",
       "p=15  -0.002818 -0.005540 -0.002489  0.005377  0.012176  0.009054 -0.022413\n",
       "p=20  -0.004171 -0.009144 -0.005276  0.000557  0.005215 -0.001149 -0.009303\n",
       "p=30   0.002050  0.000791  0.003798  0.003823  0.007697 -0.008415  0.005193\n",
       "p=50   0.004851  0.001633  0.004397 -0.006640 -0.001759 -0.040447 -0.049093\n",
       "p=100  0.000000  0.000000  0.000000  0.000000  0.000000  0.000000  0.000000"
      ]
     },
     "execution_count": 20,
     "metadata": {},
     "output_type": "execute_result"
    }
   ],
   "source": [
    "show_result(10,30)"
   ]
  },
  {
   "cell_type": "markdown",
   "metadata": {},
   "source": [
    "* Show other (SMA, LMA) resulting dataframes."
   ]
  },
  {
   "cell_type": "code",
   "execution_count": 41,
   "metadata": {},
   "outputs": [
    {
     "data": {
      "text/html": [
       "<div>\n",
       "<style scoped>\n",
       "    .dataframe tbody tr th:only-of-type {\n",
       "        vertical-align: middle;\n",
       "    }\n",
       "\n",
       "    .dataframe tbody tr th {\n",
       "        vertical-align: top;\n",
       "    }\n",
       "\n",
       "    .dataframe thead th {\n",
       "        text-align: right;\n",
       "    }\n",
       "</style>\n",
       "<table border=\"1\" class=\"dataframe\">\n",
       "  <thead>\n",
       "    <tr style=\"text-align: right;\">\n",
       "      <th></th>\n",
       "      <th>f=5</th>\n",
       "      <th>f=10</th>\n",
       "      <th>f=15</th>\n",
       "      <th>f=20</th>\n",
       "      <th>f=30</th>\n",
       "      <th>f=50</th>\n",
       "      <th>f=100</th>\n",
       "    </tr>\n",
       "  </thead>\n",
       "  <tbody>\n",
       "    <tr>\n",
       "      <th>p=5</th>\n",
       "      <td>0.001508</td>\n",
       "      <td>0.003792</td>\n",
       "      <td>0.008803</td>\n",
       "      <td>0.011678</td>\n",
       "      <td>0.010364</td>\n",
       "      <td>0.017189</td>\n",
       "      <td>-0.013570</td>\n",
       "    </tr>\n",
       "    <tr>\n",
       "      <th>p=10</th>\n",
       "      <td>-0.015573</td>\n",
       "      <td>-0.011513</td>\n",
       "      <td>0.008139</td>\n",
       "      <td>0.024765</td>\n",
       "      <td>0.014262</td>\n",
       "      <td>0.042914</td>\n",
       "      <td>-0.006176</td>\n",
       "    </tr>\n",
       "    <tr>\n",
       "      <th>p=15</th>\n",
       "      <td>-0.033570</td>\n",
       "      <td>0.005581</td>\n",
       "      <td>0.079856</td>\n",
       "      <td>0.161983</td>\n",
       "      <td>0.103006</td>\n",
       "      <td>0.173455</td>\n",
       "      <td>0.104449</td>\n",
       "    </tr>\n",
       "    <tr>\n",
       "      <th>p=20</th>\n",
       "      <td>-0.022636</td>\n",
       "      <td>-0.040800</td>\n",
       "      <td>-0.019491</td>\n",
       "      <td>-0.007849</td>\n",
       "      <td>-0.022687</td>\n",
       "      <td>-0.058855</td>\n",
       "      <td>0.066276</td>\n",
       "    </tr>\n",
       "    <tr>\n",
       "      <th>p=30</th>\n",
       "      <td>0.000000</td>\n",
       "      <td>0.000000</td>\n",
       "      <td>0.000000</td>\n",
       "      <td>0.000000</td>\n",
       "      <td>0.000000</td>\n",
       "      <td>0.000000</td>\n",
       "      <td>0.000000</td>\n",
       "    </tr>\n",
       "    <tr>\n",
       "      <th>p=50</th>\n",
       "      <td>0.000000</td>\n",
       "      <td>0.000000</td>\n",
       "      <td>0.000000</td>\n",
       "      <td>0.000000</td>\n",
       "      <td>0.000000</td>\n",
       "      <td>0.000000</td>\n",
       "      <td>0.000000</td>\n",
       "    </tr>\n",
       "    <tr>\n",
       "      <th>p=100</th>\n",
       "      <td>0.000000</td>\n",
       "      <td>0.000000</td>\n",
       "      <td>0.000000</td>\n",
       "      <td>0.000000</td>\n",
       "      <td>0.000000</td>\n",
       "      <td>0.000000</td>\n",
       "      <td>0.000000</td>\n",
       "    </tr>\n",
       "  </tbody>\n",
       "</table>\n",
       "</div>"
      ],
      "text/plain": [
       "            f=5      f=10      f=15      f=20      f=30      f=50     f=100\n",
       "p=5    0.001508  0.003792  0.008803  0.011678  0.010364  0.017189 -0.013570\n",
       "p=10  -0.015573 -0.011513  0.008139  0.024765  0.014262  0.042914 -0.006176\n",
       "p=15  -0.033570  0.005581  0.079856  0.161983  0.103006  0.173455  0.104449\n",
       "p=20  -0.022636 -0.040800 -0.019491 -0.007849 -0.022687 -0.058855  0.066276\n",
       "p=30   0.000000  0.000000  0.000000  0.000000  0.000000  0.000000  0.000000\n",
       "p=50   0.000000  0.000000  0.000000  0.000000  0.000000  0.000000  0.000000\n",
       "p=100  0.000000  0.000000  0.000000  0.000000  0.000000  0.000000  0.000000"
      ]
     },
     "execution_count": 41,
     "metadata": {},
     "output_type": "execute_result"
    }
   ],
   "source": [
    "show_result(3,5)"
   ]
  },
  {
   "cell_type": "code",
   "execution_count": 46,
   "metadata": {},
   "outputs": [],
   "source": [
    "df_dummya_b=show_result(3,5)"
   ]
  },
  {
   "cell_type": "markdown",
   "metadata": {},
   "source": [
    "# 3. Visualization"
   ]
  },
  {
   "cell_type": "markdown",
   "metadata": {},
   "source": [
    "* Pick optimal setting $(SMA_{opt}, LMA_{opt})$, $(p_{opt}, f_{opt})$, and draw two figures aligned in one row corresponding to $(p_{opt}, .)$ and $(., f_{opt})$"
   ]
  },
  {
   "cell_type": "code",
   "execution_count": 47,
   "metadata": {},
   "outputs": [],
   "source": [
    "%matplotlib inline\n",
    "p_line=df_dummya_b.loc['p=15',:]\n",
    "f_line=df_dummya_b.loc[:,'f=50']"
   ]
  },
  {
   "cell_type": "code",
   "execution_count": 48,
   "metadata": {},
   "outputs": [],
   "source": [
    "for data in [p_line,f_line]:\n",
    "    data.index.values[0]=5\n",
    "    data.index.values[1]=10\n",
    "    data.index.values[2]=15\n",
    "    data.index.values[3]=20\n",
    "    data.index.values[4]=30\n",
    "    data.index.values[5]=50\n",
    "    data.index.values[6]=100"
   ]
  },
  {
   "cell_type": "code",
   "execution_count": 49,
   "metadata": {},
   "outputs": [
    {
     "data": {
      "text/plain": [
       "<matplotlib.axes._subplots.AxesSubplot at 0x9c62cf8>"
      ]
     },
     "execution_count": 49,
     "metadata": {},
     "output_type": "execute_result"
    },
    {
     "data": {
      "image/png": "[encoded data removed]",
      "text/plain": [
       "<Figure size 432x288 with 1 Axes>"
      ]
     },
     "metadata": {},
     "output_type": "display_data"
    }
   ],
   "source": [
    "compare = pd.DataFrame({'p_line': p_line, 'f_line':f_line})\n",
    "compare.plot()"
   ]
  },
  {
   "cell_type": "code",
   "execution_count": null,
   "metadata": {
    "collapsed": true
   },
   "outputs": [],
   "source": []
  }
 ],
 "metadata": {
  "kernelspec": {
   "display_name": "Python 3 (ipykernel)",
   "language": "python",
   "name": "python3"
  },
  "language_info": {
   "codemirror_mode": {
    "name": "ipython",
    "version": 3
   },
   "file_extension": ".py",
   "mimetype": "text/x-python",
   "name": "python",
   "nbconvert_exporter": "python",
   "pygments_lexer": "ipython3",
   "version": "3.9.12"
  }
 },
 "nbformat": 4,
 "nbformat_minor": 2
}
