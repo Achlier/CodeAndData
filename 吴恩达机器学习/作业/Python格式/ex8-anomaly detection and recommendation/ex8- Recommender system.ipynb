{
 "cells": [
  {
   "cell_type": "code",
   "execution_count": 1,
   "metadata": {},
   "outputs": [],
   "source": [
    "import numpy as np\n",
    "import pandas as pd\n",
    "import scipy.io as sio\n",
    "import matplotlib.pyplot as plt\n",
    "import seaborn as sns\n",
    "sns.set(context=\"notebook\", style=\"white\", palette=sns.color_palette(\"RdBu\"), color_codes=False)"
   ]
  },
  {
   "cell_type": "markdown",
   "metadata": {
    "collapsed": true
   },
   "source": [
    "# load data\n",
    "\n",
    "943 users, 1682 movies.\n",
    "\n",
    "X is the features of movie.\n",
    "\n",
    "Theta is the parameters of user.\n",
    "\n",
    "Y is a num_movies $\\times$ num_users matrix, stores the ratings $y^{(i,j)}$ from 1 to 5.\n",
    "\n",
    "R is an binary-valued indicator matrix, R(i,j)=1 if user j gave a rating to movie i, and R(i,j)=0 otherwise."
   ]
  },
  {
   "cell_type": "code",
   "execution_count": 2,
   "metadata": {},
   "outputs": [
    {
     "data": {
      "text/plain": [
       "dict_keys(['__header__', '__version__', '__globals__', 'Y', 'R'])"
      ]
     },
     "execution_count": 2,
     "metadata": {},
     "output_type": "execute_result"
    }
   ],
   "source": [
    "movies_mat = sio.loadmat('./data/ex8_movies.mat')\n",
    "movies_mat.keys()"
   ]
  },
  {
   "cell_type": "code",
   "execution_count": 3,
   "metadata": {},
   "outputs": [
    {
     "data": {
      "text/plain": [
       "((1682, 943), (1682, 943))"
      ]
     },
     "execution_count": 3,
     "metadata": {},
     "output_type": "execute_result"
    }
   ],
   "source": [
    "Y, R = movies_mat.get('Y'), movies_mat.get('R')\n",
    "Y.shape, R.shape"
   ]
  },
  {
   "cell_type": "code",
   "execution_count": 4,
   "metadata": {},
   "outputs": [
    {
     "data": {
      "text/plain": [
       "dict_keys(['__header__', '__version__', '__globals__', 'X', 'Theta', 'num_users', 'num_movies', 'num_features'])"
      ]
     },
     "execution_count": 4,
     "metadata": {},
     "output_type": "execute_result"
    }
   ],
   "source": [
    "param_mat = sio.loadmat('./data/ex8_movieParams.mat')\n",
    "param_mat.keys()"
   ]
  },
  {
   "cell_type": "code",
   "execution_count": 5,
   "metadata": {},
   "outputs": [
    {
     "data": {
      "text/plain": [
       "((1682, 10), (943, 10))"
      ]
     },
     "execution_count": 5,
     "metadata": {},
     "output_type": "execute_result"
    }
   ],
   "source": [
    "X, theta = param_mat.get('X'), param_mat.get('Theta')\n",
    "X.shape, theta.shape"
   ]
  },
  {
   "cell_type": "code",
   "execution_count": 6,
   "metadata": {},
   "outputs": [
    {
     "data": {
      "text/plain": [
       "(1682, 943, 10)"
      ]
     },
     "execution_count": 6,
     "metadata": {},
     "output_type": "execute_result"
    }
   ],
   "source": [
    "m, u = Y.shape\n",
    "n = X.shape[1]\n",
    "m, u, n"
   ]
  },
  {
   "cell_type": "code",
   "execution_count": 7,
   "metadata": {},
   "outputs": [
    {
     "data": {
      "text/plain": [
       "1682"
      ]
     },
     "execution_count": 7,
     "metadata": {},
     "output_type": "execute_result"
    }
   ],
   "source": [
    "movie_list = []\n",
    "\n",
    "with open('./data/movie_ids.txt', encoding='latin-1') as f:\n",
    "    for line in f:\n",
    "        tokens = line.strip().split(' ')\n",
    "        movie_list.append(' '.join(tokens[1:]))\n",
    "\n",
    "len(movie_list)        "
   ]
  },
  {
   "cell_type": "markdown",
   "metadata": {},
   "source": [
    "# cost function"
   ]
  },
  {
   "cell_type": "code",
   "execution_count": 8,
   "metadata": {},
   "outputs": [],
   "source": [
    "def serialize(X, theta):\n",
    "    return np.concatenate((X.ravel(), theta.ravel()))\n",
    "\n",
    "def deserialize(param, n_movie, n_user, n_feature):\n",
    "    return param[:n_movie*n_feature].reshape(n_movie, n_feature), param[n_movie*n_feature:].reshape(n_user, n_feature)"
   ]
  },
  {
   "cell_type": "markdown",
   "metadata": {},
   "source": [
    "![](img/cost.png)"
   ]
  },
  {
   "cell_type": "code",
   "execution_count": 9,
   "metadata": {},
   "outputs": [],
   "source": [
    "def cost(param, Y, R, n_feature):\n",
    "    '''\n",
    "    X(movie, feature), (1682, 10)\n",
    "    theta(user, feature), (943, 10)\n",
    "    '''\n",
    "    n_movie, n_user = Y.shape\n",
    "    X, theta = deserialize(param, n_movie, n_user, n_feature)\n",
    "    inner = (X @ theta.T - Y) * R\n",
    "    return (inner ** 2).sum() / 2 "
   ]
  },
  {
   "cell_type": "markdown",
   "metadata": {},
   "source": [
    "![](img/regularized_cost.png)"
   ]
  },
  {
   "cell_type": "code",
   "execution_count": 10,
   "metadata": {},
   "outputs": [],
   "source": [
    "def regularized_cost(param, Y, R, n_feature, l=1):\n",
    "    reg_term = (param ** 2).sum() / (l * 2)\n",
    "    return cost(param, Y, R, n_feature) + reg_term"
   ]
  },
  {
   "cell_type": "markdown",
   "metadata": {},
   "source": [
    "# gradient\n",
    "\n",
    "![](img/gradient.png)"
   ]
  },
  {
   "cell_type": "code",
   "execution_count": 11,
   "metadata": {},
   "outputs": [],
   "source": [
    "def gradient(param, Y, R, n_feature):\n",
    "    n_movie, n_user = Y.shape\n",
    "    X, theta = deserialize(param, n_movie, n_user, n_feature)\n",
    "    '''\n",
    "    inner: n_movie * n_user\n",
    "    X: n_movie * n_feature\n",
    "    theta: n_user * n_feature\n",
    "    '''\n",
    "    inner = (X @ theta.T - Y) * R\n",
    "    X_grad = inner @ theta\n",
    "    theta_grad = inner.T @ X \n",
    "    \n",
    "    return serialize(X_grad, theta_grad)"
   ]
  },
  {
   "cell_type": "markdown",
   "metadata": {},
   "source": [
    "![](img/regularized_gradient.png)"
   ]
  },
  {
   "cell_type": "code",
   "execution_count": 12,
   "metadata": {},
   "outputs": [],
   "source": [
    "def regularized_gradient(param, Y, R, n_feature, l=1):\n",
    "    grad = gradient(param, Y, R, n_feature)\n",
    "    reg_term = l * param\n",
    "    \n",
    "    return grad + reg_term"
   ]
  },
  {
   "cell_type": "code",
   "execution_count": 13,
   "metadata": {},
   "outputs": [
    {
     "data": {
      "text/plain": [
       "(27918.64012454421, 32520.682450229557)"
      ]
     },
     "execution_count": 13,
     "metadata": {},
     "output_type": "execute_result"
    }
   ],
   "source": [
    "param = serialize(X, theta)\n",
    "cost(param, Y, R, 10), regularized_cost(param, Y, R, 10, l=1)"
   ]
  },
  {
   "cell_type": "markdown",
   "metadata": {},
   "source": [
    "## add user"
   ]
  },
  {
   "cell_type": "code",
   "execution_count": 14,
   "metadata": {},
   "outputs": [],
   "source": [
    "ratings = np.zeros(1682)\n",
    "ratings[0] = 4\n",
    "ratings[11] = 4\n",
    "ratings[21] = 1\n",
    "ratings[30] = 5\n",
    "ratings[35] = 4\n",
    "ratings[60] = 3\n",
    "ratings[76] = 4\n",
    "ratings[90] = 2\n",
    "ratings[110] = 5\n",
    "ratings[330] = 4"
   ]
  },
  {
   "cell_type": "code",
   "execution_count": 15,
   "metadata": {},
   "outputs": [
    {
     "data": {
      "text/plain": [
       "((1682, 944), (1682, 944))"
      ]
     },
     "execution_count": 15,
     "metadata": {},
     "output_type": "execute_result"
    }
   ],
   "source": [
    "Y, R = movies_mat.get('Y'), movies_mat.get('R')\n",
    "Y = np.insert(Y, 0, ratings, axis=1)\n",
    "R = np.insert(R, 0, ratings != 0, axis=1)\n",
    "Y.shape, R.shape"
   ]
  },
  {
   "cell_type": "code",
   "execution_count": 16,
   "metadata": {},
   "outputs": [
    {
     "data": {
      "text/plain": [
       "((1682, 50), (944, 50))"
      ]
     },
     "execution_count": 16,
     "metadata": {},
     "output_type": "execute_result"
    }
   ],
   "source": [
    "n_feature = 50\n",
    "n_movie, n_user = Y.shape\n",
    "l = 10\n",
    "\n",
    "X = np.random.standard_normal((n_movie, n_feature))\n",
    "theta = np.random.standard_normal((n_user, n_feature))\n",
    "X.shape, theta.shape"
   ]
  },
  {
   "cell_type": "code",
   "execution_count": 17,
   "metadata": {},
   "outputs": [
    {
     "data": {
      "text/plain": [
       "(0.22233292690300085, 7.516195780488978e-17)"
      ]
     },
     "execution_count": 17,
     "metadata": {},
     "output_type": "execute_result"
    }
   ],
   "source": [
    "param = serialize(X, theta)\n",
    "\n",
    "Y_norm = Y - Y.mean()\n",
    "Y.mean(), Y_norm.mean()"
   ]
  },
  {
   "cell_type": "markdown",
   "metadata": {},
   "source": [
    "# training"
   ]
  },
  {
   "cell_type": "code",
   "execution_count": 18,
   "metadata": {},
   "outputs": [],
   "source": [
    "import scipy.optimize as opt"
   ]
  },
  {
   "cell_type": "code",
   "execution_count": 19,
   "metadata": {},
   "outputs": [],
   "source": [
    "res = opt.minimize(fun=regularized_cost, x0=param, args=(Y_norm, R, n_feature, l),\n",
    "                  method='TNC', jac=regularized_gradient)"
   ]
  },
  {
   "cell_type": "code",
   "execution_count": 20,
   "metadata": {},
   "outputs": [
    {
     "data": {
      "text/plain": [
       "     fun: 19019.77458025878\n",
       "     jac: array([ 6.54045172, -2.55516279, -3.49690629, ...,  1.89485705,\n",
       "        4.65025859, -0.14947923])\n",
       " message: 'Converged (|f_n-f_(n-1)| ~= 0)'\n",
       "    nfev: 304\n",
       "     nit: 17\n",
       "  status: 1\n",
       " success: True\n",
       "       x: array([-0.08112985, -0.19456319,  0.23113082, ...,  0.14653795,\n",
       "        1.0194764 , -0.10973208])"
      ]
     },
     "execution_count": 20,
     "metadata": {},
     "output_type": "execute_result"
    }
   ],
   "source": [
    "res"
   ]
  },
  {
   "cell_type": "code",
   "execution_count": 21,
   "metadata": {},
   "outputs": [
    {
     "data": {
      "text/plain": [
       "((1682, 50), (944, 50))"
      ]
     },
     "execution_count": 21,
     "metadata": {},
     "output_type": "execute_result"
    }
   ],
   "source": [
    "X_trained, theta_trained = deserialize(res.x, n_movie, n_user, n_feature)\n",
    "X_trained.shape, theta_trained.shape"
   ]
  },
  {
   "cell_type": "code",
   "execution_count": 22,
   "metadata": {},
   "outputs": [
    {
     "data": {
      "text/plain": [
       "(1682,)"
      ]
     },
     "execution_count": 22,
     "metadata": {},
     "output_type": "execute_result"
    }
   ],
   "source": [
    "prediction = X_trained @ theta_trained.T\n",
    "user0_pred = prediction[:, 0] + Y.mean()\n",
    "top_idx = np.argsort(user0_pred)[::-1] # descending order\n",
    "top_idx.shape"
   ]
  },
  {
   "cell_type": "code",
   "execution_count": 23,
   "metadata": {},
   "outputs": [
    {
     "data": {
      "text/plain": [
       "array([3.68087768, 3.6409438 , 3.60592812, 3.581428  , 3.43157978,\n",
       "       3.39773821, 3.39669468, 3.24934632, 3.23905769, 3.21804971])"
      ]
     },
     "execution_count": 23,
     "metadata": {},
     "output_type": "execute_result"
    }
   ],
   "source": [
    "user0_pred[top_idx][:10]"
   ]
  },
  {
   "cell_type": "code",
   "execution_count": 24,
   "metadata": {},
   "outputs": [
    {
     "name": "stdout",
     "output_type": "stream",
     "text": [
      "Top recommendations for you:\n",
      "Prediction rating 3.68 for movie Star Wars (1977)\n",
      "Prediction rating 3.64 for movie Titanic (1997)\n",
      "Prediction rating 3.61 for movie Toy Story (1995)\n",
      "Prediction rating 3.58 for movie Truth About Cats & Dogs, The (1996)\n",
      "Prediction rating 3.43 for movie Boot, Das (1981)\n",
      "Prediction rating 3.40 for movie Return of the Jedi (1983)\n",
      "Prediction rating 3.40 for movie Princess Bride, The (1987)\n",
      "Prediction rating 3.25 for movie Empire Strikes Back, The (1980)\n",
      "Prediction rating 3.24 for movie Close Shave, A (1995)\n",
      "Prediction rating 3.22 for movie Wrong Trousers, The (1993)\n"
     ]
    }
   ],
   "source": [
    "print('Top recommendations for you:')\n",
    "movie_list = np.array(movie_list)\n",
    "for i in top_idx[:10]:\n",
    "    print('Prediction rating {:.2f} for movie {}'.format(user0_pred[i], movie_list[i]))\n",
    "# for m in movie_list[top_idx][:10]:\n",
    "#     print(m)"
   ]
  }
 ],
 "metadata": {
  "anaconda-cloud": {},
  "kernelspec": {
   "display_name": "Python 3",
   "language": "python",
   "name": "python3"
  },
  "language_info": {
   "codemirror_mode": {
    "name": "ipython",
    "version": 3
   },
   "file_extension": ".py",
   "mimetype": "text/x-python",
   "name": "python",
   "nbconvert_exporter": "python",
   "pygments_lexer": "ipython3",
   "version": "3.7.5"
  }
 },
 "nbformat": 4,
 "nbformat_minor": 1
}
