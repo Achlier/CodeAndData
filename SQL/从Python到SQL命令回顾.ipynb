{
 "cells": [
  {
   "cell_type": "markdown",
   "id": "2eb0fed8",
   "metadata": {},
   "source": [
    "# SQL复习笔记"
   ]
  },
  {
   "cell_type": "markdown",
   "id": "5113b18e",
   "metadata": {},
   "source": [
    "VS code 连接 mysql 注意了！mssql 插件不支持 mysql，需要下载其他插件才能用！"
   ]
  },
  {
   "cell_type": "code",
   "execution_count": 1,
   "id": "bbb053cf",
   "metadata": {},
   "outputs": [],
   "source": [
    "import pymysql"
   ]
  },
  {
   "cell_type": "code",
   "execution_count": 7,
   "id": "32cc6216",
   "metadata": {},
   "outputs": [],
   "source": [
    "conn = pymysql.connect(host=\"localhost\", user=\"root\", password=\"123456\")\n",
    "cursor = conn.cursor()"
   ]
  },
  {
   "cell_type": "code",
   "execution_count": 41,
   "id": "1a29c59f",
   "metadata": {},
   "outputs": [
    {
     "name": "stdout",
     "output_type": "stream",
     "text": [
      "(('information_schema',), ('mysql',), ('performance_schema',), ('sakila',), ('sys',), ('world',))\n"
     ]
    }
   ],
   "source": [
    "cursor.execute('show databases;')\n",
    "print( cursor.fetchall())"
   ]
  },
  {
   "cell_type": "markdown",
   "id": "26ad9860",
   "metadata": {},
   "source": [
    "可以正常运行了！"
   ]
  },
  {
   "cell_type": "code",
   "execution_count": null,
   "id": "55146c4b",
   "metadata": {},
   "outputs": [],
   "source": []
  },
  {
   "cell_type": "markdown",
   "id": "ac59fbaa",
   "metadata": {},
   "source": [
    "## 1.操作数据库"
   ]
  },
  {
   "cell_type": "markdown",
   "id": "d54be814",
   "metadata": {},
   "source": [
    "创建数据库：CREATE DATABASE [IF NOT EXISTS] mydb1;\n",
    "- 例如：CREATE DATABASE mydb1，创建一个名为 mydb1 的数据库。如果这个数据已经存在，那么会报错。\n",
    "- CREATE DATABASE IF NOT EXISTS mydb1，在名为 mydb1 的数据库不存在时创建该库，这样可以避免报错。\n",
    "\n",
    "删除数据库：DROP DATABASE [IF EXISTS] mydb1;"
   ]
  },
  {
   "cell_type": "markdown",
   "id": "54ea9bb8",
   "metadata": {},
   "source": [
    "## 2.数据类型"
   ]
  },
  {
   "cell_type": "markdown",
   "id": "4beca1bf",
   "metadata": {},
   "source": [
    "- int：整型\n",
    "- double：浮点型，例如 double(5,2)表示最多 5 位，其中必须有 2 位小数，即最大值为 999.99；\n",
    "- decimal：泛型型，在表单线方面使用该类型，因为不会出现精度缺失问题；\n",
    "- char：固定长度字符串类型；(当输入的字符不够长度时会补空格)\n",
    "- varchar：固定长度字符串类型；\n",
    "- text：字符串类型；\n",
    "- blob：字节类型；\n",
    "- date：日期类型，格式为：yyyy-MM-dd；\n",
    "- time：时间类型，格式为：hh:mm:ss；\n",
    "- timestamp：时间戳类型；"
   ]
  },
  {
   "cell_type": "markdown",
   "id": "a22838f9",
   "metadata": {},
   "source": [
    "## 3.操作表"
   ]
  },
  {
   "cell_type": "markdown",
   "id": "0e48f95c",
   "metadata": {},
   "source": [
    "创建表\n",
    "- CREATE TABLE 表名(列名 列类型 [not null] [primary key], 列名 列类型,...... );\n",
    "\n",
    "根据已有的表创建新表\n",
    "- create table 新表 like 旧表\n",
    "- create table 新表 as select 列1,列2 … from 旧表 definition only\n",
    "\n",
    "查看表的结构\n",
    "- DESC 表名;\n",
    "\n",
    "删除表\n",
    "- DROP TABLE 表名;\n",
    "\n",
    "修改表\n",
    "- 添加列：给 stu 表添加 classname 列\n",
    "    - ALTER TABLE stu ADD (classname varchar(100));\n",
    "- 修改列的数据类型：修改 stu 表的 gender 列类型为 CHAR(2)\n",
    "    - ALTER TABLE stu MODIFY gender CHAR(2);\n",
    "- 修改列名：修改 stu 表的 gender 列名为 sex\n",
    "    - ALTER TABLE stu change gender sex CHAR(2);\n",
    "- 删除列：删除 stu 表的 classname 列\n",
    "    - ALTER TABLE stu DROP classname;\n",
    "- 修改表名称：修改 stu 表名称为 student\n",
    "    - ALTER TABLE stu RENAME TO student;\n",
    "    \n",
    "添加主键\n",
    "- Alter table tabname add primary key(col)\n",
    "\n",
    "删除主键 \n",
    "- Alter table tabname drop primary key(col)\n",
    "\n",
    "创建索引\n",
    "- create [unique] index idxname on tabname(col…)\n",
    "\n",
    "删除索引\n",
    "- drop index idxname"
   ]
  },
  {
   "cell_type": "markdown",
   "id": "e937bb04",
   "metadata": {},
   "source": [
    "## 4.插入数据"
   ]
  },
  {
   "cell_type": "markdown",
   "id": "37367e29",
   "metadata": {},
   "source": [
    "语法 1：INSERT INTO 表名(列名 1,列名 2, …) VALUES(值 1,值 2,…);\n",
    "\n",
    "语法 2：INSERT INTO 表名 VALUES(值 1,值 2,…);\n",
    "- 因为没有指定要插入的列，表示按创建表时列的顺序插入所有列的值："
   ]
  },
  {
   "cell_type": "markdown",
   "id": "f65ca73b",
   "metadata": {},
   "source": [
    "## 5.修改数据"
   ]
  },
  {
   "cell_type": "markdown",
   "id": "75948687",
   "metadata": {},
   "source": [
    "UPDATE 表名 SET 列名 1=值 1, … 列名 n=值 n [WHERE 条件];"
   ]
  },
  {
   "cell_type": "markdown",
   "id": "b570ed7e",
   "metadata": {},
   "source": [
    "## 6.删除数据"
   ]
  },
  {
   "cell_type": "markdown",
   "id": "56709c5a",
   "metadata": {},
   "source": [
    "语法 1：DELETE FROM 表名 [WHERE 条件];\n",
    "\n",
    "语法 2：TRUNCATE TABLE 表名;\n",
    "\n",
    "两者之间的区别：\n",
    "\n",
    "虽然 TRUNCATE 和 DELETE 都可以删除表的所有记录，但有原理不同。DELETE的效率没有 TRUNCATE 高！\n",
    "TRUNCATE 其实属性 DDL 语句，因为它是先 DROP TABLE，再 CREATE TABLE。\n",
    "而且TRUNCATE删除的记录是无法回滚的，但DELETE删除的记录是可以回滚的。"
   ]
  },
  {
   "cell_type": "markdown",
   "id": "723d08fc",
   "metadata": {},
   "source": [
    "## 7.数据查询语言"
   ]
  },
  {
   "cell_type": "markdown",
   "id": "36c99873",
   "metadata": {},
   "source": [
    "基础查询：\n",
    "- SELECT 列名 1, 列名 2, … 列名 n FROM 表名;\n",
    "\n",
    "条件查询：\n",
    "- SELECT 列名 FROM 表名 WHERE …;\n",
    "    - =、!=、<>、<、<=、>、>=；\n",
    "    - BETWEEN…AND；\n",
    "    - IN(set)；\n",
    "    - IS NULL；\n",
    "    - AND；\n",
    "    - OR；\n",
    "    - NOT；\n",
    "    \n",
    "模糊查询：\n",
    "- SELECT 字段 FROM 表 WHERE 某字段 Like 条件\n",
    "    - % ：表示任意 0 个或多个字符。可匹配任意类型和长度的字符，有些情况下若是中文，请使用两个百分号（%%）表示。\n",
    "    - _： 表示任意单个字符。匹配单个任意字符，它常用来限制表达式的字 符长度语句。\n",
    "    \n",
    "字段控制查询：\n",
    "- 去除重复：SELECT DISTINCT 列名 FROM 表名;\n",
    "- SELECT 列1+IFNULL(列2,0) AS 新列名 FROM 表名;\n",
    "    - IFNULL(列2,0) 把 NULL 转换成数值 0：\n",
    "\n",
    "排序查询：\n",
    "- SELECT * FROM 表名 ORDER BY 列1 DESC ,列2 ASC;\n",
    "    - 如果列1相同则看列2\n",
    "    - DESC 降序\n",
    "    - ASC 升序\n",
    "    \n",
    "聚合函数：\n",
    "- SELECT 聚合函数(列名) AS 新列名 FROM 表名;\n",
    "    - COUNT()：统计指定列不为 NULL 的记录行数；\n",
    "    - MAX()：计算指定列的最大值，如果指定列是字符串类型，那么使用字符串排序运算；\n",
    "    - MIN()：计算指定列的最小值，如果指定列是字符串类型，那么使用字符串排序运算；\n",
    "    - SUM()：计算指定列的数值和，如果指定列类型不是数值类型，那么计算结果为 0；\n",
    "    - AVG()：计算指定列的平均值，如果指定列类型不是数值类型，那么计算结果为 0；\n",
    "    \n",
    "分组查询：\n",
    "- SELECT SUM(列名) FROM 表名 GROUP BY 分类列名 HAVING SUM(列名) > 100;\n",
    "    - 注意，WHERE 是对分组前记录的条件，如果某行记录没有满足 WHERE 子句的条件，那么这行记录不会参加分组；而 HAVING 是对分组后数据的约束。\n",
    "\n",
    "限定查询结果的起始行，以及总行数：\n",
    "- SELECT * FROM 表名 LIMIT 3, 10;\n",
    "    - 查询 10 行记录，起始行从 3 开始。\n",
    "    \n",
    "多表连接查询：\n",
    "- 内连接：select 表1.name,列名 from 表1,表2 where 表1.name=表2.name;\n",
    "- 外连接：select 表1.name,列名 from 表1 [left/right] [out/inner] join 表2 on 表1.name=表2.name;\n"
   ]
  },
  {
   "cell_type": "markdown",
   "id": "ae865746",
   "metadata": {},
   "source": [
    "几个高级查询运算词\n",
    "- UNION 运算符：通过组合其他两个结果表（例如 TABLE1 和 TABLE2）并消去表中任何重复行而派生出一个结果表。当 ALL 随 UNION 一起使用时（即 UNION ALL），不消除重复行。两种情况下，派生表的每一行不是来自 TABLE1 就是来自 TABLE2。\n",
    "- EXCEPT 运算符：通过包括所有在 TABLE1 中但不在 TABLE2 中的行并消除所有重复行而派生出一个结果表。当 ALL 随 EXCEPT 一起使用时 (EXCEPT ALL)，不消除重复行。\n",
    "- INTERSECT 运算符：通过只包括 TABLE1 和 TABLE2 中都有的行并消除所有重复行而派生出一个结果表。当 ALL 随 INTERSECT 一起使用时 (INTERSECT ALL)，不消除重复行。"
   ]
  },
  {
   "cell_type": "markdown",
   "id": "21aa7393",
   "metadata": {},
   "source": [
    "## 8.Python实践"
   ]
  },
  {
   "cell_type": "code",
   "execution_count": 45,
   "id": "33395dba",
   "metadata": {},
   "outputs": [],
   "source": [
    "import pandas as pd"
   ]
  },
  {
   "cell_type": "code",
   "execution_count": 47,
   "id": "14e1efbd",
   "metadata": {},
   "outputs": [
    {
     "data": {
      "text/plain": [
       "0"
      ]
     },
     "execution_count": 47,
     "metadata": {},
     "output_type": "execute_result"
    }
   ],
   "source": [
    "cursor.execute('use world;')"
   ]
  },
  {
   "cell_type": "code",
   "execution_count": 49,
   "id": "12b80941",
   "metadata": {},
   "outputs": [],
   "source": [
    "sql_1 = \"SELECT * from city\" #利用pandas直接获取数据\"\n",
    "data = pd.read_sql(sql_1, conn)"
   ]
  },
  {
   "cell_type": "code",
   "execution_count": 50,
   "id": "f255f103",
   "metadata": {},
   "outputs": [
    {
     "data": {
      "text/html": [
       "<div>\n",
       "<style scoped>\n",
       "    .dataframe tbody tr th:only-of-type {\n",
       "        vertical-align: middle;\n",
       "    }\n",
       "\n",
       "    .dataframe tbody tr th {\n",
       "        vertical-align: top;\n",
       "    }\n",
       "\n",
       "    .dataframe thead th {\n",
       "        text-align: right;\n",
       "    }\n",
       "</style>\n",
       "<table border=\"1\" class=\"dataframe\">\n",
       "  <thead>\n",
       "    <tr style=\"text-align: right;\">\n",
       "      <th></th>\n",
       "      <th>ID</th>\n",
       "      <th>Name</th>\n",
       "      <th>CountryCode</th>\n",
       "      <th>District</th>\n",
       "      <th>Population</th>\n",
       "    </tr>\n",
       "  </thead>\n",
       "  <tbody>\n",
       "    <tr>\n",
       "      <th>0</th>\n",
       "      <td>1</td>\n",
       "      <td>Kabul</td>\n",
       "      <td>AFG</td>\n",
       "      <td>Kabol</td>\n",
       "      <td>1780000</td>\n",
       "    </tr>\n",
       "    <tr>\n",
       "      <th>1</th>\n",
       "      <td>2</td>\n",
       "      <td>Qandahar</td>\n",
       "      <td>AFG</td>\n",
       "      <td>Qandahar</td>\n",
       "      <td>237500</td>\n",
       "    </tr>\n",
       "    <tr>\n",
       "      <th>2</th>\n",
       "      <td>3</td>\n",
       "      <td>Herat</td>\n",
       "      <td>AFG</td>\n",
       "      <td>Herat</td>\n",
       "      <td>186800</td>\n",
       "    </tr>\n",
       "    <tr>\n",
       "      <th>3</th>\n",
       "      <td>4</td>\n",
       "      <td>Mazar-e-Sharif</td>\n",
       "      <td>AFG</td>\n",
       "      <td>Balkh</td>\n",
       "      <td>127800</td>\n",
       "    </tr>\n",
       "    <tr>\n",
       "      <th>4</th>\n",
       "      <td>5</td>\n",
       "      <td>Amsterdam</td>\n",
       "      <td>NLD</td>\n",
       "      <td>Noord-Holland</td>\n",
       "      <td>731200</td>\n",
       "    </tr>\n",
       "  </tbody>\n",
       "</table>\n",
       "</div>"
      ],
      "text/plain": [
       "   ID            Name CountryCode       District  Population\n",
       "0   1           Kabul         AFG          Kabol     1780000\n",
       "1   2        Qandahar         AFG       Qandahar      237500\n",
       "2   3           Herat         AFG          Herat      186800\n",
       "3   4  Mazar-e-Sharif         AFG          Balkh      127800\n",
       "4   5       Amsterdam         NLD  Noord-Holland      731200"
      ]
     },
     "execution_count": 50,
     "metadata": {},
     "output_type": "execute_result"
    }
   ],
   "source": [
    "data.head()"
   ]
  },
  {
   "cell_type": "code",
   "execution_count": 83,
   "id": "2bee9264",
   "metadata": {},
   "outputs": [
    {
     "data": {
      "text/plain": [
       "0"
      ]
     },
     "execution_count": 83,
     "metadata": {},
     "output_type": "execute_result"
    }
   ],
   "source": [
    "cursor.execute('CREATE TABLE ttable(name text,age int,info text);')"
   ]
  },
  {
   "cell_type": "code",
   "execution_count": 84,
   "id": "b253058c",
   "metadata": {},
   "outputs": [],
   "source": [
    "addt = \"insert into ttable(name,age,info) values(%s,%r,%s)\"\n",
    "li=[('achlier',30,'ImNobody')]"
   ]
  },
  {
   "cell_type": "code",
   "execution_count": 85,
   "id": "2270e9e3",
   "metadata": {},
   "outputs": [],
   "source": [
    "cursor.executemany(addt, li)\n",
    "conn.commit()"
   ]
  },
  {
   "cell_type": "code",
   "execution_count": 86,
   "id": "9b19d22f",
   "metadata": {},
   "outputs": [],
   "source": [
    "cursor.close()\n",
    "conn.close()"
   ]
  },
  {
   "cell_type": "markdown",
   "id": "f9c3de77",
   "metadata": {},
   "source": [
    "## References\n",
    "- [史上最全SQL基础知识总结(理论+举例)](https://blog.csdn.net/m0_67402026/article/details/125389578)\n",
    "- [MySql 语法（完整版）](https://blog.csdn.net/babylovewei/article/details/103763546)\n",
    "- [教你怎么用python连接sql server](https://www.jb51.net/article/212497.htm)\n",
    "- [python操作sql数据库](https://blog.csdn.net/duxinyuhi/article/details/123891326)"
   ]
  }
 ],
 "metadata": {
  "kernelspec": {
   "display_name": "Python 3 (ipykernel)",
   "language": "python",
   "name": "python3"
  },
  "language_info": {
   "codemirror_mode": {
    "name": "ipython",
    "version": 3
   },
   "file_extension": ".py",
   "mimetype": "text/x-python",
   "name": "python",
   "nbconvert_exporter": "python",
   "pygments_lexer": "ipython3",
   "version": "3.9.12"
  }
 },
 "nbformat": 4,
 "nbformat_minor": 5
}
