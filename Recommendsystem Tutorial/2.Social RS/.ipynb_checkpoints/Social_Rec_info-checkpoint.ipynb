{
 "cells": [
  {
   "cell_type": "markdown",
   "metadata": {},
   "source": [
    "# SoRec"
   ]
  },
  {
   "cell_type": "markdown",
   "metadata": {},
   "source": [
    "$假设有m个物品(item)，n个用户(user)，f个因子(factor)$"
   ]
  },
  {
   "cell_type": "markdown",
   "metadata": {},
   "source": [
    "$U :$ 所有用户的集合"
   ]
  },
  {
   "cell_type": "markdown",
   "metadata": {},
   "source": [
    "$I :$ 所有物品的集合"
   ]
  },
  {
   "cell_type": "markdown",
   "metadata": {},
   "source": [
    "$P_{n\\times f}: $ user-factor matrix "
   ]
  },
  {
   "cell_type": "markdown",
   "metadata": {},
   "source": [
    "$Q_{m\\times f}:$ item-factor matrix "
   ]
  },
  {
   "cell_type": "markdown",
   "metadata": {},
   "source": [
    "$Z_{n\\times f}:$ user-factor matrix in the social network graph"
   ]
  },
  {
   "cell_type": "markdown",
   "metadata": {},
   "source": [
    "$\\vartheta :$ social network graph"
   ]
  },
  {
   "cell_type": "markdown",
   "metadata": {},
   "source": [
    "$\\nu :$ all the users in a social network"
   ]
  },
  {
   "cell_type": "markdown",
   "metadata": {},
   "source": [
    "$\\varepsilon :$ the edge set in social network graph"
   ]
  },
  {
   "cell_type": "markdown",
   "metadata": {},
   "source": [
    "<center>$\\vartheta = (\\nu,\\varepsilon)$"
   ]
  },
  {
   "cell_type": "markdown",
   "metadata": {},
   "source": [
    "$C_{n\\times n} :$ user-user matrix of $\\vartheta$"
   ]
  },
  {
   "cell_type": "markdown",
   "metadata": {},
   "source": [
    "$R^f:$ 1$×$factor vector"
   ]
  },
  {
   "cell_type": "markdown",
   "metadata": {},
   "source": [
    "$q_i:$ $Q$ 中物品 $i$ 所在行的向量"
   ]
  },
  {
   "cell_type": "markdown",
   "metadata": {},
   "source": [
    "$p_u:$ $P$ 中用户 $u$ 所在的行的向量 "
   ]
  },
  {
   "cell_type": "markdown",
   "metadata": {},
   "source": [
    "$c_{uj}\\in (0,1] :$ donate the weight associated with an edge from $\\nu_{u}$ to $\\nu_{j}$"
   ]
  },
  {
   "cell_type": "markdown",
   "metadata": {},
   "source": [
    "$d^{+}(\\nu_{u}) :$ the outdegree of $\\nu_{u}$"
   ]
  },
  {
   "cell_type": "markdown",
   "metadata": {},
   "source": [
    "$d^{-}(\\nu_{k}) :$ the indegree of $\\nu_{k}$"
   ]
  },
  {
   "cell_type": "markdown",
   "metadata": {},
   "source": [
    "<center>$c_{uj}^{*} = \\sqrt{\\frac{d^{-}(\\nu_{j})}{d^{+}(\\nu_{u})+d^{-}(\\nu_{j})}}c_{uj}$"
   ]
  },
  {
   "cell_type": "markdown",
   "metadata": {},
   "source": [
    "$\\kappa$ $:$ $\\{ (u,i)|$  $r_{ui}$ is known $\\}$"
   ]
  },
  {
   "cell_type": "markdown",
   "metadata": {},
   "source": [
    "$\\hat{r_{ui}}:$ 用户 $u$ 对物品 $i$ 的评分的预测值\n",
    "\n",
    "<center>$\\hat{r_{ui}}=q_{i}^{T}p_{u}$"
   ]
  },
  {
   "cell_type": "markdown",
   "metadata": {},
   "source": [
    "$N(x|\\mu,\\sigma^2): $ 正态分布,均值为 $\\mu$ , 方差为 $\\sigma^2$"
   ]
  },
  {
   "cell_type": "markdown",
   "metadata": {},
   "source": [
    "假设 P，Q，R，C，S 皆服从高斯分布，既：\n",
    "\\begin{align}\n",
    "\\\\p(R|P,Q,\\sigma_{R}^{2})&=\\prod\\limits_{u\\in U}\\prod\\limits_{i\\in I}N(r_{ui}|p_{u}^{T}q_{i},\\sigma_{R}^{2})\n",
    "\\\\p(C|P,Z,\\sigma_{C}^{2})&=\\prod\\limits_{u\\in U}\\prod\\limits_{j\\in U}N(c_{uj}|p_{u}^{T}z_{j},\\sigma_{C}^{2})\n",
    "\\\\p(P|\\sigma_{P}^{2})&=\\prod\\limits_{u\\in U} N(p_{u}|0,\\sigma_{P}^{2})\n",
    "\\\\p(Q|\\sigma_{Q}^{2})&=\\prod\\limits_{i\\in I} N(q_{i}|0,\\sigma_{Q}^{2})\n",
    "\\\\p(Z|\\sigma_{Z}^{2})&=\\prod\\limits_{u\\in U} N(z_{u}|0,\\sigma_{Z}^{2})\n",
    "\\end{align}"
   ]
  },
  {
   "cell_type": "markdown",
   "metadata": {},
   "source": [
    "使用极大似然估计，既希望最大化：\n",
    "\n",
    "\\begin{align}\n",
    "p(P,Q|R,\\overrightarrow{\\theta})\\qquad and \\qquad p(P,Z|C,\\overrightarrow{\\theta})\n",
    "\\end{align}"
   ]
  },
  {
   "cell_type": "markdown",
   "metadata": {},
   "source": [
    "使用贝叶斯定理可知：\n",
    "\n",
    "\n",
    "\\begin{align}\n",
    "&p(P,Q|R,\\overrightarrow{\\theta})\\propto p(R|P,Q,\\overrightarrow{\\theta_{1}})p(P,Q|\\overrightarrow{\\theta_{2}})\n",
    "\\\\ =&p(P,Q|R,\\overrightarrow{\\theta})\\propto p(R|P,Q,\\overrightarrow{\\theta_{1}})p(P|\\overrightarrow{\\theta_{2}})p(Q|\\overrightarrow{\\theta_{2}})\n",
    "\\\\ =&\\prod\\limits_{u\\in U}\\prod\\limits_{i\\in I}N(r_{ui}|p_{u}^{T}q_{i},\\sigma_{R}^{2})\\prod\\limits_{u\\in U} N(p_{u}|0,\\sigma_{P}^{2})\\prod\\limits_{i\\in I} N(q_{i}|0,\\sigma_{Q}^{2})\n",
    "\\end{align}"
   ]
  },
  {
   "cell_type": "markdown",
   "metadata": {},
   "source": [
    "同理得出 $p(P,Z|C,\\overrightarrow{\\theta})$ 后进行 $log$ 处理，并且合并两个式子，得："
   ]
  },
  {
   "cell_type": "markdown",
   "metadata": {},
   "source": [
    "\\begin{align}\n",
    "&lnp(P,Q,Z|C,R,\\sigma_{C}^{2},\\sigma_{R}^{2},\\sigma_{P}^{2},\\sigma_{Q}^{2},\\sigma_{Z}^{2})\n",
    "\\\\  =&-\\frac{1}{2\\sigma_{R}^{2}}\\sum\\limits_{u\\in U}\\sum\\limits_{i\\in I}(r_{ui}-p_{u}^{2}q_{i})^{2}\n",
    "-\\frac{1}{2\\sigma_{C}^{2}}\\sum\\limits_{u\\in U}\\sum\\limits_{j\\in U}(c_{uj}^{*}-p_{u}^{2}z_{j})^{2}\n",
    "\\\\  &-\\frac{1}{2\\sigma_{P}^{2}}\\sum\\limits_{u\\in U}p_{u}^{T}p_{u}\n",
    "-\\frac{1}{2\\sigma_{Q}^{2}}\\sum\\limits_{i\\in I}q_{i}^{T}q_{i}\n",
    "-\\frac{1}{2\\sigma_{Z}^{2}}\\sum\\limits_{u\\in U}z_{u}^{T}z_{u}\n",
    "\\\\  &-\\frac{1}{2}\\sum\\limits_{u\\in U}\\sum\\limits_{i\\in I}ln\\sigma_{R}^{2}-\\frac{1}{2}\\sum\\limits_{u\\in U}\\sum\\limits_{i\\in I}ln\\sigma_{C}^{2}\n",
    "-\\frac{1}{2}(n\\times f ln\\sigma_{P}^{2}+m\\times f ln\\sigma_{Q}^{2}+n\\times f ln\\sigma_{Z}^{2})\n",
    "\\end{align}"
   ]
  },
  {
   "cell_type": "markdown",
   "metadata": {},
   "source": [
    "$\\lambda:$ 正则化系数"
   ]
  },
  {
   "cell_type": "markdown",
   "metadata": {},
   "source": [
    "$\\alpha:$ 学习速率(learning rate)"
   ]
  },
  {
   "cell_type": "markdown",
   "metadata": {},
   "source": [
    "<center>$C(q_{i},p_{u},z_{u})=\\sum\\limits_{(u,i)\\in \\kappa}(r_{ui}-\\hat{r_{ui}})^{2}+\\lambda(\\sum\\limits_{u\\in \\nu}\\sum\\limits_{j\\in \\nu}(c^{*}_{uj}-p_{u}^{T}z_{j})^{2}+\\Arrowvert q_{i}\\Arrowvert^{2}+\\Arrowvert p_{u}\\Arrowvert^{2}+\\Arrowvert z_{u}\\Arrowvert^{2})$"
   ]
  },
  {
   "cell_type": "markdown",
   "metadata": {},
   "source": [
    "$error=r_{ui}-\\hat{r_{ui}}$"
   ]
  },
  {
   "cell_type": "markdown",
   "metadata": {},
   "source": [
    "$err = c^{*}_{uj}-p_{u}^{T}z_{j}$"
   ]
  },
  {
   "cell_type": "markdown",
   "metadata": {},
   "source": [
    "$\\begin{align}\n",
    "q_{i}:&=q_{i}-\\frac{\\alpha}{2}\\triangledown C(q_{i},p_{u},z_{u})\n",
    "\\\\ &=q_{i}-\\frac{\\alpha}{2}\\frac{\\partial C(q_{i},p_{u},z_{u})}{\\partial q_{i}}\n",
    "\\\\ &=q_{i}-\\frac{\\alpha}{2}(2error\\times(-p_{u})+2\\lambda q_{i})\n",
    "\\\\ &=q_{i}+\\alpha(error\\times p_{u}-\\lambda q_{i})\n",
    "\\end{align}$"
   ]
  },
  {
   "cell_type": "markdown",
   "metadata": {},
   "source": [
    "$\\begin{align}\n",
    "p_{u}:&=p_{u}-\\frac{\\alpha}{2}\\triangledown C(q_{i},p_{u},z_{u})\n",
    "\\\\ &=p_{u}-\\frac{\\alpha}{2}\\frac{\\partial C(q_{i},p_{u},z_{u})}{\\partial p_{u}}\n",
    "\\\\ &=p_{u}-\\frac{\\alpha}{2}(2error\\times(-q_{i})+2err\\times(-z_{u})+2\\lambda p_{u})\n",
    "\\\\ &=p_{u}+\\alpha(error\\times q_{i}+err\\times z_{u}-\\lambda p_{u})\n",
    "\\end{align}$"
   ]
  },
  {
   "cell_type": "markdown",
   "metadata": {},
   "source": [
    "$\\begin{align}\n",
    "z_{u}:&=z_{u}-\\frac{\\alpha}{2}\\triangledown C(q_{i},p_{u},z_{u})\n",
    "\\\\ &=z_{u}-\\frac{\\alpha}{2}\\frac{\\partial C(q_{i},p_{u},z_{u})}{\\partial z_{u}}\n",
    "\\\\ &=z_{u}-\\frac{\\alpha}{2}(2err\\times(-p_{u})+2\\lambda p_{u})\n",
    "\\\\ &=z_{u}+\\alpha(err\\times p_{u}-\\lambda z_{u})\n",
    "\\end{align}$"
   ]
  },
  {
   "cell_type": "markdown",
   "metadata": {},
   "source": [
    "***"
   ]
  },
  {
   "cell_type": "markdown",
   "metadata": {},
   "source": [
    "# Social Trust"
   ]
  },
  {
   "cell_type": "markdown",
   "metadata": {},
   "source": [
    "$假设有m个物品(item)，n个用户(user)，f个因子(factor)$"
   ]
  },
  {
   "cell_type": "markdown",
   "metadata": {},
   "source": [
    "$P_{n\\times f}: $ user-factor matrix "
   ]
  },
  {
   "cell_type": "markdown",
   "metadata": {},
   "source": [
    "$Q_{m\\times f}:$ item-factor matrix "
   ]
  },
  {
   "cell_type": "markdown",
   "metadata": {},
   "source": [
    "$\\vartheta :$ social network graph"
   ]
  },
  {
   "cell_type": "markdown",
   "metadata": {},
   "source": [
    "$\\nu :$ all the users in a social network"
   ]
  },
  {
   "cell_type": "markdown",
   "metadata": {},
   "source": [
    "$\\varepsilon :$ the edge set in social network graph"
   ]
  },
  {
   "cell_type": "markdown",
   "metadata": {},
   "source": [
    "<center>$\\vartheta = (\\nu,\\varepsilon)$"
   ]
  },
  {
   "cell_type": "markdown",
   "metadata": {},
   "source": [
    "$S_{n\\times n} :$ user-user matrix of $\\vartheta$"
   ]
  },
  {
   "cell_type": "markdown",
   "metadata": {},
   "source": [
    "$R^f:$ 1$×$factor vector"
   ]
  },
  {
   "cell_type": "markdown",
   "metadata": {},
   "source": [
    "$q_i:$ $Q$ 中物品 $i$ 所在行的向量"
   ]
  },
  {
   "cell_type": "markdown",
   "metadata": {},
   "source": [
    "$p_u:$ $P$ 中用户 $u$ 所在的行的向量 "
   ]
  },
  {
   "cell_type": "markdown",
   "metadata": {},
   "source": [
    "$s_{uj}\\in (0,1] :$ donate the weight associated with an edge from $\\nu_{u}$ to $\\nu_{j}$"
   ]
  },
  {
   "cell_type": "markdown",
   "metadata": {},
   "source": [
    "$r_{ui}:$ 用户 $u$ 对物品 $i$ 的打分"
   ]
  },
  {
   "cell_type": "markdown",
   "metadata": {},
   "source": [
    "$T(u) :$ the friends set that user $u$ trusts"
   ]
  },
  {
   "cell_type": "markdown",
   "metadata": {},
   "source": [
    "$\\kappa$ $:$ $\\{ (u,i)|$  $r_{ui}$ is known $\\}$"
   ]
  },
  {
   "cell_type": "markdown",
   "metadata": {},
   "source": [
    "$\\lambda:$ 正则化系数"
   ]
  },
  {
   "cell_type": "markdown",
   "metadata": {},
   "source": [
    "$\\alpha:$ 学习速率(learning rate)"
   ]
  },
  {
   "cell_type": "markdown",
   "metadata": {},
   "source": [
    "$\\gamma :$ controls how much do users trust themselves or their trusted friends"
   ]
  },
  {
   "cell_type": "markdown",
   "metadata": {},
   "source": [
    "<center>$C(q_{i},p_{u})=\\sum\\limits_{(u,i)\\in \\kappa}(r_{ui}-(\\gamma p_{u}^{T}q_{i}+(1-\\gamma)\\sum\\limits_{j \\in T(u)}s_{uj} p_{j}^{T} q_{i}))^{2}+\\lambda(\\Arrowvert q_{i}\\Arrowvert^{2}+\\Arrowvert p_{u}\\Arrowvert^{2})$"
   ]
  },
  {
   "cell_type": "markdown",
   "metadata": {},
   "source": [
    "$\\hat{r_{ui}}:$ 用户 $u$ 对物品 $i$ 的评分的预测值\n",
    "\n",
    "<center>$\\hat{r_{ui}}=\\gamma p_{u}^{T}q_{i}+(1-\\gamma)\\sum\\limits_{j \\in T(u)}s_{uj} p_{j}^{T} q_{i}$"
   ]
  },
  {
   "cell_type": "markdown",
   "metadata": {},
   "source": [
    "$error=r_{ui}-\\hat{r_{ui}}$"
   ]
  },
  {
   "cell_type": "markdown",
   "metadata": {},
   "source": [
    "$B(u) :$ is the set that includes all the users who trust user $u$"
   ]
  },
  {
   "cell_type": "markdown",
   "metadata": {},
   "source": [
    "$\\begin{align}\n",
    "q_{i}:&=q_{i}-\\frac{\\alpha}{2}\\triangledown C(q_{i},p_{u})\n",
    "\\\\ &=q_{i}-\\frac{\\alpha}{2}\\frac{\\partial C(q_{i},p_{u})}{\\partial q_{i}}\n",
    "\\\\ &=q_{i}-\\frac{\\alpha}{2}(2error\\times(-\\gamma p_{u}-(1-\\gamma)\\sum\\limits_{j \\in T(u)}s_{uj} p_{j}^{T})+2\\lambda q_{i})\n",
    "\\\\ &=q_{i}+\\alpha(error\\times(\\gamma p_{u}+(1-\\gamma)\\sum\\limits_{j \\in T(u)}s_{uj} p_{j}^{T})-\\lambda q_{i})\n",
    "\\end{align}$"
   ]
  },
  {
   "cell_type": "markdown",
   "metadata": {},
   "source": [
    "$\\begin{align}\n",
    "p_{u}:&=p_{u}-\\frac{\\alpha}{2}\\triangledown C(q_{i},p_{u})\n",
    "\\\\ &=p_{u}-\\frac{\\alpha}{2}\\frac{\\partial C(q_{i},p_{u})}{\\partial p_{u}}\n",
    "\\\\ &=p_{u}-\\frac{\\alpha}{2}(2error\\times(-\\gamma q_{i})+(1-\\gamma)\\sum\\limits_{p\\in B(u)}\\sum\\limits_{j\\in T(u)}(-2error_{pi}\\times s_{pj}q_{i}^{T}))+2\\gamma p_{j})\n",
    "\\\\ &=p_{u}+\\frac{\\alpha}{2}(error\\times(\\gamma q_{i})+(1-\\gamma)\\sum\\limits_{p\\in B(u)}\\sum\\limits_{j\\in T(u)}(error_{pi}\\times s_{pj}q_{i}^{T}))-\\gamma p_{j})\n",
    "\\end{align}$"
   ]
  },
  {
   "cell_type": "markdown",
   "metadata": {},
   "source": [
    "***"
   ]
  },
  {
   "cell_type": "markdown",
   "metadata": {},
   "source": [
    "# Trust_walker"
   ]
  },
  {
   "cell_type": "markdown",
   "metadata": {},
   "source": [
    "假设有 $m$ 个用户，$n$ 个物品"
   ]
  },
  {
   "cell_type": "markdown",
   "metadata": {},
   "source": [
    "$U:$ 所有用户集合\n",
    "<center>\n",
    "    $U = \\{u_{1},u_{2},...,u_{m}\\}$"
   ]
  },
  {
   "cell_type": "markdown",
   "metadata": {},
   "source": [
    "$I:$ 所有物品集合\n",
    "<center>\n",
    "    $I = \\{i_{1},i_{2},...,i_{n}\\}$"
   ]
  },
  {
   "cell_type": "markdown",
   "metadata": {},
   "source": [
    "$U_{(i)}:$ 访问过物品 $i$ 的用户集合"
   ]
  },
  {
   "cell_type": "markdown",
   "metadata": {},
   "source": [
    "$I_{(u)}:$ 用户 $u$ 访问过的物品集合"
   ]
  },
  {
   "cell_type": "markdown",
   "metadata": {},
   "source": [
    "$|U_{(i)}|:$ 访问过物品 $i$ 的用户的个数"
   ]
  },
  {
   "cell_type": "markdown",
   "metadata": {},
   "source": [
    "$|I_{(u)}|:$ 用户 $u$ 访问过的物品的个数"
   ]
  },
  {
   "cell_type": "markdown",
   "metadata": {},
   "source": [
    "$R_{(i)}:$ 物品 $i$ 的打分集合\n",
    "\n",
    "<center> $R_{(i)} \\in \\{r_{ui}\\ |\\ u \\in U_{(i)}\\}$"
   ]
  },
  {
   "cell_type": "markdown",
   "metadata": {},
   "source": [
    "$\\kappa\\in\\{(u,i)\\ |\\ r_{ui}\\ is \\ known\\}$"
   ]
  },
  {
   "cell_type": "markdown",
   "metadata": {},
   "source": [
    "$t_{uv}:$ 用户 $u$ 与用户 $v$ 的信任值\n",
    "\\begin{align}\n",
    "t_{uv} = \n",
    "\\begin{cases}\n",
    "0 & \\text{u与v不直接相连} \\\\\n",
    "1 & \\text{u与v直接相连}\n",
    "\\end{cases}\n",
    "\\end{align}"
   ]
  },
  {
   "cell_type": "markdown",
   "metadata": {},
   "source": [
    "$F_{(u)}:$ 用户 $u$ 的朋友集合\n",
    "<center>\n",
    "    $F_{(u)} = \\{v\\ |t_{uv} = 1\\ , \\ v \\in U\\}$"
   ]
  },
  {
   "cell_type": "markdown",
   "metadata": {},
   "source": [
    "$T:$ 每个用户 $u$ 和其朋友 $v$ 的组合的集合\n",
    "<center>\n",
    "    $T = \\{(u,v)\\ |u \\in U , v \\in F_{(u)}\\}$"
   ]
  },
  {
   "cell_type": "markdown",
   "metadata": {},
   "source": [
    "#### 随机变量"
   ]
  },
  {
   "cell_type": "markdown",
   "metadata": {},
   "source": [
    "> $X_{u,i,k}:$ 在 $k$ 步内, 从用户 $u$ 到用户 $v$ \n",
    "\n",
    "> $X_{u,i}$: 从用户 $u$ 到用户 $v$ \n",
    "\n",
    "> $S_{u}:$ 从 $F_{(u)}$ 中选取一个用户 $v$ , \n",
    "\n",
    "> $Y_{u,i}:$ 从 $I_{(u)}$ 中选取一个物品 $j$\n",
    "\n",
    "> $XY_{u,i}:$ 从用户 $u$ 到用户 $v$, 从 $I_{(v)}$ 选取一个物品$j$"
   ]
  },
  {
   "cell_type": "markdown",
   "metadata": {},
   "source": [
    "$\\rho_{ij}:$ 物品 $i$ 与物品 $j$ 的相关系数\n",
    "\\begin{align}\n",
    "\\rho_{ij}&=\\frac{Cov(R_{(i)},R_{(j)})}{\\sigma_{R_{(i)}}\\sigma_{R_{(j)}}}\n",
    "\\\\\n",
    "\\quad&=\\frac{\\sum\\limits_{u\\in U_{(i)} \\cap U_{(j)}}(r_{ui}-\\overline{r_{u}})(r_{uj}-\\overline{r_{u}})}{\\sqrt{\\sum\\limits_{u\\in U_{(i)} \\cap U_{(j)}}(r_{ui}-\\overline{r_{u}})^{2}}\\sqrt{\\sum\\limits_{u\\in U_{(i)} \\cap U_{(j)}}(r_{uj}-\\overline{r_{u}})^{2}}}\n",
    "\\end{align}"
   ]
  },
  {
   "cell_type": "markdown",
   "metadata": {},
   "source": [
    "$sim(i,j):$ 物品 $i$ 与物品 $j$ 的相似度\n",
    "<center>\n",
    "    $sim(i,j) = \\frac{1}{1+e^{-\\frac{|U(i)\\cap U(j)|}{2}}}\\times \\rho_{ij}$"
   ]
  },
  {
   "cell_type": "markdown",
   "metadata": {},
   "source": [
    "$\\phi_{u,i,k}:$ 在 $k$ 步内，在用户 $u$ 处停下的概率\n",
    "<center>\n",
    "    $ \\phi_{u,i,k} = \\mathop {\\max }\\limits_{j \\in I(u)} sim(i,j) \\times \\frac{1}{1+e^{-\\frac{k}{2}}} $"
   ]
  },
  {
   "cell_type": "markdown",
   "metadata": {},
   "source": [
    "#### A single random walk"
   ]
  },
  {
   "cell_type": "markdown",
   "metadata": {},
   "source": [
    "$假设初始用户为\\ u_0,开始进行随机游走至当前用户\\ u\\ 。$"
   ]
  },
  {
   "cell_type": "markdown",
   "metadata": {},
   "source": [
    "情况一：\n",
    "\n",
    "$当前用户对物品i有评分，则直接返回\\ \\hat{r_{ui}}$"
   ]
  },
  {
   "cell_type": "markdown",
   "metadata": {},
   "source": [
    "情况二:\n",
    "\n",
    "$当前用户对物品i没有评分，则有如下：$"
   ]
  },
  {
   "cell_type": "markdown",
   "metadata": {},
   "source": [
    "$\\begin{align}\n",
    "&(a)\\qquad  有1 - \\phi_{u,i,k}的概率继续随机游走至用户v,v\\in F_{(u)}  \\\\\n",
    "&(b)\\qquad  有\\phi_{u,i,k}的概率停止随机游走,选择与i相似的物品j,j\\in I_{(u)},返回\\hat{r_{uj}}\n",
    "\\end{align}$"
   ]
  },
  {
   "cell_type": "markdown",
   "metadata": {},
   "source": [
    "$(a)\\  从F_{(u)}选取用户\\ v\\ 的概率为: $"
   ]
  },
  {
   "cell_type": "markdown",
   "metadata": {},
   "source": [
    "<center>\n",
    "$ P(S_u = v) = \\frac{t_{uv}}{\\sum_{w \\in F_{(u)}t_{uw}} } = \\frac{1}{|F_{(u)}|} $"
   ]
  },
  {
   "cell_type": "markdown",
   "metadata": {},
   "source": [
    "$\\quad 继续随机游走的概率为:$"
   ]
  },
  {
   "cell_type": "markdown",
   "metadata": {},
   "source": [
    "\\begin{align}\n",
    "P(X_{u_0,i,k+1} = v|X_{u_0,i,k}=u,r_{ui}) &= (1 - \\phi_{u,i,k}) \\times P(S_u = v)\n",
    "\\\\ &= (1 - \\phi_{u,i,k}) \\times \\frac{1}{|F_{(u)}|}\n",
    "\\end{align}"
   ]
  },
  {
   "cell_type": "markdown",
   "metadata": {},
   "source": [
    "$(b)\\ 从I_{(u)}中选取物品\\ j\\ 的概率为：$"
   ]
  },
  {
   "cell_type": "markdown",
   "metadata": {},
   "source": [
    "<center>\n",
    "    $ P(Y_{u,i}=j) = \\frac{sim(i,j)}{\\sum_{l \\in I_{(u)}}sim(i,l)} $"
   ]
  },
  {
   "cell_type": "markdown",
   "metadata": {},
   "source": [
    "$\\quad 停止随机游走最终返回\\ r_{uj}$"
   ]
  },
  {
   "cell_type": "markdown",
   "metadata": {},
   "source": [
    "$\\perp:$ 终止状态"
   ]
  },
  {
   "cell_type": "markdown",
   "metadata": {},
   "source": [
    "随机游走 $k$ 步走到中止用户 $v$ 的概率为:"
   ]
  },
  {
   "cell_type": "markdown",
   "metadata": {},
   "source": [
    "<center>\n",
    "    $ P(X_{u,i,k} = v) = \\sum\\limits_{w\\in U}P(X_{u,i,k-1}=w)(1 - \\phi_{u,i,k})P(S_w = v) $"
   ]
  },
  {
   "cell_type": "markdown",
   "metadata": {},
   "source": [
    "中止之后的概率为:"
   ]
  },
  {
   "cell_type": "markdown",
   "metadata": {},
   "source": [
    "<center>\n",
    "    $ P(X_{u,i,k} = \\perp) = 1 - \\sum\\limits_{v\\in U}P(X_{u,i,k} = v) $"
   ]
  },
  {
   "cell_type": "markdown",
   "metadata": {},
   "source": [
    "可得，随机游走到中止用户$v$的概率为:"
   ]
  },
  {
   "cell_type": "markdown",
   "metadata": {},
   "source": [
    "<center>\n",
    "    $ P(X_{u,i} = v) = \\frac{\\sum_{k=1}^\\infty P(X_{u,i,k} = v)}{\\sum_{w\\in U}\\sum_{k=1}^\\infty P(X_{u,i,k} = w)} $"
   ]
  },
  {
   "cell_type": "markdown",
   "metadata": {},
   "source": [
    "综上,从用户 $u$ 出发,到达用户 $v$ ,并从 $I_{(v)}$ 中选取物品 $j$ 的概率为:"
   ]
  },
  {
   "cell_type": "markdown",
   "metadata": {},
   "source": [
    "\\begin{align}\n",
    "P(XY_{u,i} = (v,j)) =\n",
    "\\begin{cases}\n",
    "P(X_{u,i} = v)\\phi_{u,i}P(Y_{v,j} = j) & v \\ne u; i \\ne j \\\\\n",
    "P(X_{u,i} = v) & v \\ne u; i = j \\\\\n",
    "\\phi_{u,i}P(Y_{v,j} = j) & v = u; i = j\n",
    "\\end{cases}\n",
    "\\end{align}"
   ]
  },
  {
   "cell_type": "markdown",
   "metadata": {},
   "source": [
    "$\\hat{r_{ui}}:$ 用户 $u$ 对物品 $i$ 的打分的预测值\n"
   ]
  },
  {
   "cell_type": "markdown",
   "metadata": {},
   "source": [
    "<center>\n",
    "    $ \\hat{r_{ui}} = \\sum\\limits_{(v,j)\\in \\kappa}P(XY_{ui} = (v,j))r_{v,j}$"
   ]
  },
  {
   "cell_type": "markdown",
   "metadata": {},
   "source": [
    "*****"
   ]
  },
  {
   "cell_type": "markdown",
   "metadata": {},
   "source": [
    "# Social_MF"
   ]
  },
  {
   "cell_type": "markdown",
   "metadata": {},
   "source": [
    "$ 假设有m个用户,n个物品,f个特征$"
   ]
  },
  {
   "cell_type": "markdown",
   "metadata": {},
   "source": [
    "$R_{m\\times n}:$ $m$ 个用户对 $n$ 个物品的评分矩阵"
   ]
  },
  {
   "cell_type": "markdown",
   "metadata": {},
   "source": [
    "$P_{n\\times f}: $ user-factor matrix "
   ]
  },
  {
   "cell_type": "markdown",
   "metadata": {},
   "source": [
    "$Q_{m\\times f}: $ item-factor matrix "
   ]
  },
  {
   "cell_type": "markdown",
   "metadata": {},
   "source": [
    "<center> $R \\approx P^{T}Q $"
   ]
  },
  {
   "cell_type": "markdown",
   "metadata": {},
   "source": [
    "$T_{m\\times m}:$ user-user trust matrix"
   ]
  },
  {
   "cell_type": "markdown",
   "metadata": {},
   "source": [
    "$q_i:$ $Q$ 中物品 $i$ 所在行的向量"
   ]
  },
  {
   "cell_type": "markdown",
   "metadata": {},
   "source": [
    "$p_u:$ $P$ 中用户 $u$ 所在的行的向量 "
   ]
  },
  {
   "cell_type": "markdown",
   "metadata": {},
   "source": [
    "$I_{ui}:$ 判断用户$u$对物品$i$是否有评分"
   ]
  },
  {
   "cell_type": "markdown",
   "metadata": {},
   "source": [
    "\\begin{align}\n",
    "I_{ui} =\n",
    "\\begin{cases}\n",
    "0& \\text{用户u对物品i无评分}\\\\\n",
    "1& \\text{用户u对物品i有评分}\n",
    "\\end{cases}\n",
    "\\end{align}"
   ]
  },
  {
   "cell_type": "markdown",
   "metadata": {},
   "source": [
    "$U_{(i)}:$ 访问过物品 $i$ 的用户集合"
   ]
  },
  {
   "cell_type": "markdown",
   "metadata": {},
   "source": [
    "$I_{(u)}:$ 用户 $u$ 访问过的物品集合"
   ]
  },
  {
   "cell_type": "markdown",
   "metadata": {},
   "source": [
    "$|I_{u}|:$ 用户 $u$ 访问过的物品的个数"
   ]
  },
  {
   "cell_type": "markdown",
   "metadata": {},
   "source": [
    "$r_{ui}:$ 用户 $u$ 对物品 $i$ 的评分"
   ]
  },
  {
   "cell_type": "markdown",
   "metadata": {},
   "source": [
    "$R_{(u)}:$ 用户 $u$ 的打分集合\n",
    "\n",
    "<center> $R_{(u)} \\in \\{r_{ui}\\ |\\ i \\in I_{(u)}\\}$"
   ]
  },
  {
   "cell_type": "markdown",
   "metadata": {},
   "source": [
    "$t_{u,v}:$ 用户 $u$ 与用户 $v$ 的信任值\n",
    "\\begin{align}\n",
    "t_{u,v} = \n",
    "\\begin{cases}\n",
    "0 & \\text{u与v不直接相连} \\\\\n",
    "1 & \\text{u与v直接相连}\n",
    "\\end{cases}\n",
    "\\end{align}"
   ]
  },
  {
   "cell_type": "markdown",
   "metadata": {},
   "source": [
    "$F_{(u)}:$ 用户 $u$ 的朋友集合\n",
    "<center>\n",
    "    $F_{(u)} = \\{v\\ |t_{uv} = 1\\ \\text{and}\\ v \\in U\\}  $"
   ]
  },
  {
   "cell_type": "markdown",
   "metadata": {},
   "source": [
    "$|F_{u}|:$ 用户 $u$ 的朋友数目"
   ]
  },
  {
   "cell_type": "markdown",
   "metadata": {},
   "source": [
    "$p_{u,v}:$ 用户 $u$ 的朋友 $v$ 的隐性特征向量"
   ]
  },
  {
   "cell_type": "markdown",
   "metadata": {},
   "source": [
    "$p_{v}:$ $p_{u,v}$ 中的第 $v$ 个值"
   ]
  },
  {
   "cell_type": "markdown",
   "metadata": {},
   "source": [
    "$\\hat{p_{u}}:$ 用户 $u$ 隐性特征估计向量\n",
    "<center>\n",
    "    $ \\hat{p_{u}} = \\frac{\\sum_{v \\in F_{(u)}}t_{u,v}p_{v}}{\\sum_{v\\in F_{(u)}}t_{u,v}}\n",
    "    = \\frac{\\sum_{v\\in F_{(u)}}t_{u,v}p_{v}}{|F_{(u)}|}$"
   ]
  },
  {
   "cell_type": "markdown",
   "metadata": {},
   "source": [
    "normalize:\n",
    "<center>\n",
    "    $ \\sum_{v\\in F_{(u)}}t_{u,v} = 1$"
   ]
  },
  {
   "cell_type": "markdown",
   "metadata": {},
   "source": [
    "normalize之后:\n",
    "<center>\n",
    "    $ \\hat{p_{u}} = \\sum\\limits_{v\\in F_{(u)}}t_{u,v}p_{v}$"
   ]
  },
  {
   "cell_type": "markdown",
   "metadata": {},
   "source": [
    "$||\\cdot||_{F}^2:$ F-范数\n",
    "\n",
    "<center>\n",
    "    $ ||X||_{F}^2 \\overset{def}{=} \\sqrt{\\sum\\limits_{i}\\sum\\limits_{j}X_{ij}^2} $"
   ]
  },
  {
   "cell_type": "markdown",
   "metadata": {},
   "source": [
    "$\\hat{r_{ui}}:$ 用户 $u$ 对物品 $i$ 的打分的预测值\n",
    "\n",
    "<center>$\\hat{r_{ui}}=q_{i}^{T}p_{u}$"
   ]
  },
  {
   "cell_type": "markdown",
   "metadata": {},
   "source": [
    "$N(x|\\mu,\\sigma^2): $ 正态分布,均值为 $\\mu$ , 方差为 $\\sigma^2$"
   ]
  },
  {
   "cell_type": "markdown",
   "metadata": {},
   "source": [
    "观测到评分值的条件概率为:\n",
    "<center>\n",
    "    $ P(R|P,Q,\\sigma_{R}^2) = \\prod\\limits_{u=1}^m\\prod\\limits_{i=1}^n [N(r_{ui}|\\hat{r_{ui}},\\sigma_{r}^2)]^{I_{ui}}$"
   ]
  },
  {
   "cell_type": "markdown",
   "metadata": {},
   "source": [
    "对于user latent feature vector:\n",
    "<center>\n",
    "    $ P(P|\\sigma_P^2) = \\prod\\limits_{u=1}^{m}N(p_{u}|0,\\sigma_p^2)$\n",
    "\\begin{align}\n",
    "    P(P|T,\\sigma_P^2,\\sigma_T^2) \\varpropto P(P|\\sigma_P^2) \\times P(P|T,\\sigma_T^2)\n",
    "    &= \\prod_{u=1}^m N(p_{u}|0,\\sigma_p^2) \\times \\prod_{u=1}^m N(p_{u}|\\sum\\limits_{v\\in F_{(u)}}t_{u,v}p_{v},\\sigma_{t}^2)\n",
    "\\end{align}"
   ]
  },
  {
   "cell_type": "markdown",
   "metadata": {},
   "source": [
    "   对于item latent feature vector:\n",
    "<center>\n",
    "    $ P(Q|\\sigma_Q^2) = \\prod\\limits_{i=1}^{n}N(q_{i}|0,\\sigma_q^2)$"
   ]
  },
  {
   "cell_type": "markdown",
   "metadata": {},
   "source": [
    "综上可得后验概率:\n",
    "\\begin{align}\n",
    "    P(U,V|R,T,\\sigma_R^2,\\sigma_T^2,\\sigma_U^2,\\sigma_V^2) &\\varpropto \n",
    "    P(R|U,V,\\sigma_R^2) P(U|T,\\sigma_U^2,\\sigma_T^2) P(V|\\sigma_V^2) \\\\\n",
    "    &= \\prod\\limits_{u=1}^m\\prod\\limits_{i=1}^n [N(r_{ui}|\\hat{r_{ui}},\\sigma_{r}^2)]^{I_{ui}} \\\\\n",
    "    &\\times  \\prod_{u=1}^m N(p_{u}|\\sum\\limits_{v\\in F_{(u)}}t_{u,v}p_{v},\\sigma_{t}^2) \\\\\n",
    "    &\\times \\prod\\limits_{u=1}^{m}N(p_{u}|0,\\sigma_p^2) \\times \\prod\\limits_{i=1}^{n}N(q_{i}|0,\\sigma_q^2)\n",
    "\\end{align}"
   ]
  },
  {
   "cell_type": "markdown",
   "metadata": {},
   "source": [
    "取log:"
   ]
  },
  {
   "cell_type": "markdown",
   "metadata": {},
   "source": [
    "$\\begin{align}\n",
    "ln[ P(U,V|R,T,\\sigma_R^2,\\sigma_T^2,\\sigma_U^2,\\sigma_V^2)] \\\\\n",
    "    &= -\\frac{1}{2\\sigma_R^2}\\sum\\limits_{u=1}^m\\sum\\limits_{i=1}^n I_{ui}(r_{ui} - \\hat{r_{ui}})^2 \n",
    "     -\\frac{1}{2\\sigma_P^2}\\sum\\limits_{u=1}^m p_u^T p_u - \\frac{1}{2\\sigma_Q^2}\\sum\\limits_{i=1}^n q_i^T q_i \\\\ &- \\frac{1}{2\\sigma_T^2}\\sum\\limits_{u=1}^m ((p_u - \\sum\\limits_{v \\in F_{(u)}}t_{u,v}p_{v})^T (p_u - \\sum\\limits_{v \\in F_{(u)}}t_{u,v}p_{v}))  - \\frac{1}{2}(\\sum\\limits_{u=1}^m\\sum\\limits_{i=1}^n I_{ui})ln(\\sigma_{R}^2) \\\\ &-\\frac{1}{2}((m\\times f)ln\\sigma_{P}^2 + (n\\times f)ln\\sigma_{Q}^2 + (m\\times f)ln\\sigma_{T}^2) + C\n",
    "\\end{align}$"
   ]
  },
  {
   "cell_type": "markdown",
   "metadata": {},
   "source": [
    "$\\kappa\\in\\{(u,i)\\ |\\ r_{ui}\\ is \\ known\\}$"
   ]
  },
  {
   "cell_type": "markdown",
   "metadata": {},
   "source": [
    "$\\lambda, \\beta:$ 正则化所用系数"
   ]
  },
  {
   "cell_type": "markdown",
   "metadata": {},
   "source": [
    "$\\hat{r_{ui}}:$ 用户 $u$ 对物品 $i$ 的打分的预测值\n",
    "\n",
    "<center>$\\hat{r_{ui}}=q_{i}^{T}p_{u}$"
   ]
  },
  {
   "cell_type": "markdown",
   "metadata": {},
   "source": [
    "$\\alpha:$ learning rate\n",
    "\\begin{align}\n",
    "C(q_{i},p_{u})&\n",
    "=\\frac{1}{2}\\sum\\limits_{(u,i)\\in \\kappa}\\{I_{ui}(r_{ui}-\\hat{r_{ui}})^{2} +\\lambda(\\Arrowvert q_{i}\\Arrowvert^{2}_F+\\Arrowvert p_{u}\\Arrowvert^{2}_F)\\}\n",
    "\\\\ &+\\frac{\\beta}{2}\\sum\\limits_{u=1}^m ((p_u - \\sum\\limits_{v \\in F_{(u)}}t_{u,v}p_{v})^T (p_u - \\sum\\limits_{v \\in F_{(u)}}t_{u,v}p_{v}))\n",
    "\\end{align}"
   ]
  },
  {
   "cell_type": "markdown",
   "metadata": {},
   "source": [
    "By Stochcastic Gradient Descent(SGD):"
   ]
  },
  {
   "cell_type": "markdown",
   "metadata": {},
   "source": [
    "$error=r_{ui}-\\hat{r_{ui}}$"
   ]
  },
  {
   "cell_type": "markdown",
   "metadata": {},
   "source": [
    "$\\begin{align}\n",
    "\\frac{\\partial C(q_{i},p_{u})}{\\partial q_{i}} &= \n",
    "    \\cdot (-error)\\cdot p_{u} + \\lambda q_{i}\n",
    "\\end{align}$"
   ]
  },
  {
   "cell_type": "markdown",
   "metadata": {},
   "source": [
    "$\\begin{align}\n",
    "\\frac{\\partial C(q_{i},p_{u})}{\\partial p_{u}} &= \n",
    "    I_{ui}\\cdot (-error)\\cdot q_{i} + \\lambda p_{u}\n",
    "  + \\beta\\cdot[p_u - \\sum\\limits_{v \\in F_{(u)}}t_{u,v}p_v - \\sum\\limits_{\\{v|u \\in F_{(v)}\\}}t_{u,v}(p_v - \\sum\\limits_{w \\in F_{(v)}}t_{u,w}p_w) ]\n",
    "\\end{align}$"
   ]
  },
  {
   "cell_type": "markdown",
   "metadata": {},
   "source": [
    "$\\begin{align}\n",
    "q_{i}:&=q_{i}-\\alpha\\cdot\\triangledown C(q_{i},p_{u}) \n",
    "\\\\ &=q_{i}-\\alpha\\cdot\\frac{\\partial C(q_{i},p_{u})}{\\partial q_{i}}\n",
    "\\\\ &=q_{i}+\\alpha(\\sum\\limits_{(u,i) \\in \\kappa}I_{ui}\\cdot (-error)\\cdot p_{u} + \\lambda q_{i})\n",
    "\\end{align}$"
   ]
  },
  {
   "cell_type": "markdown",
   "metadata": {},
   "source": [
    "$\\begin{align}\n",
    "p_{u}:&=p_{u}-{\\alpha}\\cdot\\triangledown C(q_{i},p_{u})\n",
    "\\\\ &=p_{u}-{\\alpha}\\cdot\\frac{\\partial C(q_{i},p_{u})}{\\partial p_{u}}\n",
    "\\\\ &=p_{u}+{\\alpha}\\cdot(I_{ui}\\cdot (-error)\\cdot q_{i} + \\lambda p_{u}\n",
    "  + \\beta\\cdot[p_u - \\sum\\limits_{v \\in F_{(u)}}t_{u,v}p_v - \\sum\\limits_{\\{v|u \\in F_{(v)}\\}}t_{u,v}(p_v - \\sum\\limits_{w \\in F_{(v)}}t_{u,w}p_w) ] )\n",
    "\\end{align}$"
   ]
  },
  {
   "cell_type": "markdown",
   "metadata": {},
   "source": [
    "****"
   ]
  },
  {
   "cell_type": "markdown",
   "metadata": {},
   "source": [
    "# Social_reg"
   ]
  },
  {
   "cell_type": "markdown",
   "metadata": {},
   "source": [
    "### Model 2: Individual-based Regularization"
   ]
  },
  {
   "cell_type": "markdown",
   "metadata": {},
   "source": [
    "$ 假设有m个用户,n个物品,f个特征$"
   ]
  },
  {
   "cell_type": "markdown",
   "metadata": {},
   "source": [
    "$R_{m\\times n}:$ $m$ 个用户对 $n$ 个物品的评分矩阵"
   ]
  },
  {
   "cell_type": "markdown",
   "metadata": {},
   "source": [
    "$P_{n\\times f}: $ user-factor matrix "
   ]
  },
  {
   "cell_type": "markdown",
   "metadata": {},
   "source": [
    "$Q_{m\\times f}: $ item-factor matrix "
   ]
  },
  {
   "cell_type": "markdown",
   "metadata": {},
   "source": [
    "<center> $R \\approx P^{T}Q $"
   ]
  },
  {
   "cell_type": "markdown",
   "metadata": {},
   "source": [
    "$q_i:$ $Q$ 中物品 $i$ 所在行的向量"
   ]
  },
  {
   "cell_type": "markdown",
   "metadata": {},
   "source": [
    "$p_u:$ $P$ 中用户 $u$ 所在的行的向量 "
   ]
  },
  {
   "cell_type": "markdown",
   "metadata": {},
   "source": [
    "$I_{ui}:$ 判断用户$u$对物品$i$是否有评分"
   ]
  },
  {
   "cell_type": "markdown",
   "metadata": {},
   "source": [
    "\\begin{align}\n",
    "I_{ui} =\n",
    "\\begin{cases}\n",
    "0& \\text{用户u对物品i无评分}\\\\\n",
    "1& \\text{用户u对物品i有评分}\n",
    "\\end{cases}\n",
    "\\end{align}"
   ]
  },
  {
   "cell_type": "markdown",
   "metadata": {},
   "source": [
    "$U_{(i)}:$ 访问过物品 $i$ 的用户集合"
   ]
  },
  {
   "cell_type": "markdown",
   "metadata": {},
   "source": [
    "$I_{(u)}:$ 用户 $u$ 访问过的物品集合"
   ]
  },
  {
   "cell_type": "markdown",
   "metadata": {},
   "source": [
    "$|I_{u}|:$ 用户 $u$ 访问过的物品的个数"
   ]
  },
  {
   "cell_type": "markdown",
   "metadata": {},
   "source": [
    "$R_{(u)}:$ 用户 $u$ 的打分集合\n",
    "\n",
    "<center> $R_{(u)} \\in \\{r_{ui}\\ |\\ i \\in I_{(u)}\\}$"
   ]
  },
  {
   "cell_type": "markdown",
   "metadata": {},
   "source": [
    "$r_{ui}:$ 用户 $u$ 对物品 $i$ 的评分"
   ]
  },
  {
   "cell_type": "markdown",
   "metadata": {},
   "source": [
    "$\\overline{r_{u}}:$ 用户 $u$ 的所有评分的均值\n",
    "\n",
    "<center>$\\overline{r_{u}}=\\frac{\\sum\\limits_{i\\in I_{(u)}}r_{ui}}{|I_{(u)}|}$"
   ]
  },
  {
   "cell_type": "markdown",
   "metadata": {},
   "source": [
    "$\\rho_{uj}:$ 用户 $u$ 与用户 $j$ 的相关系数\n",
    "\n",
    "\\begin{align}\n",
    "\\rho_{uj}&=\\frac{Cov(R_{(u)},R_{(j)})}{\\sigma_{R_{(u)}}\\sigma_{R_{(j)}}}\n",
    "\\\\     &=\\frac{\\sum\\limits_{i\\in I_{(u)} \\cap I_{(j)}}(r_{ui}-\\overline{r_{u}})(r_{ji}-\\overline{r_{j}})}{\\sqrt{\\sum\\limits_{i\\in I_{(u)} \\cap I_{(j)}}(r_{ui}-\\overline{r_{u}})^{2}}\\sqrt{\\sum\\limits_{i\\in I_{(u)} \\cap I_{(j)}}(r_{ji}-\\overline{r_{j}})^{2}}}\n",
    "\\end{align}"
   ]
  },
  {
   "cell_type": "markdown",
   "metadata": {},
   "source": [
    "$F:$ 用户 $u$ 的朋友集合"
   ]
  },
  {
   "cell_type": "markdown",
   "metadata": {},
   "source": [
    "$F^+:$ 用户 $u$ 关注的朋友集合"
   ]
  },
  {
   "cell_type": "markdown",
   "metadata": {},
   "source": [
    "$F^{-}:$ 关注用户 $u$ 的朋友集合"
   ]
  },
  {
   "cell_type": "markdown",
   "metadata": {},
   "source": [
    "$|F|:$ 用户 $u$ 的朋友数目"
   ]
  },
  {
   "cell_type": "markdown",
   "metadata": {},
   "source": [
    "$||\\cdot||_{F}^2:$ F-范数\n",
    "\n",
    "<center>\n",
    "    $ ||X||_{F}^2 \\overset{def}{=} \\sqrt{\\sum\\limits_{i}\\sum\\limits_{j}X_{ij}^2} $"
   ]
  },
  {
   "cell_type": "markdown",
   "metadata": {},
   "source": [
    "$\\hat{r_{ui}}:$ 用户 $u$ 对物品 $i$ 的打分的预测值\n",
    "\n",
    "<center>$\\hat{r_{ui}}=q_{i}^{T}p_{u}$"
   ]
  },
  {
   "cell_type": "markdown",
   "metadata": {},
   "source": [
    "$\\kappa\\in\\{(u,i)\\ |\\ r_{ui}\\ is \\ known\\}$"
   ]
  },
  {
   "cell_type": "markdown",
   "metadata": {},
   "source": [
    "$\\lambda, \\beta:$ 正则化所用系数"
   ]
  },
  {
   "cell_type": "markdown",
   "metadata": {},
   "source": [
    "$\\alpha:$ learning rate\n",
    "\\begin{align}\n",
    "C(q_{i},p_{u})&\n",
    "=\\frac{1}{2}\\sum\\limits_{(u,i)\\in \\kappa}\\{I_{ui}(r_{ui}-\\hat{r_{ui}})^{2} +\\lambda(\\Arrowvert q_{i}\\Arrowvert^{2}+\\Arrowvert p_{u}\\Arrowvert^{2})\\}\n",
    "\\\\ &+\\frac{\\beta}{2}\\sum\\limits_{(u,i) \\in \\kappa}\\{\\sum\\limits_{j \\in F^+}\\rho_{uj}||p_{u}-p_{j}||_F^2\n",
    "   +\\sum\\limits_{k \\in F^-}\\rho_{uk}||p_{u}-p_{k}||_F^2 \\}\n",
    "\\end{align}"
   ]
  },
  {
   "cell_type": "markdown",
   "metadata": {},
   "source": [
    "By Stochcastic Gradient Descent(SGD):"
   ]
  },
  {
   "cell_type": "markdown",
   "metadata": {},
   "source": [
    "$error=r_{ui}-\\hat{r_{ui}}$"
   ]
  },
  {
   "cell_type": "markdown",
   "metadata": {},
   "source": [
    "$\\begin{align}\n",
    "\\frac{\\partial C(q_{i},p_{u})}{\\partial q_{i}} &= \n",
    "    I_{ui}\\cdot (-error)\\cdot p_{u} + \\lambda q_{i}\n",
    "\\end{align}$"
   ]
  },
  {
   "cell_type": "markdown",
   "metadata": {},
   "source": [
    "$\\begin{align}\n",
    "\\frac{\\partial C(q_{i},p_{u})}{\\partial p_{u}} &= \n",
    "    I_{ui}\\cdot (-error)\\cdot q_{i} + \\lambda p_{u}\n",
    "   + \\beta\\cdot[\\sum\\limits_{j \\in F^+}\\rho_{uj}(p_{u}-p_{j}) + \\sum\\limits_{k \\in F^-}\\rho_{uk}(p_{u} - p_{k})]\n",
    "\\end{align}$"
   ]
  },
  {
   "cell_type": "markdown",
   "metadata": {},
   "source": [
    "$\\begin{align}\n",
    "q_{i}:&=q_{i}-\\alpha\\cdot\\triangledown C(q_{i},p_{u}) \n",
    "\\\\ &=q_{i}-\\alpha\\cdot\\frac{\\partial C(q_{i},p_{u})}{\\partial q_{i}}\n",
    "\\\\ &=q_{i}+\\alpha(I_{ui}\\cdot error \\cdot p_{u} - \\lambda q_{i})\n",
    "\\end{align}$"
   ]
  },
  {
   "cell_type": "markdown",
   "metadata": {},
   "source": [
    "$\\begin{align}\n",
    "p_{u}:&=p_{u}-{\\alpha}\\cdot\\triangledown C(q_{i},p_{u})\n",
    "\\\\ &=p_{u}-{\\alpha}\\cdot\\frac{\\partial C(q_{i},p_{u})}{\\partial p_{u}}\n",
    "\\\\ &=p_{u}+{\\alpha}\\cdot(I_{ui}\\cdot error \\cdot q_{i} - \\lambda p_{u}\n",
    "  - \\beta\\cdot[\\sum\\limits_{j \\in F^+}\\rho_{uj}(p_{u}-p_{j}) + \\sum\\limits_{k \\in F^-}\\rho_{uk}(p_{u} - p_{k})])\n",
    "\\end{align}$"
   ]
  },
  {
   "cell_type": "markdown",
   "metadata": {},
   "source": [
    "****"
   ]
  }
 ],
 "metadata": {
  "kernelspec": {
   "display_name": "Python 3",
   "language": "python",
   "name": "python3"
  },
  "language_info": {
   "codemirror_mode": {
    "name": "ipython",
    "version": 3
   },
   "file_extension": ".py",
   "mimetype": "text/x-python",
   "name": "python",
   "nbconvert_exporter": "python",
   "pygments_lexer": "ipython3",
   "version": "3.6.5"
  }
 },
 "nbformat": 4,
 "nbformat_minor": 2
}
