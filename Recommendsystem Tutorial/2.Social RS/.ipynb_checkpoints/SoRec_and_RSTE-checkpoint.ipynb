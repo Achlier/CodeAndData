{
 "cells": [
  {
   "cell_type": "markdown",
   "metadata": {},
   "source": [
    "# SoRec"
   ]
  },
  {
   "cell_type": "markdown",
   "metadata": {},
   "source": [
    "$假设有m个物品(item)，n个用户(user)，f个因子(factor)$"
   ]
  },
  {
   "cell_type": "markdown",
   "metadata": {},
   "source": [
    "$U :$ 所有用户的集合"
   ]
  },
  {
   "cell_type": "markdown",
   "metadata": {},
   "source": [
    "$I :$ 所有物品的集合"
   ]
  },
  {
   "cell_type": "markdown",
   "metadata": {},
   "source": [
    "$P_{n\\times f}: $ user-factor matrix "
   ]
  },
  {
   "cell_type": "markdown",
   "metadata": {},
   "source": [
    "$Q_{m\\times f}:$ item-factor matrix "
   ]
  },
  {
   "cell_type": "markdown",
   "metadata": {},
   "source": [
    "$Z_{n\\times f}:$ user-factor matrix in the social network graph"
   ]
  },
  {
   "cell_type": "markdown",
   "metadata": {},
   "source": [
    "$\\vartheta :$ social network graph"
   ]
  },
  {
   "cell_type": "markdown",
   "metadata": {},
   "source": [
    "$\\nu :$ all the users in a social network"
   ]
  },
  {
   "cell_type": "markdown",
   "metadata": {},
   "source": [
    "$\\varepsilon :$ the edge set in social network graph"
   ]
  },
  {
   "cell_type": "markdown",
   "metadata": {},
   "source": [
    "<center>$\\vartheta = (\\nu,\\varepsilon)$"
   ]
  },
  {
   "cell_type": "markdown",
   "metadata": {},
   "source": [
    "$C_{n\\times n} :$ user-user matrix of $\\vartheta$"
   ]
  },
  {
   "cell_type": "markdown",
   "metadata": {},
   "source": [
    "$R^f:$ 1$×$factor vector"
   ]
  },
  {
   "cell_type": "markdown",
   "metadata": {},
   "source": [
    "$q_i:$ $Q$ 中物品 $i$ 所在行的向量"
   ]
  },
  {
   "cell_type": "markdown",
   "metadata": {},
   "source": [
    "$p_u:$ $P$ 中用户 $u$ 所在的行的向量 "
   ]
  },
  {
   "cell_type": "markdown",
   "metadata": {},
   "source": [
    "$c_{uj}\\in (0,1] :$ donate the weight associated with an edge from $\\nu_{u}$ to $\\nu_{j}$"
   ]
  },
  {
   "cell_type": "markdown",
   "metadata": {},
   "source": [
    "$d^{+}(\\nu_{u}) :$ the outdegree of $\\nu_{u}$"
   ]
  },
  {
   "cell_type": "markdown",
   "metadata": {},
   "source": [
    "$d^{-}(\\nu_{k}) :$ the indegree of $\\nu_{k}$"
   ]
  },
  {
   "cell_type": "markdown",
   "metadata": {},
   "source": [
    "<center>$c_{uk}^{*} = \\sqrt{\\frac{d^{-}(\\nu_{k})}{d^{+}(\\nu_{u})+d^{-}(\\nu_{k})}}c_{uk}$"
   ]
  },
  {
   "cell_type": "markdown",
   "metadata": {},
   "source": [
    "$\\kappa$ $:$ $\\{ (u,i)|$  $r_{ui}$ is known $\\}$"
   ]
  },
  {
   "cell_type": "markdown",
   "metadata": {},
   "source": [
    "$\\hat{r_{ui}}:$ 用户 $u$ 对物品 $i$ 的评分的预测值\n",
    "\n",
    "<center>$\\hat{r_{ui}}=q_{i}^{T}p_{u}$"
   ]
  },
  {
   "cell_type": "markdown",
   "metadata": {},
   "source": [
    "$N(x|\\mu,\\sigma^2): $ 正态分布,均值为 $\\mu$ , 方差为 $\\sigma^2$"
   ]
  },
  {
   "cell_type": "markdown",
   "metadata": {},
   "source": [
    "假设 P，Q，R，C，S 皆服从高斯分布，既：\n",
    "\\begin{align}\n",
    "\\\\p(R|P,Q,\\sigma_{R}^{2})&=\\prod\\limits_{u\\in U}\\prod\\limits_{i\\in I}N(r_{ui}|p_{u}^{T}q_{i},\\sigma_{R}^{2})\n",
    "\\\\p(C|P,Z,\\sigma_{C}^{2})&=\\prod\\limits_{u\\in U}\\prod\\limits_{j\\in U}N(c_{uj}|p_{u}^{T}z_{j},\\sigma_{C}^{2})\n",
    "\\\\p(P|\\sigma_{P}^{2})&=\\prod\\limits_{u\\in U} N(p_{u}|0,\\sigma_{P}^{2})\n",
    "\\\\p(Q|\\sigma_{Q}^{2})&=\\prod\\limits_{i\\in I} N(q_{i}|0,\\sigma_{Q}^{2})\n",
    "\\\\p(Z|\\sigma_{Z}^{2})&=\\prod\\limits_{u\\in U} N(z_{u}|0,\\sigma_{Z}^{2})\n",
    "\\end{align}"
   ]
  },
  {
   "cell_type": "markdown",
   "metadata": {},
   "source": [
    "使用极大似然估计，既希望最大化：\n",
    "\n",
    "\\begin{align}\n",
    "p(P,Q|R,\\overrightarrow{\\theta})\\qquad and \\qquad p(P,Z|C,\\overrightarrow{\\theta})\n",
    "\\end{align}"
   ]
  },
  {
   "cell_type": "markdown",
   "metadata": {},
   "source": [
    "使用贝叶斯定理可知：\n",
    "\n",
    "\n",
    "\\begin{align}\n",
    "&p(P,Q|R,\\overrightarrow{\\theta})\\propto p(R|P,Q,\\overrightarrow{\\theta_{1}})p(P,Q|\\overrightarrow{\\theta_{2}})\n",
    "\\\\ =&p(P,Q|R,\\overrightarrow{\\theta})\\propto p(R|P,Q,\\overrightarrow{\\theta_{1}})p(P|\\overrightarrow{\\theta_{2}})p(Q|\\overrightarrow{\\theta_{2}})\n",
    "\\\\ =&\\prod\\limits_{u\\in U}\\prod\\limits_{i\\in I}N(r_{ui}|p_{u}^{T}q_{i},\\sigma_{R}^{2})\\prod\\limits_{u\\in U} N(p_{u}|0,\\sigma_{P}^{2})\\prod\\limits_{i\\in I} N(q_{i}|0,\\sigma_{Q}^{2})\n",
    "\\end{align}"
   ]
  },
  {
   "cell_type": "markdown",
   "metadata": {},
   "source": [
    "同理得出 $p(P,Z|C,\\overrightarrow{\\theta})$ 后进行 $log$ 处理，并且合并两个式子，得："
   ]
  },
  {
   "cell_type": "markdown",
   "metadata": {},
   "source": [
    "\\begin{align}\n",
    "&lnp(P,Q,Z|C,R,\\sigma_{C}^{2},\\sigma_{R}^{2},\\sigma_{P}^{2},\\sigma_{Q}^{2},\\sigma_{Z}^{2})\n",
    "\\\\  =&-\\frac{1}{2\\sigma_{R}^{2}}\\sum\\limits_{u\\in U}\\sum\\limits_{i\\in I}(r_{ui}-p_{u}^{2}q_{i})^{2}\n",
    "-\\frac{1}{2\\sigma_{C}^{2}}\\sum\\limits_{u\\in U}\\sum\\limits_{j\\in U}(c_{uj}^{*}-p_{u}^{2}z_{j})^{2}\n",
    "\\\\  &-\\frac{1}{2\\sigma_{P}^{2}}\\sum\\limits_{u\\in U}p_{u}^{T}p_{u}\n",
    "-\\frac{1}{2\\sigma_{Q}^{2}}\\sum\\limits_{i\\in I}q_{i}^{T}q_{i}\n",
    "-\\frac{1}{2\\sigma_{Z}^{2}}\\sum\\limits_{u\\in U}z_{u}^{T}z_{u}\n",
    "\\\\  &-\\frac{1}{2}\\sum\\limits_{u\\in U}\\sum\\limits_{i\\in I}ln\\sigma_{R}^{2}-\\frac{1}{2}\\sum\\limits_{u\\in U}\\sum\\limits_{i\\in I}ln\\sigma_{C}^{2}\n",
    "-\\frac{1}{2}(n\\times f ln\\sigma_{P}^{2}+m\\times f ln\\sigma_{Q}^{2}+n\\times f ln\\sigma_{Z}^{2})\n",
    "\\end{align}"
   ]
  },
  {
   "cell_type": "markdown",
   "metadata": {},
   "source": [
    "$\\lambda:$ 正则化系数"
   ]
  },
  {
   "cell_type": "markdown",
   "metadata": {},
   "source": [
    "$\\alpha:$ 学习速率(learning rate)"
   ]
  },
  {
   "cell_type": "markdown",
   "metadata": {},
   "source": [
    "<center>$C(q_{i},p_{u},z_{u})=\\sum\\limits_{(u,i)\\in \\kappa}(r_{ui}-\\hat{r_{ui}})^{2}+\\lambda(\\sum\\limits_{u\\in \\nu}\\sum\\limits_{j\\in \\nu}(c^{*}_{uj}-p_{u}^{T}z_{j})^{2}+\\Arrowvert q_{i}\\Arrowvert^{2}+\\Arrowvert p_{u}\\Arrowvert^{2}+\\Arrowvert z_{u}\\Arrowvert^{2})$"
   ]
  },
  {
   "cell_type": "markdown",
   "metadata": {},
   "source": [
    "$error=r_{ui}-\\hat{r_{ui}}$"
   ]
  },
  {
   "cell_type": "markdown",
   "metadata": {},
   "source": [
    "$err = c^{*}_{uj}-p_{u}^{T}z_{j}$"
   ]
  },
  {
   "cell_type": "markdown",
   "metadata": {},
   "source": [
    "$\\begin{align}\n",
    "q_{i}:&=q_{i}-\\frac{\\alpha}{2}\\triangledown C(q_{i},p_{u},z_{u})\n",
    "\\\\ &=q_{i}-\\frac{\\alpha}{2}\\frac{\\partial C(q_{i},p_{u},z_{u})}{\\partial q_{i}}\n",
    "\\\\ &=q_{i}-\\frac{\\alpha}{2}(2error\\times(-p_{u})+2\\lambda q_{i})\n",
    "\\\\ &=q_{i}+\\alpha(error\\times p_{u}-\\lambda q_{i})\n",
    "\\end{align}$"
   ]
  },
  {
   "cell_type": "markdown",
   "metadata": {},
   "source": [
    "$\\begin{align}\n",
    "p_{u}:&=p_{u}-\\frac{\\alpha}{2}\\triangledown C(q_{i},p_{u},z_{u})\n",
    "\\\\ &=p_{u}-\\frac{\\alpha}{2}\\frac{\\partial C(q_{i},p_{u},z_{u})}{\\partial p_{u}}\n",
    "\\\\ &=p_{u}-\\frac{\\alpha}{2}(2error\\times(-q_{i})+2err\\times(-z_{u})+2\\lambda p_{u})\n",
    "\\\\ &=p_{u}+\\alpha(error\\times q_{i}+err\\times z_{u}-\\lambda p_{u})\n",
    "\\end{align}$"
   ]
  },
  {
   "cell_type": "markdown",
   "metadata": {},
   "source": [
    "$\\begin{align}\n",
    "z_{u}:&=z_{u}-\\frac{\\alpha}{2}\\triangledown C(q_{i},p_{u},z_{u})\n",
    "\\\\ &=z_{u}-\\frac{\\alpha}{2}\\frac{\\partial C(q_{i},p_{u},z_{u})}{\\partial z_{u}}\n",
    "\\\\ &=z_{u}-\\frac{\\alpha}{2}(2err\\times(-p_{u})+2\\lambda p_{u})\n",
    "\\\\ &=z_{u}+\\alpha(err\\times p_{u}-\\lambda z_{u})\n",
    "\\end{align}$"
   ]
  },
  {
   "cell_type": "markdown",
   "metadata": {},
   "source": [
    "***"
   ]
  },
  {
   "cell_type": "markdown",
   "metadata": {},
   "source": [
    "# Social Trust"
   ]
  },
  {
   "cell_type": "markdown",
   "metadata": {},
   "source": [
    "$假设有m个物品(item)，n个用户(user)，f个因子(factor)$"
   ]
  },
  {
   "cell_type": "markdown",
   "metadata": {},
   "source": [
    "$P_{n\\times f}: $ user-factor matrix "
   ]
  },
  {
   "cell_type": "markdown",
   "metadata": {},
   "source": [
    "$Q_{m\\times f}:$ item-factor matrix "
   ]
  },
  {
   "cell_type": "markdown",
   "metadata": {},
   "source": [
    "$\\vartheta :$ social network graph"
   ]
  },
  {
   "cell_type": "markdown",
   "metadata": {},
   "source": [
    "$\\nu :$ all the users in a social network"
   ]
  },
  {
   "cell_type": "markdown",
   "metadata": {},
   "source": [
    "$\\varepsilon :$ the edge set in social network graph"
   ]
  },
  {
   "cell_type": "markdown",
   "metadata": {},
   "source": [
    "<center>$\\vartheta = (\\nu,\\varepsilon)$"
   ]
  },
  {
   "cell_type": "markdown",
   "metadata": {},
   "source": [
    "$S_{n\\times n} :$ user-user matrix of $\\vartheta$"
   ]
  },
  {
   "cell_type": "markdown",
   "metadata": {},
   "source": [
    "$R^f:$ 1$×$factor vector"
   ]
  },
  {
   "cell_type": "markdown",
   "metadata": {},
   "source": [
    "$q_i:$ $Q$ 中物品 $i$ 所在行的向量"
   ]
  },
  {
   "cell_type": "markdown",
   "metadata": {},
   "source": [
    "$p_u:$ $P$ 中用户 $u$ 所在的行的向量 "
   ]
  },
  {
   "cell_type": "markdown",
   "metadata": {},
   "source": [
    "$s_{uj}\\in (0,1] :$ donate the weight associated with an edge from $\\nu_{u}$ to $\\nu_{j}$"
   ]
  },
  {
   "cell_type": "markdown",
   "metadata": {},
   "source": [
    "$T(u) :$ the friends set that user $u$ trusts"
   ]
  },
  {
   "cell_type": "markdown",
   "metadata": {},
   "source": [
    "<center>$s_{uj}^{*} = \\frac{s_{uj}}{|T(u)|}$"
   ]
  },
  {
   "cell_type": "markdown",
   "metadata": {},
   "source": [
    "$r_{ui}:$ 用户 $u$ 对物品 $i$ 的打分"
   ]
  },
  {
   "cell_type": "markdown",
   "metadata": {},
   "source": [
    "$\\kappa$ $:$ $\\{ (u,i)|$  $r_{ui}$ is known $\\}$"
   ]
  },
  {
   "cell_type": "markdown",
   "metadata": {},
   "source": [
    "$\\lambda:$ 正则化系数"
   ]
  },
  {
   "cell_type": "markdown",
   "metadata": {},
   "source": [
    "$\\alpha:$ 学习速率(learning rate)"
   ]
  },
  {
   "cell_type": "markdown",
   "metadata": {},
   "source": [
    "$\\gamma :$ controls how much do users trust themselves or their trusted friends"
   ]
  },
  {
   "cell_type": "markdown",
   "metadata": {},
   "source": [
    "<center>$C(q_{i},p_{u})=\\sum\\limits_{(u,i)\\in \\kappa}(r_{ui}-(\\gamma p_{u}^{T}q_{i}+(1-\\gamma)\\sum\\limits_{j \\in T(u)}s_{uj}^{*} p_{j}^{T} q_{i}))^{2}+\\lambda(\\Arrowvert q_{i}\\Arrowvert^{2}+\\Arrowvert p_{u}\\Arrowvert^{2})$"
   ]
  },
  {
   "cell_type": "markdown",
   "metadata": {},
   "source": [
    "$\\hat{r_{ui}}:$ 用户 $u$ 对物品 $i$ 的评分的预测值\n",
    "\n",
    "<center>$\\hat{r_{ui}}=\\gamma p_{u}^{T}q_{i}+(1-\\gamma)\\sum\\limits_{j \\in T(u)}s_{uj}^{*} p_{j}^{T} q_{i}$"
   ]
  },
  {
   "cell_type": "markdown",
   "metadata": {},
   "source": [
    "$error=r_{ui}-\\hat{r_{ui}}$"
   ]
  },
  {
   "cell_type": "markdown",
   "metadata": {},
   "source": [
    "$B(u) :$ is the set that includes all the users who trust user $u$"
   ]
  },
  {
   "cell_type": "markdown",
   "metadata": {},
   "source": [
    "$\\begin{align}\n",
    "q_{i}:&=q_{i}-\\frac{\\alpha}{2}\\triangledown C(q_{i},p_{u})\n",
    "\\\\ &=q_{i}-\\frac{\\alpha}{2}\\frac{\\partial C(q_{i},p_{u})}{\\partial q_{i}}\n",
    "\\\\ &=q_{i}-\\frac{\\alpha}{2}(2error\\times(-\\gamma p_{u}-(1-\\gamma)\\sum\\limits_{j \\in T(u)}s_{uj}^{*} p_{j}^{T})+2\\lambda q_{i})\n",
    "\\\\ &=q_{i}+\\alpha(error\\times(\\gamma p_{u}+(1-\\gamma)\\sum\\limits_{j \\in T(u)}s_{uj}^{*} p_{j}^{T})-\\lambda q_{i})\n",
    "\\end{align}$"
   ]
  },
  {
   "cell_type": "markdown",
   "metadata": {},
   "source": [
    "$\\begin{align}\n",
    "p_{u}:&=p_{u}-\\frac{\\alpha}{2}\\triangledown C(q_{i},p_{u})\n",
    "\\\\ &=p_{u}-\\frac{\\alpha}{2}\\frac{\\partial C(q_{i},p_{u})}{\\partial p_{u}}\n",
    "\\\\ &=p_{u}-\\frac{\\alpha}{2}(2error\\times(-\\gamma q_{i})+(1-\\gamma)\\sum\\limits_{p\\in B(u)}\\sum\\limits_{j\\in T(u)}(-2error_{pi}\\times s_{pj}^{*}q_{i}^{T}))+2\\gamma p_{j})\n",
    "\\\\ &=p_{u}+\\frac{\\alpha}{2}(error\\times(\\gamma q_{i})+(1-\\gamma)\\sum\\limits_{p\\in B(u)}\\sum\\limits_{j\\in T(u)}(error_{pi}\\times s_{pj}^{*}q_{i}^{T}))-\\gamma p_{j})\n",
    "\\end{align}$"
   ]
  },
  {
   "cell_type": "code",
   "execution_count": null,
   "metadata": {},
   "outputs": [],
   "source": []
  }
 ],
 "metadata": {
  "kernelspec": {
   "display_name": "Python 3",
   "language": "python",
   "name": "python3"
  },
  "language_info": {
   "codemirror_mode": {
    "name": "ipython",
    "version": 3
   },
   "file_extension": ".py",
   "mimetype": "text/x-python",
   "name": "python",
   "nbconvert_exporter": "python",
   "pygments_lexer": "ipython3",
   "version": "3.6.5"
  }
 },
 "nbformat": 4,
 "nbformat_minor": 2
}
