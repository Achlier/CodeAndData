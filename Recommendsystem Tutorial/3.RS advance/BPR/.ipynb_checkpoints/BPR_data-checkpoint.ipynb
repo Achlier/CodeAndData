{
 "cells": [
  {
   "cell_type": "markdown",
   "metadata": {},
   "source": [
    "# BPR_SVD Contrast experimental data"
   ]
  },
  {
   "cell_type": "markdown",
   "metadata": {},
   "source": [
    "   The data used is u.data of ml-k100 in movielens, specifically user_id, item_id and rating. In [BPR](BPR_algorithm.ipynb), we use the number of rating greater than a certain value as implicit positive feedback, and the remaining rating is regarded as no feedback in the data. The concentration is expressed as (user_id, item_id, rating=0/1). In SVD we still use the rating score as the data for prediction. We compare the Top-N recommendation lists from the two models and finally compare the two models using the indicators.\n",
    "\n",
    "You can get the data from http://files.grouplens.org/datasets/movielens/."
   ]
  },
  {
   "cell_type": "markdown",
   "metadata": {},
   "source": [
    "## Data statistic"
   ]
  },
  {
   "cell_type": "markdown",
   "metadata": {},
   "source": [
    "> - 1,682 movies\n",
    "> - 943 users\n",
    "> - 10,000 ratings\n",
    "> - Each user is rated at least 20 movies"
   ]
  },
  {
   "cell_type": "markdown",
   "metadata": {},
   "source": [
    "## ml-100k files"
   ]
  },
  {
   "cell_type": "markdown",
   "metadata": {},
   "source": [
    "- allbut.pl\n",
    " > A script that generates training and test sets in which all training and test sets are in the training data except for n user ratings.\n",
    "\n",
    "- mku.sh\n",
    " > A shell script for all users generated from the u.data dataset.\n",
    "\n",
    "- u.data\n",
    " > Consists of 10,000 ratings for 1,682 movies by 943 users. Each user is rated at least 20 movies. Users and movies are numbered consecutively starting from the 1st. The data is sorted randomly.\n",
    " > Label separator list: user id | item id | rating | timestamp\n",
    "\n",
    "- u.genre\n",
    " > a list of types.\n",
    "\n",
    "- u.info\n",
    " > The number of users in the u.data dataset, the number of movies, and the number of ratings.\n",
    "\n",
    "- u.item\n",
    " > movie information. Label separator list: \n",
    "    - movie id | movie title | release date | video release date | IMDb URL |\n",
    "    Unknown | Action | Adventure | Animation | Children's | Comedy | Crime | Documentary | Drama |\n",
    "    Fantasy | Film-Noir | Horror | Musical | Mystery | Romance | Sci-Fi | Thriller |\n",
    "    - The last 19 fields are genres, 1 means that the movie is of this type, 0 means no; movies can use several genres simultaneously.\n",
    "    - The id of the movie id and the u.data data set are consistent.\n",
    "\n",
    "- u.occupation \n",
    " > a list of occupations.\n",
    "\n",
    "- u.user\n",
    " > The demographic information of the user. Label separator list: \n",
    "    - user id | age | gender | occupation | zip code\n",
    "    The user id is the same as the id in the u.data data set.\n",
    "    \n",
    "- The data set u1.base / u1.test to u5.base / u5.test are training sets and test sets that divide the u.data data set by 80% / 20%."
   ]
  },
  {
   "cell_type": "markdown",
   "metadata": {},
   "source": [
    "## Data.format"
   ]
  },
  {
   "cell_type": "markdown",
   "metadata": {},
   "source": [
    "This is the sample format in different files from ml-100k"
   ]
  },
  {
   "cell_type": "markdown",
   "metadata": {},
   "source": [
    "- u.genre"
   ]
  },
  {
   "cell_type": "markdown",
   "metadata": {},
   "source": [
    "unknown|0\n",
    ":-:|:-:\n",
    "Action|1\n",
    "Adventure|2\n",
    "Animation|3\n",
    "Children's|4\n",
    "Comedy|5\n",
    "...|...\n",
    "Western|18"
   ]
  },
  {
   "cell_type": "markdown",
   "metadata": {},
   "source": [
    "- u.info"
   ]
  },
  {
   "cell_type": "markdown",
   "metadata": {},
   "source": [
    "numbers|types\n",
    ":-:|:-:\n",
    " 943|users\n",
    " 1682| items\n",
    "100000| ratings"
   ]
  },
  {
   "cell_type": "markdown",
   "metadata": {},
   "source": [
    "- u.item"
   ]
  },
  {
   "cell_type": "markdown",
   "metadata": {},
   "source": [
    "|index\t|film name\t|time\t|link \t|type-0\t|type-1\t|type-2\t|type-3\t|type-4\t|...|type-13\t|type-14\t|type-15|\n",
    "|-|-|-|-|-|-|-|-|-|-|-|-|-|\n",
    "|1\t|Toy Story (1995)\t|01-Jan-1995\t|\thttp://us.imdb.com/M/title-exact?Toy%20Story%20(1995) \t|0\t|0\t|0\t|1\t|1\t|...|0\t|0\t|0|\n",
    "|2\t|GoldenEye (1995)\t|01-Jan-1995\t|\thttp://us.imdb.com/M/title-exact?GoldenEye%20(1995)\t   |0  |1\t|1 |0  |0 |...|1\t|0\t|0|\n",
    "|3\t|Four Rooms (1995)\t|01-Jan-1995\t|\thttp://us.imdb.com/M/title-exact?Four%20Rooms%(1995)\t|0\t|0\t|0\t|0\t|0 |... |1\t|0\t|0|"
   ]
  },
  {
   "cell_type": "markdown",
   "metadata": {},
   "source": [
    "- u.occupation"
   ]
  },
  {
   "cell_type": "markdown",
   "metadata": {},
   "source": [
    "|index|dministrator|\n",
    "|-|-|\n",
    "|0|\tartist\n",
    "|1|\tdoctor\n",
    "|2|\teducator\n",
    "|3|\tengineer\n",
    "|4|\tentertainment\n",
    "|...|\t...\n",
    "19\t|writer"
   ]
  },
  {
   "cell_type": "markdown",
   "metadata": {},
   "source": [
    "- u.user"
   ]
  },
  {
   "cell_type": "markdown",
   "metadata": {},
   "source": [
    "|index|user_id|\tage|\tgender|\toccupation|\tzip_code|\n",
    "|-|-|-|-|-|-|\n",
    "0\t|1\t|24\t|M\t|technician\t|85711|\n",
    "1\t|2\t|53\t|F\t|other\t|94043|\n",
    "2\t|3\t|23\t|M\t|writer\t|32067|"
   ]
  },
  {
   "cell_type": "markdown",
   "metadata": {},
   "source": [
    "- u.data"
   ]
  },
  {
   "cell_type": "markdown",
   "metadata": {},
   "source": [
    " index |user_id|  item_id|\trating\t|timestamp\n",
    ":-:|:-:|:-:|:-:|:-:\n",
    "0\t|196\t|242\t|3\t |881250949\n",
    "1\t|186\t|302\t|3\t|891717742\n",
    "2\t|22\t   |377\t  |1\t|878887116"
   ]
  }
 ],
 "metadata": {
  "kernelspec": {
   "display_name": "Python 3",
   "language": "python",
   "name": "python3"
  },
  "language_info": {
   "codemirror_mode": {
    "name": "ipython",
    "version": 3
   },
   "file_extension": ".py",
   "mimetype": "text/x-python",
   "name": "python",
   "nbconvert_exporter": "python",
   "pygments_lexer": "ipython3",
   "version": "3.7.3"
  }
 },
 "nbformat": 4,
 "nbformat_minor": 2
}
