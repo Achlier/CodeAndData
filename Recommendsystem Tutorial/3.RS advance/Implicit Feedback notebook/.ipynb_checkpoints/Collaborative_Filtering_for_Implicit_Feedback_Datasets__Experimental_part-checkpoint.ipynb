{
 "cells": [
  {
   "cell_type": "markdown",
   "metadata": {},
   "source": [
    "# <center>Collaborative Filtering for Implicit Feedback Datasets -- Experimental part "
   ]
  },
  {
   "cell_type": "markdown",
   "metadata": {},
   "source": [
    "# Table of Contents\n",
    "<div class=\"toc\"><ul>\n",
    "<li><span><a href=\"#Introduction\"><span>1.&nbsp;&nbsp;</span>Introduction</a></span></li>\n",
    "<li><span><a href=\"#Algorithm\"><span>2&nbsp;&nbsp;</span>Algorithm</a></span></li>\n",
    "<li><span><a href=\"#Implement\"><span>3&nbsp;&nbsp;</span>Implement</a></span></li>\n",
    "<li><span><a href=\"#Evaluate\"><span>4&nbsp;&nbsp;</span>Evaluate</a></span></li>\n",
    "<li><span><a href=\"#Conclusion\"><span>5&nbsp;&nbsp;</span>Conclusion</a></span></li>\n",
    "<li><span><a href=\"#Reference\"><span>6&nbsp;&nbsp;</span>Reference</a></span></li>\n",
    "</ul></div>"
   ]
  },
  {
   "cell_type": "markdown",
   "metadata": {},
   "source": [
    "# Introduction"
   ]
  },
  {
   "cell_type": "markdown",
   "metadata": {},
   "source": [
    "This paper is written by *Yifan Hu* in 2008. In this paper, *Hu* raise the importance of implicit data and become the first to build **implicit recommendation algorithm**. He said:\n",
    "\n",
    ">The vast majority of the literature in the field is focused on processing explicit feedback; probably thanks to the convenience of using this kind of pure information. **However, in many practical situations recommender systems need to be centered on implicit feedback. ** This may reflect reluctance of users to rate products, or limitations of the system that is unable to collect explicit feedback.\n",
    "\n",
    "For this example we’ll be using the [lastfm dataset](https://grouplens.org/datasets/hetrec-2011/) containing the listening behaviour of 1,892 users. It contains the user id, an artist id, the name of the artists and the number of times a user played any given artist. \n",
    "\n",
    "In Evaluate part, we will use the BiasSVD compare with implicit recommendation algorithm."
   ]
  },
  {
   "cell_type": "markdown",
   "metadata": {},
   "source": [
    "# Algorithm"
   ]
  },
  {
   "cell_type": "markdown",
   "metadata": {},
   "source": [
    "### BiasSVD"
   ]
  },
  {
   "cell_type": "markdown",
   "metadata": {},
   "source": [
    "The detailed process can be referred to [the Previous notebook](../paper/RS_info.ipynb).\n",
    "\n",
    "The function is shown as:\n",
    "\n",
    "<center> $ \\hat{r_{ui}} = b_{ui} + q_i^T p_u $ $\\quad (q_i,p_u \\in R^f)$ </center>\n",
    "\n",
    "<center>$ C(q_i, p_u, b_u, b_i) =\\frac{1}{2} \\sum\\limits_{(u,i) \\in \\kappa}\\{(r_{ui} - \\hat{r}_{ui})^2 + \\lambda(||q_i||^2 + ||p_u||^2 + b_u^2 + b_i^2)\\}$</center>"
   ]
  },
  {
   "cell_type": "markdown",
   "metadata": {},
   "source": [
    "### implicit recommendation"
   ]
  },
  {
   "cell_type": "markdown",
   "metadata": {},
   "source": [
    "The detailed process can be referred to [Collaborative Filtering for Implicit Feedback Datasets](Collaborative%20Filtering%20for%20Implicit%20Feedback%20Datasets.ipynb#Collaborative-Filtering-for-Implicit-Feedback-Datasets)."
   ]
  },
  {
   "cell_type": "markdown",
   "metadata": {},
   "source": [
    "for m users and n items:"
   ]
  },
  {
   "cell_type": "markdown",
   "metadata": {},
   "source": [
    "$r_{ui}:$ the data records of user behavior."
   ]
  },
  {
   "cell_type": "markdown",
   "metadata": {},
   "source": [
    "$p_{ui}:$ a binary variables which indicates the preference of user $u$ to item $i$.\n",
    "\n",
    "\\begin{align}\n",
    "p_{ui} =\n",
    "\\begin{cases} \n",
    "1,  & \\mbox{if }r_{ui}\\mbox{ > 0} \\\\\n",
    "0, & \\mbox{if }r_{ui}\\mbox{ = 0}\n",
    "\\end{cases}\n",
    "\\end{align}"
   ]
  },
  {
   "cell_type": "markdown",
   "metadata": {},
   "source": [
    "$c_{ui}:$ which measure the confidence in observing $p_{ui}$  ( $\\alpha$ is learning rate, can be changed)\n",
    "\n",
    "<center>$c_{ui}=1+\\alpha r_{ui}$ "
   ]
  },
  {
   "cell_type": "markdown",
   "metadata": {},
   "source": [
    "<center>$C(x_{u},y_{i})=\\sum\\limits_{(u,i)\\in \\kappa}c_{ui}(p_{ui}-x_{u}^{T}y_{i})^{2}+\\lambda(\\sum\\limits_{u\\in \\kappa}\\Arrowvert x_{u}\\Arrowvert^{2}+\\sum\\limits_{i\\in \\kappa}\\Arrowvert y_{i}\\Arrowvert^{2})$"
   ]
  },
  {
   "cell_type": "markdown",
   "metadata": {},
   "source": [
    "Then we solve ：\n",
    "\n",
    "\\begin{align}\n",
    "x_{u}&=(Y^{T}Y+Y^{T}(C^{u}-I)Y+\\lambda I)^{-1}Y^{T}C^{u}P_{u}\n",
    "\\\\y_{i}&=(X^{T}X+X^{T}(C^{i}-I)X+\\lambda I)^{-1}X^{T}C^{i}P_{i}\n",
    "\\end{align}"
   ]
  },
  {
   "cell_type": "markdown",
   "metadata": {},
   "source": [
    "#  Implement"
   ]
  },
  {
   "cell_type": "code",
   "execution_count": 1,
   "metadata": {},
   "outputs": [],
   "source": [
    "import pandas as pd\n",
    "import numpy as np\n",
    "from implicit_als import implicit_als\n",
    "from implicit_SVD import implicit_biasSVD"
   ]
  },
  {
   "cell_type": "markdown",
   "metadata": {},
   "source": [
    "**!!! change your data_path**"
   ]
  },
  {
   "cell_type": "code",
   "execution_count": 6,
   "metadata": {},
   "outputs": [],
   "source": [
    "data_path='data/lastfm-2k/'"
   ]
  },
  {
   "cell_type": "code",
   "execution_count": 3,
   "metadata": {},
   "outputs": [],
   "source": [
    "data = pd.read_table(data_path+'user_artists.dat')\n",
    "data.columns = ['user', 'artist', 'plays']\n",
    "art_name = pd.read_table(data_path+'artists.dat')\n",
    "data['artist']=data['artist'].apply(lambda x: art_name[art_name['id']==x].iloc[0,1] )"
   ]
  },
  {
   "cell_type": "markdown",
   "metadata": {},
   "source": [
    "**data type** - To Input\n",
    "\n",
    "- user : user_name ( pseudonym )\n",
    "- artist : artist_name\n",
    "- plays : Number of times this artist's music is played by the user"
   ]
  },
  {
   "cell_type": "code",
   "execution_count": 4,
   "metadata": {},
   "outputs": [
    {
     "data": {
      "text/html": [
       "<div>\n",
       "<style scoped>\n",
       "    .dataframe tbody tr th:only-of-type {\n",
       "        vertical-align: middle;\n",
       "    }\n",
       "\n",
       "    .dataframe tbody tr th {\n",
       "        vertical-align: top;\n",
       "    }\n",
       "\n",
       "    .dataframe thead th {\n",
       "        text-align: right;\n",
       "    }\n",
       "</style>\n",
       "<table border=\"1\" class=\"dataframe\">\n",
       "  <thead>\n",
       "    <tr style=\"text-align: right;\">\n",
       "      <th></th>\n",
       "      <th>user</th>\n",
       "      <th>artist</th>\n",
       "      <th>plays</th>\n",
       "    </tr>\n",
       "  </thead>\n",
       "  <tbody>\n",
       "    <tr>\n",
       "      <th>0</th>\n",
       "      <td>2</td>\n",
       "      <td>Duran Duran</td>\n",
       "      <td>13883</td>\n",
       "    </tr>\n",
       "    <tr>\n",
       "      <th>1</th>\n",
       "      <td>2</td>\n",
       "      <td>Morcheeba</td>\n",
       "      <td>11690</td>\n",
       "    </tr>\n",
       "    <tr>\n",
       "      <th>2</th>\n",
       "      <td>2</td>\n",
       "      <td>Air</td>\n",
       "      <td>11351</td>\n",
       "    </tr>\n",
       "    <tr>\n",
       "      <th>3</th>\n",
       "      <td>2</td>\n",
       "      <td>Hooverphonic</td>\n",
       "      <td>10300</td>\n",
       "    </tr>\n",
       "    <tr>\n",
       "      <th>4</th>\n",
       "      <td>2</td>\n",
       "      <td>Kylie Minogue</td>\n",
       "      <td>8983</td>\n",
       "    </tr>\n",
       "  </tbody>\n",
       "</table>\n",
       "</div>"
      ],
      "text/plain": [
       "   user         artist  plays\n",
       "0     2    Duran Duran  13883\n",
       "1     2      Morcheeba  11690\n",
       "2     2            Air  11351\n",
       "3     2   Hooverphonic  10300\n",
       "4     2  Kylie Minogue   8983"
      ]
     },
     "execution_count": 4,
     "metadata": {},
     "output_type": "execute_result"
    }
   ],
   "source": [
    "data.head()"
   ]
  },
  {
   "cell_type": "code",
   "execution_count": 4,
   "metadata": {},
   "outputs": [],
   "source": [
    "ALS=implicit_als(data)"
   ]
  },
  {
   "cell_type": "markdown",
   "metadata": {},
   "source": [
    "- data : only include the ID of user and item"
   ]
  },
  {
   "cell_type": "code",
   "execution_count": 5,
   "metadata": {},
   "outputs": [
    {
     "data": {
      "text/html": [
       "<div>\n",
       "<style scoped>\n",
       "    .dataframe tbody tr th:only-of-type {\n",
       "        vertical-align: middle;\n",
       "    }\n",
       "\n",
       "    .dataframe tbody tr th {\n",
       "        vertical-align: top;\n",
       "    }\n",
       "\n",
       "    .dataframe thead th {\n",
       "        text-align: right;\n",
       "    }\n",
       "</style>\n",
       "<table border=\"1\" class=\"dataframe\">\n",
       "  <thead>\n",
       "    <tr style=\"text-align: right;\">\n",
       "      <th></th>\n",
       "      <th>plays</th>\n",
       "      <th>user_id</th>\n",
       "      <th>artist_id</th>\n",
       "    </tr>\n",
       "  </thead>\n",
       "  <tbody>\n",
       "    <tr>\n",
       "      <th>0</th>\n",
       "      <td>13883</td>\n",
       "      <td>0</td>\n",
       "      <td>4493</td>\n",
       "    </tr>\n",
       "    <tr>\n",
       "      <th>1</th>\n",
       "      <td>11690</td>\n",
       "      <td>0</td>\n",
       "      <td>10026</td>\n",
       "    </tr>\n",
       "    <tr>\n",
       "      <th>2</th>\n",
       "      <td>11351</td>\n",
       "      <td>0</td>\n",
       "      <td>500</td>\n",
       "    </tr>\n",
       "    <tr>\n",
       "      <th>3</th>\n",
       "      <td>10300</td>\n",
       "      <td>0</td>\n",
       "      <td>6571</td>\n",
       "    </tr>\n",
       "    <tr>\n",
       "      <th>4</th>\n",
       "      <td>8983</td>\n",
       "      <td>0</td>\n",
       "      <td>8270</td>\n",
       "    </tr>\n",
       "  </tbody>\n",
       "</table>\n",
       "</div>"
      ],
      "text/plain": [
       "   plays  user_id  artist_id\n",
       "0  13883        0       4493\n",
       "1  11690        0      10026\n",
       "2  11351        0        500\n",
       "3  10300        0       6571\n",
       "4   8983        0       8270"
      ]
     },
     "execution_count": 5,
     "metadata": {},
     "output_type": "execute_result"
    }
   ],
   "source": [
    "ALS.data.head()"
   ]
  },
  {
   "cell_type": "markdown",
   "metadata": {},
   "source": [
    "- item_lookup : using for looking up the artist name of target ID"
   ]
  },
  {
   "cell_type": "code",
   "execution_count": 13,
   "metadata": {},
   "outputs": [
    {
     "data": {
      "text/html": [
       "<div>\n",
       "<style scoped>\n",
       "    .dataframe tbody tr th:only-of-type {\n",
       "        vertical-align: middle;\n",
       "    }\n",
       "\n",
       "    .dataframe tbody tr th {\n",
       "        vertical-align: top;\n",
       "    }\n",
       "\n",
       "    .dataframe thead th {\n",
       "        text-align: right;\n",
       "    }\n",
       "</style>\n",
       "<table border=\"1\" class=\"dataframe\">\n",
       "  <thead>\n",
       "    <tr style=\"text-align: right;\">\n",
       "      <th></th>\n",
       "      <th>artist_id</th>\n",
       "      <th>artist</th>\n",
       "    </tr>\n",
       "  </thead>\n",
       "  <tbody>\n",
       "    <tr>\n",
       "      <th>0</th>\n",
       "      <td>4493</td>\n",
       "      <td>Duran Duran</td>\n",
       "    </tr>\n",
       "    <tr>\n",
       "      <th>1</th>\n",
       "      <td>10026</td>\n",
       "      <td>Morcheeba</td>\n",
       "    </tr>\n",
       "    <tr>\n",
       "      <th>2</th>\n",
       "      <td>500</td>\n",
       "      <td>Air</td>\n",
       "    </tr>\n",
       "    <tr>\n",
       "      <th>3</th>\n",
       "      <td>6571</td>\n",
       "      <td>Hooverphonic</td>\n",
       "    </tr>\n",
       "    <tr>\n",
       "      <th>4</th>\n",
       "      <td>8270</td>\n",
       "      <td>Kylie Minogue</td>\n",
       "    </tr>\n",
       "  </tbody>\n",
       "</table>\n",
       "</div>"
      ],
      "text/plain": [
       "  artist_id         artist\n",
       "0      4493    Duran Duran\n",
       "1     10026      Morcheeba\n",
       "2       500            Air\n",
       "3      6571   Hooverphonic\n",
       "4      8270  Kylie Minogue"
      ]
     },
     "execution_count": 13,
     "metadata": {},
     "output_type": "execute_result"
    }
   ],
   "source": [
    "ALS.item_lookup.head()"
   ]
  },
  {
   "cell_type": "markdown",
   "metadata": {},
   "source": [
    "- data_sparse : a $n\\times m$ matrix with $n$ users $m$ items"
   ]
  },
  {
   "cell_type": "code",
   "execution_count": 14,
   "metadata": {},
   "outputs": [
    {
     "data": {
      "text/plain": [
       "<1892x17632 sparse matrix of type '<class 'numpy.int32'>'\n",
       "\twith 92834 stored elements in Compressed Sparse Row format>"
      ]
     },
     "execution_count": 14,
     "metadata": {},
     "output_type": "execute_result"
    }
   ],
   "source": [
    "ALS.data_sparse"
   ]
  },
  {
   "cell_type": "markdown",
   "metadata": {},
   "source": [
    "**Training**"
   ]
  },
  {
   "cell_type": "code",
   "execution_count": 6,
   "metadata": {
    "collapsed": true
   },
   "outputs": [
    {
     "name": "stdout",
     "output_type": "stream",
     "text": [
      "iteration 1 of 20\n"
     ]
    },
    {
     "ename": "KeyboardInterrupt",
     "evalue": "",
     "output_type": "error",
     "traceback": [
      "\u001b[1;31m---------------------------------------------------------------------------\u001b[0m",
      "\u001b[1;31mKeyboardInterrupt\u001b[0m                         Traceback (most recent call last)",
      "\u001b[1;32m<ipython-input-6-f56ac3e95617>\u001b[0m in \u001b[0;36m<module>\u001b[1;34m()\u001b[0m\n\u001b[1;32m----> 1\u001b[1;33m \u001b[0mALS\u001b[0m\u001b[1;33m.\u001b[0m\u001b[0mtrain_model\u001b[0m\u001b[1;33m(\u001b[0m\u001b[0miterations\u001b[0m\u001b[1;33m=\u001b[0m\u001b[1;36m20\u001b[0m\u001b[1;33m,\u001b[0m \u001b[0mfeatures\u001b[0m\u001b[1;33m=\u001b[0m\u001b[1;36m20\u001b[0m\u001b[1;33m,\u001b[0m \u001b[0malpha_val\u001b[0m\u001b[1;33m=\u001b[0m\u001b[1;36m40\u001b[0m\u001b[1;33m)\u001b[0m\u001b[1;33m\u001b[0m\u001b[0m\n\u001b[0m",
      "\u001b[1;32m~\\Desktop\\tutorial\\Paper\\3.RS advance\\Implicit Feedback notebook\\implicit_als.py\u001b[0m in \u001b[0;36mtrain_model\u001b[1;34m(self, alpha_val, iterations, lambda_val, features)\u001b[0m\n\u001b[0;32m    110\u001b[0m \u001b[1;33m\u001b[0m\u001b[0m\n\u001b[0;32m    111\u001b[0m                 \u001b[1;31m# Put it all together and compute the final formula\u001b[0m\u001b[1;33m\u001b[0m\u001b[1;33m\u001b[0m\u001b[0m\n\u001b[1;32m--> 112\u001b[1;33m                 \u001b[0myT_CuI_y\u001b[0m \u001b[1;33m=\u001b[0m \u001b[0mself\u001b[0m\u001b[1;33m.\u001b[0m\u001b[0mY\u001b[0m\u001b[1;33m.\u001b[0m\u001b[0mT\u001b[0m\u001b[1;33m.\u001b[0m\u001b[0mdot\u001b[0m\u001b[1;33m(\u001b[0m\u001b[0mCuI\u001b[0m\u001b[1;33m)\u001b[0m\u001b[1;33m.\u001b[0m\u001b[0mdot\u001b[0m\u001b[1;33m(\u001b[0m\u001b[0mself\u001b[0m\u001b[1;33m.\u001b[0m\u001b[0mY\u001b[0m\u001b[1;33m)\u001b[0m \u001b[1;31m#Y(T)(C-I)Y\u001b[0m\u001b[1;33m\u001b[0m\u001b[0m\n\u001b[0m\u001b[0;32m    113\u001b[0m                 \u001b[0myT_Cu_pu\u001b[0m \u001b[1;33m=\u001b[0m \u001b[0mself\u001b[0m\u001b[1;33m.\u001b[0m\u001b[0mY\u001b[0m\u001b[1;33m.\u001b[0m\u001b[0mT\u001b[0m\u001b[1;33m.\u001b[0m\u001b[0mdot\u001b[0m\u001b[1;33m(\u001b[0m\u001b[0mCu\u001b[0m\u001b[1;33m)\u001b[0m\u001b[1;33m.\u001b[0m\u001b[0mdot\u001b[0m\u001b[1;33m(\u001b[0m\u001b[0mp_u\u001b[0m\u001b[1;33m.\u001b[0m\u001b[0mT\u001b[0m\u001b[1;33m)\u001b[0m \u001b[1;31m#Y(T)CP(T)\u001b[0m\u001b[1;33m\u001b[0m\u001b[0m\n\u001b[0;32m    114\u001b[0m                 \u001b[0mself\u001b[0m\u001b[1;33m.\u001b[0m\u001b[0mX\u001b[0m\u001b[1;33m[\u001b[0m\u001b[0mu\u001b[0m\u001b[1;33m]\u001b[0m \u001b[1;33m=\u001b[0m \u001b[0mspsolve\u001b[0m\u001b[1;33m(\u001b[0m\u001b[0myTy\u001b[0m \u001b[1;33m+\u001b[0m \u001b[0myT_CuI_y\u001b[0m \u001b[1;33m+\u001b[0m \u001b[0mlI\u001b[0m\u001b[1;33m,\u001b[0m \u001b[0myT_Cu_pu\u001b[0m\u001b[1;33m)\u001b[0m\u001b[1;33m\u001b[0m\u001b[0m\n",
      "\u001b[1;32mD:\\anaconda3\\lib\\site-packages\\scipy\\sparse\\base.py\u001b[0m in \u001b[0;36mdot\u001b[1;34m(self, other)\u001b[0m\n\u001b[0;32m    359\u001b[0m \u001b[1;33m\u001b[0m\u001b[0m\n\u001b[0;32m    360\u001b[0m         \"\"\"\n\u001b[1;32m--> 361\u001b[1;33m         \u001b[1;32mreturn\u001b[0m \u001b[0mself\u001b[0m \u001b[1;33m*\u001b[0m \u001b[0mother\u001b[0m\u001b[1;33m\u001b[0m\u001b[0m\n\u001b[0m\u001b[0;32m    362\u001b[0m \u001b[1;33m\u001b[0m\u001b[0m\n\u001b[0;32m    363\u001b[0m     \u001b[1;32mdef\u001b[0m \u001b[0mpower\u001b[0m\u001b[1;33m(\u001b[0m\u001b[0mself\u001b[0m\u001b[1;33m,\u001b[0m \u001b[0mn\u001b[0m\u001b[1;33m,\u001b[0m \u001b[0mdtype\u001b[0m\u001b[1;33m=\u001b[0m\u001b[1;32mNone\u001b[0m\u001b[1;33m)\u001b[0m\u001b[1;33m:\u001b[0m\u001b[1;33m\u001b[0m\u001b[0m\n",
      "\u001b[1;32mD:\\anaconda3\\lib\\site-packages\\scipy\\sparse\\base.py\u001b[0m in \u001b[0;36m__mul__\u001b[1;34m(self, other)\u001b[0m\n\u001b[0;32m    477\u001b[0m             \u001b[1;32mif\u001b[0m \u001b[0mself\u001b[0m\u001b[1;33m.\u001b[0m\u001b[0mshape\u001b[0m\u001b[1;33m[\u001b[0m\u001b[1;36m1\u001b[0m\u001b[1;33m]\u001b[0m \u001b[1;33m!=\u001b[0m \u001b[0mother\u001b[0m\u001b[1;33m.\u001b[0m\u001b[0mshape\u001b[0m\u001b[1;33m[\u001b[0m\u001b[1;36m0\u001b[0m\u001b[1;33m]\u001b[0m\u001b[1;33m:\u001b[0m\u001b[1;33m\u001b[0m\u001b[0m\n\u001b[0;32m    478\u001b[0m                 \u001b[1;32mraise\u001b[0m \u001b[0mValueError\u001b[0m\u001b[1;33m(\u001b[0m\u001b[1;34m'dimension mismatch'\u001b[0m\u001b[1;33m)\u001b[0m\u001b[1;33m\u001b[0m\u001b[0m\n\u001b[1;32m--> 479\u001b[1;33m             \u001b[1;32mreturn\u001b[0m \u001b[0mself\u001b[0m\u001b[1;33m.\u001b[0m\u001b[0m_mul_sparse_matrix\u001b[0m\u001b[1;33m(\u001b[0m\u001b[0mother\u001b[0m\u001b[1;33m)\u001b[0m\u001b[1;33m\u001b[0m\u001b[0m\n\u001b[0m\u001b[0;32m    480\u001b[0m \u001b[1;33m\u001b[0m\u001b[0m\n\u001b[0;32m    481\u001b[0m         \u001b[1;31m# If it's a list or whatever, treat it like a matrix\u001b[0m\u001b[1;33m\u001b[0m\u001b[1;33m\u001b[0m\u001b[0m\n",
      "\u001b[1;32mD:\\anaconda3\\lib\\site-packages\\scipy\\sparse\\compressed.py\u001b[0m in \u001b[0;36m_mul_sparse_matrix\u001b[1;34m(self, other)\u001b[0m\n\u001b[0;32m    480\u001b[0m \u001b[1;33m\u001b[0m\u001b[0m\n\u001b[0;32m    481\u001b[0m         \u001b[0mmajor_axis\u001b[0m \u001b[1;33m=\u001b[0m \u001b[0mself\u001b[0m\u001b[1;33m.\u001b[0m\u001b[0m_swap\u001b[0m\u001b[1;33m(\u001b[0m\u001b[1;33m(\u001b[0m\u001b[0mM\u001b[0m\u001b[1;33m,\u001b[0m\u001b[0mN\u001b[0m\u001b[1;33m)\u001b[0m\u001b[1;33m)\u001b[0m\u001b[1;33m[\u001b[0m\u001b[1;36m0\u001b[0m\u001b[1;33m]\u001b[0m\u001b[1;33m\u001b[0m\u001b[0m\n\u001b[1;32m--> 482\u001b[1;33m         \u001b[0mother\u001b[0m \u001b[1;33m=\u001b[0m \u001b[0mself\u001b[0m\u001b[1;33m.\u001b[0m\u001b[0m__class__\u001b[0m\u001b[1;33m(\u001b[0m\u001b[0mother\u001b[0m\u001b[1;33m)\u001b[0m  \u001b[1;31m# convert to this format\u001b[0m\u001b[1;33m\u001b[0m\u001b[0m\n\u001b[0m\u001b[0;32m    483\u001b[0m \u001b[1;33m\u001b[0m\u001b[0m\n\u001b[0;32m    484\u001b[0m         idx_dtype = get_index_dtype((self.indptr, self.indices,\n",
      "\u001b[1;32mD:\\anaconda3\\lib\\site-packages\\scipy\\sparse\\compressed.py\u001b[0m in \u001b[0;36m__init__\u001b[1;34m(self, arg1, shape, dtype, copy)\u001b[0m\n\u001b[0;32m     30\u001b[0m                 \u001b[0marg1\u001b[0m \u001b[1;33m=\u001b[0m \u001b[0marg1\u001b[0m\u001b[1;33m.\u001b[0m\u001b[0mcopy\u001b[0m\u001b[1;33m(\u001b[0m\u001b[1;33m)\u001b[0m\u001b[1;33m\u001b[0m\u001b[0m\n\u001b[0;32m     31\u001b[0m             \u001b[1;32melse\u001b[0m\u001b[1;33m:\u001b[0m\u001b[1;33m\u001b[0m\u001b[0m\n\u001b[1;32m---> 32\u001b[1;33m                 \u001b[0marg1\u001b[0m \u001b[1;33m=\u001b[0m \u001b[0marg1\u001b[0m\u001b[1;33m.\u001b[0m\u001b[0masformat\u001b[0m\u001b[1;33m(\u001b[0m\u001b[0mself\u001b[0m\u001b[1;33m.\u001b[0m\u001b[0mformat\u001b[0m\u001b[1;33m)\u001b[0m\u001b[1;33m\u001b[0m\u001b[0m\n\u001b[0m\u001b[0;32m     33\u001b[0m             \u001b[0mself\u001b[0m\u001b[1;33m.\u001b[0m\u001b[0m_set_self\u001b[0m\u001b[1;33m(\u001b[0m\u001b[0marg1\u001b[0m\u001b[1;33m)\u001b[0m\u001b[1;33m\u001b[0m\u001b[0m\n\u001b[0;32m     34\u001b[0m \u001b[1;33m\u001b[0m\u001b[0m\n",
      "\u001b[1;32mD:\\anaconda3\\lib\\site-packages\\scipy\\sparse\\base.py\u001b[0m in \u001b[0;36masformat\u001b[1;34m(self, format, copy)\u001b[0m\n\u001b[0;32m    324\u001b[0m                 \u001b[1;32mraise\u001b[0m \u001b[0mValueError\u001b[0m\u001b[1;33m(\u001b[0m\u001b[1;34m'Format {} is unknown.'\u001b[0m\u001b[1;33m.\u001b[0m\u001b[0mformat\u001b[0m\u001b[1;33m(\u001b[0m\u001b[0mformat\u001b[0m\u001b[1;33m)\u001b[0m\u001b[1;33m)\u001b[0m\u001b[1;33m\u001b[0m\u001b[0m\n\u001b[0;32m    325\u001b[0m             \u001b[1;32melse\u001b[0m\u001b[1;33m:\u001b[0m\u001b[1;33m\u001b[0m\u001b[0m\n\u001b[1;32m--> 326\u001b[1;33m                 \u001b[1;32mreturn\u001b[0m \u001b[0mconvert_method\u001b[0m\u001b[1;33m(\u001b[0m\u001b[0mcopy\u001b[0m\u001b[1;33m=\u001b[0m\u001b[0mcopy\u001b[0m\u001b[1;33m)\u001b[0m\u001b[1;33m\u001b[0m\u001b[0m\n\u001b[0m\u001b[0;32m    327\u001b[0m \u001b[1;33m\u001b[0m\u001b[0m\n\u001b[0;32m    328\u001b[0m     \u001b[1;31m###################################################################\u001b[0m\u001b[1;33m\u001b[0m\u001b[1;33m\u001b[0m\u001b[0m\n",
      "\u001b[1;32mD:\\anaconda3\\lib\\site-packages\\scipy\\sparse\\csr.py\u001b[0m in \u001b[0;36mtocsc\u001b[1;34m(self, copy)\u001b[0m\n\u001b[0;32m    182\u001b[0m                   \u001b[0mindptr\u001b[0m\u001b[1;33m,\u001b[0m\u001b[1;33m\u001b[0m\u001b[0m\n\u001b[0;32m    183\u001b[0m                   \u001b[0mindices\u001b[0m\u001b[1;33m,\u001b[0m\u001b[1;33m\u001b[0m\u001b[0m\n\u001b[1;32m--> 184\u001b[1;33m                   data)\n\u001b[0m\u001b[0;32m    185\u001b[0m \u001b[1;33m\u001b[0m\u001b[0m\n\u001b[0;32m    186\u001b[0m         \u001b[1;32mfrom\u001b[0m \u001b[1;33m.\u001b[0m\u001b[0mcsc\u001b[0m \u001b[1;32mimport\u001b[0m \u001b[0mcsc_matrix\u001b[0m\u001b[1;33m\u001b[0m\u001b[0m\n",
      "\u001b[1;31mKeyboardInterrupt\u001b[0m: "
     ]
    }
   ],
   "source": [
    "ALS.train_model(iterations=20, features=20, alpha_val=40)"
   ]
  },
  {
   "cell_type": "markdown",
   "metadata": {},
   "source": [
    "**Recommend**"
   ]
  },
  {
   "cell_type": "code",
   "execution_count": 7,
   "metadata": {},
   "outputs": [],
   "source": [
    "user_id = 2"
   ]
  },
  {
   "cell_type": "code",
   "execution_count": 10,
   "metadata": {
    "scrolled": true
   },
   "outputs": [
    {
     "name": "stdout",
     "output_type": "stream",
     "text": [
      "    artist_id               artist\n",
      "0        4493          Duran Duran\n",
      "2         500                  Air\n",
      "13      12345             Röyksopp\n",
      "14       3220             Coldplay\n",
      "19       9917                 Moby\n",
      "21       3998         Depeche Mode\n",
      "26       5781       George Michael\n",
      "107      3913          Deep Forest\n",
      "108     11497       Porcupine Tree\n",
      "109      3836            De/Vision\n",
      "110     11762            Radiohead\n",
      "111     12118      Robbie Williams\n",
      "112     15786                 VAST\n",
      "113      9729      Michael Jackson\n",
      "114     17332            עברי לידר\n",
      "115     14289             The Cure\n",
      "116     17327             אביב גפן\n",
      "117      4887     Enrique Iglesias\n",
      "118      5929  God Is an Astronaut\n",
      "119     11377           Pink Floyd\n",
      "120     17331            יוני בלוך\n",
      "121     11416          Planet Funk\n",
      "122     14272      The Cranberries\n",
      "123     12625      Scissor Sisters\n",
      "124     17330         דניאל סלומון\n",
      "125     17328           אביתר בנאי\n",
      "126      9698                  Mew\n",
      "127     13469        Stereophonics\n",
      "128      5709              Garbage\n",
      "129     11409              Placebo\n",
      "130      6878    Infected Mushroom\n",
      "131      3947             Delerium\n",
      "132     12631            Scorpions\n",
      "133     12166  Rock Star Supernova\n",
      "134      4299    Dolores O'Riordan\n",
      "135     15371            Tommy Lee\n",
      "136     12264              Roxette\n",
      "137     11066        Paradise Lost\n",
      "138      7941                Keane\n",
      "139      7114           Jamiroquai\n",
      "140      7089          James Blunt\n",
      "141     11887              Reamonn\n",
      "142      1982           Blackfield\n",
      "143     16583                 a-ha\n",
      "144     10860                Opeth\n",
      "145     11457    Poets of the Fall\n",
      "146     10158                 Muse\n",
      "147     10843          OneRepublic\n",
      "148      4777           Elton John\n",
      "149     13901      Tears for Fears\n",
      "---------------\n",
      "                      artist     score\n",
      "0               Gavin DeGraw  1.000000\n",
      "1                  Blutengel  0.978311\n",
      "2     Manic Street Preachers  0.964035\n",
      "3                     Oomph!  0.963330\n",
      "4               Brad Paisley  0.961041\n",
      "5          Ingrid Michaelson  0.952409\n",
      "6              Circa Survive  0.945139\n",
      "7    Cute Is What We Aim For  0.932390\n",
      "8                  Tom Waits  0.931897\n",
      "9                      Falco  0.929545\n",
      "10         Weird Al Yankovic  0.926251\n",
      "11              The National  0.921367\n",
      "12                     Ulver  0.918913\n",
      "13         Children of Bodom  0.916919\n",
      "14             The Gathering  0.916148\n",
      "15                 Manu Chao  0.913927\n",
      "16                  Agalloch  0.913628\n",
      "17                       Sia  0.906091\n",
      "18                      Tool  0.903949\n",
      "19             Clint Mansell  0.901464\n",
      "20                  Daughtry  0.900117\n",
      "21                 Brand New  0.899575\n",
      "22                   Therion  0.899007\n",
      "23                     Queen  0.897171\n",
      "24                  Shpongle  0.895819\n",
      "25                  Godsmack  0.891478\n",
      "26             Parkway Drive  0.890453\n",
      "27            Our Lady Peace  0.890006\n",
      "28                  deadmau5  0.888960\n",
      "29                     Suede  0.888237\n",
      "..                       ...       ...\n",
      "70      A Rocket to the Moon  0.848321\n",
      "71                    R.E.M.  0.847725\n",
      "72              Annie Lennox  0.847711\n",
      "73  The Jesus and Mary Chain  0.846305\n",
      "74                 The Kinks  0.845187\n",
      "75       Secondhand Serenade  0.843453\n",
      "76          Dropkick Murphys  0.842302\n",
      "77              Beastie Boys  0.842012\n",
      "78   Antony and the Johnsons  0.841868\n",
      "79              Zeca Baleiro  0.839766\n",
      "80            Dangerous Muse  0.839155\n",
      "81                  Schiller  0.838199\n",
      "82                      Isis  0.837731\n",
      "83                   Seether  0.837715\n",
      "84                 Cat Power  0.837382\n",
      "85          Vertical Horizon  0.837158\n",
      "86                     Oasis  0.837066\n",
      "87              Dolly Parton  0.836693\n",
      "88                Nickelback  0.835560\n",
      "89                 Kate Bush  0.834303\n",
      "90           The Raveonettes  0.833635\n",
      "91                     Creed  0.833430\n",
      "92               Linkin Park  0.831887\n",
      "93            Elvis Costello  0.831731\n",
      "94               Soundgarden  0.830147\n",
      "95               Jesse & Joy  0.829573\n",
      "96                    Eagles  0.829455\n",
      "97       Belle and Sebastian  0.829263\n",
      "98                David Gray  0.829034\n",
      "99          System of a Down  0.827580\n",
      "\n",
      "[100 rows x 2 columns]\n"
     ]
    }
   ],
   "source": [
    "# Let's print out what the user has listened to\n",
    "consumed_idx = ALS.data_sparse[user_id,:].nonzero()[1].astype(str)\n",
    "consumed_items = ALS.item_lookup.loc[ALS.item_lookup.artist_id.isin(consumed_idx)]\n",
    "print (consumed_items)\n",
    "\n",
    "print (\"---------------\")\n",
    "\n",
    "# Let's generate and print our recommendations\n",
    "recommendations = ALS.recommend(user_id)\n",
    "print (recommendations)"
   ]
  },
  {
   "cell_type": "markdown",
   "metadata": {},
   "source": [
    "# Evaluate"
   ]
  },
  {
   "cell_type": "markdown",
   "metadata": {},
   "source": [
    "We split the data into five parts and choose four of them as the train set. The remaining one as the testset."
   ]
  },
  {
   "cell_type": "code",
   "execution_count": 9,
   "metadata": {},
   "outputs": [],
   "source": [
    "data=pd.DataFrame()\n",
    "data = data.append(pd.read_csv(data_path+'/cv/als-0.csv',names=['user', 'artist', 'plays'], sep=' ').astype('int'))\n",
    "data = data.append(pd.read_csv(data_path+'/cv/als-0.csv',names=['user', 'artist', 'plays'], sep=' ').astype('int'))\n",
    "data = data.append(pd.read_csv(data_path+'/cv/als-0.csv',names=['user', 'artist', 'plays'], sep=' ').astype('int'))\n",
    "data = data.append(pd.read_csv(data_path+'/cv/als-0.csv',names=['user', 'artist', 'plays'], sep=' ').astype('int'))\n",
    "\n",
    "test_data = pd.DataFrame()\n",
    "test_data = pd.read_csv(data_path+'/cv/als-0.csv',names=['user', 'artist', 'plays'], sep=' ').astype('int')"
   ]
  },
  {
   "cell_type": "markdown",
   "metadata": {},
   "source": [
    "#### implicit recommendation"
   ]
  },
  {
   "cell_type": "code",
   "execution_count": 10,
   "metadata": {},
   "outputs": [],
   "source": [
    "ALS=implicit_als(data)"
   ]
  },
  {
   "cell_type": "code",
   "execution_count": 11,
   "metadata": {
    "collapsed": true
   },
   "outputs": [
    {
     "name": "stdout",
     "output_type": "stream",
     "text": [
      "iteration 1 of 20\n"
     ]
    },
    {
     "ename": "KeyboardInterrupt",
     "evalue": "",
     "output_type": "error",
     "traceback": [
      "\u001b[1;31m---------------------------------------------------------------------------\u001b[0m",
      "\u001b[1;31mKeyboardInterrupt\u001b[0m                         Traceback (most recent call last)",
      "\u001b[1;32m<ipython-input-11-f56ac3e95617>\u001b[0m in \u001b[0;36m<module>\u001b[1;34m()\u001b[0m\n\u001b[1;32m----> 1\u001b[1;33m \u001b[0mALS\u001b[0m\u001b[1;33m.\u001b[0m\u001b[0mtrain_model\u001b[0m\u001b[1;33m(\u001b[0m\u001b[0miterations\u001b[0m\u001b[1;33m=\u001b[0m\u001b[1;36m20\u001b[0m\u001b[1;33m,\u001b[0m \u001b[0mfeatures\u001b[0m\u001b[1;33m=\u001b[0m\u001b[1;36m20\u001b[0m\u001b[1;33m,\u001b[0m \u001b[0malpha_val\u001b[0m\u001b[1;33m=\u001b[0m\u001b[1;36m40\u001b[0m\u001b[1;33m)\u001b[0m\u001b[1;33m\u001b[0m\u001b[0m\n\u001b[0m",
      "\u001b[1;32m~\\Desktop\\tutorial\\Paper\\3.RS advance\\Implicit Feedback notebook\\implicit_als.py\u001b[0m in \u001b[0;36mtrain_model\u001b[1;34m(self, alpha_val, iterations, lambda_val, features)\u001b[0m\n\u001b[0;32m    111\u001b[0m                 \u001b[1;31m# Put it all together and compute the final formula\u001b[0m\u001b[1;33m\u001b[0m\u001b[1;33m\u001b[0m\u001b[0m\n\u001b[0;32m    112\u001b[0m                 \u001b[0myT_CuI_y\u001b[0m \u001b[1;33m=\u001b[0m \u001b[0mself\u001b[0m\u001b[1;33m.\u001b[0m\u001b[0mY\u001b[0m\u001b[1;33m.\u001b[0m\u001b[0mT\u001b[0m\u001b[1;33m.\u001b[0m\u001b[0mdot\u001b[0m\u001b[1;33m(\u001b[0m\u001b[0mCuI\u001b[0m\u001b[1;33m)\u001b[0m\u001b[1;33m.\u001b[0m\u001b[0mdot\u001b[0m\u001b[1;33m(\u001b[0m\u001b[0mself\u001b[0m\u001b[1;33m.\u001b[0m\u001b[0mY\u001b[0m\u001b[1;33m)\u001b[0m \u001b[1;31m#Y(T)(C-I)Y\u001b[0m\u001b[1;33m\u001b[0m\u001b[0m\n\u001b[1;32m--> 113\u001b[1;33m                 \u001b[0myT_Cu_pu\u001b[0m \u001b[1;33m=\u001b[0m \u001b[0mself\u001b[0m\u001b[1;33m.\u001b[0m\u001b[0mY\u001b[0m\u001b[1;33m.\u001b[0m\u001b[0mT\u001b[0m\u001b[1;33m.\u001b[0m\u001b[0mdot\u001b[0m\u001b[1;33m(\u001b[0m\u001b[0mCu\u001b[0m\u001b[1;33m)\u001b[0m\u001b[1;33m.\u001b[0m\u001b[0mdot\u001b[0m\u001b[1;33m(\u001b[0m\u001b[0mp_u\u001b[0m\u001b[1;33m.\u001b[0m\u001b[0mT\u001b[0m\u001b[1;33m)\u001b[0m \u001b[1;31m#Y(T)CP(T)\u001b[0m\u001b[1;33m\u001b[0m\u001b[0m\n\u001b[0m\u001b[0;32m    114\u001b[0m                 \u001b[0mself\u001b[0m\u001b[1;33m.\u001b[0m\u001b[0mX\u001b[0m\u001b[1;33m[\u001b[0m\u001b[0mu\u001b[0m\u001b[1;33m]\u001b[0m \u001b[1;33m=\u001b[0m \u001b[0mspsolve\u001b[0m\u001b[1;33m(\u001b[0m\u001b[0myTy\u001b[0m \u001b[1;33m+\u001b[0m \u001b[0myT_CuI_y\u001b[0m \u001b[1;33m+\u001b[0m \u001b[0mlI\u001b[0m\u001b[1;33m,\u001b[0m \u001b[0myT_Cu_pu\u001b[0m\u001b[1;33m)\u001b[0m\u001b[1;33m\u001b[0m\u001b[0m\n\u001b[0;32m    115\u001b[0m \u001b[1;33m\u001b[0m\u001b[0m\n",
      "\u001b[1;32mD:\\anaconda3\\lib\\site-packages\\scipy\\sparse\\base.py\u001b[0m in \u001b[0;36mdot\u001b[1;34m(self, other)\u001b[0m\n\u001b[0;32m    359\u001b[0m \u001b[1;33m\u001b[0m\u001b[0m\n\u001b[0;32m    360\u001b[0m         \"\"\"\n\u001b[1;32m--> 361\u001b[1;33m         \u001b[1;32mreturn\u001b[0m \u001b[0mself\u001b[0m \u001b[1;33m*\u001b[0m \u001b[0mother\u001b[0m\u001b[1;33m\u001b[0m\u001b[0m\n\u001b[0m\u001b[0;32m    362\u001b[0m \u001b[1;33m\u001b[0m\u001b[0m\n\u001b[0;32m    363\u001b[0m     \u001b[1;32mdef\u001b[0m \u001b[0mpower\u001b[0m\u001b[1;33m(\u001b[0m\u001b[0mself\u001b[0m\u001b[1;33m,\u001b[0m \u001b[0mn\u001b[0m\u001b[1;33m,\u001b[0m \u001b[0mdtype\u001b[0m\u001b[1;33m=\u001b[0m\u001b[1;32mNone\u001b[0m\u001b[1;33m)\u001b[0m\u001b[1;33m:\u001b[0m\u001b[1;33m\u001b[0m\u001b[0m\n",
      "\u001b[1;32mD:\\anaconda3\\lib\\site-packages\\scipy\\sparse\\base.py\u001b[0m in \u001b[0;36m__mul__\u001b[1;34m(self, other)\u001b[0m\n\u001b[0;32m    477\u001b[0m             \u001b[1;32mif\u001b[0m \u001b[0mself\u001b[0m\u001b[1;33m.\u001b[0m\u001b[0mshape\u001b[0m\u001b[1;33m[\u001b[0m\u001b[1;36m1\u001b[0m\u001b[1;33m]\u001b[0m \u001b[1;33m!=\u001b[0m \u001b[0mother\u001b[0m\u001b[1;33m.\u001b[0m\u001b[0mshape\u001b[0m\u001b[1;33m[\u001b[0m\u001b[1;36m0\u001b[0m\u001b[1;33m]\u001b[0m\u001b[1;33m:\u001b[0m\u001b[1;33m\u001b[0m\u001b[0m\n\u001b[0;32m    478\u001b[0m                 \u001b[1;32mraise\u001b[0m \u001b[0mValueError\u001b[0m\u001b[1;33m(\u001b[0m\u001b[1;34m'dimension mismatch'\u001b[0m\u001b[1;33m)\u001b[0m\u001b[1;33m\u001b[0m\u001b[0m\n\u001b[1;32m--> 479\u001b[1;33m             \u001b[1;32mreturn\u001b[0m \u001b[0mself\u001b[0m\u001b[1;33m.\u001b[0m\u001b[0m_mul_sparse_matrix\u001b[0m\u001b[1;33m(\u001b[0m\u001b[0mother\u001b[0m\u001b[1;33m)\u001b[0m\u001b[1;33m\u001b[0m\u001b[0m\n\u001b[0m\u001b[0;32m    480\u001b[0m \u001b[1;33m\u001b[0m\u001b[0m\n\u001b[0;32m    481\u001b[0m         \u001b[1;31m# If it's a list or whatever, treat it like a matrix\u001b[0m\u001b[1;33m\u001b[0m\u001b[1;33m\u001b[0m\u001b[0m\n",
      "\u001b[1;32mD:\\anaconda3\\lib\\site-packages\\scipy\\sparse\\compressed.py\u001b[0m in \u001b[0;36m_mul_sparse_matrix\u001b[1;34m(self, other)\u001b[0m\n\u001b[0;32m    510\u001b[0m            \u001b[0mnp\u001b[0m\u001b[1;33m.\u001b[0m\u001b[0masarray\u001b[0m\u001b[1;33m(\u001b[0m\u001b[0mother\u001b[0m\u001b[1;33m.\u001b[0m\u001b[0mindices\u001b[0m\u001b[1;33m,\u001b[0m \u001b[0mdtype\u001b[0m\u001b[1;33m=\u001b[0m\u001b[0midx_dtype\u001b[0m\u001b[1;33m)\u001b[0m\u001b[1;33m,\u001b[0m\u001b[1;33m\u001b[0m\u001b[0m\n\u001b[0;32m    511\u001b[0m            \u001b[0mother\u001b[0m\u001b[1;33m.\u001b[0m\u001b[0mdata\u001b[0m\u001b[1;33m,\u001b[0m\u001b[1;33m\u001b[0m\u001b[0m\n\u001b[1;32m--> 512\u001b[1;33m            indptr, indices, data)\n\u001b[0m\u001b[0;32m    513\u001b[0m \u001b[1;33m\u001b[0m\u001b[0m\n\u001b[0;32m    514\u001b[0m         \u001b[1;32mreturn\u001b[0m \u001b[0mself\u001b[0m\u001b[1;33m.\u001b[0m\u001b[0m__class__\u001b[0m\u001b[1;33m(\u001b[0m\u001b[1;33m(\u001b[0m\u001b[0mdata\u001b[0m\u001b[1;33m,\u001b[0m\u001b[0mindices\u001b[0m\u001b[1;33m,\u001b[0m\u001b[0mindptr\u001b[0m\u001b[1;33m)\u001b[0m\u001b[1;33m,\u001b[0m\u001b[0mshape\u001b[0m\u001b[1;33m=\u001b[0m\u001b[1;33m(\u001b[0m\u001b[0mM\u001b[0m\u001b[1;33m,\u001b[0m\u001b[0mN\u001b[0m\u001b[1;33m)\u001b[0m\u001b[1;33m)\u001b[0m\u001b[1;33m\u001b[0m\u001b[0m\n",
      "\u001b[1;31mKeyboardInterrupt\u001b[0m: "
     ]
    }
   ],
   "source": [
    "ALS.train_model(iterations=20, features=20, alpha_val=40)"
   ]
  },
  {
   "cell_type": "markdown",
   "metadata": {},
   "source": [
    "#### BiasSVD"
   ]
  },
  {
   "cell_type": "code",
   "execution_count": 3,
   "metadata": {},
   "outputs": [
    {
     "name": "stdout",
     "output_type": "stream",
     "text": [
      "cold start users count 8\n",
      "{\n",
      "    'dataset_name': 'als',\n",
      "    'k_fold_num': 5,\n",
      "    'k_test': 0,\n",
      "    'rating_path': 'RSA/data/ft_ratings.txt',\n",
      "    'rating_cv_path': 'C:/Users/lenovo/Desktop/tutorial/lastfm-2k//cv/',\n",
      "    'trust_path': 'RSA/data/ft_trust.txt',\n",
      "    'sep': ' ',\n",
      "    'random_state': 0,\n",
      "    'size': 0.8,\n",
      "    'min_val': 0,\n",
      "    'max_val': 5,\n",
      "    'coldUserRating': 5,\n",
      "    'factor': 10,\n",
      "    'threshold': 0.0001,\n",
      "    'lr': 0.01,\n",
      "    'maxIter': 3,\n",
      "    'lambdaP': 0.001,\n",
      "    'lambdaQ': 0.001,\n",
      "    'gamma': 0,\n",
      "    'isEarlyStopping': False,\n",
      "    'result_path': '../results/',\n",
      "    'model_path': 'model/',\n",
      "    'result_log_path': 'log/'\n",
      "}\n"
     ]
    }
   ],
   "source": [
    "bmf=implicit_biasSVD(2,data_path)"
   ]
  },
  {
   "cell_type": "code",
   "execution_count": 4,
   "metadata": {
    "collapsed": true
   },
   "outputs": [
    {
     "name": "stdout",
     "output_type": "stream",
     "text": [
      "cold start users count 8\n",
      "<class 'implicit_SVD.implicit_biasSVD'> iteration 1: loss = 22992.0165, delta_loss = -22992.01650 learning_Rate = 0.01000 rmse=1.87814 mae=1.53868\n",
      "<class 'implicit_SVD.implicit_biasSVD'> iteration 2: loss = 10938.3236, delta_loss = 12053.69287 learning_Rate = 0.01000 rmse=1.49594 mae=1.21969\n"
     ]
    },
    {
     "ename": "KeyboardInterrupt",
     "evalue": "",
     "output_type": "error",
     "traceback": [
      "\u001b[1;31m---------------------------------------------------------------------------\u001b[0m",
      "\u001b[1;31mKeyboardInterrupt\u001b[0m                         Traceback (most recent call last)",
      "\u001b[1;32m<ipython-input-4-88a9cc99b412>\u001b[0m in \u001b[0;36m<module>\u001b[1;34m()\u001b[0m\n\u001b[1;32m----> 1\u001b[1;33m \u001b[0mbmf\u001b[0m\u001b[1;33m.\u001b[0m\u001b[0mtrain_model\u001b[0m\u001b[1;33m(\u001b[0m\u001b[1;36m2\u001b[0m\u001b[1;33m)\u001b[0m\u001b[1;33m\u001b[0m\u001b[0m\n\u001b[0m",
      "\u001b[1;32m~\\Desktop\\tutorial\\Paper\\3.RS advance\\Implicit Feedback notebook\\implicit_SVD.py\u001b[0m in \u001b[0;36mtrain_model\u001b[1;34m(self, k)\u001b[0m\n\u001b[0;32m     36\u001b[0m                 \u001b[0mu\u001b[0m \u001b[1;33m=\u001b[0m \u001b[0mself\u001b[0m\u001b[1;33m.\u001b[0m\u001b[0mrg\u001b[0m\u001b[1;33m.\u001b[0m\u001b[0muser\u001b[0m\u001b[1;33m[\u001b[0m\u001b[0muser\u001b[0m\u001b[1;33m]\u001b[0m  \u001b[1;31m# index u\u001b[0m\u001b[1;33m\u001b[0m\u001b[0m\n\u001b[0;32m     37\u001b[0m                 \u001b[0mi\u001b[0m \u001b[1;33m=\u001b[0m \u001b[0mself\u001b[0m\u001b[1;33m.\u001b[0m\u001b[0mrg\u001b[0m\u001b[1;33m.\u001b[0m\u001b[0mitem\u001b[0m\u001b[1;33m[\u001b[0m\u001b[0mitem\u001b[0m\u001b[1;33m]\u001b[0m  \u001b[1;31m# index i\u001b[0m\u001b[1;33m\u001b[0m\u001b[0m\n\u001b[1;32m---> 38\u001b[1;33m                 \u001b[0merror\u001b[0m \u001b[1;33m=\u001b[0m \u001b[0mrating\u001b[0m \u001b[1;33m-\u001b[0m \u001b[0mself\u001b[0m\u001b[1;33m.\u001b[0m\u001b[0mpredict\u001b[0m\u001b[1;33m(\u001b[0m\u001b[0muser\u001b[0m\u001b[1;33m,\u001b[0m \u001b[0mitem\u001b[0m\u001b[1;33m)\u001b[0m\u001b[1;33m\u001b[0m\u001b[0m\n\u001b[0m\u001b[0;32m     39\u001b[0m                 \u001b[0mself\u001b[0m\u001b[1;33m.\u001b[0m\u001b[0mloss\u001b[0m \u001b[1;33m+=\u001b[0m \u001b[0merror\u001b[0m \u001b[1;33m**\u001b[0m \u001b[1;36m2\u001b[0m\u001b[1;33m\u001b[0m\u001b[0m\n\u001b[0;32m     40\u001b[0m                 \u001b[0mp\u001b[0m\u001b[1;33m,\u001b[0m \u001b[0mq\u001b[0m \u001b[1;33m=\u001b[0m \u001b[0mself\u001b[0m\u001b[1;33m.\u001b[0m\u001b[0mP\u001b[0m\u001b[1;33m[\u001b[0m\u001b[0mu\u001b[0m\u001b[1;33m]\u001b[0m\u001b[1;33m,\u001b[0m \u001b[0mself\u001b[0m\u001b[1;33m.\u001b[0m\u001b[0mQ\u001b[0m\u001b[1;33m[\u001b[0m\u001b[0mi\u001b[0m\u001b[1;33m]\u001b[0m  \u001b[1;31m# pu qi\u001b[0m\u001b[1;33m\u001b[0m\u001b[0m\n",
      "\u001b[1;32m~\\Desktop\\tutorial\\Paper\\3.RS advance\\Implicit Feedback notebook\\implicit_SVD.py\u001b[0m in \u001b[0;36mpredict\u001b[1;34m(self, u, i)\u001b[0m\n\u001b[0;32m     60\u001b[0m             \u001b[0mu\u001b[0m \u001b[1;33m=\u001b[0m \u001b[0mself\u001b[0m\u001b[1;33m.\u001b[0m\u001b[0mrg\u001b[0m\u001b[1;33m.\u001b[0m\u001b[0muser\u001b[0m\u001b[1;33m[\u001b[0m\u001b[0mu\u001b[0m\u001b[1;33m]\u001b[0m\u001b[1;33m\u001b[0m\u001b[0m\n\u001b[0;32m     61\u001b[0m             \u001b[0mi\u001b[0m \u001b[1;33m=\u001b[0m \u001b[0mself\u001b[0m\u001b[1;33m.\u001b[0m\u001b[0mrg\u001b[0m\u001b[1;33m.\u001b[0m\u001b[0mitem\u001b[0m\u001b[1;33m[\u001b[0m\u001b[0mi\u001b[0m\u001b[1;33m]\u001b[0m\u001b[1;33m\u001b[0m\u001b[0m\n\u001b[1;32m---> 62\u001b[1;33m             \u001b[1;32mreturn\u001b[0m \u001b[0mself\u001b[0m\u001b[1;33m.\u001b[0m\u001b[0mP\u001b[0m\u001b[1;33m[\u001b[0m\u001b[0mu\u001b[0m\u001b[1;33m]\u001b[0m\u001b[1;33m.\u001b[0m\u001b[0mdot\u001b[0m\u001b[1;33m(\u001b[0m\u001b[0mself\u001b[0m\u001b[1;33m.\u001b[0m\u001b[0mQ\u001b[0m\u001b[1;33m[\u001b[0m\u001b[0mi\u001b[0m\u001b[1;33m]\u001b[0m\u001b[1;33m)\u001b[0m \u001b[1;33m+\u001b[0m \u001b[0mself\u001b[0m\u001b[1;33m.\u001b[0m\u001b[0mrg\u001b[0m\u001b[1;33m.\u001b[0m\u001b[0mglobalMean\u001b[0m \u001b[1;33m+\u001b[0m \u001b[0mself\u001b[0m\u001b[1;33m.\u001b[0m\u001b[0mBi\u001b[0m\u001b[1;33m[\u001b[0m\u001b[0mi\u001b[0m\u001b[1;33m]\u001b[0m \u001b[1;33m+\u001b[0m \u001b[0mself\u001b[0m\u001b[1;33m.\u001b[0m\u001b[0mBu\u001b[0m\u001b[1;33m[\u001b[0m\u001b[0mu\u001b[0m\u001b[1;33m]\u001b[0m  \u001b[1;31m# q^T * Pu + u + bu + bi\u001b[0m\u001b[1;33m\u001b[0m\u001b[0m\n\u001b[0m\u001b[0;32m     63\u001b[0m         \u001b[1;32melse\u001b[0m\u001b[1;33m:\u001b[0m\u001b[1;33m\u001b[0m\u001b[0m\n\u001b[0;32m     64\u001b[0m             \u001b[1;32mreturn\u001b[0m \u001b[0mself\u001b[0m\u001b[1;33m.\u001b[0m\u001b[0mrg\u001b[0m\u001b[1;33m.\u001b[0m\u001b[0mglobalMean\u001b[0m\u001b[1;33m\u001b[0m\u001b[0m\n",
      "\u001b[1;31mKeyboardInterrupt\u001b[0m: "
     ]
    }
   ],
   "source": [
    "bmf.train_model(2)"
   ]
  },
  {
   "cell_type": "markdown",
   "metadata": {},
   "source": [
    ">For the purpose of comparing, we change the default number of num_items which represent the number of recommendations we want to return."
   ]
  },
  {
   "cell_type": "markdown",
   "metadata": {},
   "source": [
    "#### 1.Recall"
   ]
  },
  {
   "cell_type": "markdown",
   "metadata": {},
   "source": [
    "We would use **recall** as an evaluation metric, this can be interpreted as:\n",
    "\n",
    "- Recommend_list :A artist_list your system recommend to user\n",
    "- Testset_list :A artist_list which from the test_data_set\n",
    "- |Testset_list| :The number of artist in the Testset_list\n",
    "- |Recommend_list $\\cap$ Testset_list| :The number of artist ether in Recommend_list and Testset_list\n",
    "\n",
    "\n",
    "<center>$Recall=\\frac{|Recommend\\_list\\cap Testset\\_list|}{|Testset\\_list|}$"
   ]
  },
  {
   "cell_type": "code",
   "execution_count": 26,
   "metadata": {
    "collapsed": true
   },
   "outputs": [
    {
     "name": "stdout",
     "output_type": "stream",
     "text": [
      "------------ num_items: 10 ------------\n",
      "score: 0.007952713594841484\n",
      "------------ num_items: 50 ------------\n",
      "score: 0.024664159054271897\n",
      "------------ num_items: 100 ------------\n",
      "score: 0.04782375067168189\n",
      "------------ num_items: 150 ------------\n",
      "score: 0.06550241805480925\n",
      "------------ num_items: 200 ------------\n",
      "score: 0.08554540569586244\n",
      "------------ num_items: 250 ------------\n",
      "score: 0.09559376679204729\n",
      "------------ num_items: 300 ------------\n",
      "score: 0.1155292853304675\n"
     ]
    }
   ],
   "source": [
    "als_list=[]\n",
    "for num_items in [10,50,100,150,200,250,300]:\n",
    "    print(\"------------ num_items:\",num_items,\"------------\")\n",
    "    total_item=0\n",
    "    rig_item=0\n",
    "    for user in ALS.users:\n",
    "        item_list= list(test_data[test_data['user']==user]['artist'])\n",
    "        total_item+=len(item_list)\n",
    "        recomm_list=list(ALS.recommend(user_id,num_items=num_items)['artist'])\n",
    "        corr_list=list(set(item_list).intersection(set(recomm_list)))\n",
    "        rig_item+=len(corr_list)\n",
    "    als_list.append(rig_item/total_item)\n",
    "    print (\"score:\",rig_item/total_item)"
   ]
  },
  {
   "cell_type": "code",
   "execution_count": 27,
   "metadata": {
    "collapsed": true
   },
   "outputs": [
    {
     "name": "stdout",
     "output_type": "stream",
     "text": [
      "------------ num_items: 10 ------------\n",
      "score: 0.005209452201933405\n",
      "------------ num_items: 50 ------------\n",
      "score: 0.01100966702470462\n",
      "------------ num_items: 100 ------------\n",
      "score: 0.016541353383458645\n",
      "------------ num_items: 150 ------------\n",
      "score: 0.021482277121374866\n",
      "------------ num_items: 200 ------------\n",
      "score: 0.025725026852846403\n",
      "------------ num_items: 250 ------------\n",
      "score: 0.030397422126745434\n",
      "------------ num_items: 300 ------------\n",
      "score: 0.03544575725026853\n"
     ]
    }
   ],
   "source": [
    "bmf_list=[]\n",
    "for num_items in [10,50,100,150,200,250,300]:\n",
    "    print(\"------------ num_items:\",num_items,\"------------\")\n",
    "    total_item=0\n",
    "    rig_item=0\n",
    "    for user in bmf.rg.all_User.keys():\n",
    "        item_list=bmf.rg.testSet_u[user].keys()\n",
    "        total_item+=len(item_list)\n",
    "        recomm_list=dict(bmf.recommend(user, num_items=num_items)).keys()\n",
    "        corr_list=list(set(item_list).intersection(set(recomm_list)))\n",
    "        rig_item+=len(corr_list)\n",
    "    bmf_list.append(rig_item/total_item)\n",
    "    print (\"score:\",rig_item/total_item)"
   ]
  },
  {
   "cell_type": "code",
   "execution_count": 28,
   "metadata": {},
   "outputs": [],
   "source": [
    "df=pd.DataFrame({'ALS':als_list,'SVD':bmf_list},index=[10,50,100,150,200,250,300])"
   ]
  },
  {
   "cell_type": "code",
   "execution_count": 29,
   "metadata": {},
   "outputs": [
    {
     "data": {
      "text/plain": [
       "<matplotlib.axes._subplots.AxesSubplot at 0x1908f845c88>"
      ]
     },
     "execution_count": 29,
     "metadata": {},
     "output_type": "execute_result"
    },
    {
     "data": {
      "image/png": "[encoded data removed]",
      "text/plain": [
       "<Figure size 432x288 with 1 Axes>"
      ]
     },
     "metadata": {},
     "output_type": "display_data"
    }
   ],
   "source": [
    "df.plot()"
   ]
  },
  {
   "cell_type": "markdown",
   "metadata": {},
   "source": [
    "#### 2.Precision"
   ]
  },
  {
   "cell_type": "markdown",
   "metadata": {},
   "source": [
    "We would use **Precision** as an evaluation metric, this can be interpreted as:\n",
    "\n",
    "- Recommend_list :A artist_list your system recommend to user\n",
    "- Testset_list :A artist_list which from the test_data_set\n",
    "- |Recommend_list| :The number of artist in the Recommend_list\n",
    "- |Recommend_list $\\cap$ Testset_list| :The number of artist ether in Recommend_list and Testset_list\n",
    "\n",
    "\n",
    "<center>$Recall=\\frac{|Recommend\\_list\\cap Testset\\_list|}{|Recommend\\_list|}$"
   ]
  },
  {
   "cell_type": "code",
   "execution_count": 30,
   "metadata": {
    "collapsed": true
   },
   "outputs": [
    {
     "name": "stdout",
     "output_type": "stream",
     "text": [
      "------------ num_items: 10 ------------\n",
      "score: 0.007826546800634585\n",
      "------------ num_items: 50 ------------\n",
      "score: 0.0048545742993125335\n",
      "------------ num_items: 100 ------------\n",
      "score: 0.0047065044949762035\n",
      "------------ num_items: 150 ------------\n",
      "score: 0.004297549797285387\n",
      "------------ num_items: 200 ------------\n",
      "score: 0.004209413008989952\n",
      "------------ num_items: 250 ------------\n",
      "score: 0.003763088313061872\n",
      "------------ num_items: 300 ------------\n",
      "score: 0.003789881896703684\n"
     ]
    }
   ],
   "source": [
    "als_list=[]\n",
    "for num_items in [10,50,100,150,200,250,300]:\n",
    "    print(\"------------ num_items:\",num_items,\"------------\")\n",
    "    total_item=0\n",
    "    rig_item=0\n",
    "    for user in ALS.users:\n",
    "        total_item+=num_items\n",
    "        item_list= list(test_data[test_data['user']==user]['artist'])\n",
    "        recomm_list=list(ALS.recommend(user_id,num_items=num_items)['artist'])\n",
    "        corr_list=list(set(item_list).intersection(set(recomm_list)))\n",
    "        rig_item+=len(corr_list)\n",
    "    als_list.append(rig_item/total_item)\n",
    "    print (\"score:\",rig_item/total_item)"
   ]
  },
  {
   "cell_type": "code",
   "execution_count": 31,
   "metadata": {
    "collapsed": true
   },
   "outputs": [
    {
     "name": "stdout",
     "output_type": "stream",
     "text": [
      "------------ num_items: 10 ------------\n",
      "score: 0.002583910495471497\n",
      "------------ num_items: 50 ------------\n",
      "score: 0.00181063416357534\n",
      "------------ num_items: 100 ------------\n",
      "score: 0.0014820517755750168\n",
      "------------ num_items: 150 ------------\n",
      "score: 0.0013226638449837973\n",
      "------------ num_items: 200 ------------\n",
      "score: 0.0012064883381189865\n",
      "------------ num_items: 250 ------------\n",
      "score: 0.0011512957162035718\n",
      "------------ num_items: 300 ------------\n",
      "score: 0.0011258571867217085\n"
     ]
    }
   ],
   "source": [
    "bmf_list=[]\n",
    "for num_items in [10,50,100,150,200,250,300]:\n",
    "    print(\"------------ num_items:\",num_items,\"------------\")\n",
    "    total_item=0\n",
    "    rig_item=0\n",
    "    for user in bmf.rg.all_User.keys():\n",
    "        total_item+=num_items\n",
    "        item_list=bmf.rg.testSet_u[user].keys()\n",
    "        recomm_list=dict(bmf.recommend(user, num_items=num_items)).keys()\n",
    "        corr_list=list(set(item_list).intersection(set(recomm_list)))\n",
    "        rig_item+=len(corr_list)\n",
    "    bmf_list.append(rig_item/total_item)\n",
    "    print (\"score:\",rig_item/total_item)"
   ]
  },
  {
   "cell_type": "code",
   "execution_count": 32,
   "metadata": {},
   "outputs": [],
   "source": [
    "df=pd.DataFrame({'ALS':als_list,'SVD':bmf_list},index=[10,50,100,150,200,250,300])"
   ]
  },
  {
   "cell_type": "code",
   "execution_count": 33,
   "metadata": {},
   "outputs": [
    {
     "data": {
      "text/plain": [
       "<matplotlib.axes._subplots.AxesSubplot at 0x1908faec048>"
      ]
     },
     "execution_count": 33,
     "metadata": {},
     "output_type": "execute_result"
    },
    {
     "data": {
      "image/png": "[encoded data removed]",
      "text/plain": [
       "<Figure size 432x288 with 1 Axes>"
      ]
     },
     "metadata": {},
     "output_type": "display_data"
    }
   ],
   "source": [
    "df.plot()"
   ]
  },
  {
   "cell_type": "markdown",
   "metadata": {},
   "source": [
    "#### 3.Rank"
   ]
  },
  {
   "cell_type": "markdown",
   "metadata": {},
   "source": [
    "We denote by $rank_{ui}$ the percentile-ranking of program $i$ within the ordered list of all programs prepared for user $u$. This way, $rank_{ui} = 0%$ would mean that program $i$ is predicted to be the most desirable for user $u$, thus preceding all other programs in the list. On the other hand, $rank_{ui} = 100%$ indicates that program $i$ is predicted to be the least preferred for user $u$, thus placed at the end of the list.The observations in the test set are denoted by $r^{t}_{ui}$."
   ]
  },
  {
   "cell_type": "markdown",
   "metadata": {},
   "source": [
    "<center>$\\bar{Rank}=\\frac{\\sum_{u,i}r^{t}_{ui}Rank_{ui}}{\\sum_{u,i}r^{t}_{ui}}$"
   ]
  },
  {
   "cell_type": "code",
   "execution_count": 14,
   "metadata": {},
   "outputs": [
    {
     "name": "stdout",
     "output_type": "stream",
     "text": [
      "------------ num_items: 10 ------------\n"
     ]
    },
    {
     "ename": "TypeError",
     "evalue": "'RangeIndex' object is not callable",
     "output_type": "error",
     "traceback": [
      "\u001b[1;31m---------------------------------------------------------------------------\u001b[0m",
      "\u001b[1;31mTypeError\u001b[0m                                 Traceback (most recent call last)",
      "\u001b[1;32m<ipython-input-14-46a06e31e2bb>\u001b[0m in \u001b[0;36m<module>\u001b[1;34m()\u001b[0m\n\u001b[0;32m     13\u001b[0m             \u001b[1;32mfor\u001b[0m \u001b[0mitem\u001b[0m \u001b[1;32min\u001b[0m \u001b[0mitem_list\u001b[0m\u001b[1;33m:\u001b[0m\u001b[1;33m\u001b[0m\u001b[0m\n\u001b[0;32m     14\u001b[0m                 \u001b[1;32mif\u001b[0m \u001b[0mitem\u001b[0m \u001b[1;32min\u001b[0m \u001b[0mlist\u001b[0m\u001b[1;33m(\u001b[0m\u001b[0mrecomm_list\u001b[0m\u001b[1;33m[\u001b[0m\u001b[1;34m'artist'\u001b[0m\u001b[1;33m]\u001b[0m\u001b[1;33m)\u001b[0m\u001b[1;33m:\u001b[0m\u001b[1;33m\u001b[0m\u001b[0m\n\u001b[1;32m---> 15\u001b[1;33m                     \u001b[0mrig_r\u001b[0m\u001b[1;33m+=\u001b[0m\u001b[0mint\u001b[0m\u001b[1;33m(\u001b[0m\u001b[0mcurr_data\u001b[0m\u001b[1;33m[\u001b[0m\u001b[0mcurr_data\u001b[0m\u001b[1;33m[\u001b[0m\u001b[1;34m'artist'\u001b[0m\u001b[1;33m]\u001b[0m\u001b[1;33m==\u001b[0m\u001b[0mitem\u001b[0m\u001b[1;33m]\u001b[0m\u001b[1;33m[\u001b[0m\u001b[1;34m'plays'\u001b[0m\u001b[1;33m]\u001b[0m\u001b[1;33m)\u001b[0m\u001b[1;33m*\u001b[0m\u001b[0mrecomm_list\u001b[0m\u001b[1;33m.\u001b[0m\u001b[0mindex\u001b[0m\u001b[1;33m(\u001b[0m\u001b[0mitem\u001b[0m\u001b[1;33m)\u001b[0m\u001b[1;33m/\u001b[0m\u001b[0mlength\u001b[0m\u001b[1;33m\u001b[0m\u001b[0m\n\u001b[0m\u001b[0;32m     16\u001b[0m     \u001b[0mals_list\u001b[0m\u001b[1;33m.\u001b[0m\u001b[0mappend\u001b[0m\u001b[1;33m(\u001b[0m\u001b[0mrig_r\u001b[0m\u001b[1;33m/\u001b[0m\u001b[0mtotal_r\u001b[0m\u001b[1;33m)\u001b[0m\u001b[1;33m\u001b[0m\u001b[0m\n\u001b[0;32m     17\u001b[0m     \u001b[0mprint\u001b[0m \u001b[1;33m(\u001b[0m\u001b[1;34m\"score:\"\u001b[0m\u001b[1;33m,\u001b[0m\u001b[0mrig_r\u001b[0m\u001b[1;33m/\u001b[0m\u001b[0mtotal_r\u001b[0m\u001b[1;33m)\u001b[0m\u001b[1;33m\u001b[0m\u001b[0m\n",
      "\u001b[1;31mTypeError\u001b[0m: 'RangeIndex' object is not callable"
     ]
    }
   ],
   "source": [
    "als_list=[]\n",
    "for num_items in [10,50,100,150,200,250,300]:\n",
    "    total_r=0\n",
    "    rig_r=0\n",
    "    print(\"------------ num_items:\",num_items,\"------------\")\n",
    "    for user in ALS.users:\n",
    "        curr_data=test_data[test_data['user']==user]\n",
    "        if len(curr_data)>=0:\n",
    "            total_r+=curr_data['plays'].sum()\n",
    "            item_list= list(curr_data['artist'])\n",
    "            recomm_list=ALS.recommend(user,num_items=num_items)\n",
    "            length=len(recomm_list)\n",
    "            for item in item_list:\n",
    "                if item in list(recomm_list['artist']):\n",
    "                    rig_r+=int(curr_data[curr_data['artist']==item]['plays'])*recomm_list.index(item)/length\n",
    "    als_list.append(rig_r/total_r)\n",
    "    print (\"score:\",rig_r/total_r)"
   ]
  },
  {
   "cell_type": "code",
   "execution_count": 11,
   "metadata": {},
   "outputs": [
    {
     "name": "stdout",
     "output_type": "stream",
     "text": [
      "------------ num_items: 10 ------------\n",
      "score: 0.014240647692827004\n",
      "------------ num_items: 50 ------------\n",
      "score: 0.03892958621009857\n",
      "------------ num_items: 100 ------------\n",
      "score: 0.04996116923255521\n"
     ]
    }
   ],
   "source": [
    "bmf_list=[]\n",
    "for num_items in [10,50,100,150,200,250,300]:\n",
    "    total_r=0\n",
    "    rig_r=0\n",
    "    print(\"------------ num_items:\",num_items,\"------------\")\n",
    "    for user in ALS.users:\n",
    "        curr_data=test_data[test_data['user']==user]\n",
    "        if len(curr_data)>=0:\n",
    "            total_r+=curr_data['plays'].sum()\n",
    "            item_list= list(curr_data['artist'])\n",
    "            recomm_list=list(dict(bmf.recommend(user, num_items=num_items)).keys())\n",
    "            length=len(recomm_list)\n",
    "            for item in item_list:\n",
    "                if item in recomm_list:\n",
    "                    rig_r+=int(curr_data[curr_data['artist']==item]['plays'])*recomm_list.index(item)/length\n",
    "    bmf_list.append(rig_r/total_r)\n",
    "    print (\"score:\",rig_r/total_r)"
   ]
  },
  {
   "cell_type": "code",
   "execution_count": 12,
   "metadata": {},
   "outputs": [],
   "source": [
    "df=pd.DataFrame({'ALS':als_list,'SVD':bmf_list},index=[10,50,100,150,200,250,300])"
   ]
  },
  {
   "cell_type": "code",
   "execution_count": 13,
   "metadata": {},
   "outputs": [
    {
     "data": {
      "text/plain": [
       "<matplotlib.axes._subplots.AxesSubplot at 0x21d559930f0>"
      ]
     },
     "execution_count": 13,
     "metadata": {},
     "output_type": "execute_result"
    },
    {
     "data": {
      "image/png": "[encoded data removed]",
      "text/plain": [
       "<Figure size 432x288 with 1 Axes>"
      ]
     },
     "metadata": {},
     "output_type": "display_data"
    }
   ],
   "source": [
    "df.plot()"
   ]
  },
  {
   "cell_type": "markdown",
   "metadata": {},
   "source": [
    "# Conclusion"
   ]
  },
  {
   "cell_type": "markdown",
   "metadata": {},
   "source": [
    "Yifan Hu as the first person to propose the importance of implicit feedback, he successfully established a recommendation system based on pure implicit data, and also optimized the time complexity, which greatly guaranteed its quality. In the comparison with the traditional svd recommendation system, we can find that our algorithm is superior to the traditional svd recommendation. "
   ]
  },
  {
   "cell_type": "markdown",
   "metadata": {},
   "source": [
    "# Reference"
   ]
  },
  {
   "cell_type": "markdown",
   "metadata": {},
   "source": [
    "[1]. [Yifan Hu (2008) *Collaborative Filtering for Implicit Feedback Datasets*](http://yifanhu.net/PUB/cf.pdf?source=post_page---------------------------)\n",
    "\n",
    "[2]. [Victor (2017) *ALS Implicit Collaborative Filtering*](https://medium.com/radon-dev/als-implicit-collaborative-filtering-5ed653ba39fe)"
   ]
  },
  {
   "cell_type": "markdown",
   "metadata": {},
   "source": [
    "***"
   ]
  }
 ],
 "metadata": {
  "kernelspec": {
   "display_name": "Python 3",
   "language": "python",
   "name": "python3"
  },
  "language_info": {
   "codemirror_mode": {
    "name": "ipython",
    "version": 3
   },
   "file_extension": ".py",
   "mimetype": "text/x-python",
   "name": "python",
   "nbconvert_exporter": "python",
   "pygments_lexer": "ipython3",
   "version": "3.6.5"
  }
 },
 "nbformat": 4,
 "nbformat_minor": 2
}
