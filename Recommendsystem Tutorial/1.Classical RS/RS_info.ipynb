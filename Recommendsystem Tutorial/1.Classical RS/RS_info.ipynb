{
 "cells": [
  {
   "cell_type": "markdown",
   "metadata": {},
   "source": [
    "# User-CF"
   ]
  },
  {
   "cell_type": "markdown",
   "metadata": {},
   "source": [
    "$U_{(i)}:$ 访问过物品 $i$ 的用户集合"
   ]
  },
  {
   "cell_type": "markdown",
   "metadata": {},
   "source": [
    "$I_{(u)}:$ 用户 $u$ 访问过的物品集合"
   ]
  },
  {
   "cell_type": "markdown",
   "metadata": {},
   "source": [
    "$|I_{u}|:$ 用户 $u$ 访问过的物品的个数"
   ]
  },
  {
   "cell_type": "markdown",
   "metadata": {},
   "source": [
    "$r_{ui}:$ 用户 $u$ 对物品 $i$ 的打分"
   ]
  },
  {
   "cell_type": "markdown",
   "metadata": {},
   "source": [
    "$R_{(u)}:$ 用户 $u$ 的打分集合\n",
    "\n",
    "<center> $R_{(u)} \\in \\{r_{ui}\\ |\\ i \\in I_{(u)}\\}$"
   ]
  },
  {
   "cell_type": "markdown",
   "metadata": {},
   "source": [
    "$\\overline{r_{u}}:$ 用户 $u$ 的所有评分的均值\n",
    "\n",
    "<center>$\\overline{r_{u}}=\\frac{\\sum\\limits_{i\\in I_{(u)}}r_{ui}}{|I_{(u)}|}$"
   ]
  },
  {
   "cell_type": "markdown",
   "metadata": {},
   "source": [
    "$\\rho_{uj}:$ 用户 $u$ 与用户 $j$ 的相关系数\n",
    "\n",
    "\\begin{align}\n",
    "\\rho_{ui}&=\\frac{Cov(R_{(u)},R_{(j)})}{\\sigma_{R_{(u)}}\\sigma_{R_{(j)}}}\n",
    "\\\\     &=\\frac{\\sum\\limits_{i\\in I_{(u)} \\cap I_{(j)}}(r_{ui}-\\overline{r_{u}})(r_{ji}-\\overline{r_{j}})}{\\sqrt{\\sum\\limits_{i\\in I_{(u)} \\cap I_{(j)}}(r_{ui}-\\overline{r_{u}})^{2}}\\sqrt{\\sum\\limits_{i\\in I_{(u)} \\cap I_{(j)}}(r_{ji}-\\overline{r_{j}})^{2}}}\n",
    "\\end{align}"
   ]
  },
  {
   "cell_type": "markdown",
   "metadata": {},
   "source": [
    "$\\hat{r_{ui}}:$ 用户 $u$ 对物品 $i$ 的打分的预测值\n",
    "\n",
    "<center>$\\hat{r_{ui}}=\\overline{r_{u}}+\\frac{\\sum\\limits_{j\\in U_{(i)}}(r_{ij}-\\overline{r_{j}})\\rho_{uj}}{\\sum\\limits_{j\\in U_{(i)}}\\rho_{uj}}$"
   ]
  },
  {
   "cell_type": "markdown",
   "metadata": {},
   "source": [
    "# Item-CF"
   ]
  },
  {
   "cell_type": "markdown",
   "metadata": {},
   "source": [
    "$U_{(i)}:$ 访问过物品 $i$ 的用户集合"
   ]
  },
  {
   "cell_type": "markdown",
   "metadata": {},
   "source": [
    "$I_{(u)}:$ 用户 $u$ 访问过的物品集合"
   ]
  },
  {
   "cell_type": "markdown",
   "metadata": {},
   "source": [
    "$|U_{(i)}|:$ 访问过物品 $i$ 的用户的个数"
   ]
  },
  {
   "cell_type": "markdown",
   "metadata": {},
   "source": [
    "$r_{ui}:$ 用户 $u$ 对物品 $i$ 的打分"
   ]
  },
  {
   "cell_type": "markdown",
   "metadata": {},
   "source": [
    "$R_{(i)}:$ 物品 $i$ 的打分集合\n",
    "\n",
    "<center> $R_{(i)} \\in \\{r_{ui}\\ |\\ u \\in U_{(i)}\\}$"
   ]
  },
  {
   "cell_type": "markdown",
   "metadata": {},
   "source": [
    "$\\overline{r_{i}}:$ 物品 $i$ 的所有评分的均值\n",
    "\n",
    "<center>$\\overline{r_{i}}=\\frac{\\sum\\limits_{u\\in U_{(i)}}r_{ui}}{|U_{(i)}|}$"
   ]
  },
  {
   "cell_type": "markdown",
   "metadata": {},
   "source": [
    "$\\rho_{ki}:$ 物品 $k$ 与物品 $i$ 的相关系数\n",
    "\\begin{align}\n",
    "\\rho_{ki}&=\\frac{Cov(R_{(k)},R_{(i)})}{\\sigma_{R_{(k)}}\\sigma_{R_{(i)}}}\n",
    "\\\\\n",
    "\\quad&=\\frac{\\sum\\limits_{u\\in U_{(k)} \\cap U_{(i)}}(r_{ui}-\\overline{r_{i}})(r_{uk}-\\overline{r_{k}})}{\\sqrt{\\sum\\limits_{u\\in U_{(k)} \\cap U_{(i)}}(r_{uk}-\\overline{r_{k}})^{2}}\\sqrt{\\sum\\limits_{u\\in U_{(k)} \\cap U_{(i)}}(r_{ui}-\\overline{r_{i}})^{2}}}\n",
    "\\end{align}"
   ]
  },
  {
   "cell_type": "markdown",
   "metadata": {},
   "source": [
    "$\\hat{r_{ui}}:$ 用户 $u$ 对物品 $i$ 的打分的预测值\n",
    "\n",
    "<center>$\\hat{r_{ui}}=\\overline{r_{i}}+\\frac{\\sum\\limits_{k\\in I_{(u)}}(r_{uk}-\\overline{r_{k}})\\rho_{ki}}{\\sum\\limits_{k\\in I_{(u)}}\\rho_{ki}}$"
   ]
  },
  {
   "cell_type": "markdown",
   "metadata": {},
   "source": [
    "# FunkSVD"
   ]
  },
  {
   "cell_type": "markdown",
   "metadata": {},
   "source": [
    "$假设有n个用户，m个物品，f个特征$\n",
    "\n",
    "> $P_{n\\times m}:$ user-factor matrix\n",
    "\n",
    "> $Q_{n\\times m}:$ item-factor matrix\n",
    "\n",
    "> $R^{f}:$ 1$\\times$factor vector\n",
    "\n",
    "> $q_{i}:$ $Q$ 中物品 $i$ 所在的行的向量\n",
    "\n",
    "> $p_{u}:$ $P$ 中用户 $u$ 所在的行的向量"
   ]
  },
  {
   "cell_type": "markdown",
   "metadata": {},
   "source": [
    "$r_{ui}:$ 用户 $u$ 对物品 $i$ 的打分"
   ]
  },
  {
   "cell_type": "markdown",
   "metadata": {},
   "source": [
    "$\\kappa\\in\\{(u,i)\\ |\\ r_{ui}\\ is \\ known\\}$"
   ]
  },
  {
   "cell_type": "markdown",
   "metadata": {},
   "source": [
    "$\\hat{r_{ui}}:$ 用户 $u$ 对物品 $i$ 的打分的预测值\n",
    "\n",
    "<center>$\\hat{r_{ui}}=q_{i}^{T}p_{u}$"
   ]
  },
  {
   "cell_type": "markdown",
   "metadata": {},
   "source": [
    "<center>$\\Arrowvert q_{i}\\Arrowvert^{2}=q_{i}^{T}q_{i} \\qquad \\Arrowvert p_{u}\\Arrowvert^{2}=p_{u}^{T}p_{u} $"
   ]
  },
  {
   "cell_type": "markdown",
   "metadata": {},
   "source": [
    "$\\lambda:$ 正则化所用系数"
   ]
  },
  {
   "cell_type": "markdown",
   "metadata": {},
   "source": [
    "$\\alpha:$ learning rate\n",
    "\n",
    "<center>$C(q_{i},p_{u})=\\frac{1}{2}\\sum\\limits_{(u,i)\\in \\kappa}(r_{ui}-\\hat{r_{ui}})^{2}+\\lambda(\\Arrowvert q_{i}\\Arrowvert^{2}+\\Arrowvert p_{u}\\Arrowvert^{2})$"
   ]
  },
  {
   "cell_type": "markdown",
   "metadata": {},
   "source": [
    "$error=r_{ui}-\\hat{r_{ui}}$"
   ]
  },
  {
   "cell_type": "markdown",
   "metadata": {},
   "source": [
    "$\\begin{align}\n",
    "q_{i}:&=q_{i}-\\frac{\\alpha}{2}\\triangledown C(q_{i},p_{u}) \n",
    "\\\\ &=q_{i}-\\frac{\\alpha}{2}\\frac{\\partial C(q_{i},p_{u})}{\\partial q_{i}}\n",
    "\\\\ &=q_{i}-\\frac{\\alpha}{2}(2error\\times(-p_{u})+2\\lambda q_{i})\n",
    "\\\\ &=q_{i}+\\alpha(error\\times p_{u}-\\lambda q_{i})\n",
    "\\end{align}$"
   ]
  },
  {
   "cell_type": "markdown",
   "metadata": {},
   "source": [
    "$\\begin{align}\n",
    "p_{u}:&=p_{u}-\\frac{\\alpha}{2}\\triangledown C(q_{i},p_{u})\n",
    "\\\\ &=p_{u}-\\frac{\\alpha}{2}\\frac{\\partial C(q_{i},p_{u})}{\\partial p_{u}}\n",
    "\\\\ &=p_{u}-\\frac{\\alpha}{2}(2error\\times(-q_{i})+2\\lambda p_{u})\n",
    "\\\\ &=p_{u}+\\alpha(error\\times q_{i}-\\lambda p_{u})\n",
    "\\end{align}$"
   ]
  },
  {
   "cell_type": "markdown",
   "metadata": {},
   "source": [
    "***"
   ]
  },
  {
   "cell_type": "markdown",
   "metadata": {},
   "source": [
    "# BiasSVD"
   ]
  },
  {
   "cell_type": "markdown",
   "metadata": {},
   "source": [
    "$假定有n个用户，m个物品,f个特征。$"
   ]
  },
  {
   "cell_type": "markdown",
   "metadata": {},
   "source": [
    "$P_{n\\times f}: $ user-factor matrix "
   ]
  },
  {
   "cell_type": "markdown",
   "metadata": {},
   "source": [
    "$Q_{m\\times f}:$ item-factor matrix "
   ]
  },
  {
   "cell_type": "markdown",
   "metadata": {},
   "source": [
    "$R^f:$ 1$×$factor vector"
   ]
  },
  {
   "cell_type": "markdown",
   "metadata": {},
   "source": [
    "$q_i:$ $Q$ 中物品 $i$ 所在行的向量"
   ]
  },
  {
   "cell_type": "markdown",
   "metadata": {},
   "source": [
    "$p_u:$ $P$ 中用户所在的行的向量 "
   ]
  },
  {
   "cell_type": "markdown",
   "metadata": {},
   "source": [
    "$U_{(i)}:$ 访问过物品 $i$ 的用户集合"
   ]
  },
  {
   "cell_type": "markdown",
   "metadata": {},
   "source": [
    "$I_{(u)}:$ 用户 $u$ 访问过的物品集合"
   ]
  },
  {
   "cell_type": "markdown",
   "metadata": {},
   "source": [
    "$r_{ui}:$ 用户 $u$ 对物品 $i$ 的评分"
   ]
  },
  {
   "cell_type": "markdown",
   "metadata": {},
   "source": [
    "$\\kappa$ $:$ $\\{ (u,i)|$  $r_{ui}$ is known $\\}$"
   ]
  },
  {
   "cell_type": "markdown",
   "metadata": {},
   "source": [
    "$|\\kappa|:$ 已知的所有评分总数"
   ]
  },
  {
   "cell_type": "markdown",
   "metadata": {},
   "source": [
    "$\\mu:$ 所有评分的均值\n",
    "<center> $\\mu = \\frac{\\sum\\limits_{(u,i) \\in \\kappa} r_{ui}}{|\\kappa|}$ </center>"
   ]
  },
  {
   "cell_type": "markdown",
   "metadata": {},
   "source": [
    "$b_i:$ 物品 $i$ 的平均分与整体评分均值的偏差\n",
    "<center> $ b_i = \\frac{ \\sum\\limits_{u \\in U_{(i)}}(r_{ui} - \\mu) }{ |U_{(i)}| }$ </center>"
   ]
  },
  {
   "cell_type": "markdown",
   "metadata": {},
   "source": [
    "$b_u:$ 用户 $u$ 的平均分与整体评分均值的偏差\n",
    "<center> $ b_u = \\frac{ \\sum\\limits_{i \\in I_{(u)}}(r_{ui} - \\mu - b_i) }{ |I_{(u)}| }$ </center>"
   ]
  },
  {
   "cell_type": "markdown",
   "metadata": {},
   "source": [
    "$b_{ui}:$ A baseline estimate for an unknown rating\n",
    "<center> $ b_{ui} = \\mu + b_i + b_u $ </center>"
   ]
  },
  {
   "cell_type": "markdown",
   "metadata": {},
   "source": [
    "$\\hat{r_{ui}}:$ 用户 $u$ 对物品 $i$ 的评分的预测值"
   ]
  },
  {
   "cell_type": "markdown",
   "metadata": {},
   "source": [
    "$\\lambda:$ 正则化系数"
   ]
  },
  {
   "cell_type": "markdown",
   "metadata": {},
   "source": [
    "$\\alpha:$ 学习速率(learning rate)"
   ]
  },
  {
   "cell_type": "markdown",
   "metadata": {},
   "source": [
    "<center> $ \\hat{r_{ui}} = b_{ui} + q_i^T p_u $ $\\quad (q_i,p_u \\in R^f ，下同)$ </center>"
   ]
  },
  {
   "cell_type": "markdown",
   "metadata": {},
   "source": [
    "<center>$ C(q_i, p_u, b_u, b_i) =\\frac{1}{2} \\sum\\limits_{(u,i) \\in \\kappa}\\{(r_{ui} - \\hat{r}_{ui})^2 + \\lambda(||q_i||^2 + ||p_u||^2 + b_u^2 + b_i^2)\\}$</center>"
   ]
  },
  {
   "cell_type": "markdown",
   "metadata": {},
   "source": [
    "<center> $||q_i||^2 = q_i^T q_i \\quad ||p_u||^2 = p_u^T p_u $ </center>"
   ]
  },
  {
   "cell_type": "markdown",
   "metadata": {},
   "source": [
    "By Stochastic Gradient Descent(SGD):"
   ]
  },
  {
   "cell_type": "markdown",
   "metadata": {},
   "source": [
    "$\\begin{align}\n",
    "error &= r_{ui} - \\hat{r}_{ui}\n",
    "\\end{align}$"
   ]
  },
  {
   "cell_type": "markdown",
   "metadata": {},
   "source": [
    "$\\begin{align}\n",
    " b_u :&= b_u - \\triangledown C\n",
    "  \\\\  &= b_u - \\alpha \\frac{\\partial C}{\\partial b_u}\n",
    "  \\\\  &= b_u - \\frac{\\alpha}{2} (error\\cdot(-2) + \\lambda \\cdot 2b_u)\n",
    "  \\\\  &= b_u + \\alpha(error - \\lambda \\cdot b_u)\n",
    "\\end{align}$"
   ]
  },
  {
   "cell_type": "markdown",
   "metadata": {},
   "source": [
    "$\\begin{align}\n",
    " b_i :&= b_i - \\triangledown C\n",
    "  \\\\  &= b_i - \\alpha \\frac{\\partial C}{\\partial b_i}\n",
    "  \\\\  &= b_i - \\frac{\\alpha}{2} (error\\cdot(-2) + \\lambda \\cdot 2b_i)\n",
    "  \\\\  &= b_i + \\alpha(error - \\lambda \\cdot b_i)\n",
    "\\end{align}$"
   ]
  },
  {
   "cell_type": "markdown",
   "metadata": {},
   "source": [
    "$\\begin{align}\n",
    " p_u :&= p_u - \\triangledown C\n",
    "  \\\\  &= p_u - \\alpha \\frac{\\partial C}{\\partial p_u}\n",
    "  \\\\  &= p_u - \\frac{\\alpha}{2} (error\\cdot(-2)\\cdot q_i + \\lambda \\cdot 2p_u)\n",
    "  \\\\  &= p_u + \\alpha(error \\cdot q_i - \\lambda \\cdot p_u)\n",
    "\\end{align}$"
   ]
  },
  {
   "cell_type": "markdown",
   "metadata": {},
   "source": [
    "$\\begin{align}\n",
    " q_i :&= q_i - \\triangledown C\n",
    "  \\\\  &= q_i - \\alpha \\frac{\\partial C}{\\partial q_i}\n",
    "  \\\\  &= q_i - \\frac{\\alpha}{2} (error\\cdot(-2)\\cdot p_u + \\lambda \\cdot 2q_i)\n",
    "  \\\\  &= q_i + \\alpha(error \\cdot p_u - \\lambda \\cdot q_i)\n",
    "\\end{align}$"
   ]
  },
  {
   "cell_type": "markdown",
   "metadata": {},
   "source": [
    "***"
   ]
  },
  {
   "cell_type": "markdown",
   "metadata": {},
   "source": [
    "# SVD++"
   ]
  },
  {
   "cell_type": "markdown",
   "metadata": {},
   "source": [
    "$假设有m个物品(item)，n个用户(user)，f个因子(factor)$"
   ]
  },
  {
   "cell_type": "markdown",
   "metadata": {},
   "source": [
    "$C_{(m\\times m)}:$ item-item 隐语义矩阵"
   ]
  },
  {
   "cell_type": "markdown",
   "metadata": {},
   "source": [
    "$P_{n\\times f}: $ user-factor matrix "
   ]
  },
  {
   "cell_type": "markdown",
   "metadata": {},
   "source": [
    "$Q_{m\\times f}:$ item-factor matrix "
   ]
  },
  {
   "cell_type": "markdown",
   "metadata": {},
   "source": [
    "<center> $ W = PQ^T $ </center>"
   ]
  },
  {
   "cell_type": "markdown",
   "metadata": {},
   "source": [
    "$R^f:$ 1$×$factor vector"
   ]
  },
  {
   "cell_type": "markdown",
   "metadata": {},
   "source": [
    "$Y_{m\\times f}:$ item-factor 隐语义矩阵 "
   ]
  },
  {
   "cell_type": "markdown",
   "metadata": {},
   "source": [
    "<center> $ C = YQ^T $ </center>"
   ]
  },
  {
   "cell_type": "markdown",
   "metadata": {},
   "source": [
    "$y_j:$ $Y$ 中物品 $j$ 所在行的向量"
   ]
  },
  {
   "cell_type": "markdown",
   "metadata": {},
   "source": [
    "$q_i:$ $Q$ 中物品 $i$ 所在行的向量"
   ]
  },
  {
   "cell_type": "markdown",
   "metadata": {},
   "source": [
    "$p_u:$ $P$ 中用户所在的行的向量 "
   ]
  },
  {
   "cell_type": "markdown",
   "metadata": {},
   "source": [
    "$U_{(i)}:$ 访问过物品 $i$ 的用户集合"
   ]
  },
  {
   "cell_type": "markdown",
   "metadata": {},
   "source": [
    "$I_{(u)}:$ 用户 $u$ 访问过的物品集合"
   ]
  },
  {
   "cell_type": "markdown",
   "metadata": {},
   "source": [
    "$N_{(u)}:$ 用户 $u$ 隐性表达的物品集合"
   ]
  },
  {
   "cell_type": "markdown",
   "metadata": {},
   "source": [
    "$|N_{(u)}|:$ 用户 $u$ 隐性表达的物品总数"
   ]
  },
  {
   "cell_type": "markdown",
   "metadata": {},
   "source": [
    "$r_{ui}:$ 用户 $u$ 对物品 $i$ 的评分"
   ]
  },
  {
   "cell_type": "markdown",
   "metadata": {},
   "source": [
    "$\\kappa$ $:$ $\\{ (u,i)|$  $r_{ui}$ is known $\\}$"
   ]
  },
  {
   "cell_type": "markdown",
   "metadata": {},
   "source": [
    "$|\\kappa|:$ 已知的所有评分总数"
   ]
  },
  {
   "cell_type": "markdown",
   "metadata": {},
   "source": [
    "$\\mu:$ 所有评分的均值\n",
    "<center> $\\mu = \\frac{\\sum\\limits_{(u,i) \\in \\kappa} r_{ui}}{|\\kappa|}$ </center>"
   ]
  },
  {
   "cell_type": "markdown",
   "metadata": {},
   "source": [
    "$b_i:$ 物品 $i$ 的平均分与整体评分均值的偏差\n",
    "<center> $ b_i = \\frac{ \\sum\\limits_{u \\in U_{(i)}}(r_{ui} - \\mu) }{ |U_{(i)}| }$ </center>"
   ]
  },
  {
   "cell_type": "markdown",
   "metadata": {},
   "source": [
    "$b_u:$ 用户 $u$ 的平均分与整体评分均值的偏差\n",
    "<center> $ b_u = \\frac{ \\sum\\limits_{i \\in I_{(u)}}(r_{ui} - \\mu - b_i) }{ |I_{(u)}| }$ </center>"
   ]
  },
  {
   "cell_type": "markdown",
   "metadata": {},
   "source": [
    "$b_{ui}:$ A baseline estimate for an unknown rating\n",
    "<center> $ b_{ui} = \\mu + b_i + b_u $ </center>"
   ]
  },
  {
   "cell_type": "markdown",
   "metadata": {},
   "source": [
    "$\\hat{r_{ui}}:$ 用户 $u$ 对物品 $i$ 的评分的预测值"
   ]
  },
  {
   "cell_type": "markdown",
   "metadata": {},
   "source": [
    "$\\lambda:$ 正则化系数"
   ]
  },
  {
   "cell_type": "markdown",
   "metadata": {},
   "source": [
    "$\\alpha:$ 学习速率(learning rate)"
   ]
  },
  {
   "cell_type": "markdown",
   "metadata": {},
   "source": [
    "<center> $ \\hat{r_{ui}} = b_{ui} + q_i^T (p_u + |N_{(u)}|^{-\\frac{1}{2}} \\sum\\limits_{j \\in N_{(u)}}y_j) $ $\\quad (q_i,p_u \\in R^f ，下同)$ </center>"
   ]
  },
  {
   "cell_type": "markdown",
   "metadata": {},
   "source": [
    "<center>$ C(q_i, p_u, b_u, b_i, y_j) =\\frac{1}{2} \\sum\\limits_{(u,i) \\in \\kappa}\\{(r_{ui} - \\hat{r}_{ui})^2 + \\lambda(||q_i||^2 + ||p_u||^2 + b_u^2 + b_i^2 + y_j^2)\\}$</center>"
   ]
  },
  {
   "cell_type": "markdown",
   "metadata": {},
   "source": [
    "By Stochastic Gradient Descent(SGD):"
   ]
  },
  {
   "cell_type": "markdown",
   "metadata": {},
   "source": [
    "$error = r_{ui} - \\hat{r}_{ui}$"
   ]
  },
  {
   "cell_type": "markdown",
   "metadata": {},
   "source": [
    "$\\begin{align}\n",
    " b_u :&= b_u - \\triangledown C\n",
    "  \\\\  &= b_u - \\alpha \\frac{\\partial C}{\\partial b_u}\n",
    "  \\\\  &= b_u - \\frac{\\alpha}{2} (error\\cdot(-2) + \\lambda \\cdot 2b_u)\n",
    "  \\\\  &= b_u + \\alpha(error - \\lambda \\cdot b_u)\n",
    "\\end{align}$"
   ]
  },
  {
   "cell_type": "markdown",
   "metadata": {},
   "source": [
    "$\\begin{align}\n",
    " b_i :&= b_i - \\triangledown C\n",
    "  \\\\  &= b_i - \\alpha \\frac{\\partial C}{\\partial b_i}\n",
    "  \\\\  &= b_i - \\frac{\\alpha}{2} (error\\cdot(-2) + \\lambda \\cdot 2b_i)\n",
    "  \\\\  &= b_i + \\alpha(error - \\lambda \\cdot b_i)\n",
    "\\end{align}$"
   ]
  },
  {
   "cell_type": "markdown",
   "metadata": {},
   "source": [
    "$\\begin{align}\n",
    " p_u :&= p_u - \\triangledown C\n",
    "  \\\\  &= p_u - \\alpha \\frac{\\partial C}{\\partial p_u}\n",
    "  \\\\  &= p_u - \\frac{\\alpha}{2} (error\\cdot(-2)\\cdot q_i + \\lambda \\cdot 2p_u)\n",
    "  \\\\  &= p_u + \\alpha(error \\cdot q_i - \\lambda \\cdot p_u)\n",
    "\\end{align}$"
   ]
  },
  {
   "cell_type": "markdown",
   "metadata": {},
   "source": [
    "$\\begin{align}\n",
    " q_i :&= q_i - \\triangledown C\n",
    "  \\\\  &= q_i - \\alpha \\frac{\\partial C}{\\partial q_i}\n",
    "  \\\\  &= q_i - \\frac{\\alpha}{2} (error\\cdot(-2)\\cdot (p_u + |N_{(u)}|^{-\\frac{1}{2}} \\sum\\limits_{j \\in N_{(u)}}y_j) + \\lambda \\cdot 2q_i)\n",
    "  \\\\  &= q_i + \\alpha(error \\cdot (p_u +|N_{(u)}|^{-\\frac{1}{2}} \\sum\\limits_{j \\in N_{(u)}}y_j) - \\lambda \\cdot q_i)\n",
    "\\end{align}$"
   ]
  },
  {
   "cell_type": "markdown",
   "metadata": {},
   "source": [
    "***"
   ]
  }
 ],
 "metadata": {
  "kernelspec": {
   "display_name": "Python 3",
   "language": "python",
   "name": "python3"
  },
  "language_info": {
   "codemirror_mode": {
    "name": "ipython",
    "version": 3
   },
   "file_extension": ".py",
   "mimetype": "text/x-python",
   "name": "python",
   "nbconvert_exporter": "python",
   "pygments_lexer": "ipython3",
   "version": "3.6.5"
  }
 },
 "nbformat": 4,
 "nbformat_minor": 2
}
