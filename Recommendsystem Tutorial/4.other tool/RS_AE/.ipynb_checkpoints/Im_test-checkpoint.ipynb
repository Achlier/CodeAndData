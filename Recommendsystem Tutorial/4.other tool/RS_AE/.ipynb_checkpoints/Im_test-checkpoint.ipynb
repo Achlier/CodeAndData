{
 "cells": [
  {
   "cell_type": "markdown",
   "metadata": {},
   "source": [
    "## ALS"
   ]
  },
  {
   "cell_type": "code",
   "execution_count": 3,
   "metadata": {},
   "outputs": [
    {
     "ename": "ModuleNotFoundError",
     "evalue": "No module named 'model'",
     "output_type": "error",
     "traceback": [
      "\u001b[1;31m---------------------------------------------------------------------------\u001b[0m",
      "\u001b[1;31mModuleNotFoundError\u001b[0m                       Traceback (most recent call last)",
      "\u001b[1;32m<ipython-input-3-548d861dd5a7>\u001b[0m in \u001b[0;36m<module>\u001b[1;34m()\u001b[0m\n\u001b[0;32m      1\u001b[0m \u001b[1;32mimport\u001b[0m \u001b[0msys\u001b[0m\u001b[1;33m\u001b[0m\u001b[0m\n\u001b[0;32m      2\u001b[0m \u001b[0msys\u001b[0m\u001b[1;33m.\u001b[0m\u001b[0mpath\u001b[0m\u001b[1;33m.\u001b[0m\u001b[0mappend\u001b[0m\u001b[1;33m(\u001b[0m\u001b[1;34mr\"RSA/\"\u001b[0m\u001b[1;33m)\u001b[0m\u001b[1;33m\u001b[0m\u001b[0m\n\u001b[1;32m----> 3\u001b[1;33m \u001b[1;32mfrom\u001b[0m \u001b[0mmodel\u001b[0m\u001b[1;33m.\u001b[0m\u001b[0mimplicit_als\u001b[0m \u001b[1;32mimport\u001b[0m \u001b[0mImplicit_als\u001b[0m\u001b[1;33m\u001b[0m\u001b[0m\n\u001b[0m\u001b[0;32m      4\u001b[0m \u001b[1;32mfrom\u001b[0m \u001b[0mutility\u001b[0m\u001b[1;33m.\u001b[0m\u001b[0mrevalue\u001b[0m \u001b[1;32mimport\u001b[0m \u001b[0mImplicitRevalue\u001b[0m\u001b[1;33m\u001b[0m\u001b[0m\n",
      "\u001b[1;31mModuleNotFoundError\u001b[0m: No module named 'model'"
     ]
    }
   ],
   "source": [
    "import sys\n",
    "sys.path.append(r\"RSA/\")\n",
    "from RSA import run_func\n",
    "from model.implicit_als import Implicit_als\n",
    "from utility.revalue import ImplicitRevalue"
   ]
  },
  {
   "cell_type": "code",
   "execution_count": 5,
   "metadata": {},
   "outputs": [
    {
     "ename": "NameError",
     "evalue": "name 'Implicit_als' is not defined",
     "output_type": "error",
     "traceback": [
      "\u001b[1;31m---------------------------------------------------------------------------\u001b[0m",
      "\u001b[1;31mNameError\u001b[0m                                 Traceback (most recent call last)",
      "\u001b[1;32m<ipython-input-5-62bf4c0f2f39>\u001b[0m in \u001b[0;36m<module>\u001b[1;34m()\u001b[0m\n\u001b[1;32m----> 1\u001b[1;33m \u001b[0mimplicit_als\u001b[0m\u001b[1;33m=\u001b[0m\u001b[0mImplicit_als\u001b[0m\u001b[1;33m(\u001b[0m\u001b[1;33m)\u001b[0m\u001b[1;33m\u001b[0m\u001b[0m\n\u001b[0m",
      "\u001b[1;31mNameError\u001b[0m: name 'Implicit_als' is not defined"
     ]
    }
   ],
   "source": [
    "implicit_als=Implicit_als()"
   ]
  },
  {
   "cell_type": "code",
   "execution_count": 4,
   "metadata": {
    "scrolled": true
   },
   "outputs": [
    {
     "name": "stdout",
     "output_type": "stream",
     "text": [
      "{\n",
      "    'dataset_name': 'ft',\n",
      "    'k_fold_num': 5,\n",
      "    'k_test': 0,\n",
      "    'rating_path': 'RSA/data/ft_ratings.txt',\n",
      "    'rating_cv_path': 'RSA/data/cv/',\n",
      "    'trust_path': 'RSA/data/ft_trust.txt',\n",
      "    'sep': ' ',\n",
      "    'random_state': 0,\n",
      "    'size': 0.8,\n",
      "    'min_val': 0.5,\n",
      "    'max_val': 4.0,\n",
      "    'coldUserRating': 5,\n",
      "    'factor': 10,\n",
      "    'threshold': 0.0001,\n",
      "    'lr': 0.01,\n",
      "    'maxIter': 100,\n",
      "    'lambdaP': 0.001,\n",
      "    'lambdaQ': 0.001,\n",
      "    'gamma': 0,\n",
      "    'isEarlyStopping': False,\n",
      "    'result_path': '../results/',\n",
      "    'model_path': 'model/',\n",
      "    'result_log_path': 'log/'\n",
      "}\n",
      "iteration 1 of 10\n",
      "iteration 2 of 10\n",
      "iteration 3 of 10\n",
      "iteration 4 of 10\n",
      "iteration 5 of 10\n",
      "iteration 6 of 10\n",
      "iteration 7 of 10\n",
      "iteration 8 of 10\n",
      "iteration 9 of 10\n",
      "iteration 10 of 10\n"
     ]
    }
   ],
   "source": [
    "RS = run_func(model=implicit_als ,is_implicit=True)"
   ]
  },
  {
   "cell_type": "code",
   "execution_count": 5,
   "metadata": {},
   "outputs": [
    {
     "name": "stdout",
     "output_type": "stream",
     "text": [
      "------------ num_items: 10\n"
     ]
    },
    {
     "name": "stderr",
     "output_type": "stream",
     "text": [
      "100%|██████████████████████████████████████████████████████████████████████████████| 1890/1890 [00:29<00:00, 63.36it/s]\n"
     ]
    },
    {
     "name": "stdout",
     "output_type": "stream",
     "text": [
      "------------ num_items: 20\n"
     ]
    },
    {
     "name": "stderr",
     "output_type": "stream",
     "text": [
      "100%|██████████████████████████████████████████████████████████████████████████████| 1890/1890 [01:07<00:00, 27.88it/s]\n"
     ]
    },
    {
     "data": {
      "text/plain": [
       "[0.0015203845039126656, 0.0032428428815251325]"
      ]
     },
     "execution_count": 5,
     "metadata": {},
     "output_type": "execute_result"
    }
   ],
   "source": [
    "ImplicitRevalue.recall(RS,implicit_als,num_items=[10,20])"
   ]
  },
  {
   "cell_type": "markdown",
   "metadata": {},
   "source": [
    "## BPR"
   ]
  },
  {
   "cell_type": "code",
   "execution_count": 6,
   "metadata": {},
   "outputs": [],
   "source": [
    "import sys\n",
    "sys.path.append(\"RSA/\")\n",
    "from RSA import run_func\n",
    "from model.implicit_bpr import BPR"
   ]
  },
  {
   "cell_type": "code",
   "execution_count": 7,
   "metadata": {},
   "outputs": [],
   "source": [
    "bpr=BPR()"
   ]
  },
  {
   "cell_type": "code",
   "execution_count": 8,
   "metadata": {
    "scrolled": true
   },
   "outputs": [
    {
     "name": "stdout",
     "output_type": "stream",
     "text": [
      "{\n",
      "    'dataset_name': 'ft',\n",
      "    'k_fold_num': 5,\n",
      "    'k_test': 0,\n",
      "    'rating_path': 'RSA/data/ft_ratings.txt',\n",
      "    'rating_cv_path': 'RSA/data/cv/',\n",
      "    'trust_path': 'RSA/data/ft_trust.txt',\n",
      "    'sep': ' ',\n",
      "    'random_state': 0,\n",
      "    'size': 0.8,\n",
      "    'min_val': 0.5,\n",
      "    'max_val': 4.0,\n",
      "    'coldUserRating': 5,\n",
      "    'factor': 10,\n",
      "    'threshold': 0.0001,\n",
      "    'lr': 0.01,\n",
      "    'maxIter': 100,\n",
      "    'lambdaP': 0.001,\n",
      "    'lambdaQ': 0.001,\n",
      "    'gamma': 0,\n",
      "    'isEarlyStopping': False,\n",
      "    'result_path': '../results/',\n",
      "    'model_path': 'model/',\n",
      "    'result_log_path': 'log/'\n",
      "}\n"
     ]
    },
    {
     "name": "stderr",
     "output_type": "stream",
     "text": [
      "BPR: 100%|█████████████████████████████████████████████████████████████████████████████| 10/10 [00:00<00:00, 95.25it/s]\n"
     ]
    }
   ],
   "source": [
    "RS = run_func(model=bpr ,is_implicit=True)"
   ]
  },
  {
   "cell_type": "code",
   "execution_count": 9,
   "metadata": {},
   "outputs": [
    {
     "name": "stdout",
     "output_type": "stream",
     "text": [
      "------------ num_items: 10\n"
     ]
    },
    {
     "name": "stderr",
     "output_type": "stream",
     "text": [
      "100%|█████████████████████████████████████████████████████████████████████████████| 1890/1890 [00:05<00:00, 336.48it/s]\n"
     ]
    },
    {
     "name": "stdout",
     "output_type": "stream",
     "text": [
      "------------ num_items: 20\n"
     ]
    },
    {
     "name": "stderr",
     "output_type": "stream",
     "text": [
      "100%|█████████████████████████████████████████████████████████████████████████████| 1890/1890 [00:05<00:00, 334.95it/s]\n"
     ]
    },
    {
     "data": {
      "text/plain": [
       "[0.0005950847475820908, 0.0009632724696486653]"
      ]
     },
     "execution_count": 9,
     "metadata": {},
     "output_type": "execute_result"
    }
   ],
   "source": [
    "ImplicitRevalue.recall(RS,bpr,num_items=[10,20])"
   ]
  },
  {
   "cell_type": "markdown",
   "metadata": {},
   "source": [
    "## Bias_svd(with implicit_data)"
   ]
  },
  {
   "cell_type": "code",
   "execution_count": 1,
   "metadata": {},
   "outputs": [],
   "source": [
    "import sys\n",
    "sys.path.append(\"RSA/\")\n",
    "from RSA import run_func\n",
    "from model.implicit_bias_svd import implicit_biasSVD"
   ]
  },
  {
   "cell_type": "code",
   "execution_count": 2,
   "metadata": {},
   "outputs": [],
   "source": [
    "ibd=implicit_biasSVD()"
   ]
  },
  {
   "cell_type": "code",
   "execution_count": 3,
   "metadata": {
    "scrolled": true
   },
   "outputs": [
    {
     "name": "stdout",
     "output_type": "stream",
     "text": [
      "{\n",
      "    'dataset_name': 'ft',\n",
      "    'k_fold_num': 5,\n",
      "    'k_test': 0,\n",
      "    'rating_path': 'RSA/data/ft_ratings.txt',\n",
      "    'rating_cv_path': 'RSA/data/cv/',\n",
      "    'trust_path': 'RSA/data/ft_trust.txt',\n",
      "    'sep': ' ',\n",
      "    'random_state': 0,\n",
      "    'size': 0.8,\n",
      "    'min_val': 0.5,\n",
      "    'max_val': 4.0,\n",
      "    'coldUserRating': 5,\n",
      "    'factor': 10,\n",
      "    'threshold': 0.0001,\n",
      "    'lr': 0.01,\n",
      "    'maxIter': 3,\n",
      "    'lambdaP': 0.001,\n",
      "    'lambdaQ': 0.001,\n",
      "    'gamma': 0,\n",
      "    'isEarlyStopping': False,\n",
      "    'result_path': '../results/',\n",
      "    'model_path': 'model/',\n",
      "    'result_log_path': 'log/'\n",
      "}\n",
      "<class 'model.implicit_bias_svd.implicit_biasSVD'> iteration 1: loss = 12305.7802, delta_loss = -12305.78022 learning_Rate = 0.01000 rmse=4074.89378 mae=755.48413\n",
      "<class 'model.implicit_bias_svd.implicit_biasSVD'> iteration 2: loss = 4070.9349, delta_loss = 8234.84536 learning_Rate = 0.01000 rmse=4074.89402 mae=755.48655\n",
      "<class 'model.implicit_bias_svd.implicit_biasSVD'> iteration 3: loss = 2082.7410, delta_loss = 1988.19389 learning_Rate = 0.01000 rmse=4074.89403 mae=755.48672\n"
     ]
    }
   ],
   "source": [
    "bd = run_func(model=ibd ,is_implicit=True)"
   ]
  },
  {
   "cell_type": "code",
   "execution_count": 4,
   "metadata": {},
   "outputs": [
    {
     "data": {
      "text/html": [
       "<div>\n",
       "<style scoped>\n",
       "    .dataframe tbody tr th:only-of-type {\n",
       "        vertical-align: middle;\n",
       "    }\n",
       "\n",
       "    .dataframe tbody tr th {\n",
       "        vertical-align: top;\n",
       "    }\n",
       "\n",
       "    .dataframe thead th {\n",
       "        text-align: right;\n",
       "    }\n",
       "</style>\n",
       "<table border=\"1\" class=\"dataframe\">\n",
       "  <thead>\n",
       "    <tr style=\"text-align: right;\">\n",
       "      <th></th>\n",
       "      <th>artist</th>\n",
       "      <th>score</th>\n",
       "    </tr>\n",
       "  </thead>\n",
       "  <tbody>\n",
       "    <tr>\n",
       "      <th>10278</th>\n",
       "      <td>8848</td>\n",
       "      <td>0.537171</td>\n",
       "    </tr>\n",
       "    <tr>\n",
       "      <th>13553</th>\n",
       "      <td>13784</td>\n",
       "      <td>0.532560</td>\n",
       "    </tr>\n",
       "    <tr>\n",
       "      <th>9421</th>\n",
       "      <td>16109</td>\n",
       "      <td>0.526257</td>\n",
       "    </tr>\n",
       "    <tr>\n",
       "      <th>9342</th>\n",
       "      <td>12789</td>\n",
       "      <td>0.525732</td>\n",
       "    </tr>\n",
       "    <tr>\n",
       "      <th>14112</th>\n",
       "      <td>2045</td>\n",
       "      <td>0.521479</td>\n",
       "    </tr>\n",
       "    <tr>\n",
       "      <th>2614</th>\n",
       "      <td>210</td>\n",
       "      <td>0.520917</td>\n",
       "    </tr>\n",
       "    <tr>\n",
       "      <th>12789</th>\n",
       "      <td>10778</td>\n",
       "      <td>0.520553</td>\n",
       "    </tr>\n",
       "    <tr>\n",
       "      <th>3706</th>\n",
       "      <td>7620</td>\n",
       "      <td>0.518007</td>\n",
       "    </tr>\n",
       "    <tr>\n",
       "      <th>11911</th>\n",
       "      <td>16569</td>\n",
       "      <td>0.515298</td>\n",
       "    </tr>\n",
       "    <tr>\n",
       "      <th>14433</th>\n",
       "      <td>11763</td>\n",
       "      <td>0.515253</td>\n",
       "    </tr>\n",
       "  </tbody>\n",
       "</table>\n",
       "</div>"
      ],
      "text/plain": [
       "       artist     score\n",
       "10278    8848  0.537171\n",
       "13553   13784  0.532560\n",
       "9421    16109  0.526257\n",
       "9342    12789  0.525732\n",
       "14112    2045  0.521479\n",
       "2614      210  0.520917\n",
       "12789   10778  0.520553\n",
       "3706     7620  0.518007\n",
       "11911   16569  0.515298\n",
       "14433   11763  0.515253"
      ]
     },
     "execution_count": 4,
     "metadata": {},
     "output_type": "execute_result"
    }
   ],
   "source": [
    "ibd.recommend(bd,10)"
   ]
  },
  {
   "cell_type": "code",
   "execution_count": null,
   "metadata": {},
   "outputs": [],
   "source": []
  }
 ],
 "metadata": {
  "file_extension": ".py",
  "kernelspec": {
   "display_name": "Python 3",
   "language": "python",
   "name": "python3"
  },
  "language_info": {
   "codemirror_mode": {
    "name": "ipython",
    "version": 3
   },
   "file_extension": ".py",
   "mimetype": "text/x-python",
   "name": "python",
   "nbconvert_exporter": "python",
   "pygments_lexer": "ipython3",
   "version": "3.6.5"
  },
  "mimetype": "text/x-python",
  "name": "python",
  "npconvert_exporter": "python",
  "pygments_lexer": "ipython3",
  "version": 3
 },
 "nbformat": 4,
 "nbformat_minor": 2
}
